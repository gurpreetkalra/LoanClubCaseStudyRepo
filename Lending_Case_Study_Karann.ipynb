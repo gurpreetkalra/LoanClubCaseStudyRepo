{
  "nbformat": 4,
  "nbformat_minor": 0,
  "metadata": {
    "colab": {
      "provenance": [],
      "collapsed_sections": [
        "t7tSbzLxegjH",
        "JEzexv2mpzb_",
        "XhD4wjBGkjEn",
        "Kz2rfEaVYAhy"
      ]
    },
    "kernelspec": {
      "name": "python3",
      "display_name": "Python 3"
    },
    "language_info": {
      "name": "python"
    }
  },
  "cells": [
    {
      "cell_type": "markdown",
      "source": [
        "# Problem Statement"
      ],
      "metadata": {
        "id": "t7tSbzLxegjH"
      }
    },
    {
      "cell_type": "markdown",
      "source": [
        "In other words, borrowers who default cause the largest amount of loss to the lenders. In this case, the customers labelled as 'charged-off' are the 'defaulters'. If one is able to identify these risky loan applicants, then such loans can be reduced thereby cutting down the amount of credit loss. Identification of such applicants using EDA is the aim of this case study."
      ],
      "metadata": {
        "id": "MlvNyWemeVpo"
      }
    },
    {
      "cell_type": "markdown",
      "source": [
        "# Introduction to Dataset"
      ],
      "metadata": {
        "id": "d7_UEPjheqZO"
      }
    },
    {
      "cell_type": "code",
      "execution_count": 1,
      "metadata": {
        "id": "31Zo-iCCAkSz"
      },
      "outputs": [],
      "source": [
        "import pandas\n",
        "import matplotlib.pyplot as plt\n",
        "import numpy\n",
        "from google.colab import files\n",
        "import io\n",
        "import seaborn\n",
        "from datetime import datetime\n"
      ]
    },
    {
      "cell_type": "code",
      "source": [
        "uploaded = files.upload()\n",
        "loan_df = pandas.read_csv(io.BytesIO(uploaded['loan.csv']))\n",
        "loan_df.head(5)"
      ],
      "metadata": {
        "colab": {
          "base_uri": "https://localhost:8080/",
          "height": 479
        },
        "id": "SkJZVoQAAnTI",
        "outputId": "3be6d1ec-26b0-4291-d75a-7fcca1594613"
      },
      "execution_count": 2,
      "outputs": [
        {
          "output_type": "display_data",
          "data": {
            "text/plain": [
              "<IPython.core.display.HTML object>"
            ],
            "text/html": [
              "\n",
              "     <input type=\"file\" id=\"files-f456f013-7049-435d-a091-8c44e4500f7c\" name=\"files[]\" multiple disabled\n",
              "        style=\"border:none\" />\n",
              "     <output id=\"result-f456f013-7049-435d-a091-8c44e4500f7c\">\n",
              "      Upload widget is only available when the cell has been executed in the\n",
              "      current browser session. Please rerun this cell to enable.\n",
              "      </output>\n",
              "      <script>// Copyright 2017 Google LLC\n",
              "//\n",
              "// Licensed under the Apache License, Version 2.0 (the \"License\");\n",
              "// you may not use this file except in compliance with the License.\n",
              "// You may obtain a copy of the License at\n",
              "//\n",
              "//      http://www.apache.org/licenses/LICENSE-2.0\n",
              "//\n",
              "// Unless required by applicable law or agreed to in writing, software\n",
              "// distributed under the License is distributed on an \"AS IS\" BASIS,\n",
              "// WITHOUT WARRANTIES OR CONDITIONS OF ANY KIND, either express or implied.\n",
              "// See the License for the specific language governing permissions and\n",
              "// limitations under the License.\n",
              "\n",
              "/**\n",
              " * @fileoverview Helpers for google.colab Python module.\n",
              " */\n",
              "(function(scope) {\n",
              "function span(text, styleAttributes = {}) {\n",
              "  const element = document.createElement('span');\n",
              "  element.textContent = text;\n",
              "  for (const key of Object.keys(styleAttributes)) {\n",
              "    element.style[key] = styleAttributes[key];\n",
              "  }\n",
              "  return element;\n",
              "}\n",
              "\n",
              "// Max number of bytes which will be uploaded at a time.\n",
              "const MAX_PAYLOAD_SIZE = 100 * 1024;\n",
              "\n",
              "function _uploadFiles(inputId, outputId) {\n",
              "  const steps = uploadFilesStep(inputId, outputId);\n",
              "  const outputElement = document.getElementById(outputId);\n",
              "  // Cache steps on the outputElement to make it available for the next call\n",
              "  // to uploadFilesContinue from Python.\n",
              "  outputElement.steps = steps;\n",
              "\n",
              "  return _uploadFilesContinue(outputId);\n",
              "}\n",
              "\n",
              "// This is roughly an async generator (not supported in the browser yet),\n",
              "// where there are multiple asynchronous steps and the Python side is going\n",
              "// to poll for completion of each step.\n",
              "// This uses a Promise to block the python side on completion of each step,\n",
              "// then passes the result of the previous step as the input to the next step.\n",
              "function _uploadFilesContinue(outputId) {\n",
              "  const outputElement = document.getElementById(outputId);\n",
              "  const steps = outputElement.steps;\n",
              "\n",
              "  const next = steps.next(outputElement.lastPromiseValue);\n",
              "  return Promise.resolve(next.value.promise).then((value) => {\n",
              "    // Cache the last promise value to make it available to the next\n",
              "    // step of the generator.\n",
              "    outputElement.lastPromiseValue = value;\n",
              "    return next.value.response;\n",
              "  });\n",
              "}\n",
              "\n",
              "/**\n",
              " * Generator function which is called between each async step of the upload\n",
              " * process.\n",
              " * @param {string} inputId Element ID of the input file picker element.\n",
              " * @param {string} outputId Element ID of the output display.\n",
              " * @return {!Iterable<!Object>} Iterable of next steps.\n",
              " */\n",
              "function* uploadFilesStep(inputId, outputId) {\n",
              "  const inputElement = document.getElementById(inputId);\n",
              "  inputElement.disabled = false;\n",
              "\n",
              "  const outputElement = document.getElementById(outputId);\n",
              "  outputElement.innerHTML = '';\n",
              "\n",
              "  const pickedPromise = new Promise((resolve) => {\n",
              "    inputElement.addEventListener('change', (e) => {\n",
              "      resolve(e.target.files);\n",
              "    });\n",
              "  });\n",
              "\n",
              "  const cancel = document.createElement('button');\n",
              "  inputElement.parentElement.appendChild(cancel);\n",
              "  cancel.textContent = 'Cancel upload';\n",
              "  const cancelPromise = new Promise((resolve) => {\n",
              "    cancel.onclick = () => {\n",
              "      resolve(null);\n",
              "    };\n",
              "  });\n",
              "\n",
              "  // Wait for the user to pick the files.\n",
              "  const files = yield {\n",
              "    promise: Promise.race([pickedPromise, cancelPromise]),\n",
              "    response: {\n",
              "      action: 'starting',\n",
              "    }\n",
              "  };\n",
              "\n",
              "  cancel.remove();\n",
              "\n",
              "  // Disable the input element since further picks are not allowed.\n",
              "  inputElement.disabled = true;\n",
              "\n",
              "  if (!files) {\n",
              "    return {\n",
              "      response: {\n",
              "        action: 'complete',\n",
              "      }\n",
              "    };\n",
              "  }\n",
              "\n",
              "  for (const file of files) {\n",
              "    const li = document.createElement('li');\n",
              "    li.append(span(file.name, {fontWeight: 'bold'}));\n",
              "    li.append(span(\n",
              "        `(${file.type || 'n/a'}) - ${file.size} bytes, ` +\n",
              "        `last modified: ${\n",
              "            file.lastModifiedDate ? file.lastModifiedDate.toLocaleDateString() :\n",
              "                                    'n/a'} - `));\n",
              "    const percent = span('0% done');\n",
              "    li.appendChild(percent);\n",
              "\n",
              "    outputElement.appendChild(li);\n",
              "\n",
              "    const fileDataPromise = new Promise((resolve) => {\n",
              "      const reader = new FileReader();\n",
              "      reader.onload = (e) => {\n",
              "        resolve(e.target.result);\n",
              "      };\n",
              "      reader.readAsArrayBuffer(file);\n",
              "    });\n",
              "    // Wait for the data to be ready.\n",
              "    let fileData = yield {\n",
              "      promise: fileDataPromise,\n",
              "      response: {\n",
              "        action: 'continue',\n",
              "      }\n",
              "    };\n",
              "\n",
              "    // Use a chunked sending to avoid message size limits. See b/62115660.\n",
              "    let position = 0;\n",
              "    do {\n",
              "      const length = Math.min(fileData.byteLength - position, MAX_PAYLOAD_SIZE);\n",
              "      const chunk = new Uint8Array(fileData, position, length);\n",
              "      position += length;\n",
              "\n",
              "      const base64 = btoa(String.fromCharCode.apply(null, chunk));\n",
              "      yield {\n",
              "        response: {\n",
              "          action: 'append',\n",
              "          file: file.name,\n",
              "          data: base64,\n",
              "        },\n",
              "      };\n",
              "\n",
              "      let percentDone = fileData.byteLength === 0 ?\n",
              "          100 :\n",
              "          Math.round((position / fileData.byteLength) * 100);\n",
              "      percent.textContent = `${percentDone}% done`;\n",
              "\n",
              "    } while (position < fileData.byteLength);\n",
              "  }\n",
              "\n",
              "  // All done.\n",
              "  yield {\n",
              "    response: {\n",
              "      action: 'complete',\n",
              "    }\n",
              "  };\n",
              "}\n",
              "\n",
              "scope.google = scope.google || {};\n",
              "scope.google.colab = scope.google.colab || {};\n",
              "scope.google.colab._files = {\n",
              "  _uploadFiles,\n",
              "  _uploadFilesContinue,\n",
              "};\n",
              "})(self);\n",
              "</script> "
            ]
          },
          "metadata": {}
        },
        {
          "output_type": "stream",
          "name": "stdout",
          "text": [
            "Saving loan.csv to loan.csv\n"
          ]
        },
        {
          "output_type": "stream",
          "name": "stderr",
          "text": [
            "<ipython-input-2-b220f1ed7781>:2: DtypeWarning: Columns (47) have mixed types. Specify dtype option on import or set low_memory=False.\n",
            "  loan_df = pandas.read_csv(io.BytesIO(uploaded['loan.csv']))\n"
          ]
        },
        {
          "output_type": "execute_result",
          "data": {
            "text/plain": [
              "        id  member_id  loan_amnt  funded_amnt  funded_amnt_inv        term  \\\n",
              "0  1077501    1296599       5000         5000           4975.0   36 months   \n",
              "1  1077430    1314167       2500         2500           2500.0   60 months   \n",
              "2  1077175    1313524       2400         2400           2400.0   36 months   \n",
              "3  1076863    1277178      10000        10000          10000.0   36 months   \n",
              "4  1075358    1311748       3000         3000           3000.0   60 months   \n",
              "\n",
              "  int_rate  installment grade sub_grade  ... num_tl_90g_dpd_24m  \\\n",
              "0   10.65%       162.87     B        B2  ...                NaN   \n",
              "1   15.27%        59.83     C        C4  ...                NaN   \n",
              "2   15.96%        84.33     C        C5  ...                NaN   \n",
              "3   13.49%       339.31     C        C1  ...                NaN   \n",
              "4   12.69%        67.79     B        B5  ...                NaN   \n",
              "\n",
              "  num_tl_op_past_12m pct_tl_nvr_dlq  percent_bc_gt_75 pub_rec_bankruptcies  \\\n",
              "0                NaN            NaN               NaN                  0.0   \n",
              "1                NaN            NaN               NaN                  0.0   \n",
              "2                NaN            NaN               NaN                  0.0   \n",
              "3                NaN            NaN               NaN                  0.0   \n",
              "4                NaN            NaN               NaN                  0.0   \n",
              "\n",
              "  tax_liens tot_hi_cred_lim total_bal_ex_mort total_bc_limit  \\\n",
              "0       0.0             NaN               NaN            NaN   \n",
              "1       0.0             NaN               NaN            NaN   \n",
              "2       0.0             NaN               NaN            NaN   \n",
              "3       0.0             NaN               NaN            NaN   \n",
              "4       0.0             NaN               NaN            NaN   \n",
              "\n",
              "  total_il_high_credit_limit  \n",
              "0                        NaN  \n",
              "1                        NaN  \n",
              "2                        NaN  \n",
              "3                        NaN  \n",
              "4                        NaN  \n",
              "\n",
              "[5 rows x 111 columns]"
            ],
            "text/html": [
              "\n",
              "  <div id=\"df-7b461dda-3d2c-4117-8d54-695afbc5b0df\">\n",
              "    <div class=\"colab-df-container\">\n",
              "      <div>\n",
              "<style scoped>\n",
              "    .dataframe tbody tr th:only-of-type {\n",
              "        vertical-align: middle;\n",
              "    }\n",
              "\n",
              "    .dataframe tbody tr th {\n",
              "        vertical-align: top;\n",
              "    }\n",
              "\n",
              "    .dataframe thead th {\n",
              "        text-align: right;\n",
              "    }\n",
              "</style>\n",
              "<table border=\"1\" class=\"dataframe\">\n",
              "  <thead>\n",
              "    <tr style=\"text-align: right;\">\n",
              "      <th></th>\n",
              "      <th>id</th>\n",
              "      <th>member_id</th>\n",
              "      <th>loan_amnt</th>\n",
              "      <th>funded_amnt</th>\n",
              "      <th>funded_amnt_inv</th>\n",
              "      <th>term</th>\n",
              "      <th>int_rate</th>\n",
              "      <th>installment</th>\n",
              "      <th>grade</th>\n",
              "      <th>sub_grade</th>\n",
              "      <th>...</th>\n",
              "      <th>num_tl_90g_dpd_24m</th>\n",
              "      <th>num_tl_op_past_12m</th>\n",
              "      <th>pct_tl_nvr_dlq</th>\n",
              "      <th>percent_bc_gt_75</th>\n",
              "      <th>pub_rec_bankruptcies</th>\n",
              "      <th>tax_liens</th>\n",
              "      <th>tot_hi_cred_lim</th>\n",
              "      <th>total_bal_ex_mort</th>\n",
              "      <th>total_bc_limit</th>\n",
              "      <th>total_il_high_credit_limit</th>\n",
              "    </tr>\n",
              "  </thead>\n",
              "  <tbody>\n",
              "    <tr>\n",
              "      <th>0</th>\n",
              "      <td>1077501</td>\n",
              "      <td>1296599</td>\n",
              "      <td>5000</td>\n",
              "      <td>5000</td>\n",
              "      <td>4975.0</td>\n",
              "      <td>36 months</td>\n",
              "      <td>10.65%</td>\n",
              "      <td>162.87</td>\n",
              "      <td>B</td>\n",
              "      <td>B2</td>\n",
              "      <td>...</td>\n",
              "      <td>NaN</td>\n",
              "      <td>NaN</td>\n",
              "      <td>NaN</td>\n",
              "      <td>NaN</td>\n",
              "      <td>0.0</td>\n",
              "      <td>0.0</td>\n",
              "      <td>NaN</td>\n",
              "      <td>NaN</td>\n",
              "      <td>NaN</td>\n",
              "      <td>NaN</td>\n",
              "    </tr>\n",
              "    <tr>\n",
              "      <th>1</th>\n",
              "      <td>1077430</td>\n",
              "      <td>1314167</td>\n",
              "      <td>2500</td>\n",
              "      <td>2500</td>\n",
              "      <td>2500.0</td>\n",
              "      <td>60 months</td>\n",
              "      <td>15.27%</td>\n",
              "      <td>59.83</td>\n",
              "      <td>C</td>\n",
              "      <td>C4</td>\n",
              "      <td>...</td>\n",
              "      <td>NaN</td>\n",
              "      <td>NaN</td>\n",
              "      <td>NaN</td>\n",
              "      <td>NaN</td>\n",
              "      <td>0.0</td>\n",
              "      <td>0.0</td>\n",
              "      <td>NaN</td>\n",
              "      <td>NaN</td>\n",
              "      <td>NaN</td>\n",
              "      <td>NaN</td>\n",
              "    </tr>\n",
              "    <tr>\n",
              "      <th>2</th>\n",
              "      <td>1077175</td>\n",
              "      <td>1313524</td>\n",
              "      <td>2400</td>\n",
              "      <td>2400</td>\n",
              "      <td>2400.0</td>\n",
              "      <td>36 months</td>\n",
              "      <td>15.96%</td>\n",
              "      <td>84.33</td>\n",
              "      <td>C</td>\n",
              "      <td>C5</td>\n",
              "      <td>...</td>\n",
              "      <td>NaN</td>\n",
              "      <td>NaN</td>\n",
              "      <td>NaN</td>\n",
              "      <td>NaN</td>\n",
              "      <td>0.0</td>\n",
              "      <td>0.0</td>\n",
              "      <td>NaN</td>\n",
              "      <td>NaN</td>\n",
              "      <td>NaN</td>\n",
              "      <td>NaN</td>\n",
              "    </tr>\n",
              "    <tr>\n",
              "      <th>3</th>\n",
              "      <td>1076863</td>\n",
              "      <td>1277178</td>\n",
              "      <td>10000</td>\n",
              "      <td>10000</td>\n",
              "      <td>10000.0</td>\n",
              "      <td>36 months</td>\n",
              "      <td>13.49%</td>\n",
              "      <td>339.31</td>\n",
              "      <td>C</td>\n",
              "      <td>C1</td>\n",
              "      <td>...</td>\n",
              "      <td>NaN</td>\n",
              "      <td>NaN</td>\n",
              "      <td>NaN</td>\n",
              "      <td>NaN</td>\n",
              "      <td>0.0</td>\n",
              "      <td>0.0</td>\n",
              "      <td>NaN</td>\n",
              "      <td>NaN</td>\n",
              "      <td>NaN</td>\n",
              "      <td>NaN</td>\n",
              "    </tr>\n",
              "    <tr>\n",
              "      <th>4</th>\n",
              "      <td>1075358</td>\n",
              "      <td>1311748</td>\n",
              "      <td>3000</td>\n",
              "      <td>3000</td>\n",
              "      <td>3000.0</td>\n",
              "      <td>60 months</td>\n",
              "      <td>12.69%</td>\n",
              "      <td>67.79</td>\n",
              "      <td>B</td>\n",
              "      <td>B5</td>\n",
              "      <td>...</td>\n",
              "      <td>NaN</td>\n",
              "      <td>NaN</td>\n",
              "      <td>NaN</td>\n",
              "      <td>NaN</td>\n",
              "      <td>0.0</td>\n",
              "      <td>0.0</td>\n",
              "      <td>NaN</td>\n",
              "      <td>NaN</td>\n",
              "      <td>NaN</td>\n",
              "      <td>NaN</td>\n",
              "    </tr>\n",
              "  </tbody>\n",
              "</table>\n",
              "<p>5 rows × 111 columns</p>\n",
              "</div>\n",
              "      <button class=\"colab-df-convert\" onclick=\"convertToInteractive('df-7b461dda-3d2c-4117-8d54-695afbc5b0df')\"\n",
              "              title=\"Convert this dataframe to an interactive table.\"\n",
              "              style=\"display:none;\">\n",
              "        \n",
              "  <svg xmlns=\"http://www.w3.org/2000/svg\" height=\"24px\"viewBox=\"0 0 24 24\"\n",
              "       width=\"24px\">\n",
              "    <path d=\"M0 0h24v24H0V0z\" fill=\"none\"/>\n",
              "    <path d=\"M18.56 5.44l.94 2.06.94-2.06 2.06-.94-2.06-.94-.94-2.06-.94 2.06-2.06.94zm-11 1L8.5 8.5l.94-2.06 2.06-.94-2.06-.94L8.5 2.5l-.94 2.06-2.06.94zm10 10l.94 2.06.94-2.06 2.06-.94-2.06-.94-.94-2.06-.94 2.06-2.06.94z\"/><path d=\"M17.41 7.96l-1.37-1.37c-.4-.4-.92-.59-1.43-.59-.52 0-1.04.2-1.43.59L10.3 9.45l-7.72 7.72c-.78.78-.78 2.05 0 2.83L4 21.41c.39.39.9.59 1.41.59.51 0 1.02-.2 1.41-.59l7.78-7.78 2.81-2.81c.8-.78.8-2.07 0-2.86zM5.41 20L4 18.59l7.72-7.72 1.47 1.35L5.41 20z\"/>\n",
              "  </svg>\n",
              "      </button>\n",
              "      \n",
              "  <style>\n",
              "    .colab-df-container {\n",
              "      display:flex;\n",
              "      flex-wrap:wrap;\n",
              "      gap: 12px;\n",
              "    }\n",
              "\n",
              "    .colab-df-convert {\n",
              "      background-color: #E8F0FE;\n",
              "      border: none;\n",
              "      border-radius: 50%;\n",
              "      cursor: pointer;\n",
              "      display: none;\n",
              "      fill: #1967D2;\n",
              "      height: 32px;\n",
              "      padding: 0 0 0 0;\n",
              "      width: 32px;\n",
              "    }\n",
              "\n",
              "    .colab-df-convert:hover {\n",
              "      background-color: #E2EBFA;\n",
              "      box-shadow: 0px 1px 2px rgba(60, 64, 67, 0.3), 0px 1px 3px 1px rgba(60, 64, 67, 0.15);\n",
              "      fill: #174EA6;\n",
              "    }\n",
              "\n",
              "    [theme=dark] .colab-df-convert {\n",
              "      background-color: #3B4455;\n",
              "      fill: #D2E3FC;\n",
              "    }\n",
              "\n",
              "    [theme=dark] .colab-df-convert:hover {\n",
              "      background-color: #434B5C;\n",
              "      box-shadow: 0px 1px 3px 1px rgba(0, 0, 0, 0.15);\n",
              "      filter: drop-shadow(0px 1px 2px rgba(0, 0, 0, 0.3));\n",
              "      fill: #FFFFFF;\n",
              "    }\n",
              "  </style>\n",
              "\n",
              "      <script>\n",
              "        const buttonEl =\n",
              "          document.querySelector('#df-7b461dda-3d2c-4117-8d54-695afbc5b0df button.colab-df-convert');\n",
              "        buttonEl.style.display =\n",
              "          google.colab.kernel.accessAllowed ? 'block' : 'none';\n",
              "\n",
              "        async function convertToInteractive(key) {\n",
              "          const element = document.querySelector('#df-7b461dda-3d2c-4117-8d54-695afbc5b0df');\n",
              "          const dataTable =\n",
              "            await google.colab.kernel.invokeFunction('convertToInteractive',\n",
              "                                                     [key], {});\n",
              "          if (!dataTable) return;\n",
              "\n",
              "          const docLinkHtml = 'Like what you see? Visit the ' +\n",
              "            '<a target=\"_blank\" href=https://colab.research.google.com/notebooks/data_table.ipynb>data table notebook</a>'\n",
              "            + ' to learn more about interactive tables.';\n",
              "          element.innerHTML = '';\n",
              "          dataTable['output_type'] = 'display_data';\n",
              "          await google.colab.output.renderOutput(dataTable, element);\n",
              "          const docLink = document.createElement('div');\n",
              "          docLink.innerHTML = docLinkHtml;\n",
              "          element.appendChild(docLink);\n",
              "        }\n",
              "      </script>\n",
              "    </div>\n",
              "  </div>\n",
              "  "
            ]
          },
          "metadata": {},
          "execution_count": 2
        }
      ]
    },
    {
      "cell_type": "markdown",
      "source": [
        "Getting the shape of the dataframe"
      ],
      "metadata": {
        "id": "KmBXlGyhQlaf"
      }
    },
    {
      "cell_type": "code",
      "source": [
        "loan_df.shape\n"
      ],
      "metadata": {
        "colab": {
          "base_uri": "https://localhost:8080/"
        },
        "id": "BvfjP6xvD4Oe",
        "outputId": "f41108dc-b069-4b85-a30a-378cec843b9e"
      },
      "execution_count": 3,
      "outputs": [
        {
          "output_type": "execute_result",
          "data": {
            "text/plain": [
              "(39717, 111)"
            ]
          },
          "metadata": {},
          "execution_count": 3
        }
      ]
    },
    {
      "cell_type": "markdown",
      "source": [
        "As it can be seen that we have 111 columns.We will now remove the unnecessary columns which are not requried.Getting the list of the columns"
      ],
      "metadata": {
        "id": "xbiTwZp3QpMo"
      }
    },
    {
      "cell_type": "code",
      "source": [
        "loan_df.columns"
      ],
      "metadata": {
        "colab": {
          "base_uri": "https://localhost:8080/"
        },
        "id": "9RCheXp2G8MW",
        "outputId": "8dfbaf44-4433-4139-9441-5b6986e45fd4"
      },
      "execution_count": 4,
      "outputs": [
        {
          "output_type": "execute_result",
          "data": {
            "text/plain": [
              "Index(['id', 'member_id', 'loan_amnt', 'funded_amnt', 'funded_amnt_inv',\n",
              "       'term', 'int_rate', 'installment', 'grade', 'sub_grade',\n",
              "       ...\n",
              "       'num_tl_90g_dpd_24m', 'num_tl_op_past_12m', 'pct_tl_nvr_dlq',\n",
              "       'percent_bc_gt_75', 'pub_rec_bankruptcies', 'tax_liens',\n",
              "       'tot_hi_cred_lim', 'total_bal_ex_mort', 'total_bc_limit',\n",
              "       'total_il_high_credit_limit'],\n",
              "      dtype='object', length=111)"
            ]
          },
          "metadata": {},
          "execution_count": 4
        }
      ]
    },
    {
      "cell_type": "markdown",
      "source": [
        "# Cleaning the Dataframe"
      ],
      "metadata": {
        "id": "ADFt2vFdSATW"
      }
    },
    {
      "cell_type": "markdown",
      "source": [
        "Checking the columns which have NA values.Some of the columns will have all the columns as NA.As the number of NA values equal the row count in the dataframe"
      ],
      "metadata": {
        "id": "m-XuCYDcQyb8"
      }
    },
    {
      "cell_type": "code",
      "source": [
        "loan_df.isna().sum().sort_values(ascending =False)"
      ],
      "metadata": {
        "colab": {
          "base_uri": "https://localhost:8080/"
        },
        "id": "emghXW5xZ_Ho",
        "outputId": "4a841e65-a547-4ff8-fce5-41a7308f0903"
      },
      "execution_count": 5,
      "outputs": [
        {
          "output_type": "execute_result",
          "data": {
            "text/plain": [
              "verification_status_joint    39717\n",
              "annual_inc_joint             39717\n",
              "mo_sin_old_rev_tl_op         39717\n",
              "mo_sin_old_il_acct           39717\n",
              "bc_util                      39717\n",
              "                             ...  \n",
              "delinq_amnt                      0\n",
              "policy_code                      0\n",
              "earliest_cr_line                 0\n",
              "delinq_2yrs                      0\n",
              "id                               0\n",
              "Length: 111, dtype: int64"
            ]
          },
          "metadata": {},
          "execution_count": 5
        }
      ]
    },
    {
      "cell_type": "markdown",
      "source": [
        "We have seen from above that there are columns where all the values are NA.So we will drop those columns from the dataset"
      ],
      "metadata": {
        "id": "qDbRIrPvRLT9"
      }
    },
    {
      "cell_type": "code",
      "source": [
        "loan_df.dropna(how='all',axis=1,inplace=True)"
      ],
      "metadata": {
        "id": "ULoi8AB2bixO"
      },
      "execution_count": 6,
      "outputs": []
    },
    {
      "cell_type": "markdown",
      "source": [
        "Checking the shape of the dataframe again"
      ],
      "metadata": {
        "id": "zzrgu9-WRVVV"
      }
    },
    {
      "cell_type": "code",
      "source": [
        "loan_df.shape"
      ],
      "metadata": {
        "colab": {
          "base_uri": "https://localhost:8080/"
        },
        "id": "hXzDMeoBb-3t",
        "outputId": "2dc14a08-a225-49e6-90a1-5d66ded110e7"
      },
      "execution_count": 7,
      "outputs": [
        {
          "output_type": "execute_result",
          "data": {
            "text/plain": [
              "(39717, 57)"
            ]
          },
          "metadata": {},
          "execution_count": 7
        }
      ]
    },
    {
      "cell_type": "markdown",
      "source": [
        "Checking columns which have unique values.If some columns have only 1 unique value then those columns will not play any affect on Loan Charge Off"
      ],
      "metadata": {
        "id": "E4vf_9P4RY44"
      }
    },
    {
      "cell_type": "code",
      "source": [
        "columns=loan_df.nunique()"
      ],
      "metadata": {
        "id": "_kML8smQcQvk"
      },
      "execution_count": 8,
      "outputs": []
    },
    {
      "cell_type": "markdown",
      "source": [
        "So we are dropping those columns from the dataframe as they won't be having any effect on the outcome of the loan"
      ],
      "metadata": {
        "id": "nmNh6zVgRnBU"
      }
    },
    {
      "cell_type": "code",
      "source": [
        "single_values_columns=columns[columns.values==1]"
      ],
      "metadata": {
        "id": "ZnDpMO9ycsHo"
      },
      "execution_count": 9,
      "outputs": []
    },
    {
      "cell_type": "markdown",
      "source": [
        "Name of the columns with single value in them are as below:\n",
        "1.  pymnt_plan\n",
        "2.  initial_list_status\n",
        "3.  collections_12_mths_ex_med\n",
        "4.  policy_code\n",
        "5.  application_type\n",
        "6.  acc_now_delinq\n",
        "7.  chargeoff_within_12_mths\n",
        "8.  delinq_amnt\n",
        "9.  tax_liens"
      ],
      "metadata": {
        "id": "RyOk_TnQfMHe"
      }
    },
    {
      "cell_type": "code",
      "source": [
        "single_values_columns.index"
      ],
      "metadata": {
        "colab": {
          "base_uri": "https://localhost:8080/"
        },
        "id": "UDV4L-LudXhv",
        "outputId": "3ba3b01c-a339-48cb-a60c-fb69b62ef9f9"
      },
      "execution_count": 10,
      "outputs": [
        {
          "output_type": "execute_result",
          "data": {
            "text/plain": [
              "Index(['pymnt_plan', 'initial_list_status', 'collections_12_mths_ex_med',\n",
              "       'policy_code', 'application_type', 'acc_now_delinq',\n",
              "       'chargeoff_within_12_mths', 'delinq_amnt', 'tax_liens'],\n",
              "      dtype='object')"
            ]
          },
          "metadata": {},
          "execution_count": 10
        }
      ]
    },
    {
      "cell_type": "code",
      "source": [
        "loan_df.drop(list(single_values_columns.index),axis=1,inplace=True)"
      ],
      "metadata": {
        "id": "vRjJzVRZdayE"
      },
      "execution_count": 11,
      "outputs": []
    },
    {
      "cell_type": "markdown",
      "source": [
        "Checking the shape of the dataframe"
      ],
      "metadata": {
        "id": "yQFQHpfORwXm"
      }
    },
    {
      "cell_type": "code",
      "source": [
        "loan_df.shape"
      ],
      "metadata": {
        "colab": {
          "base_uri": "https://localhost:8080/"
        },
        "id": "bB9jmNvMexZd",
        "outputId": "2cb3a78b-ecd8-45fb-d1f3-718f526d9cb9"
      },
      "execution_count": 12,
      "outputs": [
        {
          "output_type": "execute_result",
          "data": {
            "text/plain": [
              "(39717, 48)"
            ]
          },
          "metadata": {},
          "execution_count": 12
        }
      ]
    },
    {
      "cell_type": "markdown",
      "source": [
        "Removing below columns from the dataframe as these won't affect the loan rejection outcome.We got the definition of these columns from the Data dictionary\n",
        "\n",
        "1. id-> A unique LC assigned ID for the loan listing.\n",
        "2. member_id-> A unique LC assigned Id for the borrower member.\n",
        "3. url-> URL for the LC page with listing data.\n",
        "4. zip_code-> The first 3 numbers of the zip code provided by the borrower in the loan application.\n",
        "\n"
      ],
      "metadata": {
        "id": "VL4coUwIOWzQ"
      }
    },
    {
      "cell_type": "code",
      "source": [
        "columns_to_drop=['id','member_id','url','zip_code']\n",
        "loan_df.drop(columns=columns_to_drop,inplace=True)"
      ],
      "metadata": {
        "id": "FjrHhhFkV5yC"
      },
      "execution_count": 13,
      "outputs": []
    },
    {
      "cell_type": "code",
      "source": [
        "loan_df.columns"
      ],
      "metadata": {
        "colab": {
          "base_uri": "https://localhost:8080/"
        },
        "id": "sG7YzvVLbOQx",
        "outputId": "d0d63bcd-27ec-4dae-a198-ab03b967861e"
      },
      "execution_count": 14,
      "outputs": [
        {
          "output_type": "execute_result",
          "data": {
            "text/plain": [
              "Index(['loan_amnt', 'funded_amnt', 'funded_amnt_inv', 'term', 'int_rate',\n",
              "       'installment', 'grade', 'sub_grade', 'emp_title', 'emp_length',\n",
              "       'home_ownership', 'annual_inc', 'verification_status', 'issue_d',\n",
              "       'loan_status', 'desc', 'purpose', 'title', 'addr_state', 'dti',\n",
              "       'delinq_2yrs', 'earliest_cr_line', 'inq_last_6mths',\n",
              "       'mths_since_last_delinq', 'mths_since_last_record', 'open_acc',\n",
              "       'pub_rec', 'revol_bal', 'revol_util', 'total_acc', 'out_prncp',\n",
              "       'out_prncp_inv', 'total_pymnt', 'total_pymnt_inv', 'total_rec_prncp',\n",
              "       'total_rec_int', 'total_rec_late_fee', 'recoveries',\n",
              "       'collection_recovery_fee', 'last_pymnt_d', 'last_pymnt_amnt',\n",
              "       'next_pymnt_d', 'last_credit_pull_d', 'pub_rec_bankruptcies'],\n",
              "      dtype='object')"
            ]
          },
          "metadata": {},
          "execution_count": 14
        }
      ]
    },
    {
      "cell_type": "markdown",
      "source": [
        "Checking the Percentage of the missing values in the columns"
      ],
      "metadata": {
        "id": "BgqazwPbhOiC"
      }
    },
    {
      "cell_type": "code",
      "source": [
        "(loan_df.isna().sum()/len(loan_df.index))*100"
      ],
      "metadata": {
        "colab": {
          "base_uri": "https://localhost:8080/"
        },
        "id": "to-rp0dgMpMS",
        "outputId": "81a831be-0f9c-447b-f768-0d87ab8a61ca"
      },
      "execution_count": 15,
      "outputs": [
        {
          "output_type": "execute_result",
          "data": {
            "text/plain": [
              "loan_amnt                   0.000000\n",
              "funded_amnt                 0.000000\n",
              "funded_amnt_inv             0.000000\n",
              "term                        0.000000\n",
              "int_rate                    0.000000\n",
              "installment                 0.000000\n",
              "grade                       0.000000\n",
              "sub_grade                   0.000000\n",
              "emp_title                   6.191303\n",
              "emp_length                  2.706650\n",
              "home_ownership              0.000000\n",
              "annual_inc                  0.000000\n",
              "verification_status         0.000000\n",
              "issue_d                     0.000000\n",
              "loan_status                 0.000000\n",
              "desc                       32.580507\n",
              "purpose                     0.000000\n",
              "title                       0.027696\n",
              "addr_state                  0.000000\n",
              "dti                         0.000000\n",
              "delinq_2yrs                 0.000000\n",
              "earliest_cr_line            0.000000\n",
              "inq_last_6mths              0.000000\n",
              "mths_since_last_delinq     64.662487\n",
              "mths_since_last_record     92.985372\n",
              "open_acc                    0.000000\n",
              "pub_rec                     0.000000\n",
              "revol_bal                   0.000000\n",
              "revol_util                  0.125891\n",
              "total_acc                   0.000000\n",
              "out_prncp                   0.000000\n",
              "out_prncp_inv               0.000000\n",
              "total_pymnt                 0.000000\n",
              "total_pymnt_inv             0.000000\n",
              "total_rec_prncp             0.000000\n",
              "total_rec_int               0.000000\n",
              "total_rec_late_fee          0.000000\n",
              "recoveries                  0.000000\n",
              "collection_recovery_fee     0.000000\n",
              "last_pymnt_d                0.178765\n",
              "last_pymnt_amnt             0.000000\n",
              "next_pymnt_d               97.129693\n",
              "last_credit_pull_d          0.005036\n",
              "pub_rec_bankruptcies        1.754916\n",
              "dtype: float64"
            ]
          },
          "metadata": {},
          "execution_count": 15
        }
      ]
    },
    {
      "cell_type": "markdown",
      "source": [
        "It can be seen from the above derivation that there are still columns where the number of missing values is still very high.We will remove those columns.The columns are\n",
        "1. desc\n",
        "2. next_payment_d\n",
        "3. mths_since_last_record\n",
        "4. mths_since_last_delinq"
      ],
      "metadata": {
        "id": "r-K9x2P0hfOk"
      }
    },
    {
      "cell_type": "code",
      "source": [
        "loan_df.drop(columns=['desc','next_pymnt_d','mths_since_last_delinq','mths_since_last_record'],inplace=True)"
      ],
      "metadata": {
        "id": "SHPirTevhwsN"
      },
      "execution_count": 16,
      "outputs": []
    },
    {
      "cell_type": "code",
      "source": [
        "loan_df.shape"
      ],
      "metadata": {
        "colab": {
          "base_uri": "https://localhost:8080/"
        },
        "id": "HGiMsDpDiCho",
        "outputId": "cbb9c62b-6341-480d-9a64-83aa07592716"
      },
      "execution_count": 17,
      "outputs": [
        {
          "output_type": "execute_result",
          "data": {
            "text/plain": [
              "(39717, 40)"
            ]
          },
          "metadata": {},
          "execution_count": 17
        }
      ]
    },
    {
      "cell_type": "markdown",
      "source": [
        "Checking the percentage of missing values again"
      ],
      "metadata": {
        "id": "E7LUzSDoptCM"
      }
    },
    {
      "cell_type": "code",
      "source": [
        "(loan_df.isna().sum()/len(loan_df.index))*100"
      ],
      "metadata": {
        "colab": {
          "base_uri": "https://localhost:8080/"
        },
        "id": "DfUTPF_5pquM",
        "outputId": "d5bb3a1b-ad1d-4c96-9e02-d89dd9d54e1d"
      },
      "execution_count": 18,
      "outputs": [
        {
          "output_type": "execute_result",
          "data": {
            "text/plain": [
              "loan_amnt                  0.000000\n",
              "funded_amnt                0.000000\n",
              "funded_amnt_inv            0.000000\n",
              "term                       0.000000\n",
              "int_rate                   0.000000\n",
              "installment                0.000000\n",
              "grade                      0.000000\n",
              "sub_grade                  0.000000\n",
              "emp_title                  6.191303\n",
              "emp_length                 2.706650\n",
              "home_ownership             0.000000\n",
              "annual_inc                 0.000000\n",
              "verification_status        0.000000\n",
              "issue_d                    0.000000\n",
              "loan_status                0.000000\n",
              "purpose                    0.000000\n",
              "title                      0.027696\n",
              "addr_state                 0.000000\n",
              "dti                        0.000000\n",
              "delinq_2yrs                0.000000\n",
              "earliest_cr_line           0.000000\n",
              "inq_last_6mths             0.000000\n",
              "open_acc                   0.000000\n",
              "pub_rec                    0.000000\n",
              "revol_bal                  0.000000\n",
              "revol_util                 0.125891\n",
              "total_acc                  0.000000\n",
              "out_prncp                  0.000000\n",
              "out_prncp_inv              0.000000\n",
              "total_pymnt                0.000000\n",
              "total_pymnt_inv            0.000000\n",
              "total_rec_prncp            0.000000\n",
              "total_rec_int              0.000000\n",
              "total_rec_late_fee         0.000000\n",
              "recoveries                 0.000000\n",
              "collection_recovery_fee    0.000000\n",
              "last_pymnt_d               0.178765\n",
              "last_pymnt_amnt            0.000000\n",
              "last_credit_pull_d         0.005036\n",
              "pub_rec_bankruptcies       1.754916\n",
              "dtype: float64"
            ]
          },
          "metadata": {},
          "execution_count": 18
        }
      ]
    },
    {
      "cell_type": "markdown",
      "source": [
        "Now we will check at row level to see if any row is having more NA values than the required"
      ],
      "metadata": {
        "id": "37YbAbnkp9jQ"
      }
    },
    {
      "cell_type": "code",
      "source": [
        "loan_df.isnull().sum(axis=1).sort_values(ascending=False)"
      ],
      "metadata": {
        "colab": {
          "base_uri": "https://localhost:8080/"
        },
        "id": "aXGYEOl7qIhm",
        "outputId": "1dee4153-1dfa-44b1-80d0-8f7a31017110"
      },
      "execution_count": 19,
      "outputs": [
        {
          "output_type": "execute_result",
          "data": {
            "text/plain": [
              "32545    3\n",
              "16719    3\n",
              "28980    3\n",
              "24984    3\n",
              "28547    3\n",
              "        ..\n",
              "15370    0\n",
              "15369    0\n",
              "15368    0\n",
              "15367    0\n",
              "19858    0\n",
              "Length: 39717, dtype: int64"
            ]
          },
          "metadata": {},
          "execution_count": 19
        }
      ]
    },
    {
      "cell_type": "markdown",
      "source": [
        "It could be seen that there are  rows which have 4 null values,which should be fine as we have total 40 columns"
      ],
      "metadata": {
        "id": "cGuhvawDqUUX"
      }
    },
    {
      "cell_type": "markdown",
      "source": [
        "We will now insert missing values into the other columns which have some missing values.We will be making use of Mode as the element which has to be inserted for NA values.The reason for picking mode is because of biasness which we may get for Numerical Columns."
      ],
      "metadata": {
        "id": "yJY4N2-VsLGF"
      }
    },
    {
      "cell_type": "code",
      "source": [
        "loan_df['emp_length'].value_counts()"
      ],
      "metadata": {
        "colab": {
          "base_uri": "https://localhost:8080/"
        },
        "id": "t3h9-9ShT8nH",
        "outputId": "d9984a9a-2833-490d-99f6-e79eb2353a3d"
      },
      "execution_count": 20,
      "outputs": [
        {
          "output_type": "execute_result",
          "data": {
            "text/plain": [
              "10+ years    8879\n",
              "< 1 year     4583\n",
              "2 years      4388\n",
              "3 years      4095\n",
              "4 years      3436\n",
              "5 years      3282\n",
              "1 year       3240\n",
              "6 years      2229\n",
              "7 years      1773\n",
              "8 years      1479\n",
              "9 years      1258\n",
              "Name: emp_length, dtype: int64"
            ]
          },
          "metadata": {},
          "execution_count": 20
        }
      ]
    },
    {
      "cell_type": "code",
      "source": [
        "mode_value=loan_df['emp_length'].mode()\n",
        "loan_df['emp_length'].fillna(value=mode_value[0],inplace=True)\n",
        "loan_df['emp_length'].isna().sum()"
      ],
      "metadata": {
        "colab": {
          "base_uri": "https://localhost:8080/"
        },
        "id": "Ka6CturbUw6T",
        "outputId": "9e9e104c-9fbe-409a-b8f6-0e31431755b0"
      },
      "execution_count": 21,
      "outputs": [
        {
          "output_type": "execute_result",
          "data": {
            "text/plain": [
              "0"
            ]
          },
          "metadata": {},
          "execution_count": 21
        }
      ]
    },
    {
      "cell_type": "code",
      "source": [
        "loan_df['emp_length'].value_counts()"
      ],
      "metadata": {
        "colab": {
          "base_uri": "https://localhost:8080/"
        },
        "id": "wg8FM5iha7JY",
        "outputId": "8cceca56-ce2b-4ea5-8047-7599dc0fb9d2"
      },
      "execution_count": 22,
      "outputs": [
        {
          "output_type": "execute_result",
          "data": {
            "text/plain": [
              "10+ years    9954\n",
              "< 1 year     4583\n",
              "2 years      4388\n",
              "3 years      4095\n",
              "4 years      3436\n",
              "5 years      3282\n",
              "1 year       3240\n",
              "6 years      2229\n",
              "7 years      1773\n",
              "8 years      1479\n",
              "9 years      1258\n",
              "Name: emp_length, dtype: int64"
            ]
          },
          "metadata": {},
          "execution_count": 22
        }
      ]
    },
    {
      "cell_type": "code",
      "source": [
        "mode_value_bankruptcies=loan_df['pub_rec_bankruptcies'].mode()\n",
        "loan_df['pub_rec_bankruptcies'].fillna(value=mode_value_bankruptcies[0],inplace=True)\n",
        "loan_df['pub_rec_bankruptcies'].isna().sum()"
      ],
      "metadata": {
        "colab": {
          "base_uri": "https://localhost:8080/"
        },
        "id": "d8XrigdTVQOp",
        "outputId": "80d344f1-da32-4d0a-dc33-6f36b4d15b14"
      },
      "execution_count": 23,
      "outputs": [
        {
          "output_type": "execute_result",
          "data": {
            "text/plain": [
              "0"
            ]
          },
          "metadata": {},
          "execution_count": 23
        }
      ]
    },
    {
      "cell_type": "code",
      "source": [
        "loan_df['emp_title'].value_counts()"
      ],
      "metadata": {
        "colab": {
          "base_uri": "https://localhost:8080/"
        },
        "id": "0EP7D8A2s1mW",
        "outputId": "91105c41-4711-4442-d55b-968a19e4d6fe"
      },
      "execution_count": 24,
      "outputs": [
        {
          "output_type": "execute_result",
          "data": {
            "text/plain": [
              "US Army                              134\n",
              "Bank of America                      109\n",
              "IBM                                   66\n",
              "AT&T                                  59\n",
              "Kaiser Permanente                     56\n",
              "                                    ... \n",
              "Community College of Philadelphia      1\n",
              "AMEC                                   1\n",
              "lee county sheriff                     1\n",
              "Bacon County Board of Education        1\n",
              "Evergreen Center                       1\n",
              "Name: emp_title, Length: 28820, dtype: int64"
            ]
          },
          "metadata": {},
          "execution_count": 24
        }
      ]
    },
    {
      "cell_type": "code",
      "source": [
        "mode_value=loan_df['emp_title'].mode()\n",
        "loan_df['emp_title'].fillna(value=mode_value[0],inplace=True)\n",
        "loan_df['emp_title'].isna().sum()"
      ],
      "metadata": {
        "colab": {
          "base_uri": "https://localhost:8080/"
        },
        "id": "nUL_Lvj3s8lF",
        "outputId": "dce1bffc-ac24-41eb-c8df-568b699a9db9"
      },
      "execution_count": 25,
      "outputs": [
        {
          "output_type": "execute_result",
          "data": {
            "text/plain": [
              "0"
            ]
          },
          "metadata": {},
          "execution_count": 25
        }
      ]
    },
    {
      "cell_type": "code",
      "source": [
        "\n",
        "loan_df['pub_rec_bankruptcies'].value_counts()\n",
        "loan_df['pub_rec_bankruptcies'].fillna(0,inplace=True)\n",
        "loan_df['pub_rec_bankruptcies'].isna().sum()"
      ],
      "metadata": {
        "colab": {
          "base_uri": "https://localhost:8080/"
        },
        "id": "xbQ2XjtqWD8p",
        "outputId": "24195e8a-60c0-4f2f-8fa6-9a54f1718f87"
      },
      "execution_count": 26,
      "outputs": [
        {
          "output_type": "execute_result",
          "data": {
            "text/plain": [
              "0"
            ]
          },
          "metadata": {},
          "execution_count": 26
        }
      ]
    },
    {
      "cell_type": "markdown",
      "source": [
        "This column defines Revolving line utilization rate, or the amount of credit the borrower is using relative to all available revolving credit , so very high chances that the borrower has not done this event and hence value should \n",
        "be replaced by 0% and would also like to mention that when we look at the mode value , the same is also 0% but had it not be same , we still should have gone with assumption that borrower has not performed the event \n"
      ],
      "metadata": {
        "id": "DihPI11RWcTU"
      }
    },
    {
      "cell_type": "code",
      "source": [
        "mode_value = loan_df['revol_util'].mode()[0]\n",
        "loan_df['revol_util'].fillna(\"0%\",inplace=True)\n",
        "loan_df['revol_util'].isna().sum()"
      ],
      "metadata": {
        "colab": {
          "base_uri": "https://localhost:8080/"
        },
        "id": "GU8JEtORWWfx",
        "outputId": "30f25140-b7aa-444a-ad23-4b46ad1558d0"
      },
      "execution_count": 27,
      "outputs": [
        {
          "output_type": "execute_result",
          "data": {
            "text/plain": [
              "0"
            ]
          },
          "metadata": {},
          "execution_count": 27
        }
      ]
    },
    {
      "cell_type": "markdown",
      "source": [
        "Checking the datatype of the Columns present in the dataframe"
      ],
      "metadata": {
        "id": "0ygIMnMerAca"
      }
    },
    {
      "cell_type": "code",
      "source": [
        "loan_df.columns"
      ],
      "metadata": {
        "colab": {
          "base_uri": "https://localhost:8080/"
        },
        "id": "HChorVtqq9jR",
        "outputId": "d4593b31-85de-4ded-cd09-e5c82a014fdf"
      },
      "execution_count": 28,
      "outputs": [
        {
          "output_type": "execute_result",
          "data": {
            "text/plain": [
              "Index(['loan_amnt', 'funded_amnt', 'funded_amnt_inv', 'term', 'int_rate',\n",
              "       'installment', 'grade', 'sub_grade', 'emp_title', 'emp_length',\n",
              "       'home_ownership', 'annual_inc', 'verification_status', 'issue_d',\n",
              "       'loan_status', 'purpose', 'title', 'addr_state', 'dti', 'delinq_2yrs',\n",
              "       'earliest_cr_line', 'inq_last_6mths', 'open_acc', 'pub_rec',\n",
              "       'revol_bal', 'revol_util', 'total_acc', 'out_prncp', 'out_prncp_inv',\n",
              "       'total_pymnt', 'total_pymnt_inv', 'total_rec_prncp', 'total_rec_int',\n",
              "       'total_rec_late_fee', 'recoveries', 'collection_recovery_fee',\n",
              "       'last_pymnt_d', 'last_pymnt_amnt', 'last_credit_pull_d',\n",
              "       'pub_rec_bankruptcies'],\n",
              "      dtype='object')"
            ]
          },
          "metadata": {},
          "execution_count": 28
        }
      ]
    },
    {
      "cell_type": "markdown",
      "source": [
        "## Standardise the Data"
      ],
      "metadata": {
        "id": "pVayNqZrY7Bw"
      }
    },
    {
      "cell_type": "markdown",
      "source": [
        "Checking the information present in each column"
      ],
      "metadata": {
        "id": "9FHdOvuhZADr"
      }
    },
    {
      "cell_type": "code",
      "source": [
        "loan_df.head(5)"
      ],
      "metadata": {
        "colab": {
          "base_uri": "https://localhost:8080/",
          "height": 421
        },
        "id": "EwYQqrhjZEEH",
        "outputId": "f6c30bf4-8548-44ef-b22f-5ed9021f990d"
      },
      "execution_count": 29,
      "outputs": [
        {
          "output_type": "execute_result",
          "data": {
            "text/plain": [
              "   loan_amnt  funded_amnt  funded_amnt_inv        term int_rate  installment  \\\n",
              "0       5000         5000           4975.0   36 months   10.65%       162.87   \n",
              "1       2500         2500           2500.0   60 months   15.27%        59.83   \n",
              "2       2400         2400           2400.0   36 months   15.96%        84.33   \n",
              "3      10000        10000          10000.0   36 months   13.49%       339.31   \n",
              "4       3000         3000           3000.0   60 months   12.69%        67.79   \n",
              "\n",
              "  grade sub_grade                 emp_title emp_length  ... total_pymnt_inv  \\\n",
              "0     B        B2                   US Army  10+ years  ...         5833.84   \n",
              "1     C        C4                     Ryder   < 1 year  ...         1008.71   \n",
              "2     C        C5                   US Army  10+ years  ...         3005.67   \n",
              "3     C        C1       AIR RESOURCES BOARD  10+ years  ...        12231.89   \n",
              "4     B        B5  University Medical Group     1 year  ...         3513.33   \n",
              "\n",
              "   total_rec_prncp total_rec_int total_rec_late_fee recoveries  \\\n",
              "0          5000.00        863.16               0.00       0.00   \n",
              "1           456.46        435.17               0.00     117.08   \n",
              "2          2400.00        605.67               0.00       0.00   \n",
              "3         10000.00       2214.92              16.97       0.00   \n",
              "4          2475.94       1037.39               0.00       0.00   \n",
              "\n",
              "  collection_recovery_fee last_pymnt_d last_pymnt_amnt  last_credit_pull_d  \\\n",
              "0                    0.00       Jan-15          171.62              May-16   \n",
              "1                    1.11       Apr-13          119.66              Sep-13   \n",
              "2                    0.00       Jun-14          649.91              May-16   \n",
              "3                    0.00       Jan-15          357.48              Apr-16   \n",
              "4                    0.00       May-16           67.79              May-16   \n",
              "\n",
              "   pub_rec_bankruptcies  \n",
              "0                   0.0  \n",
              "1                   0.0  \n",
              "2                   0.0  \n",
              "3                   0.0  \n",
              "4                   0.0  \n",
              "\n",
              "[5 rows x 40 columns]"
            ],
            "text/html": [
              "\n",
              "  <div id=\"df-054e3a5e-69ca-4b22-b061-ddc96928057e\">\n",
              "    <div class=\"colab-df-container\">\n",
              "      <div>\n",
              "<style scoped>\n",
              "    .dataframe tbody tr th:only-of-type {\n",
              "        vertical-align: middle;\n",
              "    }\n",
              "\n",
              "    .dataframe tbody tr th {\n",
              "        vertical-align: top;\n",
              "    }\n",
              "\n",
              "    .dataframe thead th {\n",
              "        text-align: right;\n",
              "    }\n",
              "</style>\n",
              "<table border=\"1\" class=\"dataframe\">\n",
              "  <thead>\n",
              "    <tr style=\"text-align: right;\">\n",
              "      <th></th>\n",
              "      <th>loan_amnt</th>\n",
              "      <th>funded_amnt</th>\n",
              "      <th>funded_amnt_inv</th>\n",
              "      <th>term</th>\n",
              "      <th>int_rate</th>\n",
              "      <th>installment</th>\n",
              "      <th>grade</th>\n",
              "      <th>sub_grade</th>\n",
              "      <th>emp_title</th>\n",
              "      <th>emp_length</th>\n",
              "      <th>...</th>\n",
              "      <th>total_pymnt_inv</th>\n",
              "      <th>total_rec_prncp</th>\n",
              "      <th>total_rec_int</th>\n",
              "      <th>total_rec_late_fee</th>\n",
              "      <th>recoveries</th>\n",
              "      <th>collection_recovery_fee</th>\n",
              "      <th>last_pymnt_d</th>\n",
              "      <th>last_pymnt_amnt</th>\n",
              "      <th>last_credit_pull_d</th>\n",
              "      <th>pub_rec_bankruptcies</th>\n",
              "    </tr>\n",
              "  </thead>\n",
              "  <tbody>\n",
              "    <tr>\n",
              "      <th>0</th>\n",
              "      <td>5000</td>\n",
              "      <td>5000</td>\n",
              "      <td>4975.0</td>\n",
              "      <td>36 months</td>\n",
              "      <td>10.65%</td>\n",
              "      <td>162.87</td>\n",
              "      <td>B</td>\n",
              "      <td>B2</td>\n",
              "      <td>US Army</td>\n",
              "      <td>10+ years</td>\n",
              "      <td>...</td>\n",
              "      <td>5833.84</td>\n",
              "      <td>5000.00</td>\n",
              "      <td>863.16</td>\n",
              "      <td>0.00</td>\n",
              "      <td>0.00</td>\n",
              "      <td>0.00</td>\n",
              "      <td>Jan-15</td>\n",
              "      <td>171.62</td>\n",
              "      <td>May-16</td>\n",
              "      <td>0.0</td>\n",
              "    </tr>\n",
              "    <tr>\n",
              "      <th>1</th>\n",
              "      <td>2500</td>\n",
              "      <td>2500</td>\n",
              "      <td>2500.0</td>\n",
              "      <td>60 months</td>\n",
              "      <td>15.27%</td>\n",
              "      <td>59.83</td>\n",
              "      <td>C</td>\n",
              "      <td>C4</td>\n",
              "      <td>Ryder</td>\n",
              "      <td>&lt; 1 year</td>\n",
              "      <td>...</td>\n",
              "      <td>1008.71</td>\n",
              "      <td>456.46</td>\n",
              "      <td>435.17</td>\n",
              "      <td>0.00</td>\n",
              "      <td>117.08</td>\n",
              "      <td>1.11</td>\n",
              "      <td>Apr-13</td>\n",
              "      <td>119.66</td>\n",
              "      <td>Sep-13</td>\n",
              "      <td>0.0</td>\n",
              "    </tr>\n",
              "    <tr>\n",
              "      <th>2</th>\n",
              "      <td>2400</td>\n",
              "      <td>2400</td>\n",
              "      <td>2400.0</td>\n",
              "      <td>36 months</td>\n",
              "      <td>15.96%</td>\n",
              "      <td>84.33</td>\n",
              "      <td>C</td>\n",
              "      <td>C5</td>\n",
              "      <td>US Army</td>\n",
              "      <td>10+ years</td>\n",
              "      <td>...</td>\n",
              "      <td>3005.67</td>\n",
              "      <td>2400.00</td>\n",
              "      <td>605.67</td>\n",
              "      <td>0.00</td>\n",
              "      <td>0.00</td>\n",
              "      <td>0.00</td>\n",
              "      <td>Jun-14</td>\n",
              "      <td>649.91</td>\n",
              "      <td>May-16</td>\n",
              "      <td>0.0</td>\n",
              "    </tr>\n",
              "    <tr>\n",
              "      <th>3</th>\n",
              "      <td>10000</td>\n",
              "      <td>10000</td>\n",
              "      <td>10000.0</td>\n",
              "      <td>36 months</td>\n",
              "      <td>13.49%</td>\n",
              "      <td>339.31</td>\n",
              "      <td>C</td>\n",
              "      <td>C1</td>\n",
              "      <td>AIR RESOURCES BOARD</td>\n",
              "      <td>10+ years</td>\n",
              "      <td>...</td>\n",
              "      <td>12231.89</td>\n",
              "      <td>10000.00</td>\n",
              "      <td>2214.92</td>\n",
              "      <td>16.97</td>\n",
              "      <td>0.00</td>\n",
              "      <td>0.00</td>\n",
              "      <td>Jan-15</td>\n",
              "      <td>357.48</td>\n",
              "      <td>Apr-16</td>\n",
              "      <td>0.0</td>\n",
              "    </tr>\n",
              "    <tr>\n",
              "      <th>4</th>\n",
              "      <td>3000</td>\n",
              "      <td>3000</td>\n",
              "      <td>3000.0</td>\n",
              "      <td>60 months</td>\n",
              "      <td>12.69%</td>\n",
              "      <td>67.79</td>\n",
              "      <td>B</td>\n",
              "      <td>B5</td>\n",
              "      <td>University Medical Group</td>\n",
              "      <td>1 year</td>\n",
              "      <td>...</td>\n",
              "      <td>3513.33</td>\n",
              "      <td>2475.94</td>\n",
              "      <td>1037.39</td>\n",
              "      <td>0.00</td>\n",
              "      <td>0.00</td>\n",
              "      <td>0.00</td>\n",
              "      <td>May-16</td>\n",
              "      <td>67.79</td>\n",
              "      <td>May-16</td>\n",
              "      <td>0.0</td>\n",
              "    </tr>\n",
              "  </tbody>\n",
              "</table>\n",
              "<p>5 rows × 40 columns</p>\n",
              "</div>\n",
              "      <button class=\"colab-df-convert\" onclick=\"convertToInteractive('df-054e3a5e-69ca-4b22-b061-ddc96928057e')\"\n",
              "              title=\"Convert this dataframe to an interactive table.\"\n",
              "              style=\"display:none;\">\n",
              "        \n",
              "  <svg xmlns=\"http://www.w3.org/2000/svg\" height=\"24px\"viewBox=\"0 0 24 24\"\n",
              "       width=\"24px\">\n",
              "    <path d=\"M0 0h24v24H0V0z\" fill=\"none\"/>\n",
              "    <path d=\"M18.56 5.44l.94 2.06.94-2.06 2.06-.94-2.06-.94-.94-2.06-.94 2.06-2.06.94zm-11 1L8.5 8.5l.94-2.06 2.06-.94-2.06-.94L8.5 2.5l-.94 2.06-2.06.94zm10 10l.94 2.06.94-2.06 2.06-.94-2.06-.94-.94-2.06-.94 2.06-2.06.94z\"/><path d=\"M17.41 7.96l-1.37-1.37c-.4-.4-.92-.59-1.43-.59-.52 0-1.04.2-1.43.59L10.3 9.45l-7.72 7.72c-.78.78-.78 2.05 0 2.83L4 21.41c.39.39.9.59 1.41.59.51 0 1.02-.2 1.41-.59l7.78-7.78 2.81-2.81c.8-.78.8-2.07 0-2.86zM5.41 20L4 18.59l7.72-7.72 1.47 1.35L5.41 20z\"/>\n",
              "  </svg>\n",
              "      </button>\n",
              "      \n",
              "  <style>\n",
              "    .colab-df-container {\n",
              "      display:flex;\n",
              "      flex-wrap:wrap;\n",
              "      gap: 12px;\n",
              "    }\n",
              "\n",
              "    .colab-df-convert {\n",
              "      background-color: #E8F0FE;\n",
              "      border: none;\n",
              "      border-radius: 50%;\n",
              "      cursor: pointer;\n",
              "      display: none;\n",
              "      fill: #1967D2;\n",
              "      height: 32px;\n",
              "      padding: 0 0 0 0;\n",
              "      width: 32px;\n",
              "    }\n",
              "\n",
              "    .colab-df-convert:hover {\n",
              "      background-color: #E2EBFA;\n",
              "      box-shadow: 0px 1px 2px rgba(60, 64, 67, 0.3), 0px 1px 3px 1px rgba(60, 64, 67, 0.15);\n",
              "      fill: #174EA6;\n",
              "    }\n",
              "\n",
              "    [theme=dark] .colab-df-convert {\n",
              "      background-color: #3B4455;\n",
              "      fill: #D2E3FC;\n",
              "    }\n",
              "\n",
              "    [theme=dark] .colab-df-convert:hover {\n",
              "      background-color: #434B5C;\n",
              "      box-shadow: 0px 1px 3px 1px rgba(0, 0, 0, 0.15);\n",
              "      filter: drop-shadow(0px 1px 2px rgba(0, 0, 0, 0.3));\n",
              "      fill: #FFFFFF;\n",
              "    }\n",
              "  </style>\n",
              "\n",
              "      <script>\n",
              "        const buttonEl =\n",
              "          document.querySelector('#df-054e3a5e-69ca-4b22-b061-ddc96928057e button.colab-df-convert');\n",
              "        buttonEl.style.display =\n",
              "          google.colab.kernel.accessAllowed ? 'block' : 'none';\n",
              "\n",
              "        async function convertToInteractive(key) {\n",
              "          const element = document.querySelector('#df-054e3a5e-69ca-4b22-b061-ddc96928057e');\n",
              "          const dataTable =\n",
              "            await google.colab.kernel.invokeFunction('convertToInteractive',\n",
              "                                                     [key], {});\n",
              "          if (!dataTable) return;\n",
              "\n",
              "          const docLinkHtml = 'Like what you see? Visit the ' +\n",
              "            '<a target=\"_blank\" href=https://colab.research.google.com/notebooks/data_table.ipynb>data table notebook</a>'\n",
              "            + ' to learn more about interactive tables.';\n",
              "          element.innerHTML = '';\n",
              "          dataTable['output_type'] = 'display_data';\n",
              "          await google.colab.output.renderOutput(dataTable, element);\n",
              "          const docLink = document.createElement('div');\n",
              "          docLink.innerHTML = docLinkHtml;\n",
              "          element.appendChild(docLink);\n",
              "        }\n",
              "      </script>\n",
              "    </div>\n",
              "  </div>\n",
              "  "
            ]
          },
          "metadata": {},
          "execution_count": 29
        }
      ]
    },
    {
      "cell_type": "code",
      "source": [
        "loan_df['emp_length']=loan_df['emp_length'].apply(lambda x: 0 if '<' in str(x) else (10 if '+' in str(x) else str(x).split()[0]))"
      ],
      "metadata": {
        "id": "Z7A4EoB6ZMJf"
      },
      "execution_count": 30,
      "outputs": []
    },
    {
      "cell_type": "code",
      "source": [
        "loan_df['int_rate']=loan_df['int_rate'].apply(lambda x:float(str(x)[:-1]))\n",
        "loan_df['int_rate'].head(5)"
      ],
      "metadata": {
        "colab": {
          "base_uri": "https://localhost:8080/"
        },
        "id": "rKyQwE84HOFc",
        "outputId": "19208764-1fa9-4a4b-ab67-ffb8fea506ae"
      },
      "execution_count": 31,
      "outputs": [
        {
          "output_type": "execute_result",
          "data": {
            "text/plain": [
              "0    10.65\n",
              "1    15.27\n",
              "2    15.96\n",
              "3    13.49\n",
              "4    12.69\n",
              "Name: int_rate, dtype: float64"
            ]
          },
          "metadata": {},
          "execution_count": 31
        }
      ]
    },
    {
      "cell_type": "code",
      "source": [
        "loan_df['term']=loan_df['term'].apply(lambda x:float(str(x).replace(\" months\",'')))\n",
        "loan_df['term'].head(5)"
      ],
      "metadata": {
        "colab": {
          "base_uri": "https://localhost:8080/"
        },
        "id": "Z3VKd4BTHwBh",
        "outputId": "b57e8214-644b-4013-bfb6-c7b11ad4811f"
      },
      "execution_count": 32,
      "outputs": [
        {
          "output_type": "execute_result",
          "data": {
            "text/plain": [
              "0    36.0\n",
              "1    60.0\n",
              "2    36.0\n",
              "3    36.0\n",
              "4    60.0\n",
              "Name: term, dtype: float64"
            ]
          },
          "metadata": {},
          "execution_count": 32
        }
      ]
    },
    {
      "cell_type": "markdown",
      "source": [
        "Out of all the columns which we have there will be only few columns which will be available to us at the time of filling a loan application and some variables will be generate after the loan has been approved based on the customer.We can remove those columns which are generated after the loan has been approved.\n"
      ],
      "metadata": {
        "id": "olNitY3uuvEN"
      }
    },
    {
      "cell_type": "code",
      "source": [
        "columns_after_loan_application =  [\n",
        "  \"earliest_cr_line\",\n",
        "  \"out_prncp_inv\",\n",
        "  \"total_pymnt\",\n",
        "  \"total_pymnt_inv\",\n",
        "  \"total_rec_prncp\",\n",
        "  \"total_rec_int\",\n",
        "  \"last_pymnt_d\",\n",
        "  \"last_pymnt_amnt\",\n",
        "  \"last_credit_pull_d\"]"
      ],
      "metadata": {
        "id": "OioCNSeDvSJV"
      },
      "execution_count": 33,
      "outputs": []
    },
    {
      "cell_type": "code",
      "source": [
        "loan_df.drop(columns=columns_after_loan_application,inplace=True)"
      ],
      "metadata": {
        "id": "uLUXS7pdvXUv"
      },
      "execution_count": 34,
      "outputs": []
    },
    {
      "cell_type": "markdown",
      "source": [
        "In our current dataset we have all the users whose loans have been:\n",
        "\n",
        "1. Charged Off\n",
        "2. Completed\n",
        "3. Ongoing\n",
        "\n",
        "Let us see the distribution of the dataset based on the loan status"
      ],
      "metadata": {
        "id": "4sg98Tc0voRi"
      }
    },
    {
      "cell_type": "code",
      "source": [
        "loan_df['loan_status'].value_counts()"
      ],
      "metadata": {
        "colab": {
          "base_uri": "https://localhost:8080/"
        },
        "id": "o44FgBtxwC6A",
        "outputId": "225d9da0-a609-4688-b1a2-5989987e7442"
      },
      "execution_count": 35,
      "outputs": [
        {
          "output_type": "execute_result",
          "data": {
            "text/plain": [
              "Fully Paid     32950\n",
              "Charged Off     5627\n",
              "Current         1140\n",
              "Name: loan_status, dtype: int64"
            ]
          },
          "metadata": {},
          "execution_count": 35
        }
      ]
    },
    {
      "cell_type": "code",
      "source": [
        "loan_df.info()"
      ],
      "metadata": {
        "colab": {
          "base_uri": "https://localhost:8080/"
        },
        "id": "DsOp21Fgac4_",
        "outputId": "13466f0e-dd09-4f71-e807-af5b8087ada8"
      },
      "execution_count": 36,
      "outputs": [
        {
          "output_type": "stream",
          "name": "stdout",
          "text": [
            "<class 'pandas.core.frame.DataFrame'>\n",
            "RangeIndex: 39717 entries, 0 to 39716\n",
            "Data columns (total 31 columns):\n",
            " #   Column                   Non-Null Count  Dtype  \n",
            "---  ------                   --------------  -----  \n",
            " 0   loan_amnt                39717 non-null  int64  \n",
            " 1   funded_amnt              39717 non-null  int64  \n",
            " 2   funded_amnt_inv          39717 non-null  float64\n",
            " 3   term                     39717 non-null  float64\n",
            " 4   int_rate                 39717 non-null  float64\n",
            " 5   installment              39717 non-null  float64\n",
            " 6   grade                    39717 non-null  object \n",
            " 7   sub_grade                39717 non-null  object \n",
            " 8   emp_title                39717 non-null  object \n",
            " 9   emp_length               39717 non-null  object \n",
            " 10  home_ownership           39717 non-null  object \n",
            " 11  annual_inc               39717 non-null  float64\n",
            " 12  verification_status      39717 non-null  object \n",
            " 13  issue_d                  39717 non-null  object \n",
            " 14  loan_status              39717 non-null  object \n",
            " 15  purpose                  39717 non-null  object \n",
            " 16  title                    39706 non-null  object \n",
            " 17  addr_state               39717 non-null  object \n",
            " 18  dti                      39717 non-null  float64\n",
            " 19  delinq_2yrs              39717 non-null  int64  \n",
            " 20  inq_last_6mths           39717 non-null  int64  \n",
            " 21  open_acc                 39717 non-null  int64  \n",
            " 22  pub_rec                  39717 non-null  int64  \n",
            " 23  revol_bal                39717 non-null  int64  \n",
            " 24  revol_util               39717 non-null  object \n",
            " 25  total_acc                39717 non-null  int64  \n",
            " 26  out_prncp                39717 non-null  float64\n",
            " 27  total_rec_late_fee       39717 non-null  float64\n",
            " 28  recoveries               39717 non-null  float64\n",
            " 29  collection_recovery_fee  39717 non-null  float64\n",
            " 30  pub_rec_bankruptcies     39717 non-null  float64\n",
            "dtypes: float64(11), int64(8), object(12)\n",
            "memory usage: 9.4+ MB\n"
          ]
        }
      ]
    },
    {
      "cell_type": "markdown",
      "source": [
        "People with Loan status as Current will not play any major role in our analysis.So we can filter them out"
      ],
      "metadata": {
        "id": "9MkU6o2UwT6T"
      }
    },
    {
      "cell_type": "code",
      "source": [
        "loan_df_filtered=loan_df[loan_df['loan_status']!='Current']"
      ],
      "metadata": {
        "id": "Woohi_E9wR-e"
      },
      "execution_count": 37,
      "outputs": []
    },
    {
      "cell_type": "markdown",
      "source": [
        "Let us check the shape of the dataset after filtering\n"
      ],
      "metadata": {
        "id": "RKEBSkucwm83"
      }
    },
    {
      "cell_type": "code",
      "source": [
        "loan_df_filtered.shape"
      ],
      "metadata": {
        "colab": {
          "base_uri": "https://localhost:8080/"
        },
        "id": "HRjEK31qwrxX",
        "outputId": "d2e678e7-54df-4e8d-a50b-c034195e5a77"
      },
      "execution_count": 38,
      "outputs": [
        {
          "output_type": "execute_result",
          "data": {
            "text/plain": [
              "(38577, 31)"
            ]
          },
          "metadata": {},
          "execution_count": 38
        }
      ]
    },
    {
      "cell_type": "markdown",
      "source": [
        "# Univariate Analysis"
      ],
      "metadata": {
        "id": "y39f0X3sXdSy"
      }
    },
    {
      "cell_type": "markdown",
      "source": [
        "Now we will perform analysis on the data"
      ],
      "metadata": {
        "id": "IzaLqrQZXgzN"
      }
    },
    {
      "cell_type": "markdown",
      "source": [
        "We will start with analysing the distribution of loan amount.How the amount is distributed.For that we will make use of histogram."
      ],
      "metadata": {
        "id": "oWvOy0UOZwcK"
      }
    },
    {
      "cell_type": "code",
      "source": [
        "ax = plt.subplots(figsize=(10, 6))\n",
        "seaborn.histplot(data=loan_df_filtered,x='loan_amnt',bins=15)"
      ],
      "metadata": {
        "colab": {
          "base_uri": "https://localhost:8080/",
          "height": 560
        },
        "id": "QF-3xkGQaTVl",
        "outputId": "89f5f9a5-69cc-4dc9-ce56-b8c1f28f1da2"
      },
      "execution_count": 39,
      "outputs": [
        {
          "output_type": "execute_result",
          "data": {
            "text/plain": [
              "<Axes: xlabel='loan_amnt', ylabel='Count'>"
            ]
          },
          "metadata": {},
          "execution_count": 39
        },
        {
          "output_type": "display_data",
          "data": {
            "text/plain": [
              "<Figure size 1000x600 with 1 Axes>"
            ],
            "image/png": "[encoded data removed]"
          },
          "metadata": {}
        }
      ]
    },
    {
      "cell_type": "markdown",
      "source": [
        "**It can be seen that majority of the loans are in the range 2500-5000**"
      ],
      "metadata": {
        "id": "0WHmePjIb0in"
      }
    },
    {
      "cell_type": "markdown",
      "source": [
        "We will also check the income distribution of the applicants.For that we will make use of Boxplot"
      ],
      "metadata": {
        "id": "Ci2KxxW-d3PS"
      }
    },
    {
      "cell_type": "code",
      "source": [
        "seaborn.boxplot(y=loan_df_filtered['annual_inc'],x=loan_df_filtered['loan_status'],data=loan_df_filtered)"
      ],
      "metadata": {
        "colab": {
          "base_uri": "https://localhost:8080/",
          "height": 483
        },
        "id": "rcCrggYsd7S2",
        "outputId": "dcdbbe36-7af2-4790-dfc6-1a07edc68f68"
      },
      "execution_count": 40,
      "outputs": [
        {
          "output_type": "execute_result",
          "data": {
            "text/plain": [
              "<Axes: xlabel='loan_status', ylabel='annual_inc'>"
            ]
          },
          "metadata": {},
          "execution_count": 40
        },
        {
          "output_type": "display_data",
          "data": {
            "text/plain": [
              "<Figure size 640x480 with 1 Axes>"
            ],
            "image/png": "[encoded data removed]"
          },
          "metadata": {}
        }
      ]
    },
    {
      "cell_type": "markdown",
      "source": [
        "We cannot make any conlcusion from the graph.We need to remove the outliers.We will make use of IQR to remove the outliers from the dataset.the minimum value will be Q1-IQR*1.5 and maximum value will be Q3+IQR*1.5"
      ],
      "metadata": {
        "id": "osGkvH7AetXZ"
      }
    },
    {
      "cell_type": "code",
      "source": [
        "Q1=numpy.percentile(loan_df_filtered['annual_inc'],25)\n",
        "Q3=numpy.percentile(loan_df_filtered['annual_inc'],75)\n",
        "IQR=Q3-Q1\n",
        "IQR"
      ],
      "metadata": {
        "colab": {
          "base_uri": "https://localhost:8080/"
        },
        "id": "6k30WtRAgs_Q",
        "outputId": "11506772-7862-4c82-ae73-b6a3d466a7f3"
      },
      "execution_count": 41,
      "outputs": [
        {
          "output_type": "execute_result",
          "data": {
            "text/plain": [
              "42000.0"
            ]
          },
          "metadata": {},
          "execution_count": 41
        }
      ]
    },
    {
      "cell_type": "code",
      "source": [
        "upper_limit_income=Q3+1.5*IQR\n",
        "lower_limit_income=Q1-1.5*IQR\n",
        "print(\"Lower Limit {}\",lower_limit_income)\n",
        "print(\"Upper Limit {}\",upper_limit_income)"
      ],
      "metadata": {
        "colab": {
          "base_uri": "https://localhost:8080/"
        },
        "id": "-Gcc5pBch5mT",
        "outputId": "f97d5c14-6ddc-4804-db6a-31dc6ff75f5a"
      },
      "execution_count": 42,
      "outputs": [
        {
          "output_type": "stream",
          "name": "stdout",
          "text": [
            "Lower Limit {} -23000.0\n",
            "Upper Limit {} 145000.0\n"
          ]
        }
      ]
    },
    {
      "cell_type": "code",
      "source": [
        "min(loan_df_filtered['annual_inc'])"
      ],
      "metadata": {
        "colab": {
          "base_uri": "https://localhost:8080/"
        },
        "id": "TvomvYohjd4h",
        "outputId": "6e02869a-d96c-438f-bd72-eb414ace33e2"
      },
      "execution_count": 43,
      "outputs": [
        {
          "output_type": "execute_result",
          "data": {
            "text/plain": [
              "4000.0"
            ]
          },
          "metadata": {},
          "execution_count": 43
        }
      ]
    },
    {
      "cell_type": "markdown",
      "source": [
        "Since there are no negative values present in the annual income field we can ignore the lower limit"
      ],
      "metadata": {
        "id": "G8pDIUSxjlLl"
      }
    },
    {
      "cell_type": "markdown",
      "source": [
        "We will now remove the outliers after checking the upper limit on the data\n",
        "\n"
      ],
      "metadata": {
        "id": "XuaaFJTBiVqg"
      }
    },
    {
      "cell_type": "code",
      "source": [
        "loan_df_filtered.drop(loan_df_filtered[(loan_df_filtered['annual_inc']>=upper_limit_income)].index,inplace=True)"
      ],
      "metadata": {
        "colab": {
          "base_uri": "https://localhost:8080/"
        },
        "id": "OBqD3RFkic_H",
        "outputId": "23d8f63b-a6b8-430c-d4ca-cbd933449e7d"
      },
      "execution_count": 44,
      "outputs": [
        {
          "output_type": "stream",
          "name": "stderr",
          "text": [
            "<ipython-input-44-77ad039a57de>:1: SettingWithCopyWarning: \n",
            "A value is trying to be set on a copy of a slice from a DataFrame\n",
            "\n",
            "See the caveats in the documentation: https://pandas.pydata.org/pandas-docs/stable/user_guide/indexing.html#returning-a-view-versus-a-copy\n",
            "  loan_df_filtered.drop(loan_df_filtered[(loan_df_filtered['annual_inc']>=upper_limit_income)].index,inplace=True)\n"
          ]
        }
      ]
    },
    {
      "cell_type": "markdown",
      "source": [
        "Checking the shape of the data after removing the outliers and plotting the graph again"
      ],
      "metadata": {
        "id": "1YUUUsvaj0nS"
      }
    },
    {
      "cell_type": "code",
      "source": [
        "loan_df_filtered.shape"
      ],
      "metadata": {
        "colab": {
          "base_uri": "https://localhost:8080/"
        },
        "id": "838dOjanjUlA",
        "outputId": "649acf79-9cba-4517-c1c8-a85b9deee9f2"
      },
      "execution_count": 47,
      "outputs": [
        {
          "output_type": "execute_result",
          "data": {
            "text/plain": [
              "(36754, 31)"
            ]
          },
          "metadata": {},
          "execution_count": 47
        }
      ]
    },
    {
      "cell_type": "code",
      "source": [
        "seaborn.boxplot(y=loan_df_filtered['annual_inc'],x=loan_df_filtered['loan_status'],data=loan_df_filtered)"
      ],
      "metadata": {
        "colab": {
          "base_uri": "https://localhost:8080/",
          "height": 468
        },
        "id": "j6NqKPJwj7Xa",
        "outputId": "ae8c6536-91ef-4e01-9a11-d323f832d850"
      },
      "execution_count": 48,
      "outputs": [
        {
          "output_type": "execute_result",
          "data": {
            "text/plain": [
              "<Axes: xlabel='loan_status', ylabel='annual_inc'>"
            ]
          },
          "metadata": {},
          "execution_count": 48
        },
        {
          "output_type": "display_data",
          "data": {
            "text/plain": [
              "<Figure size 640x480 with 1 Axes>"
            ],
            "image/png": "[encoded data removed]"
          },
          "metadata": {}
        }
      ]
    },
    {
      "cell_type": "markdown",
      "source": [
        "Now we will check distribution of intreset rate through histplot"
      ],
      "metadata": {
        "id": "OPn5bu9knS_r"
      }
    },
    {
      "cell_type": "code",
      "source": [
        "seaborn.histplot(data=loan_df_filtered,x='int_rate',bins=15)"
      ],
      "metadata": {
        "colab": {
          "base_uri": "https://localhost:8080/",
          "height": 468
        },
        "id": "4FN1UV2HnZmp",
        "outputId": "77bc2aa6-d315-4c3b-90a0-0ea37aa09eac"
      },
      "execution_count": 49,
      "outputs": [
        {
          "output_type": "execute_result",
          "data": {
            "text/plain": [
              "<Axes: xlabel='int_rate', ylabel='Count'>"
            ]
          },
          "metadata": {},
          "execution_count": 49
        },
        {
          "output_type": "display_data",
          "data": {
            "text/plain": [
              "<Figure size 640x480 with 1 Axes>"
            ],
            "image/png": "[encoded data removed]"
          },
          "metadata": {}
        }
      ]
    },
    {
      "cell_type": "markdown",
      "source": [
        "**Intrest Rates between 10.5 and 12 are the highest**"
      ],
      "metadata": {
        "id": "bixTadnbnyiV"
      }
    },
    {
      "cell_type": "code",
      "source": [
        "plt.figure(figsize=(15,8))\n",
        "plt.subplot(1, 3, 1)\n",
        "ax=plt.hist(data=loan_df_filtered,x='loan_amnt',bins=10)\n",
        "plt.title(\"Loan Amount\")\n",
        "plt.subplot(1, 3, 2)\n",
        "plt.hist(data=loan_df_filtered,x='funded_amnt',bins=10)\n",
        "plt.title(\"Funded Amount\")\n",
        "plt.subplot(1, 3, 3)\n",
        "plt.hist(data=loan_df_filtered,x='funded_amnt_inv',bins=10)\n",
        "plt.title(\"Investor Funded Amount\")\n"
      ],
      "metadata": {
        "colab": {
          "base_uri": "https://localhost:8080/",
          "height": 717
        },
        "id": "88O3cguwn8-w",
        "outputId": "01f5dfef-359f-44e6-c0af-8673b52e33c3"
      },
      "execution_count": 50,
      "outputs": [
        {
          "output_type": "execute_result",
          "data": {
            "text/plain": [
              "Text(0.5, 1.0, 'Investor Funded Amount')"
            ]
          },
          "metadata": {},
          "execution_count": 50
        },
        {
          "output_type": "display_data",
          "data": {
            "text/plain": [
              "<Figure size 1500x800 with 3 Axes>"
            ],
            "image/png": "[encoded data removed]"
          },
          "metadata": {}
        }
      ]
    },
    {
      "cell_type": "markdown",
      "source": [
        "We can see that there is not a lot of difference in these Loan values\n",
        "\n",
        "\n",
        "\n"
      ],
      "metadata": {
        "id": "nxIM4B3Rudlx"
      }
    },
    {
      "cell_type": "markdown",
      "source": [
        "Checking Loan distribution across the states"
      ],
      "metadata": {
        "id": "1a44K84qZ11U"
      }
    },
    {
      "cell_type": "code",
      "source": [
        "plt.figure(figsize=(20,8))\n",
        "seaborn.histplot(data=loan_df_filtered,x='addr_state',bins=15)"
      ],
      "metadata": {
        "colab": {
          "base_uri": "https://localhost:8080/",
          "height": 583
        },
        "id": "Ln8QStHBZ4tq",
        "outputId": "1efedadd-18fb-4460-f902-0b54c283d18b"
      },
      "execution_count": 52,
      "outputs": [
        {
          "output_type": "execute_result",
          "data": {
            "text/plain": [
              "<Axes: xlabel='addr_state', ylabel='Count'>"
            ]
          },
          "metadata": {},
          "execution_count": 52
        },
        {
          "output_type": "display_data",
          "data": {
            "text/plain": [
              "<Figure size 2000x800 with 1 Axes>"
            ],
            "image/png": "[encoded data removed]"
          },
          "metadata": {}
        }
      ]
    },
    {
      "cell_type": "markdown",
      "source": [
        "**California has the highest number of loans disbursement**"
      ],
      "metadata": {
        "id": "FOssxPLhaGXV"
      }
    },
    {
      "cell_type": "markdown",
      "source": [
        "Now let us check the number of delinquencies"
      ],
      "metadata": {
        "id": "PkO0_SL1aNCV"
      }
    },
    {
      "cell_type": "code",
      "source": [
        "seaborn.histplot(data=loan_df_filtered,x='delinq_2yrs',bins=11)"
      ],
      "metadata": {
        "colab": {
          "base_uri": "https://localhost:8080/",
          "height": 468
        },
        "id": "cTOurcg2aW87",
        "outputId": "66498bf2-01f9-4f47-f1f3-002892890315"
      },
      "execution_count": 60,
      "outputs": [
        {
          "output_type": "execute_result",
          "data": {
            "text/plain": [
              "<Axes: xlabel='delinq_2yrs', ylabel='Count'>"
            ]
          },
          "metadata": {},
          "execution_count": 60
        },
        {
          "output_type": "display_data",
          "data": {
            "text/plain": [
              "<Figure size 640x480 with 1 Axes>"
            ],
            "image/png": "[encoded data removed]"
          },
          "metadata": {}
        }
      ]
    },
    {
      "cell_type": "markdown",
      "source": [
        "It can be seen that the number of delinquencies are reported in last 2 years are 0.Most fo the Loans are given to people who are less delinquent"
      ],
      "metadata": {
        "id": "E2K-4M6Eaoqp"
      }
    },
    {
      "cell_type": "code",
      "source": [
        "seaborn.histplot(data=loan_df_filtered,x='emp_length',bins=11)"
      ],
      "metadata": {
        "colab": {
          "base_uri": "https://localhost:8080/",
          "height": 468
        },
        "id": "wqS_JDpqbRaX",
        "outputId": "a6d44353-be63-47ea-a145-7109cdf5d52d"
      },
      "execution_count": 61,
      "outputs": [
        {
          "output_type": "execute_result",
          "data": {
            "text/plain": [
              "<Axes: xlabel='emp_length', ylabel='Count'>"
            ]
          },
          "metadata": {},
          "execution_count": 61
        },
        {
          "output_type": "display_data",
          "data": {
            "text/plain": [
              "<Figure size 640x480 with 1 Axes>"
            ],
            "image/png": "[encoded data removed]"
          },
          "metadata": {}
        }
      ]
    },
    {
      "cell_type": "markdown",
      "source": [
        "Loans are mostly given to people with 10 or more years of experience"
      ],
      "metadata": {
        "id": "sdq7r6w3bdzH"
      }
    },
    {
      "cell_type": "markdown",
      "source": [
        "We will now check loan distribution with home ownership"
      ],
      "metadata": {
        "id": "Zk7UeMiHc-Rq"
      }
    },
    {
      "cell_type": "code",
      "source": [
        "seaborn.histplot(data=loan_df_filtered,x='home_ownership',bins=4)"
      ],
      "metadata": {
        "colab": {
          "base_uri": "https://localhost:8080/",
          "height": 468
        },
        "id": "t-obSF5KdFny",
        "outputId": "6fca614c-85e8-4c07-91da-11ba302f7530"
      },
      "execution_count": 63,
      "outputs": [
        {
          "output_type": "execute_result",
          "data": {
            "text/plain": [
              "<Axes: xlabel='home_ownership', ylabel='Count'>"
            ]
          },
          "metadata": {},
          "execution_count": 63
        },
        {
          "output_type": "display_data",
          "data": {
            "text/plain": [
              "<Figure size 640x480 with 1 Axes>"
            ],
            "image/png": "[encoded data removed]"
          },
          "metadata": {}
        }
      ]
    },
    {
      "cell_type": "markdown",
      "source": [
        "**Loans are mostly given to the Applicants on Rent**"
      ],
      "metadata": {
        "id": "qyrq03N_dQLK"
      }
    },
    {
      "cell_type": "markdown",
      "source": [],
      "metadata": {
        "id": "rkbNla02eB86"
      }
    },
    {
      "cell_type": "code",
      "source": [
        "seaborn.histplot(data=loan_df_filtered,x='installment',bins=10)"
      ],
      "metadata": {
        "colab": {
          "base_uri": "https://localhost:8080/",
          "height": 467
        },
        "id": "RbizsNJ_eL8K",
        "outputId": "afa2cc7e-fcc1-49b5-ee27-a1673465ad10"
      },
      "execution_count": 66,
      "outputs": [
        {
          "output_type": "execute_result",
          "data": {
            "text/plain": [
              "<Axes: xlabel='installment', ylabel='Count'>"
            ]
          },
          "metadata": {},
          "execution_count": 66
        },
        {
          "output_type": "display_data",
          "data": {
            "text/plain": [
              "<Figure size 640x480 with 1 Axes>"
            ],
            "image/png": "[encoded data removed]"
          },
          "metadata": {}
        }
      ]
    },
    {
      "cell_type": "markdown",
      "source": [
        "** We can see that most of the installments are between 150-300 **"
      ],
      "metadata": {
        "id": "BogGpQDPecIx"
      }
    },
    {
      "cell_type": "markdown",
      "source": [
        "Let us see the term distribution  for loans"
      ],
      "metadata": {
        "id": "OzNUnqR6epYA"
      }
    },
    {
      "cell_type": "code",
      "source": [
        "seaborn.countplot(data=loan_df_filtered,x='term')"
      ],
      "metadata": {
        "colab": {
          "base_uri": "https://localhost:8080/",
          "height": 467
        },
        "id": "V_kkeNItey0S",
        "outputId": "1bcb00ce-0c75-4ed9-d904-fe9cf071d5ff"
      },
      "execution_count": 74,
      "outputs": [
        {
          "output_type": "execute_result",
          "data": {
            "text/plain": [
              "<Axes: xlabel='term', ylabel='count'>"
            ]
          },
          "metadata": {},
          "execution_count": 74
        },
        {
          "output_type": "display_data",
          "data": {
            "text/plain": [
              "<Figure size 640x480 with 1 Axes>"
            ],
            "image/png": "[encoded data removed]"
          },
          "metadata": {}
        }
      ]
    },
    {
      "cell_type": "markdown",
      "source": [
        "Most of the loans have term of 36"
      ],
      "metadata": {
        "id": "A2qOiCV-fTfH"
      }
    },
    {
      "cell_type": "markdown",
      "source": [
        "Let us check the verification status of the loans"
      ],
      "metadata": {
        "id": "gSJGrduvfWxp"
      }
    },
    {
      "cell_type": "code",
      "source": [
        "seaborn.countplot(data=loan_df_filtered,x='verification_status')"
      ],
      "metadata": {
        "colab": {
          "base_uri": "https://localhost:8080/",
          "height": 468
        },
        "id": "qnp4JNJVfe1R",
        "outputId": "a4f0b2ab-126f-4ce1-e8c5-aa7ebdc5ef15"
      },
      "execution_count": 75,
      "outputs": [
        {
          "output_type": "execute_result",
          "data": {
            "text/plain": [
              "<Axes: xlabel='verification_status', ylabel='count'>"
            ]
          },
          "metadata": {},
          "execution_count": 75
        },
        {
          "output_type": "display_data",
          "data": {
            "text/plain": [
              "<Figure size 640x480 with 1 Axes>"
            ],
            "image/png": "[encoded data removed]"
          },
          "metadata": {}
        }
      ]
    },
    {
      "cell_type": "markdown",
      "source": [
        "Most of the Loans are not verified"
      ],
      "metadata": {
        "id": "t0sUpfOJfkQA"
      }
    },
    {
      "cell_type": "markdown",
      "source": [
        "Let us see the grades in which most loans are given."
      ],
      "metadata": {
        "id": "Mn4LekRAhy9E"
      }
    },
    {
      "cell_type": "code",
      "source": [
        "seaborn.countplot(data=loan_df_filtered,x='grade')"
      ],
      "metadata": {
        "colab": {
          "base_uri": "https://localhost:8080/",
          "height": 467
        },
        "id": "SOe8NLASh7OW",
        "outputId": "d51302ce-5122-40d2-8283-4b702cf615e8"
      },
      "execution_count": 76,
      "outputs": [
        {
          "output_type": "execute_result",
          "data": {
            "text/plain": [
              "<Axes: xlabel='grade', ylabel='count'>"
            ]
          },
          "metadata": {},
          "execution_count": 76
        },
        {
          "output_type": "display_data",
          "data": {
            "text/plain": [
              "<Figure size 640x480 with 1 Axes>"
            ],
            "image/png": "[encoded data removed]"
          },
          "metadata": {}
        }
      ]
    },
    {
      "cell_type": "markdown",
      "source": [
        "**Loans are mostly given in Grade B.These grades are given by the LC officer at the time of granting loans**"
      ],
      "metadata": {
        "id": "-QHWdBZNh_iU"
      }
    },
    {
      "cell_type": "markdown",
      "source": [
        "We will now see loan distribution over pub_rec and pub_rec_bankruptcies"
      ],
      "metadata": {
        "id": "F2MU3XTHiKQH"
      }
    },
    {
      "cell_type": "code",
      "source": [
        "plt.figure(figsize=(15,8))\n",
        "plt.subplot(1,2,1)\n",
        "plt.hist(data=loan_df_filtered,x='pub_rec_bankruptcies',bins=15)\n",
        "plt.title(\"Public Record Bankruptcies\")\n",
        "plt.subplot(1,2,2)\n",
        "plt.hist(data=loan_df_filtered,x='pub_rec',bins=15)\n",
        "plt.title(\"Public Derogratory Records\")\n",
        "\n",
        "\n",
        "\n"
      ],
      "metadata": {
        "colab": {
          "base_uri": "https://localhost:8080/",
          "height": 717
        },
        "id": "2YIPH_ZriVFT",
        "outputId": "6f8e19b4-f067-4e14-91de-fbd972bb820f"
      },
      "execution_count": 85,
      "outputs": [
        {
          "output_type": "execute_result",
          "data": {
            "text/plain": [
              "Text(0.5, 1.0, 'Public Derogratory Records')"
            ]
          },
          "metadata": {},
          "execution_count": 85
        },
        {
          "output_type": "display_data",
          "data": {
            "text/plain": [
              "<Figure size 1500x800 with 2 Axes>"
            ],
            "image/png": "[encoded data removed]"
          },
          "metadata": {}
        }
      ]
    },
    {
      "cell_type": "markdown",
      "source": [
        "We will biw check the purpose for which loans were taken"
      ],
      "metadata": {
        "id": "-QaJeSakksXH"
      }
    },
    {
      "cell_type": "code",
      "source": [
        "seaborn.countplot(data=loan_df_filtered,y='purpose')"
      ],
      "metadata": {
        "colab": {
          "base_uri": "https://localhost:8080/",
          "height": 467
        },
        "id": "OQ4oZPXikzgg",
        "outputId": "c9a9db02-d35e-4964-9c8c-656f88360353"
      },
      "execution_count": 86,
      "outputs": [
        {
          "output_type": "execute_result",
          "data": {
            "text/plain": [
              "<Axes: xlabel='count', ylabel='purpose'>"
            ]
          },
          "metadata": {},
          "execution_count": 86
        },
        {
          "output_type": "display_data",
          "data": {
            "text/plain": [
              "<Figure size 640x480 with 1 Axes>"
            ],
            "image/png": "[encoded data removed]"
          },
          "metadata": {}
        }
      ]
    },
    {
      "cell_type": "markdown",
      "source": [
        "**Debt Consolidation is the main reason for the loan**"
      ],
      "metadata": {
        "id": "NTiWa6ZVk7I0"
      }
    },
    {
      "cell_type": "markdown",
      "source": [
        "We will now see distribution of dti in loans"
      ],
      "metadata": {
        "id": "YSx-AUiEvo3o"
      }
    },
    {
      "cell_type": "code",
      "source": [
        "seaborn.boxplot(y=loan_df_filtered['dti'])"
      ],
      "metadata": {
        "colab": {
          "base_uri": "https://localhost:8080/",
          "height": 429
        },
        "id": "kkPdTxa-vs4d",
        "outputId": "87689818-ba13-4b9b-8c58-33222f2f993a"
      },
      "execution_count": 90,
      "outputs": [
        {
          "output_type": "execute_result",
          "data": {
            "text/plain": [
              "<Axes: ylabel='dti'>"
            ]
          },
          "metadata": {},
          "execution_count": 90
        },
        {
          "output_type": "display_data",
          "data": {
            "text/plain": [
              "<Figure size 640x480 with 1 Axes>"
            ],
            "image/png": "[encoded data removed]"
          },
          "metadata": {}
        }
      ]
    },
    {
      "cell_type": "markdown",
      "source": [
        "#Bivariate Analysis"
      ],
      "metadata": {
        "id": "_U-BQptdp2fN"
      }
    },
    {
      "cell_type": "code",
      "source": [
        "chargeoff_rate_homeownership = loan_df.pivot_table(values = 'funded_amnt',\n",
        "                      index = 'home_ownership',\n",
        "                      columns = 'loan_status',\n",
        "                      aggfunc = numpy.count_nonzero,\n",
        "                      fill_value = 0,\n",
        "                      margins = True,\n",
        "                      margins_name = 'Total')\n",
        "chargeoff_rate_homeownership['Charged Off Rate'] = 100*(round((chargeoff_rate_homeownership['Charged Off']/chargeoff_rate_homeownership['Total']), 6))\n",
        "seaborn.barplot(x=chargeoff_rate_homeownership.iloc[0:-1].index,y=chargeoff_rate_homeownership.iloc[0:-1]['Charged Off Rate'])"
      ],
      "metadata": {
        "colab": {
          "base_uri": "https://localhost:8080/",
          "height": 468
        },
        "id": "B_PL3xNox2v1",
        "outputId": "9c2779c5-18f1-46ea-894a-3dd791554795"
      },
      "execution_count": 107,
      "outputs": [
        {
          "output_type": "execute_result",
          "data": {
            "text/plain": [
              "<Axes: xlabel='home_ownership', ylabel='Charged Off Rate'>"
            ]
          },
          "metadata": {},
          "execution_count": 107
        },
        {
          "output_type": "display_data",
          "data": {
            "text/plain": [
              "<Figure size 640x480 with 1 Axes>"
            ],
            "image/png": "[encoded data removed]"
          },
          "metadata": {}
        }
      ]
    },
    {
      "cell_type": "markdown",
      "source": [
        "From the above graph it can be seen that Other as the status has higher charge off rate"
      ],
      "metadata": {
        "id": "nRbEMqxQ0SaP"
      }
    },
    {
      "cell_type": "code",
      "source": [
        "chargeoff_rate_purpose = loan_df.pivot_table(values = 'funded_amnt',\n",
        "                      index = 'purpose',\n",
        "                      columns = 'loan_status',\n",
        "                      aggfunc = numpy.count_nonzero,\n",
        "                      fill_value = 0,\n",
        "                      margins = True,\n",
        "                      margins_name = 'Total')\n",
        "chargeoff_rate_purpose['Charged Off Rate'] = 100*(round((chargeoff_rate_purpose['Charged Off']/chargeoff_rate_purpose['Total']), 6))\n",
        "chargeoff_rate_purpose\n"
      ],
      "metadata": {
        "colab": {
          "base_uri": "https://localhost:8080/",
          "height": 551
        },
        "id": "tK2HXqkyz5L3",
        "outputId": "4f367bf4-f59e-4622-c88c-a39e40e226ae"
      },
      "execution_count": 115,
      "outputs": [
        {
          "output_type": "execute_result",
          "data": {
            "text/plain": [
              "loan_status         Charged Off  Current  Fully Paid  Total  Charged Off Rate\n",
              "purpose                                                                      \n",
              "car                         160       50        1339   1549           10.3292\n",
              "credit_card                 542      103        4485   5130           10.5653\n",
              "debt_consolidation         2767      586       15288  18641           14.8436\n",
              "educational                  56        0         269    325           17.2308\n",
              "home_improvement            347      101        2528   2976           11.6599\n",
              "house                        59       14         308    381           15.4856\n",
              "major_purchase              222       37        1928   2187           10.1509\n",
              "medical                     106       12         575    693           15.2958\n",
              "moving                       92        7         484    583           15.7804\n",
              "other                       633      128        3232   3993           15.8527\n",
              "renewable_energy             19        1          83    103           18.4466\n",
              "small_business              475       74        1279   1828           25.9847\n",
              "vacation                     53        6         322    381           13.9108\n",
              "wedding                      96       21         830    947           10.1373\n",
              "Total                      5627     1140       32950  39717           14.1677"
            ],
            "text/html": [
              "\n",
              "  <div id=\"df-e728870e-4730-45e6-add0-8b6976187061\">\n",
              "    <div class=\"colab-df-container\">\n",
              "      <div>\n",
              "<style scoped>\n",
              "    .dataframe tbody tr th:only-of-type {\n",
              "        vertical-align: middle;\n",
              "    }\n",
              "\n",
              "    .dataframe tbody tr th {\n",
              "        vertical-align: top;\n",
              "    }\n",
              "\n",
              "    .dataframe thead th {\n",
              "        text-align: right;\n",
              "    }\n",
              "</style>\n",
              "<table border=\"1\" class=\"dataframe\">\n",
              "  <thead>\n",
              "    <tr style=\"text-align: right;\">\n",
              "      <th>loan_status</th>\n",
              "      <th>Charged Off</th>\n",
              "      <th>Current</th>\n",
              "      <th>Fully Paid</th>\n",
              "      <th>Total</th>\n",
              "      <th>Charged Off Rate</th>\n",
              "    </tr>\n",
              "    <tr>\n",
              "      <th>purpose</th>\n",
              "      <th></th>\n",
              "      <th></th>\n",
              "      <th></th>\n",
              "      <th></th>\n",
              "      <th></th>\n",
              "    </tr>\n",
              "  </thead>\n",
              "  <tbody>\n",
              "    <tr>\n",
              "      <th>car</th>\n",
              "      <td>160</td>\n",
              "      <td>50</td>\n",
              "      <td>1339</td>\n",
              "      <td>1549</td>\n",
              "      <td>10.3292</td>\n",
              "    </tr>\n",
              "    <tr>\n",
              "      <th>credit_card</th>\n",
              "      <td>542</td>\n",
              "      <td>103</td>\n",
              "      <td>4485</td>\n",
              "      <td>5130</td>\n",
              "      <td>10.5653</td>\n",
              "    </tr>\n",
              "    <tr>\n",
              "      <th>debt_consolidation</th>\n",
              "      <td>2767</td>\n",
              "      <td>586</td>\n",
              "      <td>15288</td>\n",
              "      <td>18641</td>\n",
              "      <td>14.8436</td>\n",
              "    </tr>\n",
              "    <tr>\n",
              "      <th>educational</th>\n",
              "      <td>56</td>\n",
              "      <td>0</td>\n",
              "      <td>269</td>\n",
              "      <td>325</td>\n",
              "      <td>17.2308</td>\n",
              "    </tr>\n",
              "    <tr>\n",
              "      <th>home_improvement</th>\n",
              "      <td>347</td>\n",
              "      <td>101</td>\n",
              "      <td>2528</td>\n",
              "      <td>2976</td>\n",
              "      <td>11.6599</td>\n",
              "    </tr>\n",
              "    <tr>\n",
              "      <th>house</th>\n",
              "      <td>59</td>\n",
              "      <td>14</td>\n",
              "      <td>308</td>\n",
              "      <td>381</td>\n",
              "      <td>15.4856</td>\n",
              "    </tr>\n",
              "    <tr>\n",
              "      <th>major_purchase</th>\n",
              "      <td>222</td>\n",
              "      <td>37</td>\n",
              "      <td>1928</td>\n",
              "      <td>2187</td>\n",
              "      <td>10.1509</td>\n",
              "    </tr>\n",
              "    <tr>\n",
              "      <th>medical</th>\n",
              "      <td>106</td>\n",
              "      <td>12</td>\n",
              "      <td>575</td>\n",
              "      <td>693</td>\n",
              "      <td>15.2958</td>\n",
              "    </tr>\n",
              "    <tr>\n",
              "      <th>moving</th>\n",
              "      <td>92</td>\n",
              "      <td>7</td>\n",
              "      <td>484</td>\n",
              "      <td>583</td>\n",
              "      <td>15.7804</td>\n",
              "    </tr>\n",
              "    <tr>\n",
              "      <th>other</th>\n",
              "      <td>633</td>\n",
              "      <td>128</td>\n",
              "      <td>3232</td>\n",
              "      <td>3993</td>\n",
              "      <td>15.8527</td>\n",
              "    </tr>\n",
              "    <tr>\n",
              "      <th>renewable_energy</th>\n",
              "      <td>19</td>\n",
              "      <td>1</td>\n",
              "      <td>83</td>\n",
              "      <td>103</td>\n",
              "      <td>18.4466</td>\n",
              "    </tr>\n",
              "    <tr>\n",
              "      <th>small_business</th>\n",
              "      <td>475</td>\n",
              "      <td>74</td>\n",
              "      <td>1279</td>\n",
              "      <td>1828</td>\n",
              "      <td>25.9847</td>\n",
              "    </tr>\n",
              "    <tr>\n",
              "      <th>vacation</th>\n",
              "      <td>53</td>\n",
              "      <td>6</td>\n",
              "      <td>322</td>\n",
              "      <td>381</td>\n",
              "      <td>13.9108</td>\n",
              "    </tr>\n",
              "    <tr>\n",
              "      <th>wedding</th>\n",
              "      <td>96</td>\n",
              "      <td>21</td>\n",
              "      <td>830</td>\n",
              "      <td>947</td>\n",
              "      <td>10.1373</td>\n",
              "    </tr>\n",
              "    <tr>\n",
              "      <th>Total</th>\n",
              "      <td>5627</td>\n",
              "      <td>1140</td>\n",
              "      <td>32950</td>\n",
              "      <td>39717</td>\n",
              "      <td>14.1677</td>\n",
              "    </tr>\n",
              "  </tbody>\n",
              "</table>\n",
              "</div>\n",
              "      <button class=\"colab-df-convert\" onclick=\"convertToInteractive('df-e728870e-4730-45e6-add0-8b6976187061')\"\n",
              "              title=\"Convert this dataframe to an interactive table.\"\n",
              "              style=\"display:none;\">\n",
              "        \n",
              "  <svg xmlns=\"http://www.w3.org/2000/svg\" height=\"24px\"viewBox=\"0 0 24 24\"\n",
              "       width=\"24px\">\n",
              "    <path d=\"M0 0h24v24H0V0z\" fill=\"none\"/>\n",
              "    <path d=\"M18.56 5.44l.94 2.06.94-2.06 2.06-.94-2.06-.94-.94-2.06-.94 2.06-2.06.94zm-11 1L8.5 8.5l.94-2.06 2.06-.94-2.06-.94L8.5 2.5l-.94 2.06-2.06.94zm10 10l.94 2.06.94-2.06 2.06-.94-2.06-.94-.94-2.06-.94 2.06-2.06.94z\"/><path d=\"M17.41 7.96l-1.37-1.37c-.4-.4-.92-.59-1.43-.59-.52 0-1.04.2-1.43.59L10.3 9.45l-7.72 7.72c-.78.78-.78 2.05 0 2.83L4 21.41c.39.39.9.59 1.41.59.51 0 1.02-.2 1.41-.59l7.78-7.78 2.81-2.81c.8-.78.8-2.07 0-2.86zM5.41 20L4 18.59l7.72-7.72 1.47 1.35L5.41 20z\"/>\n",
              "  </svg>\n",
              "      </button>\n",
              "      \n",
              "  <style>\n",
              "    .colab-df-container {\n",
              "      display:flex;\n",
              "      flex-wrap:wrap;\n",
              "      gap: 12px;\n",
              "    }\n",
              "\n",
              "    .colab-df-convert {\n",
              "      background-color: #E8F0FE;\n",
              "      border: none;\n",
              "      border-radius: 50%;\n",
              "      cursor: pointer;\n",
              "      display: none;\n",
              "      fill: #1967D2;\n",
              "      height: 32px;\n",
              "      padding: 0 0 0 0;\n",
              "      width: 32px;\n",
              "    }\n",
              "\n",
              "    .colab-df-convert:hover {\n",
              "      background-color: #E2EBFA;\n",
              "      box-shadow: 0px 1px 2px rgba(60, 64, 67, 0.3), 0px 1px 3px 1px rgba(60, 64, 67, 0.15);\n",
              "      fill: #174EA6;\n",
              "    }\n",
              "\n",
              "    [theme=dark] .colab-df-convert {\n",
              "      background-color: #3B4455;\n",
              "      fill: #D2E3FC;\n",
              "    }\n",
              "\n",
              "    [theme=dark] .colab-df-convert:hover {\n",
              "      background-color: #434B5C;\n",
              "      box-shadow: 0px 1px 3px 1px rgba(0, 0, 0, 0.15);\n",
              "      filter: drop-shadow(0px 1px 2px rgba(0, 0, 0, 0.3));\n",
              "      fill: #FFFFFF;\n",
              "    }\n",
              "  </style>\n",
              "\n",
              "      <script>\n",
              "        const buttonEl =\n",
              "          document.querySelector('#df-e728870e-4730-45e6-add0-8b6976187061 button.colab-df-convert');\n",
              "        buttonEl.style.display =\n",
              "          google.colab.kernel.accessAllowed ? 'block' : 'none';\n",
              "\n",
              "        async function convertToInteractive(key) {\n",
              "          const element = document.querySelector('#df-e728870e-4730-45e6-add0-8b6976187061');\n",
              "          const dataTable =\n",
              "            await google.colab.kernel.invokeFunction('convertToInteractive',\n",
              "                                                     [key], {});\n",
              "          if (!dataTable) return;\n",
              "\n",
              "          const docLinkHtml = 'Like what you see? Visit the ' +\n",
              "            '<a target=\"_blank\" href=https://colab.research.google.com/notebooks/data_table.ipynb>data table notebook</a>'\n",
              "            + ' to learn more about interactive tables.';\n",
              "          element.innerHTML = '';\n",
              "          dataTable['output_type'] = 'display_data';\n",
              "          await google.colab.output.renderOutput(dataTable, element);\n",
              "          const docLink = document.createElement('div');\n",
              "          docLink.innerHTML = docLinkHtml;\n",
              "          element.appendChild(docLink);\n",
              "        }\n",
              "      </script>\n",
              "    </div>\n",
              "  </div>\n",
              "  "
            ]
          },
          "metadata": {},
          "execution_count": 115
        }
      ]
    },
    {
      "cell_type": "code",
      "source": [
        "plt.figure(figsize=(20,8))\n",
        "seaborn.barplot(x=chargeoff_rate_purpose.iloc[0:-1].index,y=chargeoff_rate_purpose.iloc[0:-1]['Charged Off Rate'])"
      ],
      "metadata": {
        "colab": {
          "base_uri": "https://localhost:8080/",
          "height": 589
        },
        "id": "CMKZnk3V0-RT",
        "outputId": "87109f25-c7cc-41ae-9ea2-231ee01d3037"
      },
      "execution_count": 114,
      "outputs": [
        {
          "output_type": "execute_result",
          "data": {
            "text/plain": [
              "<Axes: xlabel='purpose', ylabel='Charged Off Rate'>"
            ]
          },
          "metadata": {},
          "execution_count": 114
        },
        {
          "output_type": "display_data",
          "data": {
            "text/plain": [
              "<Figure size 2000x800 with 1 Axes>"
            ],
            "image/png": "[encoded data removed]"
          },
          "metadata": {}
        }
      ]
    },
    {
      "cell_type": "code",
      "source": [
        "charge_rate_state = loan_df.pivot_table(values = 'funded_amnt',\n",
        "                      index = 'addr_state',\n",
        "                      columns = 'loan_status',\n",
        "                      aggfunc = numpy.count_nonzero,\n",
        "                      fill_value = 0,\n",
        "                      margins = True,\n",
        "                      margins_name = 'Total')\n",
        "charge_rate_state['Charged Off Rate'] = 100*(round((charge_rate_state['Charged Off']/charge_rate_state['Total']), 6))\n",
        "charge_rate_state"
      ],
      "metadata": {
        "colab": {
          "base_uri": "https://localhost:8080/",
          "height": 1000
        },
        "id": "zGXKEak01QzI",
        "outputId": "bf026664-2376-422d-9db0-39557b438eee"
      },
      "execution_count": 116,
      "outputs": [
        {
          "output_type": "execute_result",
          "data": {
            "text/plain": [
              "loan_status  Charged Off  Current  Fully Paid  Total  Charged Off Rate\n",
              "addr_state                                                            \n",
              "AK                    15        2          63     80           18.7500\n",
              "AL                    54       17         381    452           11.9469\n",
              "AR                    27       10         208    245           11.0204\n",
              "AZ                   123       30         726    879           13.9932\n",
              "CA                  1125      150        5824   7099           15.8473\n",
              "CO                    98       26         668    792           12.3737\n",
              "CT                    94       25         632    751           12.5166\n",
              "DC                    15        3         196    214            7.0093\n",
              "DE                    12        1         101    114           10.5263\n",
              "FL                   504       85        2277   2866           17.5855\n",
              "GA                   215       39        1144   1398           15.3791\n",
              "HI                    28        8         138    174           16.0920\n",
              "IA                     0        0           5      5            0.0000\n",
              "ID                     1        0           5      6           16.6667\n",
              "IL                   197       47        1281   1525           12.9180\n",
              "IN                     0        0           9      9            0.0000\n",
              "KS                    31       16         224    271           11.4391\n",
              "KY                    45       14         266    325           13.8462\n",
              "LA                    53        9         374    436           12.1560\n",
              "MA                   159       43        1138   1340           11.8657\n",
              "MD                   162       26         861   1049           15.4433\n",
              "ME                     0        0           3      3            0.0000\n",
              "MI                   103       16         601    720           14.3056\n",
              "MN                    81       10         524    615           13.1707\n",
              "MO                   114       16         556    686           16.6181\n",
              "MS                     2        0          17     19           10.5263\n",
              "MT                    11        2          72     85           12.9412\n",
              "NC                   114       38         636    788           14.4670\n",
              "NE                     3        0           2      5           60.0000\n",
              "NH                    25        5         141    171           14.6199\n",
              "NJ                   278       60        1512   1850           15.0270\n",
              "NM                    30        6         153    189           15.8730\n",
              "NV                   108       18         371    497           21.7304\n",
              "NY                   495      114        3203   3812           12.9853\n",
              "OH                   155       45        1023   1223           12.6738\n",
              "OK                    40       12         247    299           13.3779\n",
              "OR                    71       16         364    451           15.7428\n",
              "PA                   180       49        1288   1517           11.8655\n",
              "RI                    25        4         169    198           12.6263\n",
              "SC                    66       13         393    472           13.9831\n",
              "SD                    12        2          50     64           18.7500\n",
              "TN                     2        0          15     17           11.7647\n",
              "TX                   316       68        2343   2727           11.5878\n",
              "UT                    40        6         212    258           15.5039\n",
              "VA                   177       38        1192   1407           12.5800\n",
              "VT                     6        1          47     54           11.1111\n",
              "WA                   127       22         691    840           15.1190\n",
              "WI                    63       20         377    460           13.6957\n",
              "WV                    21        5         151    177           11.8644\n",
              "WY                     4        3          76     83            4.8193\n",
              "Total               5627     1140       32950  39717           14.1677"
            ],
            "text/html": [
              "\n",
              "  <div id=\"df-cd57bd45-30c3-4c2f-aa90-167ed09faeae\">\n",
              "    <div class=\"colab-df-container\">\n",
              "      <div>\n",
              "<style scoped>\n",
              "    .dataframe tbody tr th:only-of-type {\n",
              "        vertical-align: middle;\n",
              "    }\n",
              "\n",
              "    .dataframe tbody tr th {\n",
              "        vertical-align: top;\n",
              "    }\n",
              "\n",
              "    .dataframe thead th {\n",
              "        text-align: right;\n",
              "    }\n",
              "</style>\n",
              "<table border=\"1\" class=\"dataframe\">\n",
              "  <thead>\n",
              "    <tr style=\"text-align: right;\">\n",
              "      <th>loan_status</th>\n",
              "      <th>Charged Off</th>\n",
              "      <th>Current</th>\n",
              "      <th>Fully Paid</th>\n",
              "      <th>Total</th>\n",
              "      <th>Charged Off Rate</th>\n",
              "    </tr>\n",
              "    <tr>\n",
              "      <th>addr_state</th>\n",
              "      <th></th>\n",
              "      <th></th>\n",
              "      <th></th>\n",
              "      <th></th>\n",
              "      <th></th>\n",
              "    </tr>\n",
              "  </thead>\n",
              "  <tbody>\n",
              "    <tr>\n",
              "      <th>AK</th>\n",
              "      <td>15</td>\n",
              "      <td>2</td>\n",
              "      <td>63</td>\n",
              "      <td>80</td>\n",
              "      <td>18.7500</td>\n",
              "    </tr>\n",
              "    <tr>\n",
              "      <th>AL</th>\n",
              "      <td>54</td>\n",
              "      <td>17</td>\n",
              "      <td>381</td>\n",
              "      <td>452</td>\n",
              "      <td>11.9469</td>\n",
              "    </tr>\n",
              "    <tr>\n",
              "      <th>AR</th>\n",
              "      <td>27</td>\n",
              "      <td>10</td>\n",
              "      <td>208</td>\n",
              "      <td>245</td>\n",
              "      <td>11.0204</td>\n",
              "    </tr>\n",
              "    <tr>\n",
              "      <th>AZ</th>\n",
              "      <td>123</td>\n",
              "      <td>30</td>\n",
              "      <td>726</td>\n",
              "      <td>879</td>\n",
              "      <td>13.9932</td>\n",
              "    </tr>\n",
              "    <tr>\n",
              "      <th>CA</th>\n",
              "      <td>1125</td>\n",
              "      <td>150</td>\n",
              "      <td>5824</td>\n",
              "      <td>7099</td>\n",
              "      <td>15.8473</td>\n",
              "    </tr>\n",
              "    <tr>\n",
              "      <th>CO</th>\n",
              "      <td>98</td>\n",
              "      <td>26</td>\n",
              "      <td>668</td>\n",
              "      <td>792</td>\n",
              "      <td>12.3737</td>\n",
              "    </tr>\n",
              "    <tr>\n",
              "      <th>CT</th>\n",
              "      <td>94</td>\n",
              "      <td>25</td>\n",
              "      <td>632</td>\n",
              "      <td>751</td>\n",
              "      <td>12.5166</td>\n",
              "    </tr>\n",
              "    <tr>\n",
              "      <th>DC</th>\n",
              "      <td>15</td>\n",
              "      <td>3</td>\n",
              "      <td>196</td>\n",
              "      <td>214</td>\n",
              "      <td>7.0093</td>\n",
              "    </tr>\n",
              "    <tr>\n",
              "      <th>DE</th>\n",
              "      <td>12</td>\n",
              "      <td>1</td>\n",
              "      <td>101</td>\n",
              "      <td>114</td>\n",
              "      <td>10.5263</td>\n",
              "    </tr>\n",
              "    <tr>\n",
              "      <th>FL</th>\n",
              "      <td>504</td>\n",
              "      <td>85</td>\n",
              "      <td>2277</td>\n",
              "      <td>2866</td>\n",
              "      <td>17.5855</td>\n",
              "    </tr>\n",
              "    <tr>\n",
              "      <th>GA</th>\n",
              "      <td>215</td>\n",
              "      <td>39</td>\n",
              "      <td>1144</td>\n",
              "      <td>1398</td>\n",
              "      <td>15.3791</td>\n",
              "    </tr>\n",
              "    <tr>\n",
              "      <th>HI</th>\n",
              "      <td>28</td>\n",
              "      <td>8</td>\n",
              "      <td>138</td>\n",
              "      <td>174</td>\n",
              "      <td>16.0920</td>\n",
              "    </tr>\n",
              "    <tr>\n",
              "      <th>IA</th>\n",
              "      <td>0</td>\n",
              "      <td>0</td>\n",
              "      <td>5</td>\n",
              "      <td>5</td>\n",
              "      <td>0.0000</td>\n",
              "    </tr>\n",
              "    <tr>\n",
              "      <th>ID</th>\n",
              "      <td>1</td>\n",
              "      <td>0</td>\n",
              "      <td>5</td>\n",
              "      <td>6</td>\n",
              "      <td>16.6667</td>\n",
              "    </tr>\n",
              "    <tr>\n",
              "      <th>IL</th>\n",
              "      <td>197</td>\n",
              "      <td>47</td>\n",
              "      <td>1281</td>\n",
              "      <td>1525</td>\n",
              "      <td>12.9180</td>\n",
              "    </tr>\n",
              "    <tr>\n",
              "      <th>IN</th>\n",
              "      <td>0</td>\n",
              "      <td>0</td>\n",
              "      <td>9</td>\n",
              "      <td>9</td>\n",
              "      <td>0.0000</td>\n",
              "    </tr>\n",
              "    <tr>\n",
              "      <th>KS</th>\n",
              "      <td>31</td>\n",
              "      <td>16</td>\n",
              "      <td>224</td>\n",
              "      <td>271</td>\n",
              "      <td>11.4391</td>\n",
              "    </tr>\n",
              "    <tr>\n",
              "      <th>KY</th>\n",
              "      <td>45</td>\n",
              "      <td>14</td>\n",
              "      <td>266</td>\n",
              "      <td>325</td>\n",
              "      <td>13.8462</td>\n",
              "    </tr>\n",
              "    <tr>\n",
              "      <th>LA</th>\n",
              "      <td>53</td>\n",
              "      <td>9</td>\n",
              "      <td>374</td>\n",
              "      <td>436</td>\n",
              "      <td>12.1560</td>\n",
              "    </tr>\n",
              "    <tr>\n",
              "      <th>MA</th>\n",
              "      <td>159</td>\n",
              "      <td>43</td>\n",
              "      <td>1138</td>\n",
              "      <td>1340</td>\n",
              "      <td>11.8657</td>\n",
              "    </tr>\n",
              "    <tr>\n",
              "      <th>MD</th>\n",
              "      <td>162</td>\n",
              "      <td>26</td>\n",
              "      <td>861</td>\n",
              "      <td>1049</td>\n",
              "      <td>15.4433</td>\n",
              "    </tr>\n",
              "    <tr>\n",
              "      <th>ME</th>\n",
              "      <td>0</td>\n",
              "      <td>0</td>\n",
              "      <td>3</td>\n",
              "      <td>3</td>\n",
              "      <td>0.0000</td>\n",
              "    </tr>\n",
              "    <tr>\n",
              "      <th>MI</th>\n",
              "      <td>103</td>\n",
              "      <td>16</td>\n",
              "      <td>601</td>\n",
              "      <td>720</td>\n",
              "      <td>14.3056</td>\n",
              "    </tr>\n",
              "    <tr>\n",
              "      <th>MN</th>\n",
              "      <td>81</td>\n",
              "      <td>10</td>\n",
              "      <td>524</td>\n",
              "      <td>615</td>\n",
              "      <td>13.1707</td>\n",
              "    </tr>\n",
              "    <tr>\n",
              "      <th>MO</th>\n",
              "      <td>114</td>\n",
              "      <td>16</td>\n",
              "      <td>556</td>\n",
              "      <td>686</td>\n",
              "      <td>16.6181</td>\n",
              "    </tr>\n",
              "    <tr>\n",
              "      <th>MS</th>\n",
              "      <td>2</td>\n",
              "      <td>0</td>\n",
              "      <td>17</td>\n",
              "      <td>19</td>\n",
              "      <td>10.5263</td>\n",
              "    </tr>\n",
              "    <tr>\n",
              "      <th>MT</th>\n",
              "      <td>11</td>\n",
              "      <td>2</td>\n",
              "      <td>72</td>\n",
              "      <td>85</td>\n",
              "      <td>12.9412</td>\n",
              "    </tr>\n",
              "    <tr>\n",
              "      <th>NC</th>\n",
              "      <td>114</td>\n",
              "      <td>38</td>\n",
              "      <td>636</td>\n",
              "      <td>788</td>\n",
              "      <td>14.4670</td>\n",
              "    </tr>\n",
              "    <tr>\n",
              "      <th>NE</th>\n",
              "      <td>3</td>\n",
              "      <td>0</td>\n",
              "      <td>2</td>\n",
              "      <td>5</td>\n",
              "      <td>60.0000</td>\n",
              "    </tr>\n",
              "    <tr>\n",
              "      <th>NH</th>\n",
              "      <td>25</td>\n",
              "      <td>5</td>\n",
              "      <td>141</td>\n",
              "      <td>171</td>\n",
              "      <td>14.6199</td>\n",
              "    </tr>\n",
              "    <tr>\n",
              "      <th>NJ</th>\n",
              "      <td>278</td>\n",
              "      <td>60</td>\n",
              "      <td>1512</td>\n",
              "      <td>1850</td>\n",
              "      <td>15.0270</td>\n",
              "    </tr>\n",
              "    <tr>\n",
              "      <th>NM</th>\n",
              "      <td>30</td>\n",
              "      <td>6</td>\n",
              "      <td>153</td>\n",
              "      <td>189</td>\n",
              "      <td>15.8730</td>\n",
              "    </tr>\n",
              "    <tr>\n",
              "      <th>NV</th>\n",
              "      <td>108</td>\n",
              "      <td>18</td>\n",
              "      <td>371</td>\n",
              "      <td>497</td>\n",
              "      <td>21.7304</td>\n",
              "    </tr>\n",
              "    <tr>\n",
              "      <th>NY</th>\n",
              "      <td>495</td>\n",
              "      <td>114</td>\n",
              "      <td>3203</td>\n",
              "      <td>3812</td>\n",
              "      <td>12.9853</td>\n",
              "    </tr>\n",
              "    <tr>\n",
              "      <th>OH</th>\n",
              "      <td>155</td>\n",
              "      <td>45</td>\n",
              "      <td>1023</td>\n",
              "      <td>1223</td>\n",
              "      <td>12.6738</td>\n",
              "    </tr>\n",
              "    <tr>\n",
              "      <th>OK</th>\n",
              "      <td>40</td>\n",
              "      <td>12</td>\n",
              "      <td>247</td>\n",
              "      <td>299</td>\n",
              "      <td>13.3779</td>\n",
              "    </tr>\n",
              "    <tr>\n",
              "      <th>OR</th>\n",
              "      <td>71</td>\n",
              "      <td>16</td>\n",
              "      <td>364</td>\n",
              "      <td>451</td>\n",
              "      <td>15.7428</td>\n",
              "    </tr>\n",
              "    <tr>\n",
              "      <th>PA</th>\n",
              "      <td>180</td>\n",
              "      <td>49</td>\n",
              "      <td>1288</td>\n",
              "      <td>1517</td>\n",
              "      <td>11.8655</td>\n",
              "    </tr>\n",
              "    <tr>\n",
              "      <th>RI</th>\n",
              "      <td>25</td>\n",
              "      <td>4</td>\n",
              "      <td>169</td>\n",
              "      <td>198</td>\n",
              "      <td>12.6263</td>\n",
              "    </tr>\n",
              "    <tr>\n",
              "      <th>SC</th>\n",
              "      <td>66</td>\n",
              "      <td>13</td>\n",
              "      <td>393</td>\n",
              "      <td>472</td>\n",
              "      <td>13.9831</td>\n",
              "    </tr>\n",
              "    <tr>\n",
              "      <th>SD</th>\n",
              "      <td>12</td>\n",
              "      <td>2</td>\n",
              "      <td>50</td>\n",
              "      <td>64</td>\n",
              "      <td>18.7500</td>\n",
              "    </tr>\n",
              "    <tr>\n",
              "      <th>TN</th>\n",
              "      <td>2</td>\n",
              "      <td>0</td>\n",
              "      <td>15</td>\n",
              "      <td>17</td>\n",
              "      <td>11.7647</td>\n",
              "    </tr>\n",
              "    <tr>\n",
              "      <th>TX</th>\n",
              "      <td>316</td>\n",
              "      <td>68</td>\n",
              "      <td>2343</td>\n",
              "      <td>2727</td>\n",
              "      <td>11.5878</td>\n",
              "    </tr>\n",
              "    <tr>\n",
              "      <th>UT</th>\n",
              "      <td>40</td>\n",
              "      <td>6</td>\n",
              "      <td>212</td>\n",
              "      <td>258</td>\n",
              "      <td>15.5039</td>\n",
              "    </tr>\n",
              "    <tr>\n",
              "      <th>VA</th>\n",
              "      <td>177</td>\n",
              "      <td>38</td>\n",
              "      <td>1192</td>\n",
              "      <td>1407</td>\n",
              "      <td>12.5800</td>\n",
              "    </tr>\n",
              "    <tr>\n",
              "      <th>VT</th>\n",
              "      <td>6</td>\n",
              "      <td>1</td>\n",
              "      <td>47</td>\n",
              "      <td>54</td>\n",
              "      <td>11.1111</td>\n",
              "    </tr>\n",
              "    <tr>\n",
              "      <th>WA</th>\n",
              "      <td>127</td>\n",
              "      <td>22</td>\n",
              "      <td>691</td>\n",
              "      <td>840</td>\n",
              "      <td>15.1190</td>\n",
              "    </tr>\n",
              "    <tr>\n",
              "      <th>WI</th>\n",
              "      <td>63</td>\n",
              "      <td>20</td>\n",
              "      <td>377</td>\n",
              "      <td>460</td>\n",
              "      <td>13.6957</td>\n",
              "    </tr>\n",
              "    <tr>\n",
              "      <th>WV</th>\n",
              "      <td>21</td>\n",
              "      <td>5</td>\n",
              "      <td>151</td>\n",
              "      <td>177</td>\n",
              "      <td>11.8644</td>\n",
              "    </tr>\n",
              "    <tr>\n",
              "      <th>WY</th>\n",
              "      <td>4</td>\n",
              "      <td>3</td>\n",
              "      <td>76</td>\n",
              "      <td>83</td>\n",
              "      <td>4.8193</td>\n",
              "    </tr>\n",
              "    <tr>\n",
              "      <th>Total</th>\n",
              "      <td>5627</td>\n",
              "      <td>1140</td>\n",
              "      <td>32950</td>\n",
              "      <td>39717</td>\n",
              "      <td>14.1677</td>\n",
              "    </tr>\n",
              "  </tbody>\n",
              "</table>\n",
              "</div>\n",
              "      <button class=\"colab-df-convert\" onclick=\"convertToInteractive('df-cd57bd45-30c3-4c2f-aa90-167ed09faeae')\"\n",
              "              title=\"Convert this dataframe to an interactive table.\"\n",
              "              style=\"display:none;\">\n",
              "        \n",
              "  <svg xmlns=\"http://www.w3.org/2000/svg\" height=\"24px\"viewBox=\"0 0 24 24\"\n",
              "       width=\"24px\">\n",
              "    <path d=\"M0 0h24v24H0V0z\" fill=\"none\"/>\n",
              "    <path d=\"M18.56 5.44l.94 2.06.94-2.06 2.06-.94-2.06-.94-.94-2.06-.94 2.06-2.06.94zm-11 1L8.5 8.5l.94-2.06 2.06-.94-2.06-.94L8.5 2.5l-.94 2.06-2.06.94zm10 10l.94 2.06.94-2.06 2.06-.94-2.06-.94-.94-2.06-.94 2.06-2.06.94z\"/><path d=\"M17.41 7.96l-1.37-1.37c-.4-.4-.92-.59-1.43-.59-.52 0-1.04.2-1.43.59L10.3 9.45l-7.72 7.72c-.78.78-.78 2.05 0 2.83L4 21.41c.39.39.9.59 1.41.59.51 0 1.02-.2 1.41-.59l7.78-7.78 2.81-2.81c.8-.78.8-2.07 0-2.86zM5.41 20L4 18.59l7.72-7.72 1.47 1.35L5.41 20z\"/>\n",
              "  </svg>\n",
              "      </button>\n",
              "      \n",
              "  <style>\n",
              "    .colab-df-container {\n",
              "      display:flex;\n",
              "      flex-wrap:wrap;\n",
              "      gap: 12px;\n",
              "    }\n",
              "\n",
              "    .colab-df-convert {\n",
              "      background-color: #E8F0FE;\n",
              "      border: none;\n",
              "      border-radius: 50%;\n",
              "      cursor: pointer;\n",
              "      display: none;\n",
              "      fill: #1967D2;\n",
              "      height: 32px;\n",
              "      padding: 0 0 0 0;\n",
              "      width: 32px;\n",
              "    }\n",
              "\n",
              "    .colab-df-convert:hover {\n",
              "      background-color: #E2EBFA;\n",
              "      box-shadow: 0px 1px 2px rgba(60, 64, 67, 0.3), 0px 1px 3px 1px rgba(60, 64, 67, 0.15);\n",
              "      fill: #174EA6;\n",
              "    }\n",
              "\n",
              "    [theme=dark] .colab-df-convert {\n",
              "      background-color: #3B4455;\n",
              "      fill: #D2E3FC;\n",
              "    }\n",
              "\n",
              "    [theme=dark] .colab-df-convert:hover {\n",
              "      background-color: #434B5C;\n",
              "      box-shadow: 0px 1px 3px 1px rgba(0, 0, 0, 0.15);\n",
              "      filter: drop-shadow(0px 1px 2px rgba(0, 0, 0, 0.3));\n",
              "      fill: #FFFFFF;\n",
              "    }\n",
              "  </style>\n",
              "\n",
              "      <script>\n",
              "        const buttonEl =\n",
              "          document.querySelector('#df-cd57bd45-30c3-4c2f-aa90-167ed09faeae button.colab-df-convert');\n",
              "        buttonEl.style.display =\n",
              "          google.colab.kernel.accessAllowed ? 'block' : 'none';\n",
              "\n",
              "        async function convertToInteractive(key) {\n",
              "          const element = document.querySelector('#df-cd57bd45-30c3-4c2f-aa90-167ed09faeae');\n",
              "          const dataTable =\n",
              "            await google.colab.kernel.invokeFunction('convertToInteractive',\n",
              "                                                     [key], {});\n",
              "          if (!dataTable) return;\n",
              "\n",
              "          const docLinkHtml = 'Like what you see? Visit the ' +\n",
              "            '<a target=\"_blank\" href=https://colab.research.google.com/notebooks/data_table.ipynb>data table notebook</a>'\n",
              "            + ' to learn more about interactive tables.';\n",
              "          element.innerHTML = '';\n",
              "          dataTable['output_type'] = 'display_data';\n",
              "          await google.colab.output.renderOutput(dataTable, element);\n",
              "          const docLink = document.createElement('div');\n",
              "          docLink.innerHTML = docLinkHtml;\n",
              "          element.appendChild(docLink);\n",
              "        }\n",
              "      </script>\n",
              "    </div>\n",
              "  </div>\n",
              "  "
            ]
          },
          "metadata": {},
          "execution_count": 116
        }
      ]
    },
    {
      "cell_type": "code",
      "source": [
        "plt.figure(figsize=(25,8))\n",
        "seaborn.barplot(x=charge_rate_state.iloc[0:-1].index,y=charge_rate_state.iloc[0:-1]['Charged Off Rate'])"
      ],
      "metadata": {
        "colab": {
          "base_uri": "https://localhost:8080/",
          "height": 481
        },
        "id": "hvLoeoVH1Ynz",
        "outputId": "f5c35db6-3a66-425e-be9d-0df0810505e8"
      },
      "execution_count": 176,
      "outputs": [
        {
          "output_type": "execute_result",
          "data": {
            "text/plain": [
              "<Axes: xlabel='addr_state', ylabel='Charged Off Rate'>"
            ]
          },
          "metadata": {},
          "execution_count": 176
        },
        {
          "output_type": "display_data",
          "data": {
            "text/plain": [
              "<Figure size 2500x800 with 1 Axes>"
            ],
            "image/png": "[encoded data removed]"
          },
          "metadata": {}
        }
      ]
    },
    {
      "cell_type": "code",
      "source": [
        "chargeoff_rate_term = loan_df.pivot_table(values = 'funded_amnt',\n",
        "                      index = 'term',\n",
        "                      columns = 'loan_status',\n",
        "                      aggfunc = numpy.count_nonzero,\n",
        "                      fill_value = 0,\n",
        "                      margins = True,\n",
        "                      margins_name = 'Total')\n",
        "chargeoff_rate_term['Charged Off Rate'] = 100*(round((chargeoff_rate_term['Charged Off']/chargeoff_rate_term['Total']), 6))\n",
        "chargeoff_rate_term"
      ],
      "metadata": {
        "colab": {
          "base_uri": "https://localhost:8080/",
          "height": 467
        },
        "id": "mu_MhVTf15zD",
        "outputId": "596da0d1-97eb-46cd-afdd-a63f556f8b03"
      },
      "execution_count": 120,
      "outputs": [
        {
          "output_type": "execute_result",
          "data": {
            "text/plain": [
              "<Axes: xlabel='term', ylabel='Charged Off Rate'>"
            ]
          },
          "metadata": {},
          "execution_count": 120
        },
        {
          "output_type": "display_data",
          "data": {
            "text/plain": [
              "<Figure size 640x480 with 1 Axes>"
            ],
            "image/png": "[encoded data removed]"
          },
          "metadata": {}
        }
      ]
    },
    {
      "cell_type": "code",
      "source": [
        "seaborn.barplot(x=chargeoff_rate_term.iloc[0:-1].index,y=chargeoff_rate_term.iloc[0:-1]['Charged Off Rate'])"
      ],
      "metadata": {
        "colab": {
          "base_uri": "https://localhost:8080/",
          "height": 467
        },
        "id": "rEd3QMF91_45",
        "outputId": "fd554a7a-88a9-491c-d95f-e99a08ed86c2"
      },
      "execution_count": 121,
      "outputs": [
        {
          "output_type": "execute_result",
          "data": {
            "text/plain": [
              "<Axes: xlabel='term', ylabel='Charged Off Rate'>"
            ]
          },
          "metadata": {},
          "execution_count": 121
        },
        {
          "output_type": "display_data",
          "data": {
            "text/plain": [
              "<Figure size 640x480 with 1 Axes>"
            ],
            "image/png": "[encoded data removed]"
          },
          "metadata": {}
        }
      ]
    },
    {
      "cell_type": "code",
      "source": [
        "chargeoff_rate_grade= loan_df.pivot_table(values = 'funded_amnt',\n",
        "                      index = 'grade',\n",
        "                      columns = 'loan_status',\n",
        "                      aggfunc = numpy.count_nonzero,\n",
        "                      fill_value = 0,\n",
        "                      margins = True,\n",
        "                      margins_name = 'Total')\n",
        "chargeoff_rate_grade['Charged Off Rate'] = 100*(round((chargeoff_rate_grade['Charged Off']/chargeoff_rate_grade['Total']), 6))\n",
        "chargeoff_rate_grade"
      ],
      "metadata": {
        "colab": {
          "base_uri": "https://localhost:8080/",
          "height": 332
        },
        "id": "MaFdQAYC2KO1",
        "outputId": "8923b5b2-3ccd-4bbc-c7b3-b408d928d1e5"
      },
      "execution_count": 122,
      "outputs": [
        {
          "output_type": "execute_result",
          "data": {
            "text/plain": [
              "loan_status  Charged Off  Current  Fully Paid  Total  Charged Off Rate\n",
              "grade                                                                 \n",
              "A                    602       40        9443  10085            5.9693\n",
              "B                   1425      345       10250  12020           11.8552\n",
              "C                   1347      264        6487   8098           16.6337\n",
              "D                   1118      222        3967   5307           21.0665\n",
              "E                    715      179        1948   2842           25.1583\n",
              "F                    319       73         657   1049           30.4099\n",
              "G                    101       17         198    316           31.9620\n",
              "Total               5627     1140       32950  39717           14.1677"
            ],
            "text/html": [
              "\n",
              "  <div id=\"df-38cc815b-16ce-4096-bef9-665e4649c6ea\">\n",
              "    <div class=\"colab-df-container\">\n",
              "      <div>\n",
              "<style scoped>\n",
              "    .dataframe tbody tr th:only-of-type {\n",
              "        vertical-align: middle;\n",
              "    }\n",
              "\n",
              "    .dataframe tbody tr th {\n",
              "        vertical-align: top;\n",
              "    }\n",
              "\n",
              "    .dataframe thead th {\n",
              "        text-align: right;\n",
              "    }\n",
              "</style>\n",
              "<table border=\"1\" class=\"dataframe\">\n",
              "  <thead>\n",
              "    <tr style=\"text-align: right;\">\n",
              "      <th>loan_status</th>\n",
              "      <th>Charged Off</th>\n",
              "      <th>Current</th>\n",
              "      <th>Fully Paid</th>\n",
              "      <th>Total</th>\n",
              "      <th>Charged Off Rate</th>\n",
              "    </tr>\n",
              "    <tr>\n",
              "      <th>grade</th>\n",
              "      <th></th>\n",
              "      <th></th>\n",
              "      <th></th>\n",
              "      <th></th>\n",
              "      <th></th>\n",
              "    </tr>\n",
              "  </thead>\n",
              "  <tbody>\n",
              "    <tr>\n",
              "      <th>A</th>\n",
              "      <td>602</td>\n",
              "      <td>40</td>\n",
              "      <td>9443</td>\n",
              "      <td>10085</td>\n",
              "      <td>5.9693</td>\n",
              "    </tr>\n",
              "    <tr>\n",
              "      <th>B</th>\n",
              "      <td>1425</td>\n",
              "      <td>345</td>\n",
              "      <td>10250</td>\n",
              "      <td>12020</td>\n",
              "      <td>11.8552</td>\n",
              "    </tr>\n",
              "    <tr>\n",
              "      <th>C</th>\n",
              "      <td>1347</td>\n",
              "      <td>264</td>\n",
              "      <td>6487</td>\n",
              "      <td>8098</td>\n",
              "      <td>16.6337</td>\n",
              "    </tr>\n",
              "    <tr>\n",
              "      <th>D</th>\n",
              "      <td>1118</td>\n",
              "      <td>222</td>\n",
              "      <td>3967</td>\n",
              "      <td>5307</td>\n",
              "      <td>21.0665</td>\n",
              "    </tr>\n",
              "    <tr>\n",
              "      <th>E</th>\n",
              "      <td>715</td>\n",
              "      <td>179</td>\n",
              "      <td>1948</td>\n",
              "      <td>2842</td>\n",
              "      <td>25.1583</td>\n",
              "    </tr>\n",
              "    <tr>\n",
              "      <th>F</th>\n",
              "      <td>319</td>\n",
              "      <td>73</td>\n",
              "      <td>657</td>\n",
              "      <td>1049</td>\n",
              "      <td>30.4099</td>\n",
              "    </tr>\n",
              "    <tr>\n",
              "      <th>G</th>\n",
              "      <td>101</td>\n",
              "      <td>17</td>\n",
              "      <td>198</td>\n",
              "      <td>316</td>\n",
              "      <td>31.9620</td>\n",
              "    </tr>\n",
              "    <tr>\n",
              "      <th>Total</th>\n",
              "      <td>5627</td>\n",
              "      <td>1140</td>\n",
              "      <td>32950</td>\n",
              "      <td>39717</td>\n",
              "      <td>14.1677</td>\n",
              "    </tr>\n",
              "  </tbody>\n",
              "</table>\n",
              "</div>\n",
              "      <button class=\"colab-df-convert\" onclick=\"convertToInteractive('df-38cc815b-16ce-4096-bef9-665e4649c6ea')\"\n",
              "              title=\"Convert this dataframe to an interactive table.\"\n",
              "              style=\"display:none;\">\n",
              "        \n",
              "  <svg xmlns=\"http://www.w3.org/2000/svg\" height=\"24px\"viewBox=\"0 0 24 24\"\n",
              "       width=\"24px\">\n",
              "    <path d=\"M0 0h24v24H0V0z\" fill=\"none\"/>\n",
              "    <path d=\"M18.56 5.44l.94 2.06.94-2.06 2.06-.94-2.06-.94-.94-2.06-.94 2.06-2.06.94zm-11 1L8.5 8.5l.94-2.06 2.06-.94-2.06-.94L8.5 2.5l-.94 2.06-2.06.94zm10 10l.94 2.06.94-2.06 2.06-.94-2.06-.94-.94-2.06-.94 2.06-2.06.94z\"/><path d=\"M17.41 7.96l-1.37-1.37c-.4-.4-.92-.59-1.43-.59-.52 0-1.04.2-1.43.59L10.3 9.45l-7.72 7.72c-.78.78-.78 2.05 0 2.83L4 21.41c.39.39.9.59 1.41.59.51 0 1.02-.2 1.41-.59l7.78-7.78 2.81-2.81c.8-.78.8-2.07 0-2.86zM5.41 20L4 18.59l7.72-7.72 1.47 1.35L5.41 20z\"/>\n",
              "  </svg>\n",
              "      </button>\n",
              "      \n",
              "  <style>\n",
              "    .colab-df-container {\n",
              "      display:flex;\n",
              "      flex-wrap:wrap;\n",
              "      gap: 12px;\n",
              "    }\n",
              "\n",
              "    .colab-df-convert {\n",
              "      background-color: #E8F0FE;\n",
              "      border: none;\n",
              "      border-radius: 50%;\n",
              "      cursor: pointer;\n",
              "      display: none;\n",
              "      fill: #1967D2;\n",
              "      height: 32px;\n",
              "      padding: 0 0 0 0;\n",
              "      width: 32px;\n",
              "    }\n",
              "\n",
              "    .colab-df-convert:hover {\n",
              "      background-color: #E2EBFA;\n",
              "      box-shadow: 0px 1px 2px rgba(60, 64, 67, 0.3), 0px 1px 3px 1px rgba(60, 64, 67, 0.15);\n",
              "      fill: #174EA6;\n",
              "    }\n",
              "\n",
              "    [theme=dark] .colab-df-convert {\n",
              "      background-color: #3B4455;\n",
              "      fill: #D2E3FC;\n",
              "    }\n",
              "\n",
              "    [theme=dark] .colab-df-convert:hover {\n",
              "      background-color: #434B5C;\n",
              "      box-shadow: 0px 1px 3px 1px rgba(0, 0, 0, 0.15);\n",
              "      filter: drop-shadow(0px 1px 2px rgba(0, 0, 0, 0.3));\n",
              "      fill: #FFFFFF;\n",
              "    }\n",
              "  </style>\n",
              "\n",
              "      <script>\n",
              "        const buttonEl =\n",
              "          document.querySelector('#df-38cc815b-16ce-4096-bef9-665e4649c6ea button.colab-df-convert');\n",
              "        buttonEl.style.display =\n",
              "          google.colab.kernel.accessAllowed ? 'block' : 'none';\n",
              "\n",
              "        async function convertToInteractive(key) {\n",
              "          const element = document.querySelector('#df-38cc815b-16ce-4096-bef9-665e4649c6ea');\n",
              "          const dataTable =\n",
              "            await google.colab.kernel.invokeFunction('convertToInteractive',\n",
              "                                                     [key], {});\n",
              "          if (!dataTable) return;\n",
              "\n",
              "          const docLinkHtml = 'Like what you see? Visit the ' +\n",
              "            '<a target=\"_blank\" href=https://colab.research.google.com/notebooks/data_table.ipynb>data table notebook</a>'\n",
              "            + ' to learn more about interactive tables.';\n",
              "          element.innerHTML = '';\n",
              "          dataTable['output_type'] = 'display_data';\n",
              "          await google.colab.output.renderOutput(dataTable, element);\n",
              "          const docLink = document.createElement('div');\n",
              "          docLink.innerHTML = docLinkHtml;\n",
              "          element.appendChild(docLink);\n",
              "        }\n",
              "      </script>\n",
              "    </div>\n",
              "  </div>\n",
              "  "
            ]
          },
          "metadata": {},
          "execution_count": 122
        }
      ]
    },
    {
      "cell_type": "code",
      "source": [
        "seaborn.barplot(x=chargeoff_rate_grade.iloc[0:].index,y=chargeoff_rate_grade.iloc[0:]['Charged Off Rate'])"
      ],
      "metadata": {
        "colab": {
          "base_uri": "https://localhost:8080/",
          "height": 467
        },
        "id": "_Bb9aYI_2Ued",
        "outputId": "d51758d5-0b69-4048-ca4b-c2e9ceab545d"
      },
      "execution_count": 123,
      "outputs": [
        {
          "output_type": "execute_result",
          "data": {
            "text/plain": [
              "<Axes: xlabel='grade', ylabel='Charged Off Rate'>"
            ]
          },
          "metadata": {},
          "execution_count": 123
        },
        {
          "output_type": "display_data",
          "data": {
            "text/plain": [
              "<Figure size 640x480 with 1 Axes>"
            ],
            "image/png": "[encoded data removed]"
          },
          "metadata": {}
        }
      ]
    },
    {
      "cell_type": "code",
      "source": [
        "charge_off_rate_emp_length = loan_df.pivot_table(values = 'funded_amnt',\n",
        "                      index = 'emp_length',\n",
        "                      columns = 'loan_status',\n",
        "                      aggfunc = numpy.count_nonzero,\n",
        "                      fill_value = 0,\n",
        "                      margins = True,\n",
        "                      margins_name = 'Total')\n",
        "\n",
        "charge_off_rate_emp_length['Charged Off Rate'] = 100*(round((charge_off_rate_emp_length['Charged Off']/charge_off_rate_emp_length['Total']), 6))\n",
        "charge_off_rate_emp_length"
      ],
      "metadata": {
        "colab": {
          "base_uri": "https://localhost:8080/",
          "height": 457
        },
        "id": "tfo4Uis95jfu",
        "outputId": "439bc177-719c-49fc-b0a3-1a00d34d42dd"
      },
      "execution_count": 150,
      "outputs": [
        {
          "output_type": "execute_result",
          "data": {
            "text/plain": [
              "loan_status  Charged Off  Current  Fully Paid  Total  Charged Off Rate\n",
              "emp_length                                                            \n",
              "0                    639       75        3869   4583           13.9428\n",
              "10                  1559      433        7962   9954           15.6620\n",
              "1                    456       71        2713   3240           14.0741\n",
              "2                    567       97        3724   4388           12.9216\n",
              "3                    555       83        3457   4095           13.5531\n",
              "4                    462       94        2880   3436           13.4459\n",
              "5                    458       88        2736   3282           13.9549\n",
              "6                    307       61        1861   2229           13.7730\n",
              "7                    263       62        1448   1773           14.8336\n",
              "8                    203       44        1232   1479           13.7255\n",
              "9                    158       32        1068   1258           12.5596\n",
              "Total               5627     1140       32950  39717           14.1677"
            ],
            "text/html": [
              "\n",
              "  <div id=\"df-426389ba-6d2e-44ac-8920-064cb5c4df3c\">\n",
              "    <div class=\"colab-df-container\">\n",
              "      <div>\n",
              "<style scoped>\n",
              "    .dataframe tbody tr th:only-of-type {\n",
              "        vertical-align: middle;\n",
              "    }\n",
              "\n",
              "    .dataframe tbody tr th {\n",
              "        vertical-align: top;\n",
              "    }\n",
              "\n",
              "    .dataframe thead th {\n",
              "        text-align: right;\n",
              "    }\n",
              "</style>\n",
              "<table border=\"1\" class=\"dataframe\">\n",
              "  <thead>\n",
              "    <tr style=\"text-align: right;\">\n",
              "      <th>loan_status</th>\n",
              "      <th>Charged Off</th>\n",
              "      <th>Current</th>\n",
              "      <th>Fully Paid</th>\n",
              "      <th>Total</th>\n",
              "      <th>Charged Off Rate</th>\n",
              "    </tr>\n",
              "    <tr>\n",
              "      <th>emp_length</th>\n",
              "      <th></th>\n",
              "      <th></th>\n",
              "      <th></th>\n",
              "      <th></th>\n",
              "      <th></th>\n",
              "    </tr>\n",
              "  </thead>\n",
              "  <tbody>\n",
              "    <tr>\n",
              "      <th>0</th>\n",
              "      <td>639</td>\n",
              "      <td>75</td>\n",
              "      <td>3869</td>\n",
              "      <td>4583</td>\n",
              "      <td>13.9428</td>\n",
              "    </tr>\n",
              "    <tr>\n",
              "      <th>10</th>\n",
              "      <td>1559</td>\n",
              "      <td>433</td>\n",
              "      <td>7962</td>\n",
              "      <td>9954</td>\n",
              "      <td>15.6620</td>\n",
              "    </tr>\n",
              "    <tr>\n",
              "      <th>1</th>\n",
              "      <td>456</td>\n",
              "      <td>71</td>\n",
              "      <td>2713</td>\n",
              "      <td>3240</td>\n",
              "      <td>14.0741</td>\n",
              "    </tr>\n",
              "    <tr>\n",
              "      <th>2</th>\n",
              "      <td>567</td>\n",
              "      <td>97</td>\n",
              "      <td>3724</td>\n",
              "      <td>4388</td>\n",
              "      <td>12.9216</td>\n",
              "    </tr>\n",
              "    <tr>\n",
              "      <th>3</th>\n",
              "      <td>555</td>\n",
              "      <td>83</td>\n",
              "      <td>3457</td>\n",
              "      <td>4095</td>\n",
              "      <td>13.5531</td>\n",
              "    </tr>\n",
              "    <tr>\n",
              "      <th>4</th>\n",
              "      <td>462</td>\n",
              "      <td>94</td>\n",
              "      <td>2880</td>\n",
              "      <td>3436</td>\n",
              "      <td>13.4459</td>\n",
              "    </tr>\n",
              "    <tr>\n",
              "      <th>5</th>\n",
              "      <td>458</td>\n",
              "      <td>88</td>\n",
              "      <td>2736</td>\n",
              "      <td>3282</td>\n",
              "      <td>13.9549</td>\n",
              "    </tr>\n",
              "    <tr>\n",
              "      <th>6</th>\n",
              "      <td>307</td>\n",
              "      <td>61</td>\n",
              "      <td>1861</td>\n",
              "      <td>2229</td>\n",
              "      <td>13.7730</td>\n",
              "    </tr>\n",
              "    <tr>\n",
              "      <th>7</th>\n",
              "      <td>263</td>\n",
              "      <td>62</td>\n",
              "      <td>1448</td>\n",
              "      <td>1773</td>\n",
              "      <td>14.8336</td>\n",
              "    </tr>\n",
              "    <tr>\n",
              "      <th>8</th>\n",
              "      <td>203</td>\n",
              "      <td>44</td>\n",
              "      <td>1232</td>\n",
              "      <td>1479</td>\n",
              "      <td>13.7255</td>\n",
              "    </tr>\n",
              "    <tr>\n",
              "      <th>9</th>\n",
              "      <td>158</td>\n",
              "      <td>32</td>\n",
              "      <td>1068</td>\n",
              "      <td>1258</td>\n",
              "      <td>12.5596</td>\n",
              "    </tr>\n",
              "    <tr>\n",
              "      <th>Total</th>\n",
              "      <td>5627</td>\n",
              "      <td>1140</td>\n",
              "      <td>32950</td>\n",
              "      <td>39717</td>\n",
              "      <td>14.1677</td>\n",
              "    </tr>\n",
              "  </tbody>\n",
              "</table>\n",
              "</div>\n",
              "      <button class=\"colab-df-convert\" onclick=\"convertToInteractive('df-426389ba-6d2e-44ac-8920-064cb5c4df3c')\"\n",
              "              title=\"Convert this dataframe to an interactive table.\"\n",
              "              style=\"display:none;\">\n",
              "        \n",
              "  <svg xmlns=\"http://www.w3.org/2000/svg\" height=\"24px\"viewBox=\"0 0 24 24\"\n",
              "       width=\"24px\">\n",
              "    <path d=\"M0 0h24v24H0V0z\" fill=\"none\"/>\n",
              "    <path d=\"M18.56 5.44l.94 2.06.94-2.06 2.06-.94-2.06-.94-.94-2.06-.94 2.06-2.06.94zm-11 1L8.5 8.5l.94-2.06 2.06-.94-2.06-.94L8.5 2.5l-.94 2.06-2.06.94zm10 10l.94 2.06.94-2.06 2.06-.94-2.06-.94-.94-2.06-.94 2.06-2.06.94z\"/><path d=\"M17.41 7.96l-1.37-1.37c-.4-.4-.92-.59-1.43-.59-.52 0-1.04.2-1.43.59L10.3 9.45l-7.72 7.72c-.78.78-.78 2.05 0 2.83L4 21.41c.39.39.9.59 1.41.59.51 0 1.02-.2 1.41-.59l7.78-7.78 2.81-2.81c.8-.78.8-2.07 0-2.86zM5.41 20L4 18.59l7.72-7.72 1.47 1.35L5.41 20z\"/>\n",
              "  </svg>\n",
              "      </button>\n",
              "      \n",
              "  <style>\n",
              "    .colab-df-container {\n",
              "      display:flex;\n",
              "      flex-wrap:wrap;\n",
              "      gap: 12px;\n",
              "    }\n",
              "\n",
              "    .colab-df-convert {\n",
              "      background-color: #E8F0FE;\n",
              "      border: none;\n",
              "      border-radius: 50%;\n",
              "      cursor: pointer;\n",
              "      display: none;\n",
              "      fill: #1967D2;\n",
              "      height: 32px;\n",
              "      padding: 0 0 0 0;\n",
              "      width: 32px;\n",
              "    }\n",
              "\n",
              "    .colab-df-convert:hover {\n",
              "      background-color: #E2EBFA;\n",
              "      box-shadow: 0px 1px 2px rgba(60, 64, 67, 0.3), 0px 1px 3px 1px rgba(60, 64, 67, 0.15);\n",
              "      fill: #174EA6;\n",
              "    }\n",
              "\n",
              "    [theme=dark] .colab-df-convert {\n",
              "      background-color: #3B4455;\n",
              "      fill: #D2E3FC;\n",
              "    }\n",
              "\n",
              "    [theme=dark] .colab-df-convert:hover {\n",
              "      background-color: #434B5C;\n",
              "      box-shadow: 0px 1px 3px 1px rgba(0, 0, 0, 0.15);\n",
              "      filter: drop-shadow(0px 1px 2px rgba(0, 0, 0, 0.3));\n",
              "      fill: #FFFFFF;\n",
              "    }\n",
              "  </style>\n",
              "\n",
              "      <script>\n",
              "        const buttonEl =\n",
              "          document.querySelector('#df-426389ba-6d2e-44ac-8920-064cb5c4df3c button.colab-df-convert');\n",
              "        buttonEl.style.display =\n",
              "          google.colab.kernel.accessAllowed ? 'block' : 'none';\n",
              "\n",
              "        async function convertToInteractive(key) {\n",
              "          const element = document.querySelector('#df-426389ba-6d2e-44ac-8920-064cb5c4df3c');\n",
              "          const dataTable =\n",
              "            await google.colab.kernel.invokeFunction('convertToInteractive',\n",
              "                                                     [key], {});\n",
              "          if (!dataTable) return;\n",
              "\n",
              "          const docLinkHtml = 'Like what you see? Visit the ' +\n",
              "            '<a target=\"_blank\" href=https://colab.research.google.com/notebooks/data_table.ipynb>data table notebook</a>'\n",
              "            + ' to learn more about interactive tables.';\n",
              "          element.innerHTML = '';\n",
              "          dataTable['output_type'] = 'display_data';\n",
              "          await google.colab.output.renderOutput(dataTable, element);\n",
              "          const docLink = document.createElement('div');\n",
              "          docLink.innerHTML = docLinkHtml;\n",
              "          element.appendChild(docLink);\n",
              "        }\n",
              "      </script>\n",
              "    </div>\n",
              "  </div>\n",
              "  "
            ]
          },
          "metadata": {},
          "execution_count": 150
        }
      ]
    },
    {
      "cell_type": "code",
      "source": [
        "seaborn.barplot(x=charge_off_rate_emp_length.iloc[0:].index,y=charge_off_rate_emp_length.iloc[0:]['Charged Off Rate'])"
      ],
      "metadata": {
        "colab": {
          "base_uri": "https://localhost:8080/",
          "height": 468
        },
        "id": "K6nQJcIz5y1t",
        "outputId": "01e8997f-d939-470c-f8e7-d76cb1824223"
      },
      "execution_count": 151,
      "outputs": [
        {
          "output_type": "execute_result",
          "data": {
            "text/plain": [
              "<Axes: xlabel='emp_length', ylabel='Charged Off Rate'>"
            ]
          },
          "metadata": {},
          "execution_count": 151
        },
        {
          "output_type": "display_data",
          "data": {
            "text/plain": [
              "<Figure size 640x480 with 1 Axes>"
            ],
            "image/png": "[encoded data removed]"
          },
          "metadata": {}
        }
      ]
    },
    {
      "cell_type": "code",
      "source": [
        "bins = [0, 20000, 40000, 60000, 80000, 100000, 120000, 140000, 160000, 180000, 200000, 220000, 240000]\n",
        "\n",
        "rng = ['0-20000', '20000-40000', '40000-60000', '60000-80000', '80000-100000', '100000-120000',\n",
        "       '120000-140000', '140000-160000', '160000-180000', '180000-200000', '200000-220000',\n",
        "       '220000-240000']\n",
        "\n",
        "loan_df['annual_inc_rng'] = pandas.cut(loan_df.annual_inc, bins, labels = rng)\n",
        "\n",
        "charge_off_rate_annual_income = loan_df.pivot_table(values = 'funded_amnt',\n",
        "                      index = 'annual_inc_rng',\n",
        "                      columns = 'loan_status',\n",
        "                      aggfunc = numpy.count_nonzero,\n",
        "                      fill_value = 0)\n",
        "\n",
        "charge_off_rate_annual_income['Total'] = charge_off_rate_annual_income['Charged Off'] + charge_off_rate_annual_income['Current'] + charge_off_rate_annual_income['Fully Paid']\n",
        "\n",
        "charge_off_rate_annual_income['Charged Off Rate'] = 100*(round((charge_off_rate_annual_income['Charged Off']/charge_off_rate_annual_income['Total']), 6))\n",
        "charge_off_rate_annual_income\n"
      ],
      "metadata": {
        "colab": {
          "base_uri": "https://localhost:8080/",
          "height": 457
        },
        "id": "4eJg_zhW5697",
        "outputId": "7b9e6a96-42d4-4db5-e3dd-dee7ad690b61"
      },
      "execution_count": 153,
      "outputs": [
        {
          "output_type": "execute_result",
          "data": {
            "text/plain": [
              "loan_status     Charged Off  Current  Fully Paid  Total  Charged Off Rate\n",
              "annual_inc_rng                                                           \n",
              "0-20000                 237        9         943   1189           19.9327\n",
              "20000-40000            1514      170        7004   8688           17.4263\n",
              "40000-60000            1729      345        9534  11608           14.8949\n",
              "60000-80000            1024      240        6597   7861           13.0263\n",
              "80000-100000            531      170        3983   4684           11.3365\n",
              "100000-120000           244       81        2084   2409           10.1287\n",
              "120000-140000           137       39        1081   1257           10.8990\n",
              "140000-160000            84       37         626    747           11.2450\n",
              "160000-180000            36       23         348    407            8.8452\n",
              "180000-200000            31       10         240    281           11.0320\n",
              "200000-220000            11        2         104    117            9.4017\n",
              "220000-240000            13        1          89    103           12.6214"
            ],
            "text/html": [
              "\n",
              "  <div id=\"df-4c41e3ec-7608-449c-95b4-71a53fcb01fe\">\n",
              "    <div class=\"colab-df-container\">\n",
              "      <div>\n",
              "<style scoped>\n",
              "    .dataframe tbody tr th:only-of-type {\n",
              "        vertical-align: middle;\n",
              "    }\n",
              "\n",
              "    .dataframe tbody tr th {\n",
              "        vertical-align: top;\n",
              "    }\n",
              "\n",
              "    .dataframe thead th {\n",
              "        text-align: right;\n",
              "    }\n",
              "</style>\n",
              "<table border=\"1\" class=\"dataframe\">\n",
              "  <thead>\n",
              "    <tr style=\"text-align: right;\">\n",
              "      <th>loan_status</th>\n",
              "      <th>Charged Off</th>\n",
              "      <th>Current</th>\n",
              "      <th>Fully Paid</th>\n",
              "      <th>Total</th>\n",
              "      <th>Charged Off Rate</th>\n",
              "    </tr>\n",
              "    <tr>\n",
              "      <th>annual_inc_rng</th>\n",
              "      <th></th>\n",
              "      <th></th>\n",
              "      <th></th>\n",
              "      <th></th>\n",
              "      <th></th>\n",
              "    </tr>\n",
              "  </thead>\n",
              "  <tbody>\n",
              "    <tr>\n",
              "      <th>0-20000</th>\n",
              "      <td>237</td>\n",
              "      <td>9</td>\n",
              "      <td>943</td>\n",
              "      <td>1189</td>\n",
              "      <td>19.9327</td>\n",
              "    </tr>\n",
              "    <tr>\n",
              "      <th>20000-40000</th>\n",
              "      <td>1514</td>\n",
              "      <td>170</td>\n",
              "      <td>7004</td>\n",
              "      <td>8688</td>\n",
              "      <td>17.4263</td>\n",
              "    </tr>\n",
              "    <tr>\n",
              "      <th>40000-60000</th>\n",
              "      <td>1729</td>\n",
              "      <td>345</td>\n",
              "      <td>9534</td>\n",
              "      <td>11608</td>\n",
              "      <td>14.8949</td>\n",
              "    </tr>\n",
              "    <tr>\n",
              "      <th>60000-80000</th>\n",
              "      <td>1024</td>\n",
              "      <td>240</td>\n",
              "      <td>6597</td>\n",
              "      <td>7861</td>\n",
              "      <td>13.0263</td>\n",
              "    </tr>\n",
              "    <tr>\n",
              "      <th>80000-100000</th>\n",
              "      <td>531</td>\n",
              "      <td>170</td>\n",
              "      <td>3983</td>\n",
              "      <td>4684</td>\n",
              "      <td>11.3365</td>\n",
              "    </tr>\n",
              "    <tr>\n",
              "      <th>100000-120000</th>\n",
              "      <td>244</td>\n",
              "      <td>81</td>\n",
              "      <td>2084</td>\n",
              "      <td>2409</td>\n",
              "      <td>10.1287</td>\n",
              "    </tr>\n",
              "    <tr>\n",
              "      <th>120000-140000</th>\n",
              "      <td>137</td>\n",
              "      <td>39</td>\n",
              "      <td>1081</td>\n",
              "      <td>1257</td>\n",
              "      <td>10.8990</td>\n",
              "    </tr>\n",
              "    <tr>\n",
              "      <th>140000-160000</th>\n",
              "      <td>84</td>\n",
              "      <td>37</td>\n",
              "      <td>626</td>\n",
              "      <td>747</td>\n",
              "      <td>11.2450</td>\n",
              "    </tr>\n",
              "    <tr>\n",
              "      <th>160000-180000</th>\n",
              "      <td>36</td>\n",
              "      <td>23</td>\n",
              "      <td>348</td>\n",
              "      <td>407</td>\n",
              "      <td>8.8452</td>\n",
              "    </tr>\n",
              "    <tr>\n",
              "      <th>180000-200000</th>\n",
              "      <td>31</td>\n",
              "      <td>10</td>\n",
              "      <td>240</td>\n",
              "      <td>281</td>\n",
              "      <td>11.0320</td>\n",
              "    </tr>\n",
              "    <tr>\n",
              "      <th>200000-220000</th>\n",
              "      <td>11</td>\n",
              "      <td>2</td>\n",
              "      <td>104</td>\n",
              "      <td>117</td>\n",
              "      <td>9.4017</td>\n",
              "    </tr>\n",
              "    <tr>\n",
              "      <th>220000-240000</th>\n",
              "      <td>13</td>\n",
              "      <td>1</td>\n",
              "      <td>89</td>\n",
              "      <td>103</td>\n",
              "      <td>12.6214</td>\n",
              "    </tr>\n",
              "  </tbody>\n",
              "</table>\n",
              "</div>\n",
              "      <button class=\"colab-df-convert\" onclick=\"convertToInteractive('df-4c41e3ec-7608-449c-95b4-71a53fcb01fe')\"\n",
              "              title=\"Convert this dataframe to an interactive table.\"\n",
              "              style=\"display:none;\">\n",
              "        \n",
              "  <svg xmlns=\"http://www.w3.org/2000/svg\" height=\"24px\"viewBox=\"0 0 24 24\"\n",
              "       width=\"24px\">\n",
              "    <path d=\"M0 0h24v24H0V0z\" fill=\"none\"/>\n",
              "    <path d=\"M18.56 5.44l.94 2.06.94-2.06 2.06-.94-2.06-.94-.94-2.06-.94 2.06-2.06.94zm-11 1L8.5 8.5l.94-2.06 2.06-.94-2.06-.94L8.5 2.5l-.94 2.06-2.06.94zm10 10l.94 2.06.94-2.06 2.06-.94-2.06-.94-.94-2.06-.94 2.06-2.06.94z\"/><path d=\"M17.41 7.96l-1.37-1.37c-.4-.4-.92-.59-1.43-.59-.52 0-1.04.2-1.43.59L10.3 9.45l-7.72 7.72c-.78.78-.78 2.05 0 2.83L4 21.41c.39.39.9.59 1.41.59.51 0 1.02-.2 1.41-.59l7.78-7.78 2.81-2.81c.8-.78.8-2.07 0-2.86zM5.41 20L4 18.59l7.72-7.72 1.47 1.35L5.41 20z\"/>\n",
              "  </svg>\n",
              "      </button>\n",
              "      \n",
              "  <style>\n",
              "    .colab-df-container {\n",
              "      display:flex;\n",
              "      flex-wrap:wrap;\n",
              "      gap: 12px;\n",
              "    }\n",
              "\n",
              "    .colab-df-convert {\n",
              "      background-color: #E8F0FE;\n",
              "      border: none;\n",
              "      border-radius: 50%;\n",
              "      cursor: pointer;\n",
              "      display: none;\n",
              "      fill: #1967D2;\n",
              "      height: 32px;\n",
              "      padding: 0 0 0 0;\n",
              "      width: 32px;\n",
              "    }\n",
              "\n",
              "    .colab-df-convert:hover {\n",
              "      background-color: #E2EBFA;\n",
              "      box-shadow: 0px 1px 2px rgba(60, 64, 67, 0.3), 0px 1px 3px 1px rgba(60, 64, 67, 0.15);\n",
              "      fill: #174EA6;\n",
              "    }\n",
              "\n",
              "    [theme=dark] .colab-df-convert {\n",
              "      background-color: #3B4455;\n",
              "      fill: #D2E3FC;\n",
              "    }\n",
              "\n",
              "    [theme=dark] .colab-df-convert:hover {\n",
              "      background-color: #434B5C;\n",
              "      box-shadow: 0px 1px 3px 1px rgba(0, 0, 0, 0.15);\n",
              "      filter: drop-shadow(0px 1px 2px rgba(0, 0, 0, 0.3));\n",
              "      fill: #FFFFFF;\n",
              "    }\n",
              "  </style>\n",
              "\n",
              "      <script>\n",
              "        const buttonEl =\n",
              "          document.querySelector('#df-4c41e3ec-7608-449c-95b4-71a53fcb01fe button.colab-df-convert');\n",
              "        buttonEl.style.display =\n",
              "          google.colab.kernel.accessAllowed ? 'block' : 'none';\n",
              "\n",
              "        async function convertToInteractive(key) {\n",
              "          const element = document.querySelector('#df-4c41e3ec-7608-449c-95b4-71a53fcb01fe');\n",
              "          const dataTable =\n",
              "            await google.colab.kernel.invokeFunction('convertToInteractive',\n",
              "                                                     [key], {});\n",
              "          if (!dataTable) return;\n",
              "\n",
              "          const docLinkHtml = 'Like what you see? Visit the ' +\n",
              "            '<a target=\"_blank\" href=https://colab.research.google.com/notebooks/data_table.ipynb>data table notebook</a>'\n",
              "            + ' to learn more about interactive tables.';\n",
              "          element.innerHTML = '';\n",
              "          dataTable['output_type'] = 'display_data';\n",
              "          await google.colab.output.renderOutput(dataTable, element);\n",
              "          const docLink = document.createElement('div');\n",
              "          docLink.innerHTML = docLinkHtml;\n",
              "          element.appendChild(docLink);\n",
              "        }\n",
              "      </script>\n",
              "    </div>\n",
              "  </div>\n",
              "  "
            ]
          },
          "metadata": {},
          "execution_count": 153
        }
      ]
    },
    {
      "cell_type": "code",
      "source": [
        "plt.figure(figsize=(20,8))\n",
        "\n",
        "seaborn.barplot(x=charge_off_rate_annual_income.iloc[0:].index,y=charge_off_rate_annual_income.iloc[0:]['Charged Off Rate'])"
      ],
      "metadata": {
        "colab": {
          "base_uri": "https://localhost:8080/",
          "height": 584
        },
        "id": "gs6-fYlA6u3o",
        "outputId": "f70e231c-22e4-466b-a900-a2230411b412"
      },
      "execution_count": 175,
      "outputs": [
        {
          "output_type": "execute_result",
          "data": {
            "text/plain": [
              "<Axes: xlabel='annual_inc_rng', ylabel='Charged Off Rate'>"
            ]
          },
          "metadata": {},
          "execution_count": 175
        },
        {
          "output_type": "display_data",
          "data": {
            "text/plain": [
              "<Figure size 2000x800 with 1 Axes>"
            ],
            "image/png": "[encoded data removed]"
          },
          "metadata": {}
        }
      ]
    },
    {
      "cell_type": "code",
      "source": [
        "charge_off_rate_delinq = loan_df.pivot_table(values = 'funded_amnt',\n",
        "                      index = 'delinq_2yrs',\n",
        "                      columns = 'loan_status',\n",
        "                      aggfunc = numpy.count_nonzero,\n",
        "                      fill_value = 0)\n",
        "\n",
        "charge_off_rate_delinq['Total'] = charge_off_rate_delinq['Charged Off'] + charge_off_rate_delinq['Current'] + charge_off_rate_delinq['Fully Paid']\n",
        "\n",
        "charge_off_rate_delinq['Charged Off Rate'] = 100*(round((charge_off_rate_delinq['Charged Off']/charge_off_rate_delinq['Total']), 6))\n",
        "charge_off_rate_delinq"
      ],
      "metadata": {
        "colab": {
          "base_uri": "https://localhost:8080/",
          "height": 426
        },
        "id": "1CenlzwA6-lO",
        "outputId": "9ddef9ac-767f-40a2-9cac-cf4314c1975a"
      },
      "execution_count": 160,
      "outputs": [
        {
          "output_type": "execute_result",
          "data": {
            "text/plain": [
              "loan_status  Charged Off  Current  Fully Paid  Total  Charged Off Rate\n",
              "delinq_2yrs                                                           \n",
              "0                   4936     1019       29450  35405           13.9415\n",
              "1                    507       96        2700   3303           15.3497\n",
              "2                    130       14         543    687           18.9229\n",
              "3                     35        8         177    220           15.9091\n",
              "4                     13        2          47     62           20.9677\n",
              "5                      3        1          18     22           13.6364\n",
              "6                      1        0           9     10           10.0000\n",
              "7                      1        0           3      4           25.0000\n",
              "8                      1        0           1      2           50.0000\n",
              "9                      0        0           1      1            0.0000\n",
              "11                     0        0           1      1            0.0000"
            ],
            "text/html": [
              "\n",
              "  <div id=\"df-9cad2084-201e-4076-9618-95ffd8417e28\">\n",
              "    <div class=\"colab-df-container\">\n",
              "      <div>\n",
              "<style scoped>\n",
              "    .dataframe tbody tr th:only-of-type {\n",
              "        vertical-align: middle;\n",
              "    }\n",
              "\n",
              "    .dataframe tbody tr th {\n",
              "        vertical-align: top;\n",
              "    }\n",
              "\n",
              "    .dataframe thead th {\n",
              "        text-align: right;\n",
              "    }\n",
              "</style>\n",
              "<table border=\"1\" class=\"dataframe\">\n",
              "  <thead>\n",
              "    <tr style=\"text-align: right;\">\n",
              "      <th>loan_status</th>\n",
              "      <th>Charged Off</th>\n",
              "      <th>Current</th>\n",
              "      <th>Fully Paid</th>\n",
              "      <th>Total</th>\n",
              "      <th>Charged Off Rate</th>\n",
              "    </tr>\n",
              "    <tr>\n",
              "      <th>delinq_2yrs</th>\n",
              "      <th></th>\n",
              "      <th></th>\n",
              "      <th></th>\n",
              "      <th></th>\n",
              "      <th></th>\n",
              "    </tr>\n",
              "  </thead>\n",
              "  <tbody>\n",
              "    <tr>\n",
              "      <th>0</th>\n",
              "      <td>4936</td>\n",
              "      <td>1019</td>\n",
              "      <td>29450</td>\n",
              "      <td>35405</td>\n",
              "      <td>13.9415</td>\n",
              "    </tr>\n",
              "    <tr>\n",
              "      <th>1</th>\n",
              "      <td>507</td>\n",
              "      <td>96</td>\n",
              "      <td>2700</td>\n",
              "      <td>3303</td>\n",
              "      <td>15.3497</td>\n",
              "    </tr>\n",
              "    <tr>\n",
              "      <th>2</th>\n",
              "      <td>130</td>\n",
              "      <td>14</td>\n",
              "      <td>543</td>\n",
              "      <td>687</td>\n",
              "      <td>18.9229</td>\n",
              "    </tr>\n",
              "    <tr>\n",
              "      <th>3</th>\n",
              "      <td>35</td>\n",
              "      <td>8</td>\n",
              "      <td>177</td>\n",
              "      <td>220</td>\n",
              "      <td>15.9091</td>\n",
              "    </tr>\n",
              "    <tr>\n",
              "      <th>4</th>\n",
              "      <td>13</td>\n",
              "      <td>2</td>\n",
              "      <td>47</td>\n",
              "      <td>62</td>\n",
              "      <td>20.9677</td>\n",
              "    </tr>\n",
              "    <tr>\n",
              "      <th>5</th>\n",
              "      <td>3</td>\n",
              "      <td>1</td>\n",
              "      <td>18</td>\n",
              "      <td>22</td>\n",
              "      <td>13.6364</td>\n",
              "    </tr>\n",
              "    <tr>\n",
              "      <th>6</th>\n",
              "      <td>1</td>\n",
              "      <td>0</td>\n",
              "      <td>9</td>\n",
              "      <td>10</td>\n",
              "      <td>10.0000</td>\n",
              "    </tr>\n",
              "    <tr>\n",
              "      <th>7</th>\n",
              "      <td>1</td>\n",
              "      <td>0</td>\n",
              "      <td>3</td>\n",
              "      <td>4</td>\n",
              "      <td>25.0000</td>\n",
              "    </tr>\n",
              "    <tr>\n",
              "      <th>8</th>\n",
              "      <td>1</td>\n",
              "      <td>0</td>\n",
              "      <td>1</td>\n",
              "      <td>2</td>\n",
              "      <td>50.0000</td>\n",
              "    </tr>\n",
              "    <tr>\n",
              "      <th>9</th>\n",
              "      <td>0</td>\n",
              "      <td>0</td>\n",
              "      <td>1</td>\n",
              "      <td>1</td>\n",
              "      <td>0.0000</td>\n",
              "    </tr>\n",
              "    <tr>\n",
              "      <th>11</th>\n",
              "      <td>0</td>\n",
              "      <td>0</td>\n",
              "      <td>1</td>\n",
              "      <td>1</td>\n",
              "      <td>0.0000</td>\n",
              "    </tr>\n",
              "  </tbody>\n",
              "</table>\n",
              "</div>\n",
              "      <button class=\"colab-df-convert\" onclick=\"convertToInteractive('df-9cad2084-201e-4076-9618-95ffd8417e28')\"\n",
              "              title=\"Convert this dataframe to an interactive table.\"\n",
              "              style=\"display:none;\">\n",
              "        \n",
              "  <svg xmlns=\"http://www.w3.org/2000/svg\" height=\"24px\"viewBox=\"0 0 24 24\"\n",
              "       width=\"24px\">\n",
              "    <path d=\"M0 0h24v24H0V0z\" fill=\"none\"/>\n",
              "    <path d=\"M18.56 5.44l.94 2.06.94-2.06 2.06-.94-2.06-.94-.94-2.06-.94 2.06-2.06.94zm-11 1L8.5 8.5l.94-2.06 2.06-.94-2.06-.94L8.5 2.5l-.94 2.06-2.06.94zm10 10l.94 2.06.94-2.06 2.06-.94-2.06-.94-.94-2.06-.94 2.06-2.06.94z\"/><path d=\"M17.41 7.96l-1.37-1.37c-.4-.4-.92-.59-1.43-.59-.52 0-1.04.2-1.43.59L10.3 9.45l-7.72 7.72c-.78.78-.78 2.05 0 2.83L4 21.41c.39.39.9.59 1.41.59.51 0 1.02-.2 1.41-.59l7.78-7.78 2.81-2.81c.8-.78.8-2.07 0-2.86zM5.41 20L4 18.59l7.72-7.72 1.47 1.35L5.41 20z\"/>\n",
              "  </svg>\n",
              "      </button>\n",
              "      \n",
              "  <style>\n",
              "    .colab-df-container {\n",
              "      display:flex;\n",
              "      flex-wrap:wrap;\n",
              "      gap: 12px;\n",
              "    }\n",
              "\n",
              "    .colab-df-convert {\n",
              "      background-color: #E8F0FE;\n",
              "      border: none;\n",
              "      border-radius: 50%;\n",
              "      cursor: pointer;\n",
              "      display: none;\n",
              "      fill: #1967D2;\n",
              "      height: 32px;\n",
              "      padding: 0 0 0 0;\n",
              "      width: 32px;\n",
              "    }\n",
              "\n",
              "    .colab-df-convert:hover {\n",
              "      background-color: #E2EBFA;\n",
              "      box-shadow: 0px 1px 2px rgba(60, 64, 67, 0.3), 0px 1px 3px 1px rgba(60, 64, 67, 0.15);\n",
              "      fill: #174EA6;\n",
              "    }\n",
              "\n",
              "    [theme=dark] .colab-df-convert {\n",
              "      background-color: #3B4455;\n",
              "      fill: #D2E3FC;\n",
              "    }\n",
              "\n",
              "    [theme=dark] .colab-df-convert:hover {\n",
              "      background-color: #434B5C;\n",
              "      box-shadow: 0px 1px 3px 1px rgba(0, 0, 0, 0.15);\n",
              "      filter: drop-shadow(0px 1px 2px rgba(0, 0, 0, 0.3));\n",
              "      fill: #FFFFFF;\n",
              "    }\n",
              "  </style>\n",
              "\n",
              "      <script>\n",
              "        const buttonEl =\n",
              "          document.querySelector('#df-9cad2084-201e-4076-9618-95ffd8417e28 button.colab-df-convert');\n",
              "        buttonEl.style.display =\n",
              "          google.colab.kernel.accessAllowed ? 'block' : 'none';\n",
              "\n",
              "        async function convertToInteractive(key) {\n",
              "          const element = document.querySelector('#df-9cad2084-201e-4076-9618-95ffd8417e28');\n",
              "          const dataTable =\n",
              "            await google.colab.kernel.invokeFunction('convertToInteractive',\n",
              "                                                     [key], {});\n",
              "          if (!dataTable) return;\n",
              "\n",
              "          const docLinkHtml = 'Like what you see? Visit the ' +\n",
              "            '<a target=\"_blank\" href=https://colab.research.google.com/notebooks/data_table.ipynb>data table notebook</a>'\n",
              "            + ' to learn more about interactive tables.';\n",
              "          element.innerHTML = '';\n",
              "          dataTable['output_type'] = 'display_data';\n",
              "          await google.colab.output.renderOutput(dataTable, element);\n",
              "          const docLink = document.createElement('div');\n",
              "          docLink.innerHTML = docLinkHtml;\n",
              "          element.appendChild(docLink);\n",
              "        }\n",
              "      </script>\n",
              "    </div>\n",
              "  </div>\n",
              "  "
            ]
          },
          "metadata": {},
          "execution_count": 160
        }
      ]
    },
    {
      "cell_type": "code",
      "source": [
        "seaborn.barplot(x=charge_off_rate_delinq.iloc[0:].index,y=charge_off_rate_delinq.iloc[0:]['Charged Off Rate'])"
      ],
      "metadata": {
        "colab": {
          "base_uri": "https://localhost:8080/",
          "height": 468
        },
        "id": "P5nNhFIb7i2s",
        "outputId": "07f8983d-3841-4861-d00d-7ccbb20aeca1"
      },
      "execution_count": 161,
      "outputs": [
        {
          "output_type": "execute_result",
          "data": {
            "text/plain": [
              "<Axes: xlabel='delinq_2yrs', ylabel='Charged Off Rate'>"
            ]
          },
          "metadata": {},
          "execution_count": 161
        },
        {
          "output_type": "display_data",
          "data": {
            "text/plain": [
              "<Figure size 640x480 with 1 Axes>"
            ],
            "image/png": "[encoded data removed]"
          },
          "metadata": {}
        }
      ]
    },
    {
      "cell_type": "code",
      "source": [
        "charge_off_inquiry = loan_df.pivot_table(values = 'funded_amnt',\n",
        "                      index = 'inq_last_6mths',\n",
        "                      columns = 'loan_status',\n",
        "                      aggfunc = numpy.count_nonzero,\n",
        "                      fill_value = 0)\n",
        "\n",
        "charge_off_inquiry['Total'] = charge_off_inquiry['Charged Off'] + charge_off_inquiry['Current'] + charge_off_inquiry['Fully Paid']\n",
        "\n",
        "charge_off_inquiry['Charged Off Rate'] = 100*(round((charge_off_inquiry['Charged Off']/charge_off_inquiry['Total']), 6))\n",
        "charge_off_inquiry"
      ],
      "metadata": {
        "colab": {
          "base_uri": "https://localhost:8080/",
          "height": 363
        },
        "id": "wfjZJXJh7xrj",
        "outputId": "f8904d9c-3d0f-47eb-ea20-73103753c80f"
      },
      "execution_count": 164,
      "outputs": [
        {
          "output_type": "execute_result",
          "data": {
            "text/plain": [
              "loan_status     Charged Off  Current  Fully Paid  Total  Charged Off Rate\n",
              "inq_last_6mths                                                           \n",
              "0                      2280      591       16429  19300           11.8135\n",
              "1                      1677      311        8983  10971           15.2858\n",
              "2                       943      158        4711   5812           16.2251\n",
              "3                       619       65        2364   3048           20.3084\n",
              "4                        51       10         265    326           15.6442\n",
              "5                        28        2         116    146           19.1781\n",
              "6                        16        1          47     64           25.0000\n",
              "7                        10        1          24     35           28.5714\n",
              "8                         3        1          11     15           20.0000"
            ],
            "text/html": [
              "\n",
              "  <div id=\"df-230ce87e-9fd7-46bc-ab22-38de292509cb\">\n",
              "    <div class=\"colab-df-container\">\n",
              "      <div>\n",
              "<style scoped>\n",
              "    .dataframe tbody tr th:only-of-type {\n",
              "        vertical-align: middle;\n",
              "    }\n",
              "\n",
              "    .dataframe tbody tr th {\n",
              "        vertical-align: top;\n",
              "    }\n",
              "\n",
              "    .dataframe thead th {\n",
              "        text-align: right;\n",
              "    }\n",
              "</style>\n",
              "<table border=\"1\" class=\"dataframe\">\n",
              "  <thead>\n",
              "    <tr style=\"text-align: right;\">\n",
              "      <th>loan_status</th>\n",
              "      <th>Charged Off</th>\n",
              "      <th>Current</th>\n",
              "      <th>Fully Paid</th>\n",
              "      <th>Total</th>\n",
              "      <th>Charged Off Rate</th>\n",
              "    </tr>\n",
              "    <tr>\n",
              "      <th>inq_last_6mths</th>\n",
              "      <th></th>\n",
              "      <th></th>\n",
              "      <th></th>\n",
              "      <th></th>\n",
              "      <th></th>\n",
              "    </tr>\n",
              "  </thead>\n",
              "  <tbody>\n",
              "    <tr>\n",
              "      <th>0</th>\n",
              "      <td>2280</td>\n",
              "      <td>591</td>\n",
              "      <td>16429</td>\n",
              "      <td>19300</td>\n",
              "      <td>11.8135</td>\n",
              "    </tr>\n",
              "    <tr>\n",
              "      <th>1</th>\n",
              "      <td>1677</td>\n",
              "      <td>311</td>\n",
              "      <td>8983</td>\n",
              "      <td>10971</td>\n",
              "      <td>15.2858</td>\n",
              "    </tr>\n",
              "    <tr>\n",
              "      <th>2</th>\n",
              "      <td>943</td>\n",
              "      <td>158</td>\n",
              "      <td>4711</td>\n",
              "      <td>5812</td>\n",
              "      <td>16.2251</td>\n",
              "    </tr>\n",
              "    <tr>\n",
              "      <th>3</th>\n",
              "      <td>619</td>\n",
              "      <td>65</td>\n",
              "      <td>2364</td>\n",
              "      <td>3048</td>\n",
              "      <td>20.3084</td>\n",
              "    </tr>\n",
              "    <tr>\n",
              "      <th>4</th>\n",
              "      <td>51</td>\n",
              "      <td>10</td>\n",
              "      <td>265</td>\n",
              "      <td>326</td>\n",
              "      <td>15.6442</td>\n",
              "    </tr>\n",
              "    <tr>\n",
              "      <th>5</th>\n",
              "      <td>28</td>\n",
              "      <td>2</td>\n",
              "      <td>116</td>\n",
              "      <td>146</td>\n",
              "      <td>19.1781</td>\n",
              "    </tr>\n",
              "    <tr>\n",
              "      <th>6</th>\n",
              "      <td>16</td>\n",
              "      <td>1</td>\n",
              "      <td>47</td>\n",
              "      <td>64</td>\n",
              "      <td>25.0000</td>\n",
              "    </tr>\n",
              "    <tr>\n",
              "      <th>7</th>\n",
              "      <td>10</td>\n",
              "      <td>1</td>\n",
              "      <td>24</td>\n",
              "      <td>35</td>\n",
              "      <td>28.5714</td>\n",
              "    </tr>\n",
              "    <tr>\n",
              "      <th>8</th>\n",
              "      <td>3</td>\n",
              "      <td>1</td>\n",
              "      <td>11</td>\n",
              "      <td>15</td>\n",
              "      <td>20.0000</td>\n",
              "    </tr>\n",
              "  </tbody>\n",
              "</table>\n",
              "</div>\n",
              "      <button class=\"colab-df-convert\" onclick=\"convertToInteractive('df-230ce87e-9fd7-46bc-ab22-38de292509cb')\"\n",
              "              title=\"Convert this dataframe to an interactive table.\"\n",
              "              style=\"display:none;\">\n",
              "        \n",
              "  <svg xmlns=\"http://www.w3.org/2000/svg\" height=\"24px\"viewBox=\"0 0 24 24\"\n",
              "       width=\"24px\">\n",
              "    <path d=\"M0 0h24v24H0V0z\" fill=\"none\"/>\n",
              "    <path d=\"M18.56 5.44l.94 2.06.94-2.06 2.06-.94-2.06-.94-.94-2.06-.94 2.06-2.06.94zm-11 1L8.5 8.5l.94-2.06 2.06-.94-2.06-.94L8.5 2.5l-.94 2.06-2.06.94zm10 10l.94 2.06.94-2.06 2.06-.94-2.06-.94-.94-2.06-.94 2.06-2.06.94z\"/><path d=\"M17.41 7.96l-1.37-1.37c-.4-.4-.92-.59-1.43-.59-.52 0-1.04.2-1.43.59L10.3 9.45l-7.72 7.72c-.78.78-.78 2.05 0 2.83L4 21.41c.39.39.9.59 1.41.59.51 0 1.02-.2 1.41-.59l7.78-7.78 2.81-2.81c.8-.78.8-2.07 0-2.86zM5.41 20L4 18.59l7.72-7.72 1.47 1.35L5.41 20z\"/>\n",
              "  </svg>\n",
              "      </button>\n",
              "      \n",
              "  <style>\n",
              "    .colab-df-container {\n",
              "      display:flex;\n",
              "      flex-wrap:wrap;\n",
              "      gap: 12px;\n",
              "    }\n",
              "\n",
              "    .colab-df-convert {\n",
              "      background-color: #E8F0FE;\n",
              "      border: none;\n",
              "      border-radius: 50%;\n",
              "      cursor: pointer;\n",
              "      display: none;\n",
              "      fill: #1967D2;\n",
              "      height: 32px;\n",
              "      padding: 0 0 0 0;\n",
              "      width: 32px;\n",
              "    }\n",
              "\n",
              "    .colab-df-convert:hover {\n",
              "      background-color: #E2EBFA;\n",
              "      box-shadow: 0px 1px 2px rgba(60, 64, 67, 0.3), 0px 1px 3px 1px rgba(60, 64, 67, 0.15);\n",
              "      fill: #174EA6;\n",
              "    }\n",
              "\n",
              "    [theme=dark] .colab-df-convert {\n",
              "      background-color: #3B4455;\n",
              "      fill: #D2E3FC;\n",
              "    }\n",
              "\n",
              "    [theme=dark] .colab-df-convert:hover {\n",
              "      background-color: #434B5C;\n",
              "      box-shadow: 0px 1px 3px 1px rgba(0, 0, 0, 0.15);\n",
              "      filter: drop-shadow(0px 1px 2px rgba(0, 0, 0, 0.3));\n",
              "      fill: #FFFFFF;\n",
              "    }\n",
              "  </style>\n",
              "\n",
              "      <script>\n",
              "        const buttonEl =\n",
              "          document.querySelector('#df-230ce87e-9fd7-46bc-ab22-38de292509cb button.colab-df-convert');\n",
              "        buttonEl.style.display =\n",
              "          google.colab.kernel.accessAllowed ? 'block' : 'none';\n",
              "\n",
              "        async function convertToInteractive(key) {\n",
              "          const element = document.querySelector('#df-230ce87e-9fd7-46bc-ab22-38de292509cb');\n",
              "          const dataTable =\n",
              "            await google.colab.kernel.invokeFunction('convertToInteractive',\n",
              "                                                     [key], {});\n",
              "          if (!dataTable) return;\n",
              "\n",
              "          const docLinkHtml = 'Like what you see? Visit the ' +\n",
              "            '<a target=\"_blank\" href=https://colab.research.google.com/notebooks/data_table.ipynb>data table notebook</a>'\n",
              "            + ' to learn more about interactive tables.';\n",
              "          element.innerHTML = '';\n",
              "          dataTable['output_type'] = 'display_data';\n",
              "          await google.colab.output.renderOutput(dataTable, element);\n",
              "          const docLink = document.createElement('div');\n",
              "          docLink.innerHTML = docLinkHtml;\n",
              "          element.appendChild(docLink);\n",
              "        }\n",
              "      </script>\n",
              "    </div>\n",
              "  </div>\n",
              "  "
            ]
          },
          "metadata": {},
          "execution_count": 164
        }
      ]
    },
    {
      "cell_type": "code",
      "source": [
        "plt.figure(figsize=(20,8))\n",
        "\n",
        "seaborn.barplot(x=charge_off_inquiry.iloc[0:].index,y=charge_off_inquiry.iloc[0:]['Charged Off Rate'])"
      ],
      "metadata": {
        "colab": {
          "base_uri": "https://localhost:8080/",
          "height": 589
        },
        "id": "R8Bj5szQ8ENQ",
        "outputId": "657f568b-6aed-4e55-f6ac-93c889f71975"
      },
      "execution_count": 173,
      "outputs": [
        {
          "output_type": "execute_result",
          "data": {
            "text/plain": [
              "<Axes: xlabel='inq_last_6mths', ylabel='Charged Off Rate'>"
            ]
          },
          "metadata": {},
          "execution_count": 173
        },
        {
          "output_type": "display_data",
          "data": {
            "text/plain": [
              "<Figure size 2000x800 with 1 Axes>"
            ],
            "image/png": "[encoded data removed]"
          },
          "metadata": {}
        }
      ]
    },
    {
      "cell_type": "code",
      "source": [
        "charge_off_pub_rec = loan_df.pivot_table(values = 'funded_amnt',\n",
        "                      index = 'pub_rec',\n",
        "                      columns = 'loan_status',\n",
        "                      aggfunc = numpy.count_nonzero,\n",
        "                      fill_value = 0)\n",
        "\n",
        "charge_off_pub_rec['Total'] = charge_off_pub_rec['Charged Off'] + charge_off_pub_rec['Current'] + charge_off_pub_rec['Fully Paid']\n",
        "\n",
        "charge_off_pub_rec['Charged Off Rate'] = 100*(round((charge_off_pub_rec['Charged Off']/charge_off_pub_rec['Total']), 6))\n",
        "charge_off_pub_rec"
      ],
      "metadata": {
        "colab": {
          "base_uri": "https://localhost:8080/",
          "height": 238
        },
        "id": "tnRUIpBh9gNx",
        "outputId": "683cf52b-ef66-42af-d449-849f2b7435b9"
      },
      "execution_count": 177,
      "outputs": [
        {
          "output_type": "execute_result",
          "data": {
            "text/plain": [
              "loan_status  Charged Off  Current  Fully Paid  Total  Charged Off Rate\n",
              "pub_rec                                                               \n",
              "0                   5160     1094       31347  37601           13.7230\n",
              "1                    457       43        1556   2056           22.2276\n",
              "2                     10        3          38     51           19.6078\n",
              "3                      0        0           7      7            0.0000\n",
              "4                      0        0           2      2            0.0000"
            ],
            "text/html": [
              "\n",
              "  <div id=\"df-3fc8feb8-720a-45c8-931e-f296f2d3b405\">\n",
              "    <div class=\"colab-df-container\">\n",
              "      <div>\n",
              "<style scoped>\n",
              "    .dataframe tbody tr th:only-of-type {\n",
              "        vertical-align: middle;\n",
              "    }\n",
              "\n",
              "    .dataframe tbody tr th {\n",
              "        vertical-align: top;\n",
              "    }\n",
              "\n",
              "    .dataframe thead th {\n",
              "        text-align: right;\n",
              "    }\n",
              "</style>\n",
              "<table border=\"1\" class=\"dataframe\">\n",
              "  <thead>\n",
              "    <tr style=\"text-align: right;\">\n",
              "      <th>loan_status</th>\n",
              "      <th>Charged Off</th>\n",
              "      <th>Current</th>\n",
              "      <th>Fully Paid</th>\n",
              "      <th>Total</th>\n",
              "      <th>Charged Off Rate</th>\n",
              "    </tr>\n",
              "    <tr>\n",
              "      <th>pub_rec</th>\n",
              "      <th></th>\n",
              "      <th></th>\n",
              "      <th></th>\n",
              "      <th></th>\n",
              "      <th></th>\n",
              "    </tr>\n",
              "  </thead>\n",
              "  <tbody>\n",
              "    <tr>\n",
              "      <th>0</th>\n",
              "      <td>5160</td>\n",
              "      <td>1094</td>\n",
              "      <td>31347</td>\n",
              "      <td>37601</td>\n",
              "      <td>13.7230</td>\n",
              "    </tr>\n",
              "    <tr>\n",
              "      <th>1</th>\n",
              "      <td>457</td>\n",
              "      <td>43</td>\n",
              "      <td>1556</td>\n",
              "      <td>2056</td>\n",
              "      <td>22.2276</td>\n",
              "    </tr>\n",
              "    <tr>\n",
              "      <th>2</th>\n",
              "      <td>10</td>\n",
              "      <td>3</td>\n",
              "      <td>38</td>\n",
              "      <td>51</td>\n",
              "      <td>19.6078</td>\n",
              "    </tr>\n",
              "    <tr>\n",
              "      <th>3</th>\n",
              "      <td>0</td>\n",
              "      <td>0</td>\n",
              "      <td>7</td>\n",
              "      <td>7</td>\n",
              "      <td>0.0000</td>\n",
              "    </tr>\n",
              "    <tr>\n",
              "      <th>4</th>\n",
              "      <td>0</td>\n",
              "      <td>0</td>\n",
              "      <td>2</td>\n",
              "      <td>2</td>\n",
              "      <td>0.0000</td>\n",
              "    </tr>\n",
              "  </tbody>\n",
              "</table>\n",
              "</div>\n",
              "      <button class=\"colab-df-convert\" onclick=\"convertToInteractive('df-3fc8feb8-720a-45c8-931e-f296f2d3b405')\"\n",
              "              title=\"Convert this dataframe to an interactive table.\"\n",
              "              style=\"display:none;\">\n",
              "        \n",
              "  <svg xmlns=\"http://www.w3.org/2000/svg\" height=\"24px\"viewBox=\"0 0 24 24\"\n",
              "       width=\"24px\">\n",
              "    <path d=\"M0 0h24v24H0V0z\" fill=\"none\"/>\n",
              "    <path d=\"M18.56 5.44l.94 2.06.94-2.06 2.06-.94-2.06-.94-.94-2.06-.94 2.06-2.06.94zm-11 1L8.5 8.5l.94-2.06 2.06-.94-2.06-.94L8.5 2.5l-.94 2.06-2.06.94zm10 10l.94 2.06.94-2.06 2.06-.94-2.06-.94-.94-2.06-.94 2.06-2.06.94z\"/><path d=\"M17.41 7.96l-1.37-1.37c-.4-.4-.92-.59-1.43-.59-.52 0-1.04.2-1.43.59L10.3 9.45l-7.72 7.72c-.78.78-.78 2.05 0 2.83L4 21.41c.39.39.9.59 1.41.59.51 0 1.02-.2 1.41-.59l7.78-7.78 2.81-2.81c.8-.78.8-2.07 0-2.86zM5.41 20L4 18.59l7.72-7.72 1.47 1.35L5.41 20z\"/>\n",
              "  </svg>\n",
              "      </button>\n",
              "      \n",
              "  <style>\n",
              "    .colab-df-container {\n",
              "      display:flex;\n",
              "      flex-wrap:wrap;\n",
              "      gap: 12px;\n",
              "    }\n",
              "\n",
              "    .colab-df-convert {\n",
              "      background-color: #E8F0FE;\n",
              "      border: none;\n",
              "      border-radius: 50%;\n",
              "      cursor: pointer;\n",
              "      display: none;\n",
              "      fill: #1967D2;\n",
              "      height: 32px;\n",
              "      padding: 0 0 0 0;\n",
              "      width: 32px;\n",
              "    }\n",
              "\n",
              "    .colab-df-convert:hover {\n",
              "      background-color: #E2EBFA;\n",
              "      box-shadow: 0px 1px 2px rgba(60, 64, 67, 0.3), 0px 1px 3px 1px rgba(60, 64, 67, 0.15);\n",
              "      fill: #174EA6;\n",
              "    }\n",
              "\n",
              "    [theme=dark] .colab-df-convert {\n",
              "      background-color: #3B4455;\n",
              "      fill: #D2E3FC;\n",
              "    }\n",
              "\n",
              "    [theme=dark] .colab-df-convert:hover {\n",
              "      background-color: #434B5C;\n",
              "      box-shadow: 0px 1px 3px 1px rgba(0, 0, 0, 0.15);\n",
              "      filter: drop-shadow(0px 1px 2px rgba(0, 0, 0, 0.3));\n",
              "      fill: #FFFFFF;\n",
              "    }\n",
              "  </style>\n",
              "\n",
              "      <script>\n",
              "        const buttonEl =\n",
              "          document.querySelector('#df-3fc8feb8-720a-45c8-931e-f296f2d3b405 button.colab-df-convert');\n",
              "        buttonEl.style.display =\n",
              "          google.colab.kernel.accessAllowed ? 'block' : 'none';\n",
              "\n",
              "        async function convertToInteractive(key) {\n",
              "          const element = document.querySelector('#df-3fc8feb8-720a-45c8-931e-f296f2d3b405');\n",
              "          const dataTable =\n",
              "            await google.colab.kernel.invokeFunction('convertToInteractive',\n",
              "                                                     [key], {});\n",
              "          if (!dataTable) return;\n",
              "\n",
              "          const docLinkHtml = 'Like what you see? Visit the ' +\n",
              "            '<a target=\"_blank\" href=https://colab.research.google.com/notebooks/data_table.ipynb>data table notebook</a>'\n",
              "            + ' to learn more about interactive tables.';\n",
              "          element.innerHTML = '';\n",
              "          dataTable['output_type'] = 'display_data';\n",
              "          await google.colab.output.renderOutput(dataTable, element);\n",
              "          const docLink = document.createElement('div');\n",
              "          docLink.innerHTML = docLinkHtml;\n",
              "          element.appendChild(docLink);\n",
              "        }\n",
              "      </script>\n",
              "    </div>\n",
              "  </div>\n",
              "  "
            ]
          },
          "metadata": {},
          "execution_count": 177
        }
      ]
    },
    {
      "cell_type": "code",
      "source": [
        "seaborn.barplot(x=charge_off_pub_rec.iloc[0:].index,y=charge_off_pub_rec.iloc[0:]['Charged Off Rate'])"
      ],
      "metadata": {
        "colab": {
          "base_uri": "https://localhost:8080/",
          "height": 468
        },
        "id": "CEqI6JPa9pPR",
        "outputId": "d27c5391-77a8-419f-d8f4-88093bc64939"
      },
      "execution_count": 178,
      "outputs": [
        {
          "output_type": "execute_result",
          "data": {
            "text/plain": [
              "<Axes: xlabel='pub_rec', ylabel='Charged Off Rate'>"
            ]
          },
          "metadata": {},
          "execution_count": 178
        },
        {
          "output_type": "display_data",
          "data": {
            "text/plain": [
              "<Figure size 640x480 with 1 Axes>"
            ],
            "image/png": "[encoded data removed]"
          },
          "metadata": {}
        }
      ]
    },
    {
      "cell_type": "code",
      "source": [
        "charge_off_pub_rec_bkruptcies = loan_df.pivot_table(values = 'funded_amnt',\n",
        "                      index = 'pub_rec_bankruptcies',\n",
        "                      columns = 'loan_status',\n",
        "                      aggfunc = numpy.count_nonzero,\n",
        "                      fill_value = 0)\n",
        "\n",
        "charge_off_pub_rec_bkruptcies['Total'] = charge_off_pub_rec_bkruptcies['Charged Off'] + charge_off_pub_rec_bkruptcies['Current'] + charge_off_pub_rec_bkruptcies['Fully Paid']\n",
        "\n",
        "charge_off_pub_rec_bkruptcies['Charged Off Rate'] = 100*(round((charge_off_pub_rec_bkruptcies['Charged Off']/charge_off_pub_rec_bkruptcies['Total']), 6))\n",
        "charge_off_pub_rec_bkruptcies"
      ],
      "metadata": {
        "colab": {
          "base_uri": "https://localhost:8080/",
          "height": 175
        },
        "id": "qPcIYGUM9xd0",
        "outputId": "0dcf540b-75c0-41f1-e426-58e4c3cdde98"
      },
      "execution_count": 180,
      "outputs": [
        {
          "output_type": "execute_result",
          "data": {
            "text/plain": [
              "loan_status           Charged Off  Current  Fully Paid  Total  \\\n",
              "pub_rec_bankruptcies                                            \n",
              "0.0                          5259     1101       31676  38036   \n",
              "1.0                           366       37        1271   1674   \n",
              "2.0                             2        2           3      7   \n",
              "\n",
              "loan_status           Charged Off Rate  \n",
              "pub_rec_bankruptcies                    \n",
              "0.0                            13.8264  \n",
              "1.0                            21.8638  \n",
              "2.0                            28.5714  "
            ],
            "text/html": [
              "\n",
              "  <div id=\"df-97193e85-143e-4fe7-8c4d-822c3c755ff8\">\n",
              "    <div class=\"colab-df-container\">\n",
              "      <div>\n",
              "<style scoped>\n",
              "    .dataframe tbody tr th:only-of-type {\n",
              "        vertical-align: middle;\n",
              "    }\n",
              "\n",
              "    .dataframe tbody tr th {\n",
              "        vertical-align: top;\n",
              "    }\n",
              "\n",
              "    .dataframe thead th {\n",
              "        text-align: right;\n",
              "    }\n",
              "</style>\n",
              "<table border=\"1\" class=\"dataframe\">\n",
              "  <thead>\n",
              "    <tr style=\"text-align: right;\">\n",
              "      <th>loan_status</th>\n",
              "      <th>Charged Off</th>\n",
              "      <th>Current</th>\n",
              "      <th>Fully Paid</th>\n",
              "      <th>Total</th>\n",
              "      <th>Charged Off Rate</th>\n",
              "    </tr>\n",
              "    <tr>\n",
              "      <th>pub_rec_bankruptcies</th>\n",
              "      <th></th>\n",
              "      <th></th>\n",
              "      <th></th>\n",
              "      <th></th>\n",
              "      <th></th>\n",
              "    </tr>\n",
              "  </thead>\n",
              "  <tbody>\n",
              "    <tr>\n",
              "      <th>0.0</th>\n",
              "      <td>5259</td>\n",
              "      <td>1101</td>\n",
              "      <td>31676</td>\n",
              "      <td>38036</td>\n",
              "      <td>13.8264</td>\n",
              "    </tr>\n",
              "    <tr>\n",
              "      <th>1.0</th>\n",
              "      <td>366</td>\n",
              "      <td>37</td>\n",
              "      <td>1271</td>\n",
              "      <td>1674</td>\n",
              "      <td>21.8638</td>\n",
              "    </tr>\n",
              "    <tr>\n",
              "      <th>2.0</th>\n",
              "      <td>2</td>\n",
              "      <td>2</td>\n",
              "      <td>3</td>\n",
              "      <td>7</td>\n",
              "      <td>28.5714</td>\n",
              "    </tr>\n",
              "  </tbody>\n",
              "</table>\n",
              "</div>\n",
              "      <button class=\"colab-df-convert\" onclick=\"convertToInteractive('df-97193e85-143e-4fe7-8c4d-822c3c755ff8')\"\n",
              "              title=\"Convert this dataframe to an interactive table.\"\n",
              "              style=\"display:none;\">\n",
              "        \n",
              "  <svg xmlns=\"http://www.w3.org/2000/svg\" height=\"24px\"viewBox=\"0 0 24 24\"\n",
              "       width=\"24px\">\n",
              "    <path d=\"M0 0h24v24H0V0z\" fill=\"none\"/>\n",
              "    <path d=\"M18.56 5.44l.94 2.06.94-2.06 2.06-.94-2.06-.94-.94-2.06-.94 2.06-2.06.94zm-11 1L8.5 8.5l.94-2.06 2.06-.94-2.06-.94L8.5 2.5l-.94 2.06-2.06.94zm10 10l.94 2.06.94-2.06 2.06-.94-2.06-.94-.94-2.06-.94 2.06-2.06.94z\"/><path d=\"M17.41 7.96l-1.37-1.37c-.4-.4-.92-.59-1.43-.59-.52 0-1.04.2-1.43.59L10.3 9.45l-7.72 7.72c-.78.78-.78 2.05 0 2.83L4 21.41c.39.39.9.59 1.41.59.51 0 1.02-.2 1.41-.59l7.78-7.78 2.81-2.81c.8-.78.8-2.07 0-2.86zM5.41 20L4 18.59l7.72-7.72 1.47 1.35L5.41 20z\"/>\n",
              "  </svg>\n",
              "      </button>\n",
              "      \n",
              "  <style>\n",
              "    .colab-df-container {\n",
              "      display:flex;\n",
              "      flex-wrap:wrap;\n",
              "      gap: 12px;\n",
              "    }\n",
              "\n",
              "    .colab-df-convert {\n",
              "      background-color: #E8F0FE;\n",
              "      border: none;\n",
              "      border-radius: 50%;\n",
              "      cursor: pointer;\n",
              "      display: none;\n",
              "      fill: #1967D2;\n",
              "      height: 32px;\n",
              "      padding: 0 0 0 0;\n",
              "      width: 32px;\n",
              "    }\n",
              "\n",
              "    .colab-df-convert:hover {\n",
              "      background-color: #E2EBFA;\n",
              "      box-shadow: 0px 1px 2px rgba(60, 64, 67, 0.3), 0px 1px 3px 1px rgba(60, 64, 67, 0.15);\n",
              "      fill: #174EA6;\n",
              "    }\n",
              "\n",
              "    [theme=dark] .colab-df-convert {\n",
              "      background-color: #3B4455;\n",
              "      fill: #D2E3FC;\n",
              "    }\n",
              "\n",
              "    [theme=dark] .colab-df-convert:hover {\n",
              "      background-color: #434B5C;\n",
              "      box-shadow: 0px 1px 3px 1px rgba(0, 0, 0, 0.15);\n",
              "      filter: drop-shadow(0px 1px 2px rgba(0, 0, 0, 0.3));\n",
              "      fill: #FFFFFF;\n",
              "    }\n",
              "  </style>\n",
              "\n",
              "      <script>\n",
              "        const buttonEl =\n",
              "          document.querySelector('#df-97193e85-143e-4fe7-8c4d-822c3c755ff8 button.colab-df-convert');\n",
              "        buttonEl.style.display =\n",
              "          google.colab.kernel.accessAllowed ? 'block' : 'none';\n",
              "\n",
              "        async function convertToInteractive(key) {\n",
              "          const element = document.querySelector('#df-97193e85-143e-4fe7-8c4d-822c3c755ff8');\n",
              "          const dataTable =\n",
              "            await google.colab.kernel.invokeFunction('convertToInteractive',\n",
              "                                                     [key], {});\n",
              "          if (!dataTable) return;\n",
              "\n",
              "          const docLinkHtml = 'Like what you see? Visit the ' +\n",
              "            '<a target=\"_blank\" href=https://colab.research.google.com/notebooks/data_table.ipynb>data table notebook</a>'\n",
              "            + ' to learn more about interactive tables.';\n",
              "          element.innerHTML = '';\n",
              "          dataTable['output_type'] = 'display_data';\n",
              "          await google.colab.output.renderOutput(dataTable, element);\n",
              "          const docLink = document.createElement('div');\n",
              "          docLink.innerHTML = docLinkHtml;\n",
              "          element.appendChild(docLink);\n",
              "        }\n",
              "      </script>\n",
              "    </div>\n",
              "  </div>\n",
              "  "
            ]
          },
          "metadata": {},
          "execution_count": 180
        }
      ]
    },
    {
      "cell_type": "code",
      "source": [
        "seaborn.barplot(x=charge_off_pub_rec_bkruptcies.iloc[0:].index,y=charge_off_pub_rec_bkruptcies.iloc[0:]['Charged Off Rate'])"
      ],
      "metadata": {
        "colab": {
          "base_uri": "https://localhost:8080/",
          "height": 468
        },
        "id": "OAsTackf9_mL",
        "outputId": "de80eb2d-258e-43c4-9337-414a923f799c"
      },
      "execution_count": 181,
      "outputs": [
        {
          "output_type": "execute_result",
          "data": {
            "text/plain": [
              "<Axes: xlabel='pub_rec_bankruptcies', ylabel='Charged Off Rate'>"
            ]
          },
          "metadata": {},
          "execution_count": 181
        },
        {
          "output_type": "display_data",
          "data": {
            "text/plain": [
              "<Figure size 640x480 with 1 Axes>"
            ],
            "image/png": "[encoded data removed]"
          },
          "metadata": {}
        }
      ]
    },
    {
      "cell_type": "code",
      "source": [
        "charge_off_verification_status = loan_df.pivot_table(values = 'funded_amnt',\n",
        "                      index = 'verification_status',\n",
        "                      columns = 'loan_status',\n",
        "                      aggfunc = numpy.count_nonzero,\n",
        "                      fill_value = 0)\n",
        "\n",
        "charge_off_verification_status['Total'] = charge_off_verification_status['Charged Off'] + charge_off_verification_status['Current'] + charge_off_verification_status['Fully Paid']\n",
        "\n",
        "charge_off_verification_status['Charged Off Rate'] = 100*(round((charge_off_verification_status['Charged Off']/charge_off_verification_status['Total']), 6))\n",
        "charge_off_verification_status"
      ],
      "metadata": {
        "colab": {
          "base_uri": "https://localhost:8080/",
          "height": 175
        },
        "id": "SWePoerv-Hvg",
        "outputId": "c2fb5b57-3677-4e93-eca5-ebb14faf764a"
      },
      "execution_count": 182,
      "outputs": [
        {
          "output_type": "execute_result",
          "data": {
            "text/plain": [
              "loan_status          Charged Off  Current  Fully Paid  Total  Charged Off Rate\n",
              "verification_status                                                           \n",
              "Not Verified                2142      227       14552  16921           12.6588\n",
              "Source Verified             1434      310        8243   9987           14.3587\n",
              "Verified                    2051      603       10155  12809           16.0122"
            ],
            "text/html": [
              "\n",
              "  <div id=\"df-e4787958-39fb-415d-b4e2-c7be711f05b2\">\n",
              "    <div class=\"colab-df-container\">\n",
              "      <div>\n",
              "<style scoped>\n",
              "    .dataframe tbody tr th:only-of-type {\n",
              "        vertical-align: middle;\n",
              "    }\n",
              "\n",
              "    .dataframe tbody tr th {\n",
              "        vertical-align: top;\n",
              "    }\n",
              "\n",
              "    .dataframe thead th {\n",
              "        text-align: right;\n",
              "    }\n",
              "</style>\n",
              "<table border=\"1\" class=\"dataframe\">\n",
              "  <thead>\n",
              "    <tr style=\"text-align: right;\">\n",
              "      <th>loan_status</th>\n",
              "      <th>Charged Off</th>\n",
              "      <th>Current</th>\n",
              "      <th>Fully Paid</th>\n",
              "      <th>Total</th>\n",
              "      <th>Charged Off Rate</th>\n",
              "    </tr>\n",
              "    <tr>\n",
              "      <th>verification_status</th>\n",
              "      <th></th>\n",
              "      <th></th>\n",
              "      <th></th>\n",
              "      <th></th>\n",
              "      <th></th>\n",
              "    </tr>\n",
              "  </thead>\n",
              "  <tbody>\n",
              "    <tr>\n",
              "      <th>Not Verified</th>\n",
              "      <td>2142</td>\n",
              "      <td>227</td>\n",
              "      <td>14552</td>\n",
              "      <td>16921</td>\n",
              "      <td>12.6588</td>\n",
              "    </tr>\n",
              "    <tr>\n",
              "      <th>Source Verified</th>\n",
              "      <td>1434</td>\n",
              "      <td>310</td>\n",
              "      <td>8243</td>\n",
              "      <td>9987</td>\n",
              "      <td>14.3587</td>\n",
              "    </tr>\n",
              "    <tr>\n",
              "      <th>Verified</th>\n",
              "      <td>2051</td>\n",
              "      <td>603</td>\n",
              "      <td>10155</td>\n",
              "      <td>12809</td>\n",
              "      <td>16.0122</td>\n",
              "    </tr>\n",
              "  </tbody>\n",
              "</table>\n",
              "</div>\n",
              "      <button class=\"colab-df-convert\" onclick=\"convertToInteractive('df-e4787958-39fb-415d-b4e2-c7be711f05b2')\"\n",
              "              title=\"Convert this dataframe to an interactive table.\"\n",
              "              style=\"display:none;\">\n",
              "        \n",
              "  <svg xmlns=\"http://www.w3.org/2000/svg\" height=\"24px\"viewBox=\"0 0 24 24\"\n",
              "       width=\"24px\">\n",
              "    <path d=\"M0 0h24v24H0V0z\" fill=\"none\"/>\n",
              "    <path d=\"M18.56 5.44l.94 2.06.94-2.06 2.06-.94-2.06-.94-.94-2.06-.94 2.06-2.06.94zm-11 1L8.5 8.5l.94-2.06 2.06-.94-2.06-.94L8.5 2.5l-.94 2.06-2.06.94zm10 10l.94 2.06.94-2.06 2.06-.94-2.06-.94-.94-2.06-.94 2.06-2.06.94z\"/><path d=\"M17.41 7.96l-1.37-1.37c-.4-.4-.92-.59-1.43-.59-.52 0-1.04.2-1.43.59L10.3 9.45l-7.72 7.72c-.78.78-.78 2.05 0 2.83L4 21.41c.39.39.9.59 1.41.59.51 0 1.02-.2 1.41-.59l7.78-7.78 2.81-2.81c.8-.78.8-2.07 0-2.86zM5.41 20L4 18.59l7.72-7.72 1.47 1.35L5.41 20z\"/>\n",
              "  </svg>\n",
              "      </button>\n",
              "      \n",
              "  <style>\n",
              "    .colab-df-container {\n",
              "      display:flex;\n",
              "      flex-wrap:wrap;\n",
              "      gap: 12px;\n",
              "    }\n",
              "\n",
              "    .colab-df-convert {\n",
              "      background-color: #E8F0FE;\n",
              "      border: none;\n",
              "      border-radius: 50%;\n",
              "      cursor: pointer;\n",
              "      display: none;\n",
              "      fill: #1967D2;\n",
              "      height: 32px;\n",
              "      padding: 0 0 0 0;\n",
              "      width: 32px;\n",
              "    }\n",
              "\n",
              "    .colab-df-convert:hover {\n",
              "      background-color: #E2EBFA;\n",
              "      box-shadow: 0px 1px 2px rgba(60, 64, 67, 0.3), 0px 1px 3px 1px rgba(60, 64, 67, 0.15);\n",
              "      fill: #174EA6;\n",
              "    }\n",
              "\n",
              "    [theme=dark] .colab-df-convert {\n",
              "      background-color: #3B4455;\n",
              "      fill: #D2E3FC;\n",
              "    }\n",
              "\n",
              "    [theme=dark] .colab-df-convert:hover {\n",
              "      background-color: #434B5C;\n",
              "      box-shadow: 0px 1px 3px 1px rgba(0, 0, 0, 0.15);\n",
              "      filter: drop-shadow(0px 1px 2px rgba(0, 0, 0, 0.3));\n",
              "      fill: #FFFFFF;\n",
              "    }\n",
              "  </style>\n",
              "\n",
              "      <script>\n",
              "        const buttonEl =\n",
              "          document.querySelector('#df-e4787958-39fb-415d-b4e2-c7be711f05b2 button.colab-df-convert');\n",
              "        buttonEl.style.display =\n",
              "          google.colab.kernel.accessAllowed ? 'block' : 'none';\n",
              "\n",
              "        async function convertToInteractive(key) {\n",
              "          const element = document.querySelector('#df-e4787958-39fb-415d-b4e2-c7be711f05b2');\n",
              "          const dataTable =\n",
              "            await google.colab.kernel.invokeFunction('convertToInteractive',\n",
              "                                                     [key], {});\n",
              "          if (!dataTable) return;\n",
              "\n",
              "          const docLinkHtml = 'Like what you see? Visit the ' +\n",
              "            '<a target=\"_blank\" href=https://colab.research.google.com/notebooks/data_table.ipynb>data table notebook</a>'\n",
              "            + ' to learn more about interactive tables.';\n",
              "          element.innerHTML = '';\n",
              "          dataTable['output_type'] = 'display_data';\n",
              "          await google.colab.output.renderOutput(dataTable, element);\n",
              "          const docLink = document.createElement('div');\n",
              "          docLink.innerHTML = docLinkHtml;\n",
              "          element.appendChild(docLink);\n",
              "        }\n",
              "      </script>\n",
              "    </div>\n",
              "  </div>\n",
              "  "
            ]
          },
          "metadata": {},
          "execution_count": 182
        }
      ]
    },
    {
      "cell_type": "code",
      "source": [
        "seaborn.barplot(x=charge_off_verification_status.iloc[0:].index,y=charge_off_verification_status.iloc[0:]['Charged Off Rate'])"
      ],
      "metadata": {
        "colab": {
          "base_uri": "https://localhost:8080/",
          "height": 468
        },
        "id": "HhivEK5D-Pr6",
        "outputId": "d6d1060d-6aa5-490e-e2e0-d396c20bac32"
      },
      "execution_count": 183,
      "outputs": [
        {
          "output_type": "execute_result",
          "data": {
            "text/plain": [
              "<Axes: xlabel='verification_status', ylabel='Charged Off Rate'>"
            ]
          },
          "metadata": {},
          "execution_count": 183
        },
        {
          "output_type": "display_data",
          "data": {
            "text/plain": [
              "<Figure size 640x480 with 1 Axes>"
            ],
            "image/png": "[encoded data removed]"
          },
          "metadata": {}
        }
      ]
    },
    {
      "cell_type": "markdown",
      "source": [
        "# Segmented Univariate Analysis"
      ],
      "metadata": {
        "id": "JEzexv2mpzb_"
      }
    },
    {
      "cell_type": "markdown",
      "source": [
        "Getting the number of Charged Off Loan and Loans Paid in Complete"
      ],
      "metadata": {
        "id": "RHJWn-T6TMiy"
      }
    },
    {
      "cell_type": "code",
      "source": [
        "ax =seaborn.countplot(x=loan_df_filtered['loan_status'],data=loan_df_filtered)\n",
        "ax.bar_label(ax.containers[0])"
      ],
      "metadata": {
        "id": "fA3XSRqZTTZA"
      },
      "execution_count": null,
      "outputs": []
    },
    {
      "cell_type": "markdown",
      "source": [
        "It can be seen from the above plot that we have 5627 as Charged Off Loan and Fully Paid loan are 32950"
      ],
      "metadata": {
        "id": "3NR9KOS9UTQi"
      }
    },
    {
      "cell_type": "markdown",
      "source": [
        "Now we will gather the categorical variables from the dataset and see the relation of Loan Default with them"
      ],
      "metadata": {
        "id": "QaLQ4NRCUcPb"
      }
    },
    {
      "cell_type": "markdown",
      "source": [
        "#### Categorical Univariate Analysis\n",
        "\n",
        "\n",
        "\n"
      ],
      "metadata": {
        "id": "gFEQtJR0XYVS"
      }
    },
    {
      "cell_type": "markdown",
      "source": [
        "Checking the Grade of the Loans which are charged off"
      ],
      "metadata": {
        "id": "L3MeZon_XLWs"
      }
    },
    {
      "cell_type": "code",
      "source": [
        "loan_charged_off=loan_df_filtered[(loan_df_filtered['loan_status']=='Charged Off')]"
      ],
      "metadata": {
        "id": "6ocJS0OQXnl2"
      },
      "execution_count": null,
      "outputs": []
    },
    {
      "cell_type": "code",
      "source": [
        "loan_charged_off['grade'].count()"
      ],
      "metadata": {
        "id": "T_E9EzlyY8Qw"
      },
      "execution_count": null,
      "outputs": []
    },
    {
      "cell_type": "code",
      "source": [
        "seaborn.countplot(x=loan_charged_off['grade'],data=loan_charged_off)"
      ],
      "metadata": {
        "id": "X3n8VjMfX3hF"
      },
      "execution_count": null,
      "outputs": []
    },
    {
      "cell_type": "markdown",
      "source": [
        "**It can be seen from the above graphical representation that Loans of Grade B are mostly defaulted**"
      ],
      "metadata": {
        "id": "VXLzhzSFZnTy"
      }
    },
    {
      "cell_type": "markdown",
      "source": [
        "Checking the employment tenure of the people who have defaulted on loans"
      ],
      "metadata": {
        "id": "uEh1Q_r2Z5wd"
      }
    },
    {
      "cell_type": "code",
      "source": [
        "seaborn.countplot(x=loan_charged_off['emp_length'],data=loan_charged_off)"
      ],
      "metadata": {
        "id": "3alanbgcaTvo"
      },
      "execution_count": null,
      "outputs": []
    },
    {
      "cell_type": "markdown",
      "source": [
        "**It can be seen from the above graph employees which 10 or more years of experience have tendency to default on Loan**"
      ],
      "metadata": {
        "id": "AorVcPvcab6b"
      }
    },
    {
      "cell_type": "markdown",
      "source": [
        "Checking what is the status of home ownership of defaulted people"
      ],
      "metadata": {
        "id": "RzKjlnGzaqQp"
      }
    },
    {
      "cell_type": "code",
      "source": [
        "seaborn.countplot(x=loan_charged_off['home_ownership'],data=loan_charged_off)"
      ],
      "metadata": {
        "id": "oxbSH7DQavvr"
      },
      "execution_count": null,
      "outputs": []
    },
    {
      "cell_type": "markdown",
      "source": [
        "**Maximum number of people who have defaulted have rented accomadation**"
      ],
      "metadata": {
        "id": "l5wIVu4ma0N4"
      }
    },
    {
      "cell_type": "markdown",
      "source": [
        "Now we will check from what state most of the defaulted people were"
      ],
      "metadata": {
        "id": "wgxWaK3ja9Sq"
      }
    },
    {
      "cell_type": "code",
      "source": [
        "plt.figure(figsize=(15,8))\n",
        "fig=seaborn.countplot(x=loan_charged_off['addr_state'],data=loan_charged_off)"
      ],
      "metadata": {
        "id": "RpPjxNdxbApP"
      },
      "execution_count": null,
      "outputs": []
    },
    {
      "cell_type": "markdown",
      "source": [
        "**Majority of the defaults are happening from the state of California**"
      ],
      "metadata": {
        "id": "sSpW2b17cjV9"
      }
    },
    {
      "cell_type": "markdown",
      "source": [
        "Now we will validate if the income of the applicants for defaulted loan was verified or not"
      ],
      "metadata": {
        "id": "uZ_cXqZOcwZy"
      }
    },
    {
      "cell_type": "code",
      "source": [
        "fig=seaborn.countplot(x=loan_charged_off['verification_status'],data=loan_charged_off)"
      ],
      "metadata": {
        "id": "8kh6EggJc1au"
      },
      "execution_count": null,
      "outputs": []
    },
    {
      "cell_type": "markdown",
      "source": [
        "**It is evident from the above graph that source of income of the defaulers was not verified**"
      ],
      "metadata": {
        "id": "dFj_crtZc9v8"
      }
    },
    {
      "cell_type": "markdown",
      "source": [
        "Now we will check if any particular purpose of a loan plays an important part in defaulting on loan payment"
      ],
      "metadata": {
        "id": "eEiEtY2MdXLT"
      }
    },
    {
      "cell_type": "code",
      "source": [
        "plt.figure(figsize=(25,8))\n",
        "fig=seaborn.countplot(x=loan_charged_off['purpose'],data=loan_charged_off)"
      ],
      "metadata": {
        "id": "bacTKFu-dhMO"
      },
      "execution_count": null,
      "outputs": []
    },
    {
      "cell_type": "markdown",
      "source": [
        "**From the above graph it could be seen that debt consolidation is the main purpose for which loan is taken and defaulted.This means that people already have certain debt on them**"
      ],
      "metadata": {
        "id": "hdILbSVFhDP1"
      }
    },
    {
      "cell_type": "markdown",
      "source": [
        "Now we will see the month in which loans issued are defaulted"
      ],
      "metadata": {
        "id": "W_0fpf75hbsP"
      }
    },
    {
      "cell_type": "code",
      "source": [
        "loan_charged_off['issue_d']=loan_charged_off.issue_d.apply(lambda d: datetime.strptime(d, '%b-%y'))"
      ],
      "metadata": {
        "id": "pE2tBfGOhC59"
      },
      "execution_count": null,
      "outputs": []
    },
    {
      "cell_type": "code",
      "source": [
        "loan_charged_off['issue_month']=loan_charged_off['issue_d'].dt.month\n",
        "loan_charged_off['issue_year']=loan_charged_off['issue_d'].dt.year\n"
      ],
      "metadata": {
        "id": "pN3-tNGqiJZP"
      },
      "execution_count": null,
      "outputs": []
    },
    {
      "cell_type": "code",
      "source": [
        "fig=seaborn.countplot(x=loan_charged_off['issue_month'],data=loan_charged_off)"
      ],
      "metadata": {
        "id": "k5mI-o81iU1l"
      },
      "execution_count": null,
      "outputs": []
    },
    {
      "cell_type": "markdown",
      "source": [
        "**Most of the loans are issued in the month of December.This seems fair as it is Holiday season and people apply for loans**"
      ],
      "metadata": {
        "id": "cohO2m85ia6J"
      }
    },
    {
      "cell_type": "code",
      "source": [
        "fig=seaborn.countplot(x=loan_charged_off['issue_year'],data=loan_charged_off)"
      ],
      "metadata": {
        "id": "II2GoBkcioUd"
      },
      "execution_count": null,
      "outputs": []
    },
    {
      "cell_type": "markdown",
      "source": [
        "**The number of loans issued have increased consistently and os has the default rate**"
      ],
      "metadata": {
        "id": "g7HY_konir8V"
      }
    },
    {
      "cell_type": "markdown",
      "source": [
        "#### Univariate Loan Default Analysis with Continuous Variables"
      ],
      "metadata": {
        "id": "XhD4wjBGkjEn"
      }
    },
    {
      "cell_type": "code",
      "source": [],
      "metadata": {
        "id": "wfNy7jW4k3Iq"
      },
      "execution_count": null,
      "outputs": []
    },
    {
      "cell_type": "markdown",
      "source": [
        "# *Multivariate* Analysis"
      ],
      "metadata": {
        "id": "Kz2rfEaVYAhy"
      }
    },
    {
      "cell_type": "code",
      "source": [
        "seaborn.heatmap(loan_df_filtered.corr())"
      ],
      "metadata": {
        "id": "jXPvaAkQvBUS"
      },
      "execution_count": null,
      "outputs": []
    },
    {
      "cell_type": "markdown",
      "source": [
        "As it can be seen from the above heat map.\n",
        "\n",
        "1.   There is very high correlation between loan_amnt,funded_amnt,funded_amnt_inv.\n",
        "\n",
        "2.   There is high correlation between pub_rec_bankruptcies and pub_rec\n",
        "\n",
        "3.   There is medium correlation between open_acc and total_acc\n",
        "\n",
        "4.   There is relatively medium correlation between term and int_rate\n",
        "\n",
        "\n",
        "\n"
      ],
      "metadata": {
        "id": "k6M1Nw5PJ5rq"
      }
    },
    {
      "cell_type": "markdown",
      "source": [
        "#Conclusion"
      ],
      "metadata": {
        "id": "OKFmEs3sp5wR"
      }
    }
  ]
}