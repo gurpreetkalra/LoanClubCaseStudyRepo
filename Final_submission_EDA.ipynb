{
 "cells": [
  {
   "cell_type": "markdown",
   "metadata": {
    "id": "t7tSbzLxegjH"
   },
   "source": [
    "# Problem Statement"
   ]
  },
  {
   "cell_type": "markdown",
   "metadata": {
    "id": "MlvNyWemeVpo"
   },
   "source": [
    "In other words, borrowers who default cause the largest amount of loss to the lenders. In this case, the customers labelled as 'charged-off' are the 'defaulters'. If one is able to identify these risky loan applicants, then such loans can be reduced thereby cutting down the amount of credit loss. Identification of such applicants using EDA is the aim of this case study."
   ]
  },
  {
   "cell_type": "markdown",
   "metadata": {
    "id": "d7_UEPjheqZO"
   },
   "source": [
    "# Introduction to Dataset"
   ]
  },
  {
   "cell_type": "code",
   "execution_count": 2,
   "metadata": {
    "id": "31Zo-iCCAkSz"
   },
   "outputs": [],
   "source": [
    "import pandas\n",
    "import matplotlib.pyplot as plt\n",
    "import numpy\n",
    "#from google.colab import files\n",
    "import io\n",
    "import seaborn\n",
    "from datetime import datetime\n",
    "import warnings\n",
    "warnings.filterwarnings('ignore')"
   ]
  },
  {
   "cell_type": "code",
   "execution_count": 3,
   "metadata": {
    "colab": {
     "base_uri": "https://localhost:8080/",
     "height": 479
    },
    "id": "SkJZVoQAAnTI",
    "outputId": "fa5fe1d5-0526-4b0d-e5fa-971687daf5b0"
   },
   "outputs": [
    {
     "data": {
      "text/html": [
       "<div>\n",
       "<style scoped>\n",
       "    .dataframe tbody tr th:only-of-type {\n",
       "        vertical-align: middle;\n",
       "    }\n",
       "\n",
       "    .dataframe tbody tr th {\n",
       "        vertical-align: top;\n",
       "    }\n",
       "\n",
       "    .dataframe thead th {\n",
       "        text-align: right;\n",
       "    }\n",
       "</style>\n",
       "<table border=\"1\" class=\"dataframe\">\n",
       "  <thead>\n",
       "    <tr style=\"text-align: right;\">\n",
       "      <th></th>\n",
       "      <th>id</th>\n",
       "      <th>member_id</th>\n",
       "      <th>loan_amnt</th>\n",
       "      <th>funded_amnt</th>\n",
       "      <th>funded_amnt_inv</th>\n",
       "      <th>term</th>\n",
       "      <th>int_rate</th>\n",
       "      <th>installment</th>\n",
       "      <th>grade</th>\n",
       "      <th>sub_grade</th>\n",
       "      <th>...</th>\n",
       "      <th>num_tl_90g_dpd_24m</th>\n",
       "      <th>num_tl_op_past_12m</th>\n",
       "      <th>pct_tl_nvr_dlq</th>\n",
       "      <th>percent_bc_gt_75</th>\n",
       "      <th>pub_rec_bankruptcies</th>\n",
       "      <th>tax_liens</th>\n",
       "      <th>tot_hi_cred_lim</th>\n",
       "      <th>total_bal_ex_mort</th>\n",
       "      <th>total_bc_limit</th>\n",
       "      <th>total_il_high_credit_limit</th>\n",
       "    </tr>\n",
       "  </thead>\n",
       "  <tbody>\n",
       "    <tr>\n",
       "      <th>0</th>\n",
       "      <td>1077501</td>\n",
       "      <td>1296599</td>\n",
       "      <td>5000</td>\n",
       "      <td>5000</td>\n",
       "      <td>4975.0</td>\n",
       "      <td>36 months</td>\n",
       "      <td>10.65%</td>\n",
       "      <td>162.87</td>\n",
       "      <td>B</td>\n",
       "      <td>B2</td>\n",
       "      <td>...</td>\n",
       "      <td>NaN</td>\n",
       "      <td>NaN</td>\n",
       "      <td>NaN</td>\n",
       "      <td>NaN</td>\n",
       "      <td>0.0</td>\n",
       "      <td>0.0</td>\n",
       "      <td>NaN</td>\n",
       "      <td>NaN</td>\n",
       "      <td>NaN</td>\n",
       "      <td>NaN</td>\n",
       "    </tr>\n",
       "    <tr>\n",
       "      <th>1</th>\n",
       "      <td>1077430</td>\n",
       "      <td>1314167</td>\n",
       "      <td>2500</td>\n",
       "      <td>2500</td>\n",
       "      <td>2500.0</td>\n",
       "      <td>60 months</td>\n",
       "      <td>15.27%</td>\n",
       "      <td>59.83</td>\n",
       "      <td>C</td>\n",
       "      <td>C4</td>\n",
       "      <td>...</td>\n",
       "      <td>NaN</td>\n",
       "      <td>NaN</td>\n",
       "      <td>NaN</td>\n",
       "      <td>NaN</td>\n",
       "      <td>0.0</td>\n",
       "      <td>0.0</td>\n",
       "      <td>NaN</td>\n",
       "      <td>NaN</td>\n",
       "      <td>NaN</td>\n",
       "      <td>NaN</td>\n",
       "    </tr>\n",
       "    <tr>\n",
       "      <th>2</th>\n",
       "      <td>1077175</td>\n",
       "      <td>1313524</td>\n",
       "      <td>2400</td>\n",
       "      <td>2400</td>\n",
       "      <td>2400.0</td>\n",
       "      <td>36 months</td>\n",
       "      <td>15.96%</td>\n",
       "      <td>84.33</td>\n",
       "      <td>C</td>\n",
       "      <td>C5</td>\n",
       "      <td>...</td>\n",
       "      <td>NaN</td>\n",
       "      <td>NaN</td>\n",
       "      <td>NaN</td>\n",
       "      <td>NaN</td>\n",
       "      <td>0.0</td>\n",
       "      <td>0.0</td>\n",
       "      <td>NaN</td>\n",
       "      <td>NaN</td>\n",
       "      <td>NaN</td>\n",
       "      <td>NaN</td>\n",
       "    </tr>\n",
       "    <tr>\n",
       "      <th>3</th>\n",
       "      <td>1076863</td>\n",
       "      <td>1277178</td>\n",
       "      <td>10000</td>\n",
       "      <td>10000</td>\n",
       "      <td>10000.0</td>\n",
       "      <td>36 months</td>\n",
       "      <td>13.49%</td>\n",
       "      <td>339.31</td>\n",
       "      <td>C</td>\n",
       "      <td>C1</td>\n",
       "      <td>...</td>\n",
       "      <td>NaN</td>\n",
       "      <td>NaN</td>\n",
       "      <td>NaN</td>\n",
       "      <td>NaN</td>\n",
       "      <td>0.0</td>\n",
       "      <td>0.0</td>\n",
       "      <td>NaN</td>\n",
       "      <td>NaN</td>\n",
       "      <td>NaN</td>\n",
       "      <td>NaN</td>\n",
       "    </tr>\n",
       "    <tr>\n",
       "      <th>4</th>\n",
       "      <td>1075358</td>\n",
       "      <td>1311748</td>\n",
       "      <td>3000</td>\n",
       "      <td>3000</td>\n",
       "      <td>3000.0</td>\n",
       "      <td>60 months</td>\n",
       "      <td>12.69%</td>\n",
       "      <td>67.79</td>\n",
       "      <td>B</td>\n",
       "      <td>B5</td>\n",
       "      <td>...</td>\n",
       "      <td>NaN</td>\n",
       "      <td>NaN</td>\n",
       "      <td>NaN</td>\n",
       "      <td>NaN</td>\n",
       "      <td>0.0</td>\n",
       "      <td>0.0</td>\n",
       "      <td>NaN</td>\n",
       "      <td>NaN</td>\n",
       "      <td>NaN</td>\n",
       "      <td>NaN</td>\n",
       "    </tr>\n",
       "  </tbody>\n",
       "</table>\n",
       "<p>5 rows × 111 columns</p>\n",
       "</div>"
      ],
      "text/plain": [
       "        id  member_id  loan_amnt  funded_amnt  funded_amnt_inv        term  \\\n",
       "0  1077501    1296599       5000         5000           4975.0   36 months   \n",
       "1  1077430    1314167       2500         2500           2500.0   60 months   \n",
       "2  1077175    1313524       2400         2400           2400.0   36 months   \n",
       "3  1076863    1277178      10000        10000          10000.0   36 months   \n",
       "4  1075358    1311748       3000         3000           3000.0   60 months   \n",
       "\n",
       "  int_rate  installment grade sub_grade  ... num_tl_90g_dpd_24m  \\\n",
       "0   10.65%       162.87     B        B2  ...                NaN   \n",
       "1   15.27%        59.83     C        C4  ...                NaN   \n",
       "2   15.96%        84.33     C        C5  ...                NaN   \n",
       "3   13.49%       339.31     C        C1  ...                NaN   \n",
       "4   12.69%        67.79     B        B5  ...                NaN   \n",
       "\n",
       "  num_tl_op_past_12m pct_tl_nvr_dlq  percent_bc_gt_75 pub_rec_bankruptcies  \\\n",
       "0                NaN            NaN               NaN                  0.0   \n",
       "1                NaN            NaN               NaN                  0.0   \n",
       "2                NaN            NaN               NaN                  0.0   \n",
       "3                NaN            NaN               NaN                  0.0   \n",
       "4                NaN            NaN               NaN                  0.0   \n",
       "\n",
       "  tax_liens tot_hi_cred_lim total_bal_ex_mort total_bc_limit  \\\n",
       "0       0.0             NaN               NaN            NaN   \n",
       "1       0.0             NaN               NaN            NaN   \n",
       "2       0.0             NaN               NaN            NaN   \n",
       "3       0.0             NaN               NaN            NaN   \n",
       "4       0.0             NaN               NaN            NaN   \n",
       "\n",
       "  total_il_high_credit_limit  \n",
       "0                        NaN  \n",
       "1                        NaN  \n",
       "2                        NaN  \n",
       "3                        NaN  \n",
       "4                        NaN  \n",
       "\n",
       "[5 rows x 111 columns]"
      ]
     },
     "execution_count": 3,
     "metadata": {},
     "output_type": "execute_result"
    }
   ],
   "source": [
    "#uploaded = files.upload()\n",
    "loan_df = pandas.read_csv(\"loan.csv\")\n",
    "loan_df.head(5)"
   ]
  },
  {
   "cell_type": "markdown",
   "metadata": {
    "id": "KmBXlGyhQlaf"
   },
   "source": [
    "Getting the shape of the dataframe"
   ]
  },
  {
   "cell_type": "code",
   "execution_count": 4,
   "metadata": {
    "colab": {
     "base_uri": "https://localhost:8080/"
    },
    "id": "BvfjP6xvD4Oe",
    "outputId": "31467f4a-82fc-4e4a-83ad-cfca0411fb1f"
   },
   "outputs": [
    {
     "data": {
      "text/plain": [
       "(39717, 111)"
      ]
     },
     "execution_count": 4,
     "metadata": {},
     "output_type": "execute_result"
    }
   ],
   "source": [
    "loan_df.shape\n"
   ]
  },
  {
   "cell_type": "markdown",
   "metadata": {
    "id": "xbiTwZp3QpMo"
   },
   "source": [
    "As it can be seen that we have 111 columns.We will now remove the unnecessary columns which are not requried.Getting the list of the columns"
   ]
  },
  {
   "cell_type": "code",
   "execution_count": 5,
   "metadata": {
    "colab": {
     "base_uri": "https://localhost:8080/"
    },
    "id": "9RCheXp2G8MW",
    "outputId": "e6f81b18-4962-45d2-da94-1980eb11bfc2"
   },
   "outputs": [
    {
     "data": {
      "text/plain": [
       "Index(['id', 'member_id', 'loan_amnt', 'funded_amnt', 'funded_amnt_inv',\n",
       "       'term', 'int_rate', 'installment', 'grade', 'sub_grade',\n",
       "       ...\n",
       "       'num_tl_90g_dpd_24m', 'num_tl_op_past_12m', 'pct_tl_nvr_dlq',\n",
       "       'percent_bc_gt_75', 'pub_rec_bankruptcies', 'tax_liens',\n",
       "       'tot_hi_cred_lim', 'total_bal_ex_mort', 'total_bc_limit',\n",
       "       'total_il_high_credit_limit'],\n",
       "      dtype='object', length=111)"
      ]
     },
     "execution_count": 5,
     "metadata": {},
     "output_type": "execute_result"
    }
   ],
   "source": [
    "loan_df.columns"
   ]
  },
  {
   "cell_type": "markdown",
   "metadata": {
    "id": "ADFt2vFdSATW"
   },
   "source": [
    "# Cleaning the Dataframe"
   ]
  },
  {
   "cell_type": "markdown",
   "metadata": {
    "id": "m-XuCYDcQyb8"
   },
   "source": [
    "Checking the columns which have NA values.Some of the columns will have all the columns as NA.As the number of NA values equal the row count in the dataframe"
   ]
  },
  {
   "cell_type": "code",
   "execution_count": 6,
   "metadata": {
    "colab": {
     "base_uri": "https://localhost:8080/"
    },
    "id": "emghXW5xZ_Ho",
    "outputId": "f29d9920-6d0b-4bba-fab6-2cccec8e669a"
   },
   "outputs": [
    {
     "data": {
      "text/plain": [
       "verification_status_joint    39717\n",
       "annual_inc_joint             39717\n",
       "mo_sin_old_rev_tl_op         39717\n",
       "mo_sin_old_il_acct           39717\n",
       "bc_util                      39717\n",
       "                             ...  \n",
       "delinq_amnt                      0\n",
       "policy_code                      0\n",
       "earliest_cr_line                 0\n",
       "delinq_2yrs                      0\n",
       "id                               0\n",
       "Length: 111, dtype: int64"
      ]
     },
     "execution_count": 6,
     "metadata": {},
     "output_type": "execute_result"
    }
   ],
   "source": [
    "loan_df.isna().sum().sort_values(ascending =False)"
   ]
  },
  {
   "cell_type": "markdown",
   "metadata": {
    "id": "qDbRIrPvRLT9"
   },
   "source": [
    "We have seen from above that there are columns where all the values are NA.So we will drop those columns from the dataset"
   ]
  },
  {
   "cell_type": "code",
   "execution_count": 7,
   "metadata": {
    "id": "ULoi8AB2bixO"
   },
   "outputs": [],
   "source": [
    "loan_df.dropna(how='all',axis=1,inplace=True)"
   ]
  },
  {
   "cell_type": "markdown",
   "metadata": {
    "id": "zzrgu9-WRVVV"
   },
   "source": [
    "Checking the shape of the dataframe again"
   ]
  },
  {
   "cell_type": "code",
   "execution_count": 8,
   "metadata": {
    "colab": {
     "base_uri": "https://localhost:8080/"
    },
    "id": "hXzDMeoBb-3t",
    "outputId": "b1acf74f-7375-4d9f-bf95-2bb1acee344c"
   },
   "outputs": [
    {
     "data": {
      "text/plain": [
       "(39717, 57)"
      ]
     },
     "execution_count": 8,
     "metadata": {},
     "output_type": "execute_result"
    }
   ],
   "source": [
    "loan_df.shape"
   ]
  },
  {
   "cell_type": "markdown",
   "metadata": {
    "id": "E4vf_9P4RY44"
   },
   "source": [
    "Checking columns which have unique values.If some columns have only 1 unique value then those columns will not play any affect on Loan Charge Off"
   ]
  },
  {
   "cell_type": "code",
   "execution_count": 9,
   "metadata": {
    "id": "_kML8smQcQvk"
   },
   "outputs": [
    {
     "data": {
      "text/plain": [
       "id                            39717\n",
       "member_id                     39717\n",
       "loan_amnt                       885\n",
       "funded_amnt                    1041\n",
       "funded_amnt_inv                8205\n",
       "term                              2\n",
       "int_rate                        371\n",
       "installment                   15383\n",
       "grade                             7\n",
       "sub_grade                        35\n",
       "emp_title                     28820\n",
       "emp_length                       11\n",
       "home_ownership                    5\n",
       "annual_inc                     5318\n",
       "verification_status               3\n",
       "issue_d                          55\n",
       "loan_status                       3\n",
       "pymnt_plan                        1\n",
       "url                           39717\n",
       "desc                          26527\n",
       "purpose                          14\n",
       "title                         19615\n",
       "zip_code                        823\n",
       "addr_state                       50\n",
       "dti                            2868\n",
       "delinq_2yrs                      11\n",
       "earliest_cr_line                526\n",
       "inq_last_6mths                    9\n",
       "mths_since_last_delinq           95\n",
       "mths_since_last_record          111\n",
       "open_acc                         40\n",
       "pub_rec                           5\n",
       "revol_bal                     21711\n",
       "revol_util                     1089\n",
       "total_acc                        82\n",
       "initial_list_status               1\n",
       "out_prncp                      1137\n",
       "out_prncp_inv                  1138\n",
       "total_pymnt                   37850\n",
       "total_pymnt_inv               37518\n",
       "total_rec_prncp                7976\n",
       "total_rec_int                 35148\n",
       "total_rec_late_fee             1356\n",
       "recoveries                     4040\n",
       "collection_recovery_fee        2616\n",
       "last_pymnt_d                    101\n",
       "last_pymnt_amnt               34930\n",
       "next_pymnt_d                      2\n",
       "last_credit_pull_d              106\n",
       "collections_12_mths_ex_med        1\n",
       "policy_code                       1\n",
       "application_type                  1\n",
       "acc_now_delinq                    1\n",
       "chargeoff_within_12_mths          1\n",
       "delinq_amnt                       1\n",
       "pub_rec_bankruptcies              3\n",
       "tax_liens                         1\n",
       "dtype: int64"
      ]
     },
     "execution_count": 9,
     "metadata": {},
     "output_type": "execute_result"
    }
   ],
   "source": [
    "columns=loan_df.nunique()\n",
    "columns"
   ]
  },
  {
   "cell_type": "markdown",
   "metadata": {
    "id": "nmNh6zVgRnBU"
   },
   "source": [
    "So we are dropping those columns from the dataframe as they won't be having any effect on the outcome of the loan"
   ]
  },
  {
   "cell_type": "code",
   "execution_count": 10,
   "metadata": {
    "id": "ZnDpMO9ycsHo"
   },
   "outputs": [],
   "source": [
    "single_values_columns=columns[columns.values==1]"
   ]
  },
  {
   "cell_type": "markdown",
   "metadata": {
    "id": "RyOk_TnQfMHe"
   },
   "source": [
    "Name of the columns with single value in them are as below:\n",
    "1.  pymnt_plan\n",
    "2.  initial_list_status\n",
    "3.  collections_12_mths_ex_med\n",
    "4.  policy_code\n",
    "5.  application_type\n",
    "6.  acc_now_delinq\n",
    "7.  chargeoff_within_12_mths\n",
    "8.  delinq_amnt\n",
    "9.  tax_liens"
   ]
  },
  {
   "cell_type": "code",
   "execution_count": 11,
   "metadata": {
    "colab": {
     "base_uri": "https://localhost:8080/"
    },
    "id": "UDV4L-LudXhv",
    "outputId": "19a4d522-337b-4210-9761-c6d1ab173d8d"
   },
   "outputs": [
    {
     "data": {
      "text/plain": [
       "Index(['pymnt_plan', 'initial_list_status', 'collections_12_mths_ex_med',\n",
       "       'policy_code', 'application_type', 'acc_now_delinq',\n",
       "       'chargeoff_within_12_mths', 'delinq_amnt', 'tax_liens'],\n",
       "      dtype='object')"
      ]
     },
     "execution_count": 11,
     "metadata": {},
     "output_type": "execute_result"
    }
   ],
   "source": [
    "single_values_columns.index"
   ]
  },
  {
   "cell_type": "code",
   "execution_count": 12,
   "metadata": {
    "id": "vRjJzVRZdayE"
   },
   "outputs": [],
   "source": [
    "loan_df.drop(list(single_values_columns.index),axis=1,inplace=True)"
   ]
  },
  {
   "cell_type": "markdown",
   "metadata": {
    "id": "yQFQHpfORwXm"
   },
   "source": [
    "Checking the shape of the dataframe"
   ]
  },
  {
   "cell_type": "code",
   "execution_count": 13,
   "metadata": {
    "colab": {
     "base_uri": "https://localhost:8080/"
    },
    "id": "bB9jmNvMexZd",
    "outputId": "96885ec5-5b07-4f53-809a-9c27b260e534"
   },
   "outputs": [
    {
     "data": {
      "text/plain": [
       "(39717, 48)"
      ]
     },
     "execution_count": 13,
     "metadata": {},
     "output_type": "execute_result"
    }
   ],
   "source": [
    "loan_df.shape"
   ]
  },
  {
   "cell_type": "code",
   "execution_count": 14,
   "metadata": {},
   "outputs": [
    {
     "name": "stdout",
     "output_type": "stream",
     "text": [
      "Column 'id' - dtype: int64, unique values: 39717\n",
      "Column 'member_id' - dtype: int64, unique values: 39717\n",
      "Column 'loan_amnt' - dtype: int64, unique values: 885\n",
      "Column 'funded_amnt' - dtype: int64, unique values: 1041\n",
      "Column 'funded_amnt_inv' - dtype: float64, unique values: 8205\n",
      "Column 'term' - dtype: object, unique values: 2\n",
      "Column 'int_rate' - dtype: object, unique values: 371\n",
      "Column 'installment' - dtype: float64, unique values: 15383\n",
      "Column 'grade' - dtype: object, unique values: 7\n",
      "Column 'sub_grade' - dtype: object, unique values: 35\n",
      "Column 'emp_title' - dtype: object, unique values: 28820\n",
      "Column 'emp_length' - dtype: object, unique values: 11\n",
      "Column 'home_ownership' - dtype: object, unique values: 5\n",
      "Column 'annual_inc' - dtype: float64, unique values: 5318\n",
      "Column 'verification_status' - dtype: object, unique values: 3\n",
      "Column 'issue_d' - dtype: object, unique values: 55\n",
      "Column 'loan_status' - dtype: object, unique values: 3\n",
      "Column 'url' - dtype: object, unique values: 39717\n",
      "Column 'desc' - dtype: object, unique values: 26527\n",
      "Column 'purpose' - dtype: object, unique values: 14\n",
      "Column 'title' - dtype: object, unique values: 19615\n",
      "Column 'zip_code' - dtype: object, unique values: 823\n",
      "Column 'addr_state' - dtype: object, unique values: 50\n",
      "Column 'dti' - dtype: float64, unique values: 2868\n",
      "Column 'delinq_2yrs' - dtype: int64, unique values: 11\n",
      "Column 'earliest_cr_line' - dtype: object, unique values: 526\n",
      "Column 'inq_last_6mths' - dtype: int64, unique values: 9\n",
      "Column 'mths_since_last_delinq' - dtype: float64, unique values: 95\n",
      "Column 'mths_since_last_record' - dtype: float64, unique values: 111\n",
      "Column 'open_acc' - dtype: int64, unique values: 40\n",
      "Column 'pub_rec' - dtype: int64, unique values: 5\n",
      "Column 'revol_bal' - dtype: int64, unique values: 21711\n",
      "Column 'revol_util' - dtype: object, unique values: 1089\n",
      "Column 'total_acc' - dtype: int64, unique values: 82\n",
      "Column 'out_prncp' - dtype: float64, unique values: 1137\n",
      "Column 'out_prncp_inv' - dtype: float64, unique values: 1138\n",
      "Column 'total_pymnt' - dtype: float64, unique values: 37850\n",
      "Column 'total_pymnt_inv' - dtype: float64, unique values: 37518\n",
      "Column 'total_rec_prncp' - dtype: float64, unique values: 7976\n",
      "Column 'total_rec_int' - dtype: float64, unique values: 35148\n",
      "Column 'total_rec_late_fee' - dtype: float64, unique values: 1356\n",
      "Column 'recoveries' - dtype: float64, unique values: 4040\n",
      "Column 'collection_recovery_fee' - dtype: float64, unique values: 2616\n",
      "Column 'last_pymnt_d' - dtype: object, unique values: 101\n",
      "Column 'last_pymnt_amnt' - dtype: float64, unique values: 34930\n",
      "Column 'next_pymnt_d' - dtype: object, unique values: 2\n",
      "Column 'last_credit_pull_d' - dtype: object, unique values: 106\n",
      "Column 'pub_rec_bankruptcies' - dtype: float64, unique values: 3\n"
     ]
    }
   ],
   "source": [
    "# print data type and unique value information for each column\n",
    "for column in loan_df.columns:\n",
    "    print(f\"Column '{column}' - dtype: {loan_df[column].dtype}, unique values: {loan_df[column].nunique()}\")"
   ]
  },
  {
   "cell_type": "markdown",
   "metadata": {
    "id": "VL4coUwIOWzQ"
   },
   "source": [
    "Removing below columns from the dataframe as these won't affect the loan rejection outcome.We got the definition of these columns from the Data dictionary\n",
    "\n",
    "1. id-> A unique LC assigned ID for the loan listing.\n",
    "2. member_id-> A unique LC assigned Id for the borrower member.\n",
    "3. url-> URL for the LC page with listing data.\n",
    "4. zip_code-> The first 3 numbers of the zip code provided by the borrower in the loan application.\n",
    "5. emp_title - The job title supplied by the Borrower when applying for the loan.Additionally this information got changed to employee name after 9/23/2013. Further it has text record with subjective information that does not add uniformity with each other.hence should be removed\n",
    "6. title - The loan title provided by the borrower , there are 19615 unique entries for this column and the information is more a remarks and would not add value to the EDA \n",
    "7. desc - Loan description provided by the borrower , there are 26527 unique entries for this columns and the information is desc with maximum values as unique.\n",
    "\n"
   ]
  },
  {
   "cell_type": "code",
   "execution_count": 15,
   "metadata": {
    "id": "FjrHhhFkV5yC"
   },
   "outputs": [],
   "source": [
    "columns_to_drop=['id','member_id','url','zip_code','emp_title','title','desc']\n",
    "loan_df.drop(columns=columns_to_drop,inplace=True)"
   ]
  },
  {
   "cell_type": "code",
   "execution_count": 16,
   "metadata": {
    "colab": {
     "base_uri": "https://localhost:8080/"
    },
    "id": "sG7YzvVLbOQx",
    "outputId": "fea3f1cc-738d-4718-dfa0-02c2bdf6d67e"
   },
   "outputs": [
    {
     "data": {
      "text/plain": [
       "Index(['loan_amnt', 'funded_amnt', 'funded_amnt_inv', 'term', 'int_rate',\n",
       "       'installment', 'grade', 'sub_grade', 'emp_length', 'home_ownership',\n",
       "       'annual_inc', 'verification_status', 'issue_d', 'loan_status',\n",
       "       'purpose', 'addr_state', 'dti', 'delinq_2yrs', 'earliest_cr_line',\n",
       "       'inq_last_6mths', 'mths_since_last_delinq', 'mths_since_last_record',\n",
       "       'open_acc', 'pub_rec', 'revol_bal', 'revol_util', 'total_acc',\n",
       "       'out_prncp', 'out_prncp_inv', 'total_pymnt', 'total_pymnt_inv',\n",
       "       'total_rec_prncp', 'total_rec_int', 'total_rec_late_fee', 'recoveries',\n",
       "       'collection_recovery_fee', 'last_pymnt_d', 'last_pymnt_amnt',\n",
       "       'next_pymnt_d', 'last_credit_pull_d', 'pub_rec_bankruptcies'],\n",
       "      dtype='object')"
      ]
     },
     "execution_count": 16,
     "metadata": {},
     "output_type": "execute_result"
    }
   ],
   "source": [
    "loan_df.columns"
   ]
  },
  {
   "cell_type": "markdown",
   "metadata": {
    "id": "BgqazwPbhOiC"
   },
   "source": [
    "Checking the Percentage of the missing values in the columns"
   ]
  },
  {
   "cell_type": "code",
   "execution_count": 17,
   "metadata": {
    "colab": {
     "base_uri": "https://localhost:8080/"
    },
    "id": "to-rp0dgMpMS",
    "outputId": "46a358db-a26a-47c1-b6a7-af7e9a4031fa"
   },
   "outputs": [
    {
     "data": {
      "text/plain": [
       "next_pymnt_d               97.13\n",
       "mths_since_last_record     92.99\n",
       "mths_since_last_delinq     64.66\n",
       "emp_length                  2.71\n",
       "pub_rec_bankruptcies        1.75\n",
       "last_pymnt_d                0.18\n",
       "revol_util                  0.13\n",
       "last_credit_pull_d          0.01\n",
       "installment                 0.00\n",
       "total_rec_prncp             0.00\n",
       "total_acc                   0.00\n",
       "out_prncp                   0.00\n",
       "out_prncp_inv               0.00\n",
       "total_pymnt                 0.00\n",
       "total_pymnt_inv             0.00\n",
       "total_rec_int               0.00\n",
       "grade                       0.00\n",
       "total_rec_late_fee          0.00\n",
       "recoveries                  0.00\n",
       "collection_recovery_fee     0.00\n",
       "last_pymnt_amnt             0.00\n",
       "funded_amnt_inv             0.00\n",
       "revol_bal                   0.00\n",
       "pub_rec                     0.00\n",
       "open_acc                    0.00\n",
       "loan_status                 0.00\n",
       "sub_grade                   0.00\n",
       "int_rate                    0.00\n",
       "home_ownership              0.00\n",
       "annual_inc                  0.00\n",
       "verification_status         0.00\n",
       "issue_d                     0.00\n",
       "purpose                     0.00\n",
       "term                        0.00\n",
       "addr_state                  0.00\n",
       "dti                         0.00\n",
       "delinq_2yrs                 0.00\n",
       "earliest_cr_line            0.00\n",
       "inq_last_6mths              0.00\n",
       "funded_amnt                 0.00\n",
       "loan_amnt                   0.00\n",
       "dtype: float64"
      ]
     },
     "execution_count": 17,
     "metadata": {},
     "output_type": "execute_result"
    }
   ],
   "source": [
    "(loan_df.isnull().sum() / loan_df.shape[0] * 100).round(2).sort_values(ascending=False)"
   ]
  },
  {
   "cell_type": "markdown",
   "metadata": {
    "id": "r-K9x2P0hfOk"
   },
   "source": [
    "It can be seen from the above derivation that there are still columns where the number of missing values is still very high.We will remove those columns.The columns are\n",
    "1. next_payment_d\n",
    "2. mths_since_last_record\n",
    "3. mths_since_last_delinq"
   ]
  },
  {
   "cell_type": "code",
   "execution_count": 18,
   "metadata": {
    "id": "SHPirTevhwsN"
   },
   "outputs": [],
   "source": [
    "loan_df.drop(columns=['next_pymnt_d','mths_since_last_delinq','mths_since_last_record'],inplace=True)"
   ]
  },
  {
   "cell_type": "code",
   "execution_count": 19,
   "metadata": {
    "colab": {
     "base_uri": "https://localhost:8080/"
    },
    "id": "HGiMsDpDiCho",
    "outputId": "4af75f16-ffaf-49bb-f159-b50cd4d34711"
   },
   "outputs": [
    {
     "data": {
      "text/plain": [
       "(39717, 38)"
      ]
     },
     "execution_count": 19,
     "metadata": {},
     "output_type": "execute_result"
    }
   ],
   "source": [
    "loan_df.shape"
   ]
  },
  {
   "cell_type": "markdown",
   "metadata": {
    "id": "E7LUzSDoptCM"
   },
   "source": [
    "Checking the percentage of missing values again"
   ]
  },
  {
   "cell_type": "code",
   "execution_count": 20,
   "metadata": {
    "colab": {
     "base_uri": "https://localhost:8080/"
    },
    "id": "DfUTPF_5pquM",
    "outputId": "2b5bdcf8-ee32-4eae-ee9d-89a666c05ead"
   },
   "outputs": [
    {
     "data": {
      "text/plain": [
       "emp_length                 2.71\n",
       "pub_rec_bankruptcies       1.75\n",
       "last_pymnt_d               0.18\n",
       "revol_util                 0.13\n",
       "last_credit_pull_d         0.01\n",
       "total_pymnt_inv            0.00\n",
       "revol_bal                  0.00\n",
       "total_acc                  0.00\n",
       "out_prncp                  0.00\n",
       "out_prncp_inv              0.00\n",
       "total_pymnt                0.00\n",
       "total_rec_int              0.00\n",
       "total_rec_prncp            0.00\n",
       "open_acc                   0.00\n",
       "total_rec_late_fee         0.00\n",
       "recoveries                 0.00\n",
       "collection_recovery_fee    0.00\n",
       "last_pymnt_amnt            0.00\n",
       "pub_rec                    0.00\n",
       "loan_amnt                  0.00\n",
       "funded_amnt                0.00\n",
       "earliest_cr_line           0.00\n",
       "funded_amnt_inv            0.00\n",
       "term                       0.00\n",
       "int_rate                   0.00\n",
       "installment                0.00\n",
       "grade                      0.00\n",
       "sub_grade                  0.00\n",
       "home_ownership             0.00\n",
       "annual_inc                 0.00\n",
       "verification_status        0.00\n",
       "issue_d                    0.00\n",
       "loan_status                0.00\n",
       "purpose                    0.00\n",
       "addr_state                 0.00\n",
       "dti                        0.00\n",
       "delinq_2yrs                0.00\n",
       "inq_last_6mths             0.00\n",
       "dtype: float64"
      ]
     },
     "execution_count": 20,
     "metadata": {},
     "output_type": "execute_result"
    }
   ],
   "source": [
    "(loan_df.isnull().sum() / loan_df.shape[0] * 100).round(2).sort_values(ascending=False)"
   ]
  },
  {
   "cell_type": "markdown",
   "metadata": {
    "id": "37YbAbnkp9jQ"
   },
   "source": [
    "Now we will check at row level to see if any row is having more NA values than the required"
   ]
  },
  {
   "cell_type": "code",
   "execution_count": 21,
   "metadata": {
    "colab": {
     "base_uri": "https://localhost:8080/"
    },
    "id": "aXGYEOl7qIhm",
    "outputId": "7ad921e0-0e9f-4ffe-c007-d1380e1d315a"
   },
   "outputs": [
    {
     "data": {
      "text/plain": [
       "14839    2\n",
       "28547    2\n",
       "24984    2\n",
       "32545    2\n",
       "16719    2\n",
       "        ..\n",
       "13490    0\n",
       "13491    0\n",
       "13492    0\n",
       "13493    0\n",
       "19858    0\n",
       "Length: 39717, dtype: int64"
      ]
     },
     "execution_count": 21,
     "metadata": {},
     "output_type": "execute_result"
    }
   ],
   "source": [
    "loan_df.isnull().sum(axis=1).sort_values(ascending=False)"
   ]
  },
  {
   "cell_type": "markdown",
   "metadata": {
    "id": "cGuhvawDqUUX"
   },
   "source": [
    "It could be seen that there are  rows which have 4 null values,which should be fine as we have total 40 columns"
   ]
  },
  {
   "cell_type": "markdown",
   "metadata": {
    "id": "yJY4N2-VsLGF"
   },
   "source": [
    "We will now insert missing values into the other columns which have some missing values.We will be making use of Mode as the element which has to be inserted for NA values.The reason for picking mode is because of biasness which we may get for Numerical Columns."
   ]
  },
  {
   "cell_type": "markdown",
   "metadata": {},
   "source": [
    "###  emp_length"
   ]
  },
  {
   "cell_type": "code",
   "execution_count": 22,
   "metadata": {
    "colab": {
     "base_uri": "https://localhost:8080/"
    },
    "id": "t3h9-9ShT8nH",
    "outputId": "a3b8c157-4181-4693-8a4e-1c3b0e121cc2"
   },
   "outputs": [
    {
     "data": {
      "text/plain": [
       "10+ years    8879\n",
       "< 1 year     4583\n",
       "2 years      4388\n",
       "3 years      4095\n",
       "4 years      3436\n",
       "5 years      3282\n",
       "1 year       3240\n",
       "6 years      2229\n",
       "7 years      1773\n",
       "8 years      1479\n",
       "9 years      1258\n",
       "Name: emp_length, dtype: int64"
      ]
     },
     "execution_count": 22,
     "metadata": {},
     "output_type": "execute_result"
    }
   ],
   "source": [
    "loan_df['emp_length'].value_counts()"
   ]
  },
  {
   "cell_type": "code",
   "execution_count": 23,
   "metadata": {
    "colab": {
     "base_uri": "https://localhost:8080/"
    },
    "id": "Ka6CturbUw6T",
    "outputId": "32250ac0-0ff6-420d-f73d-dbe643da5d71"
   },
   "outputs": [
    {
     "data": {
      "text/plain": [
       "0"
      ]
     },
     "execution_count": 23,
     "metadata": {},
     "output_type": "execute_result"
    }
   ],
   "source": [
    "mode_value=loan_df['emp_length'].mode()\n",
    "loan_df['emp_length'].fillna(value=mode_value[0],inplace=True)\n",
    "loan_df['emp_length'].isna().sum()"
   ]
  },
  {
   "cell_type": "code",
   "execution_count": 24,
   "metadata": {
    "colab": {
     "base_uri": "https://localhost:8080/"
    },
    "id": "wg8FM5iha7JY",
    "outputId": "d5221b93-a165-4faa-8cf6-e85e8123acdb"
   },
   "outputs": [
    {
     "data": {
      "text/plain": [
       "10+ years    9954\n",
       "< 1 year     4583\n",
       "2 years      4388\n",
       "3 years      4095\n",
       "4 years      3436\n",
       "5 years      3282\n",
       "1 year       3240\n",
       "6 years      2229\n",
       "7 years      1773\n",
       "8 years      1479\n",
       "9 years      1258\n",
       "Name: emp_length, dtype: int64"
      ]
     },
     "execution_count": 24,
     "metadata": {},
     "output_type": "execute_result"
    }
   ],
   "source": [
    "loan_df['emp_length'].value_counts()"
   ]
  },
  {
   "cell_type": "markdown",
   "metadata": {},
   "source": [
    "### pub_rec_bankruptcies"
   ]
  },
  {
   "cell_type": "code",
   "execution_count": 25,
   "metadata": {},
   "outputs": [
    {
     "name": "stdout",
     "output_type": "stream",
     "text": [
      "count    39020.000000\n",
      "mean         0.043260\n",
      "std          0.204324\n",
      "min          0.000000\n",
      "25%          0.000000\n",
      "50%          0.000000\n",
      "75%          0.000000\n",
      "max          2.000000\n",
      "Name: pub_rec_bankruptcies, dtype: float64\n",
      "0.0    37339\n",
      "1.0     1674\n",
      "2.0        7\n",
      "Name: pub_rec_bankruptcies, dtype: int64\n"
     ]
    }
   ],
   "source": [
    "print(loan_df['pub_rec_bankruptcies'].describe())\n",
    "print(loan_df['pub_rec_bankruptcies'].value_counts())\n",
    "# This column defines Number of public record bankruptcies and empty values are around  1.75%\n",
    "# Since this defines borrowers financial capability , we should not take mean , median but instead we should assume that missing\n",
    "# values states that borrower hasnt done any such event , Lets impute the missing value with 0\n",
    "loan_df['pub_rec_bankruptcies'].fillna(0,inplace=True)"
   ]
  },
  {
   "cell_type": "markdown",
   "metadata": {
    "id": "DihPI11RWcTU"
   },
   "source": [
    "###  revol_util\n",
    "This column defines Revolving line utilization rate, or the amount of credit the borrower is using relative to all available revolving credit , so very high chances that the borrower has not done this event and hence value should \n",
    "be replaced by 0% and would also like to mention that when we look at the mode value , the same is also 0% but had it not be same , we still should have gone with assumption that borrower has not performed the event \n"
   ]
  },
  {
   "cell_type": "code",
   "execution_count": 26,
   "metadata": {
    "colab": {
     "base_uri": "https://localhost:8080/"
    },
    "id": "GU8JEtORWWfx",
    "outputId": "5a4cc3e0-f9a5-4101-d1f1-4d5fcdffb12e"
   },
   "outputs": [
    {
     "data": {
      "text/plain": [
       "0"
      ]
     },
     "execution_count": 26,
     "metadata": {},
     "output_type": "execute_result"
    }
   ],
   "source": [
    "mode_value = loan_df['revol_util'].mode()[0]\n",
    "loan_df['revol_util'].fillna(\"0%\",inplace=True)\n",
    "loan_df['revol_util'].isna().sum()"
   ]
  },
  {
   "cell_type": "markdown",
   "metadata": {
    "id": "0ygIMnMerAca"
   },
   "source": [
    "Checking the datatype of the Columns present in the dataframe"
   ]
  },
  {
   "cell_type": "code",
   "execution_count": 27,
   "metadata": {
    "colab": {
     "base_uri": "https://localhost:8080/"
    },
    "id": "HChorVtqq9jR",
    "outputId": "b46a3392-9d7e-4f53-a3ee-fd28bfd88a9a"
   },
   "outputs": [
    {
     "data": {
      "text/plain": [
       "Index(['loan_amnt', 'funded_amnt', 'funded_amnt_inv', 'term', 'int_rate',\n",
       "       'installment', 'grade', 'sub_grade', 'emp_length', 'home_ownership',\n",
       "       'annual_inc', 'verification_status', 'issue_d', 'loan_status',\n",
       "       'purpose', 'addr_state', 'dti', 'delinq_2yrs', 'earliest_cr_line',\n",
       "       'inq_last_6mths', 'open_acc', 'pub_rec', 'revol_bal', 'revol_util',\n",
       "       'total_acc', 'out_prncp', 'out_prncp_inv', 'total_pymnt',\n",
       "       'total_pymnt_inv', 'total_rec_prncp', 'total_rec_int',\n",
       "       'total_rec_late_fee', 'recoveries', 'collection_recovery_fee',\n",
       "       'last_pymnt_d', 'last_pymnt_amnt', 'last_credit_pull_d',\n",
       "       'pub_rec_bankruptcies'],\n",
       "      dtype='object')"
      ]
     },
     "execution_count": 27,
     "metadata": {},
     "output_type": "execute_result"
    }
   ],
   "source": [
    "loan_df.columns"
   ]
  },
  {
   "cell_type": "markdown",
   "metadata": {
    "id": "pVayNqZrY7Bw"
   },
   "source": [
    "## Standardise the Data"
   ]
  },
  {
   "cell_type": "markdown",
   "metadata": {
    "id": "9FHdOvuhZADr"
   },
   "source": [
    "Checking the information present in each column"
   ]
  },
  {
   "cell_type": "code",
   "execution_count": 28,
   "metadata": {
    "colab": {
     "base_uri": "https://localhost:8080/",
     "height": 421
    },
    "id": "EwYQqrhjZEEH",
    "outputId": "8b63a4bf-83da-4535-e6ad-86f9d59a5ac8"
   },
   "outputs": [
    {
     "data": {
      "text/html": [
       "<div>\n",
       "<style scoped>\n",
       "    .dataframe tbody tr th:only-of-type {\n",
       "        vertical-align: middle;\n",
       "    }\n",
       "\n",
       "    .dataframe tbody tr th {\n",
       "        vertical-align: top;\n",
       "    }\n",
       "\n",
       "    .dataframe thead th {\n",
       "        text-align: right;\n",
       "    }\n",
       "</style>\n",
       "<table border=\"1\" class=\"dataframe\">\n",
       "  <thead>\n",
       "    <tr style=\"text-align: right;\">\n",
       "      <th></th>\n",
       "      <th>loan_amnt</th>\n",
       "      <th>funded_amnt</th>\n",
       "      <th>funded_amnt_inv</th>\n",
       "      <th>term</th>\n",
       "      <th>int_rate</th>\n",
       "      <th>installment</th>\n",
       "      <th>grade</th>\n",
       "      <th>sub_grade</th>\n",
       "      <th>emp_length</th>\n",
       "      <th>home_ownership</th>\n",
       "      <th>...</th>\n",
       "      <th>total_pymnt_inv</th>\n",
       "      <th>total_rec_prncp</th>\n",
       "      <th>total_rec_int</th>\n",
       "      <th>total_rec_late_fee</th>\n",
       "      <th>recoveries</th>\n",
       "      <th>collection_recovery_fee</th>\n",
       "      <th>last_pymnt_d</th>\n",
       "      <th>last_pymnt_amnt</th>\n",
       "      <th>last_credit_pull_d</th>\n",
       "      <th>pub_rec_bankruptcies</th>\n",
       "    </tr>\n",
       "  </thead>\n",
       "  <tbody>\n",
       "    <tr>\n",
       "      <th>0</th>\n",
       "      <td>5000</td>\n",
       "      <td>5000</td>\n",
       "      <td>4975.0</td>\n",
       "      <td>36 months</td>\n",
       "      <td>10.65%</td>\n",
       "      <td>162.87</td>\n",
       "      <td>B</td>\n",
       "      <td>B2</td>\n",
       "      <td>10+ years</td>\n",
       "      <td>RENT</td>\n",
       "      <td>...</td>\n",
       "      <td>5833.84</td>\n",
       "      <td>5000.00</td>\n",
       "      <td>863.16</td>\n",
       "      <td>0.00</td>\n",
       "      <td>0.00</td>\n",
       "      <td>0.00</td>\n",
       "      <td>Jan-15</td>\n",
       "      <td>171.62</td>\n",
       "      <td>May-16</td>\n",
       "      <td>0.0</td>\n",
       "    </tr>\n",
       "    <tr>\n",
       "      <th>1</th>\n",
       "      <td>2500</td>\n",
       "      <td>2500</td>\n",
       "      <td>2500.0</td>\n",
       "      <td>60 months</td>\n",
       "      <td>15.27%</td>\n",
       "      <td>59.83</td>\n",
       "      <td>C</td>\n",
       "      <td>C4</td>\n",
       "      <td>&lt; 1 year</td>\n",
       "      <td>RENT</td>\n",
       "      <td>...</td>\n",
       "      <td>1008.71</td>\n",
       "      <td>456.46</td>\n",
       "      <td>435.17</td>\n",
       "      <td>0.00</td>\n",
       "      <td>117.08</td>\n",
       "      <td>1.11</td>\n",
       "      <td>Apr-13</td>\n",
       "      <td>119.66</td>\n",
       "      <td>Sep-13</td>\n",
       "      <td>0.0</td>\n",
       "    </tr>\n",
       "    <tr>\n",
       "      <th>2</th>\n",
       "      <td>2400</td>\n",
       "      <td>2400</td>\n",
       "      <td>2400.0</td>\n",
       "      <td>36 months</td>\n",
       "      <td>15.96%</td>\n",
       "      <td>84.33</td>\n",
       "      <td>C</td>\n",
       "      <td>C5</td>\n",
       "      <td>10+ years</td>\n",
       "      <td>RENT</td>\n",
       "      <td>...</td>\n",
       "      <td>3005.67</td>\n",
       "      <td>2400.00</td>\n",
       "      <td>605.67</td>\n",
       "      <td>0.00</td>\n",
       "      <td>0.00</td>\n",
       "      <td>0.00</td>\n",
       "      <td>Jun-14</td>\n",
       "      <td>649.91</td>\n",
       "      <td>May-16</td>\n",
       "      <td>0.0</td>\n",
       "    </tr>\n",
       "    <tr>\n",
       "      <th>3</th>\n",
       "      <td>10000</td>\n",
       "      <td>10000</td>\n",
       "      <td>10000.0</td>\n",
       "      <td>36 months</td>\n",
       "      <td>13.49%</td>\n",
       "      <td>339.31</td>\n",
       "      <td>C</td>\n",
       "      <td>C1</td>\n",
       "      <td>10+ years</td>\n",
       "      <td>RENT</td>\n",
       "      <td>...</td>\n",
       "      <td>12231.89</td>\n",
       "      <td>10000.00</td>\n",
       "      <td>2214.92</td>\n",
       "      <td>16.97</td>\n",
       "      <td>0.00</td>\n",
       "      <td>0.00</td>\n",
       "      <td>Jan-15</td>\n",
       "      <td>357.48</td>\n",
       "      <td>Apr-16</td>\n",
       "      <td>0.0</td>\n",
       "    </tr>\n",
       "    <tr>\n",
       "      <th>4</th>\n",
       "      <td>3000</td>\n",
       "      <td>3000</td>\n",
       "      <td>3000.0</td>\n",
       "      <td>60 months</td>\n",
       "      <td>12.69%</td>\n",
       "      <td>67.79</td>\n",
       "      <td>B</td>\n",
       "      <td>B5</td>\n",
       "      <td>1 year</td>\n",
       "      <td>RENT</td>\n",
       "      <td>...</td>\n",
       "      <td>3513.33</td>\n",
       "      <td>2475.94</td>\n",
       "      <td>1037.39</td>\n",
       "      <td>0.00</td>\n",
       "      <td>0.00</td>\n",
       "      <td>0.00</td>\n",
       "      <td>May-16</td>\n",
       "      <td>67.79</td>\n",
       "      <td>May-16</td>\n",
       "      <td>0.0</td>\n",
       "    </tr>\n",
       "  </tbody>\n",
       "</table>\n",
       "<p>5 rows × 38 columns</p>\n",
       "</div>"
      ],
      "text/plain": [
       "   loan_amnt  funded_amnt  funded_amnt_inv        term int_rate  installment  \\\n",
       "0       5000         5000           4975.0   36 months   10.65%       162.87   \n",
       "1       2500         2500           2500.0   60 months   15.27%        59.83   \n",
       "2       2400         2400           2400.0   36 months   15.96%        84.33   \n",
       "3      10000        10000          10000.0   36 months   13.49%       339.31   \n",
       "4       3000         3000           3000.0   60 months   12.69%        67.79   \n",
       "\n",
       "  grade sub_grade emp_length home_ownership  ...  total_pymnt_inv  \\\n",
       "0     B        B2  10+ years           RENT  ...          5833.84   \n",
       "1     C        C4   < 1 year           RENT  ...          1008.71   \n",
       "2     C        C5  10+ years           RENT  ...          3005.67   \n",
       "3     C        C1  10+ years           RENT  ...         12231.89   \n",
       "4     B        B5     1 year           RENT  ...          3513.33   \n",
       "\n",
       "  total_rec_prncp total_rec_int total_rec_late_fee recoveries  \\\n",
       "0         5000.00        863.16               0.00       0.00   \n",
       "1          456.46        435.17               0.00     117.08   \n",
       "2         2400.00        605.67               0.00       0.00   \n",
       "3        10000.00       2214.92              16.97       0.00   \n",
       "4         2475.94       1037.39               0.00       0.00   \n",
       "\n",
       "  collection_recovery_fee  last_pymnt_d  last_pymnt_amnt last_credit_pull_d  \\\n",
       "0                    0.00        Jan-15           171.62             May-16   \n",
       "1                    1.11        Apr-13           119.66             Sep-13   \n",
       "2                    0.00        Jun-14           649.91             May-16   \n",
       "3                    0.00        Jan-15           357.48             Apr-16   \n",
       "4                    0.00        May-16            67.79             May-16   \n",
       "\n",
       "   pub_rec_bankruptcies  \n",
       "0                   0.0  \n",
       "1                   0.0  \n",
       "2                   0.0  \n",
       "3                   0.0  \n",
       "4                   0.0  \n",
       "\n",
       "[5 rows x 38 columns]"
      ]
     },
     "execution_count": 28,
     "metadata": {},
     "output_type": "execute_result"
    }
   ],
   "source": [
    "loan_df.head(5)"
   ]
  },
  {
   "cell_type": "markdown",
   "metadata": {},
   "source": [
    "###  emp_length"
   ]
  },
  {
   "cell_type": "code",
   "execution_count": 29,
   "metadata": {
    "id": "Z7A4EoB6ZMJf"
   },
   "outputs": [
    {
     "name": "stdout",
     "output_type": "stream",
     "text": [
      "10+ years    9954\n",
      "< 1 year     4583\n",
      "2 years      4388\n",
      "3 years      4095\n",
      "4 years      3436\n",
      "5 years      3282\n",
      "1 year       3240\n",
      "6 years      2229\n",
      "7 years      1773\n",
      "8 years      1479\n",
      "9 years      1258\n",
      "Name: emp_length, dtype: int64\n"
     ]
    },
    {
     "data": {
      "text/plain": [
       "10    9954\n",
       "0     4583\n",
       "2     4388\n",
       "3     4095\n",
       "4     3436\n",
       "5     3282\n",
       "1     3240\n",
       "6     2229\n",
       "7     1773\n",
       "8     1479\n",
       "9     1258\n",
       "Name: emp_length, dtype: int64"
      ]
     },
     "execution_count": 29,
     "metadata": {},
     "output_type": "execute_result"
    }
   ],
   "source": [
    "print(loan_df['emp_length'].value_counts())\n",
    "loan_df['emp_length']=loan_df['emp_length'].apply(lambda x: 0 if '<' in str(x) else (10 if '+' in str(x) else str(x).split()[0]))\n",
    "loan_df['emp_length'].value_counts()"
   ]
  },
  {
   "cell_type": "markdown",
   "metadata": {},
   "source": [
    "### int_rate"
   ]
  },
  {
   "cell_type": "code",
   "execution_count": 30,
   "metadata": {
    "colab": {
     "base_uri": "https://localhost:8080/"
    },
    "id": "rKyQwE84HOFc",
    "outputId": "f0c63ecf-5b27-488b-9b46-3badd4b42a93"
   },
   "outputs": [
    {
     "name": "stdout",
     "output_type": "stream",
     "text": [
      "10.99%    956\n",
      "13.49%    826\n",
      "11.49%    825\n",
      "7.51%     787\n",
      "7.88%     725\n",
      "         ... \n",
      "18.36%      1\n",
      "16.96%      1\n",
      "16.15%      1\n",
      "16.01%      1\n",
      "17.44%      1\n",
      "Name: int_rate, Length: 371, dtype: int64\n"
     ]
    },
    {
     "data": {
      "text/plain": [
       "0    10.65\n",
       "1    15.27\n",
       "2    15.96\n",
       "3    13.49\n",
       "4    12.69\n",
       "Name: int_rate, dtype: float64"
      ]
     },
     "execution_count": 30,
     "metadata": {},
     "output_type": "execute_result"
    }
   ],
   "source": [
    "print(loan_df['int_rate'].value_counts())\n",
    "loan_df['int_rate']=loan_df['int_rate'].apply(lambda x:float(str(x)[:-1]))\n",
    "loan_df['int_rate'].head(5)"
   ]
  },
  {
   "cell_type": "markdown",
   "metadata": {},
   "source": [
    "### term"
   ]
  },
  {
   "cell_type": "code",
   "execution_count": 31,
   "metadata": {
    "colab": {
     "base_uri": "https://localhost:8080/"
    },
    "id": "Z3VKd4BTHwBh",
    "outputId": "e75365aa-351d-4781-fce9-b6786a264aa3"
   },
   "outputs": [
    {
     "name": "stdout",
     "output_type": "stream",
     "text": [
      " 36 months    29096\n",
      " 60 months    10621\n",
      "Name: term, dtype: int64\n"
     ]
    },
    {
     "data": {
      "text/plain": [
       "0    36.0\n",
       "1    60.0\n",
       "2    36.0\n",
       "3    36.0\n",
       "4    60.0\n",
       "Name: term, dtype: float64"
      ]
     },
     "execution_count": 31,
     "metadata": {},
     "output_type": "execute_result"
    }
   ],
   "source": [
    "print(loan_df['term'].value_counts())\n",
    "loan_df['term']=loan_df['term'].apply(lambda x:float(str(x).replace(\" months\",'')))\n",
    "loan_df['term'].head(5)"
   ]
  },
  {
   "cell_type": "markdown",
   "metadata": {
    "id": "olNitY3uuvEN"
   },
   "source": [
    "Out of all the columns , there are few columns that are meant for book keeping and adds no additional information required , we will be removing these columns. "
   ]
  },
  {
   "cell_type": "code",
   "execution_count": 32,
   "metadata": {
    "id": "OioCNSeDvSJV"
   },
   "outputs": [],
   "source": [
    "columns_after_loan_application =  [\n",
    "  \"earliest_cr_line\",\n",
    "  \"out_prncp_inv\",\n",
    "  \"total_pymnt\",\n",
    "  \"total_pymnt_inv\",\n",
    "  \"total_rec_prncp\",\n",
    "  \"total_rec_int\",\n",
    "  \"last_pymnt_d\",\n",
    "  \"last_pymnt_amnt\",\n",
    "  \"last_credit_pull_d\"]"
   ]
  },
  {
   "cell_type": "code",
   "execution_count": 33,
   "metadata": {
    "id": "uLUXS7pdvXUv"
   },
   "outputs": [],
   "source": [
    "loan_df.drop(columns=columns_after_loan_application,inplace=True)"
   ]
  },
  {
   "cell_type": "markdown",
   "metadata": {
    "id": "4sg98Tc0voRi"
   },
   "source": [
    "In our current dataset we have all the users whose loans have been:\n",
    "\n",
    "1. Charged Off\n",
    "2. Completed\n",
    "3. Ongoing\n",
    "\n",
    "Let us see the distribution of the dataset based on the loan status"
   ]
  },
  {
   "cell_type": "code",
   "execution_count": 34,
   "metadata": {
    "colab": {
     "base_uri": "https://localhost:8080/"
    },
    "id": "o44FgBtxwC6A",
    "outputId": "948ebb34-9c53-4ad5-9a7b-3e808f0c9ff6"
   },
   "outputs": [
    {
     "data": {
      "text/plain": [
       "Fully Paid     32950\n",
       "Charged Off     5627\n",
       "Current         1140\n",
       "Name: loan_status, dtype: int64"
      ]
     },
     "execution_count": 34,
     "metadata": {},
     "output_type": "execute_result"
    }
   ],
   "source": [
    "loan_df['loan_status'].value_counts()"
   ]
  },
  {
   "cell_type": "code",
   "execution_count": 35,
   "metadata": {
    "colab": {
     "base_uri": "https://localhost:8080/"
    },
    "id": "DsOp21Fgac4_",
    "outputId": "bc65bbcf-94ac-463e-d45a-1046f5eea8c6"
   },
   "outputs": [
    {
     "name": "stdout",
     "output_type": "stream",
     "text": [
      "<class 'pandas.core.frame.DataFrame'>\n",
      "RangeIndex: 39717 entries, 0 to 39716\n",
      "Data columns (total 29 columns):\n",
      " #   Column                   Non-Null Count  Dtype  \n",
      "---  ------                   --------------  -----  \n",
      " 0   loan_amnt                39717 non-null  int64  \n",
      " 1   funded_amnt              39717 non-null  int64  \n",
      " 2   funded_amnt_inv          39717 non-null  float64\n",
      " 3   term                     39717 non-null  float64\n",
      " 4   int_rate                 39717 non-null  float64\n",
      " 5   installment              39717 non-null  float64\n",
      " 6   grade                    39717 non-null  object \n",
      " 7   sub_grade                39717 non-null  object \n",
      " 8   emp_length               39717 non-null  object \n",
      " 9   home_ownership           39717 non-null  object \n",
      " 10  annual_inc               39717 non-null  float64\n",
      " 11  verification_status      39717 non-null  object \n",
      " 12  issue_d                  39717 non-null  object \n",
      " 13  loan_status              39717 non-null  object \n",
      " 14  purpose                  39717 non-null  object \n",
      " 15  addr_state               39717 non-null  object \n",
      " 16  dti                      39717 non-null  float64\n",
      " 17  delinq_2yrs              39717 non-null  int64  \n",
      " 18  inq_last_6mths           39717 non-null  int64  \n",
      " 19  open_acc                 39717 non-null  int64  \n",
      " 20  pub_rec                  39717 non-null  int64  \n",
      " 21  revol_bal                39717 non-null  int64  \n",
      " 22  revol_util               39717 non-null  object \n",
      " 23  total_acc                39717 non-null  int64  \n",
      " 24  out_prncp                39717 non-null  float64\n",
      " 25  total_rec_late_fee       39717 non-null  float64\n",
      " 26  recoveries               39717 non-null  float64\n",
      " 27  collection_recovery_fee  39717 non-null  float64\n",
      " 28  pub_rec_bankruptcies     39717 non-null  float64\n",
      "dtypes: float64(11), int64(8), object(10)\n",
      "memory usage: 8.8+ MB\n"
     ]
    }
   ],
   "source": [
    "loan_df.info()"
   ]
  },
  {
   "cell_type": "markdown",
   "metadata": {
    "id": "9MkU6o2UwT6T"
   },
   "source": [
    "People with Loan status as Current will not play any major role in our analysis.So we can filter them out"
   ]
  },
  {
   "cell_type": "code",
   "execution_count": 36,
   "metadata": {
    "id": "Woohi_E9wR-e"
   },
   "outputs": [],
   "source": [
    "loan_df_filtered=loan_df[loan_df['loan_status']!='Current']"
   ]
  },
  {
   "cell_type": "markdown",
   "metadata": {
    "id": "RKEBSkucwm83"
   },
   "source": [
    "Let us check the shape of the dataset after filtering\n"
   ]
  },
  {
   "cell_type": "code",
   "execution_count": 46,
   "metadata": {
    "colab": {
     "base_uri": "https://localhost:8080/"
    },
    "id": "HRjEK31qwrxX",
    "outputId": "4975aa08-1d1b-464c-d8a5-0561fb037510"
   },
   "outputs": [
    {
     "data": {
      "text/plain": [
       "(38577, 29)"
      ]
     },
     "execution_count": 46,
     "metadata": {},
     "output_type": "execute_result"
    }
   ],
   "source": [
    "loan_df_filtered.shape"
   ]
  },
  {
   "cell_type": "code",
   "execution_count": 53,
   "metadata": {},
   "outputs": [
    {
     "name": "stdout",
     "output_type": "stream",
     "text": [
      "count    38577.000000\n",
      "mean     11047.025430\n",
      "std       7348.441646\n",
      "min        500.000000\n",
      "25%       5300.000000\n",
      "50%       9600.000000\n",
      "75%      15000.000000\n",
      "max      35000.000000\n",
      "Name: loan_amnt, dtype: float64\n"
     ]
    },
    {
     "data": {
      "text/plain": [
       "<Axes: ylabel='loan_amnt'>"
      ]
     },
     "execution_count": 53,
     "metadata": {},
     "output_type": "execute_result"
    },
    {
     "data": {
      "image/png": "[encoded data removed]",
      "text/plain": [
       "<Figure size 640x480 with 1 Axes>"
      ]
     },
     "metadata": {},
     "output_type": "display_data"
    }
   ],
   "source": []
  },
  {
   "cell_type": "markdown",
   "metadata": {
    "id": "y39f0X3sXdSy"
   },
   "source": [
    "# Univariate Analysis"
   ]
  },
  {
   "cell_type": "markdown",
   "metadata": {
    "id": "IzaLqrQZXgzN"
   },
   "source": [
    "Now we will perform analysis on the data"
   ]
  },
  {
   "cell_type": "markdown",
   "metadata": {
    "id": "oWvOy0UOZwcK"
   },
   "source": [
    "We will start with analysing the distribution of loan amount.How the amount is distributed.For that we will make use of histogram."
   ]
  },
  {
   "cell_type": "code",
   "execution_count": 55,
   "metadata": {},
   "outputs": [
    {
     "name": "stdout",
     "output_type": "stream",
     "text": [
      "count    38577.000000\n",
      "mean     11047.025430\n",
      "std       7348.441646\n",
      "min        500.000000\n",
      "25%       5300.000000\n",
      "50%       9600.000000\n",
      "75%      15000.000000\n",
      "max      35000.000000\n",
      "Name: loan_amnt, dtype: float64\n"
     ]
    },
    {
     "data": {
      "text/plain": [
       "<Axes: ylabel='loan_amnt'>"
      ]
     },
     "execution_count": 55,
     "metadata": {},
     "output_type": "execute_result"
    },
    {
     "data": {
      "image/png": "[encoded data removed]",
      "text/plain": [
       "<Figure size 640x480 with 1 Axes>"
      ]
     },
     "metadata": {},
     "output_type": "display_data"
    }
   ],
   "source": [
    "print(loan_df_filtered['loan_amnt'].describe())\n",
    "seaborn.boxplot(y=loan_df_filtered['loan_amnt'])"
   ]
  },
  {
   "cell_type": "code",
   "execution_count": 54,
   "metadata": {
    "colab": {
     "base_uri": "https://localhost:8080/",
     "height": 560
    },
    "id": "QF-3xkGQaTVl",
    "outputId": "9cc1e441-6141-42ae-d640-bb8dbb28e84a"
   },
   "outputs": [
    {
     "data": {
      "text/plain": [
       "<Axes: xlabel='loan_amnt', ylabel='Count'>"
      ]
     },
     "execution_count": 54,
     "metadata": {},
     "output_type": "execute_result"
    },
    {
     "data": {
      "image/png": "[encoded data removed]",
      "text/plain": [
       "<Figure size 1000x600 with 1 Axes>"
      ]
     },
     "metadata": {},
     "output_type": "display_data"
    }
   ],
   "source": [
    "ax = plt.subplots(figsize=(10, 6))\n",
    "seaborn.histplot(data=loan_df_filtered,x='loan_amnt',bins=15)"
   ]
  },
  {
   "cell_type": "markdown",
   "metadata": {
    "id": "0WHmePjIb0in"
   },
   "source": [
    "**It can be seen that majority of the loans are in the range 2500-5000**"
   ]
  },
  {
   "cell_type": "markdown",
   "metadata": {
    "id": "Ci2KxxW-d3PS"
   },
   "source": [
    "We will also check the income distribution of the applicants.For that we will make use of Boxplot"
   ]
  },
  {
   "cell_type": "code",
   "execution_count": 78,
   "metadata": {
    "colab": {
     "base_uri": "https://localhost:8080/",
     "height": 468
    },
    "id": "rcCrggYsd7S2",
    "outputId": "dd3d580f-cb20-40ee-ff35-f8f8722db53b"
   },
   "outputs": [
    {
     "data": {
      "text/plain": [
       "<AxesSubplot:xlabel='loan_status', ylabel='annual_inc'>"
      ]
     },
     "execution_count": 78,
     "metadata": {},
     "output_type": "execute_result"
    },
    {
     "data": {
      "image/png": "[encoded data removed]",
      "text/plain": [
       "<Figure size 640x480 with 1 Axes>"
      ]
     },
     "metadata": {},
     "output_type": "display_data"
    }
   ],
   "source": [
    "seaborn.boxplot(y=loan_df_filtered['annual_inc'],x=loan_df_filtered['loan_status'],data=loan_df_filtered)"
   ]
  },
  {
   "cell_type": "markdown",
   "metadata": {
    "id": "osGkvH7AetXZ"
   },
   "source": [
    "We cannot make any conlcusion from the graph.We need to remove the outliers.We will make use of IQR to remove the outliers from the dataset.the minimum value will be Q1-IQR*1.5 and maximum value will be Q3+IQR*1.5"
   ]
  },
  {
   "cell_type": "code",
   "execution_count": 70,
   "metadata": {
    "colab": {
     "base_uri": "https://localhost:8080/"
    },
    "id": "6k30WtRAgs_Q",
    "outputId": "458f0242-e605-4057-ff28-19ed89c76cff"
   },
   "outputs": [
    {
     "data": {
      "text/plain": [
       "42000.0"
      ]
     },
     "execution_count": 70,
     "metadata": {},
     "output_type": "execute_result"
    }
   ],
   "source": [
    "Q1=numpy.percentile(loan_df_filtered['annual_inc'],25)\n",
    "Q3=numpy.percentile(loan_df_filtered['annual_inc'],75)\n",
    "IQR=Q3-Q1\n",
    "IQR"
   ]
  },
  {
   "cell_type": "code",
   "execution_count": 71,
   "metadata": {
    "colab": {
     "base_uri": "https://localhost:8080/"
    },
    "id": "-Gcc5pBch5mT",
    "outputId": "312c3151-a6ec-4b9a-f45d-8c20425ddf85"
   },
   "outputs": [
    {
     "name": "stdout",
     "output_type": "stream",
     "text": [
      "Lower Limit {} -23000.0\n",
      "Upper Limit {} 145000.0\n"
     ]
    }
   ],
   "source": [
    "upper_limit_income=Q3+1.5*IQR\n",
    "lower_limit_income=Q1-1.5*IQR\n",
    "print(\"Lower Limit {}\",lower_limit_income)\n",
    "print(\"Upper Limit {}\",upper_limit_income)"
   ]
  },
  {
   "cell_type": "code",
   "execution_count": 78,
   "metadata": {
    "colab": {
     "base_uri": "https://localhost:8080/"
    },
    "id": "TvomvYohjd4h",
    "outputId": "7ca4699a-1e0c-40c0-d1f2-ec736632c7c4"
   },
   "outputs": [
    {
     "data": {
      "text/plain": [
       "4000.0"
      ]
     },
     "execution_count": 78,
     "metadata": {},
     "output_type": "execute_result"
    }
   ],
   "source": [
    "min(loan_df_filtered['annual_inc'])"
   ]
  },
  {
   "cell_type": "markdown",
   "metadata": {
    "id": "G8pDIUSxjlLl"
   },
   "source": [
    "Since there are no negative values present in the annual income field we can ignore the lower limit"
   ]
  },
  {
   "cell_type": "markdown",
   "metadata": {
    "id": "XuaaFJTBiVqg"
   },
   "source": [
    "We will now remove the outliers after checking the upper limit on the data\n",
    "\n"
   ]
  },
  {
   "cell_type": "code",
   "execution_count": 75,
   "metadata": {
    "colab": {
     "base_uri": "https://localhost:8080/"
    },
    "id": "OBqD3RFkic_H",
    "outputId": "d1496d7d-fc8b-4d99-d7d2-5ef4bb3058b2"
   },
   "outputs": [
    {
     "name": "stderr",
     "output_type": "stream",
     "text": [
      "<ipython-input-75-77ad039a57de>:1: SettingWithCopyWarning: \n",
      "A value is trying to be set on a copy of a slice from a DataFrame\n",
      "\n",
      "See the caveats in the documentation: https://pandas.pydata.org/pandas-docs/stable/user_guide/indexing.html#returning-a-view-versus-a-copy\n",
      "  loan_df_filtered.drop(loan_df_filtered[(loan_df_filtered['annual_inc']>=upper_limit_income)].index,inplace=True)\n"
     ]
    }
   ],
   "source": [
    "loan_df_filtered.drop(loan_df_filtered[(loan_df_filtered['annual_inc']>=upper_limit_income)].index,inplace=True)"
   ]
  },
  {
   "cell_type": "markdown",
   "metadata": {
    "id": "1YUUUsvaj0nS"
   },
   "source": [
    "Checking the shape of the data after removing the outliers and plotting the graph again"
   ]
  },
  {
   "cell_type": "code",
   "execution_count": 77,
   "metadata": {
    "colab": {
     "base_uri": "https://localhost:8080/"
    },
    "id": "838dOjanjUlA",
    "outputId": "4b8c2d2b-f9e8-4f81-c6c6-a9d8ea45a3f6"
   },
   "outputs": [
    {
     "data": {
      "text/plain": [
       "(36754, 31)"
      ]
     },
     "execution_count": 77,
     "metadata": {},
     "output_type": "execute_result"
    }
   ],
   "source": [
    "loan_df_filtered.shape()"
   ]
  },
  {
   "cell_type": "code",
   "execution_count": 82,
   "metadata": {
    "colab": {
     "base_uri": "https://localhost:8080/",
     "height": 468
    },
    "id": "j6NqKPJwj7Xa",
    "outputId": "8d5b9be6-5036-4d17-de8c-385bde0135cf"
   },
   "outputs": [
    {
     "data": {
      "text/plain": [
       "<Axes: xlabel='loan_status', ylabel='annual_inc'>"
      ]
     },
     "execution_count": 82,
     "metadata": {},
     "output_type": "execute_result"
    },
    {
     "data": {
      "image/png": "[encoded data removed]",
      "text/plain": [
       "<Figure size 640x480 with 1 Axes>"
      ]
     },
     "metadata": {},
     "output_type": "display_data"
    }
   ],
   "source": [
    "seaborn.boxplot(y=loan_df_filtered['annual_inc'],x=loan_df_filtered['loan_status'],data=loan_df_filtered)"
   ]
  },
  {
   "cell_type": "markdown",
   "metadata": {
    "id": "OPn5bu9knS_r"
   },
   "source": [
    "Now we will check distribution of intreset rate through histplot"
   ]
  },
  {
   "cell_type": "code",
   "execution_count": 85,
   "metadata": {
    "colab": {
     "base_uri": "https://localhost:8080/",
     "height": 468
    },
    "id": "4FN1UV2HnZmp",
    "outputId": "552b8cf1-a7b5-4464-c55b-4683a1e0994d"
   },
   "outputs": [
    {
     "data": {
      "text/plain": [
       "<Axes: xlabel='int_rate', ylabel='Count'>"
      ]
     },
     "execution_count": 85,
     "metadata": {},
     "output_type": "execute_result"
    },
    {
     "data": {
      "image/png": "[encoded data removed]",
      "text/plain": [
       "<Figure size 640x480 with 1 Axes>"
      ]
     },
     "metadata": {},
     "output_type": "display_data"
    }
   ],
   "source": [
    "seaborn.histplot(data=loan_df_filtered,x='int_rate',bins=15)"
   ]
  },
  {
   "cell_type": "markdown",
   "metadata": {
    "id": "bixTadnbnyiV"
   },
   "source": [
    "**Intrest Rates between 10.5 and 12 are the highest**"
   ]
  },
  {
   "cell_type": "code",
   "execution_count": 117,
   "metadata": {
    "colab": {
     "base_uri": "https://localhost:8080/",
     "height": 717
    },
    "id": "88O3cguwn8-w",
    "outputId": "1c5bb079-a670-4128-c049-d65b5c4b76b6"
   },
   "outputs": [
    {
     "data": {
      "text/plain": [
       "Text(0.5, 1.0, 'Investor Funded Amount')"
      ]
     },
     "execution_count": 117,
     "metadata": {},
     "output_type": "execute_result"
    },
    {
     "data": {
      "image/png": "[encoded data removed]",
      "text/plain": [
       "<Figure size 1500x800 with 3 Axes>"
      ]
     },
     "metadata": {},
     "output_type": "display_data"
    }
   ],
   "source": [
    "plt.figure(figsize=(15,8))\n",
    "plt.subplot(1, 3, 1)\n",
    "ax=plt.hist(data=loan_df_filtered,x='loan_amnt',bins=10)\n",
    "plt.title(\"Loan Amount\")\n",
    "plt.subplot(1, 3, 2)\n",
    "plt.hist(data=loan_df_filtered,x='funded_amnt',bins=10)\n",
    "plt.title(\"Funded Amount\")\n",
    "plt.subplot(1, 3, 3)\n",
    "plt.hist(data=loan_df_filtered,x='funded_amnt_inv',bins=10)\n",
    "plt.title(\"Investor Funded Amount\")\n"
   ]
  },
  {
   "cell_type": "markdown",
   "metadata": {
    "id": "nxIM4B3Rudlx"
   },
   "source": [
    "We can see that there is not a lot of difference in these Loan values\n",
    "\n",
    "\n",
    "\n"
   ]
  },
  {
   "cell_type": "markdown",
   "metadata": {
    "id": "JEzexv2mpzb_"
   },
   "source": [
    "# Segmented Univariate Analysis"
   ]
  },
  {
   "cell_type": "markdown",
   "metadata": {
    "id": "RHJWn-T6TMiy"
   },
   "source": [
    "Getting the number of Charged Off Loan and Loans Paid in Complete"
   ]
  },
  {
   "cell_type": "code",
   "execution_count": 37,
   "metadata": {
    "colab": {
     "base_uri": "https://localhost:8080/",
     "height": 468
    },
    "id": "fA3XSRqZTTZA",
    "outputId": "8e687186-f86e-4e9a-b222-7052fa9c3a01"
   },
   "outputs": [
    {
     "data": {
      "text/plain": [
       "[Text(0, 0, '32950'), Text(0, 0, '5627')]"
      ]
     },
     "execution_count": 37,
     "metadata": {},
     "output_type": "execute_result"
    },
    {
     "data": {
      "image/png": "[encoded data removed]",
      "text/plain": [
       "<Figure size 640x480 with 1 Axes>"
      ]
     },
     "metadata": {},
     "output_type": "display_data"
    }
   ],
   "source": [
    "ax =seaborn.countplot(x=loan_df_filtered['loan_status'],data=loan_df_filtered)\n",
    "ax.bar_label(ax.containers[0])"
   ]
  },
  {
   "cell_type": "markdown",
   "metadata": {
    "id": "3NR9KOS9UTQi"
   },
   "source": [
    "It can be seen from the above plot that we have 5627 as Charged Off Loan and Fully Paid loan are 32950"
   ]
  },
  {
   "cell_type": "markdown",
   "metadata": {
    "id": "QaLQ4NRCUcPb"
   },
   "source": [
    "Now we will gather the categorical variables from the dataset and see the relation of Loan Default with them"
   ]
  },
  {
   "cell_type": "markdown",
   "metadata": {
    "id": "gFEQtJR0XYVS"
   },
   "source": [
    "#### Categorical Univariate Analysis\n",
    "\n",
    "\n",
    "\n"
   ]
  },
  {
   "cell_type": "markdown",
   "metadata": {
    "id": "L3MeZon_XLWs"
   },
   "source": [
    "Checking the Grade of the Loans which are charged off"
   ]
  },
  {
   "cell_type": "code",
   "execution_count": 38,
   "metadata": {
    "id": "6ocJS0OQXnl2"
   },
   "outputs": [],
   "source": [
    "loan_charged_off=loan_df_filtered[(loan_df_filtered['loan_status']=='Charged Off')]"
   ]
  },
  {
   "cell_type": "code",
   "execution_count": 39,
   "metadata": {
    "colab": {
     "base_uri": "https://localhost:8080/"
    },
    "id": "T_E9EzlyY8Qw",
    "outputId": "077b3a9b-9bd5-4181-aa7e-4177b35cc24d"
   },
   "outputs": [
    {
     "data": {
      "text/plain": [
       "5627"
      ]
     },
     "execution_count": 39,
     "metadata": {},
     "output_type": "execute_result"
    }
   ],
   "source": [
    "loan_charged_off['grade'].count()"
   ]
  },
  {
   "cell_type": "code",
   "execution_count": 40,
   "metadata": {
    "colab": {
     "base_uri": "https://localhost:8080/",
     "height": 467
    },
    "id": "X3n8VjMfX3hF",
    "outputId": "7d236cb2-ad5c-4ed0-b4d7-aa197f7a118a"
   },
   "outputs": [
    {
     "data": {
      "text/plain": [
       "<Axes: xlabel='grade', ylabel='count'>"
      ]
     },
     "execution_count": 40,
     "metadata": {},
     "output_type": "execute_result"
    },
    {
     "data": {
      "image/png": "[encoded data removed]",
      "text/plain": [
       "<Figure size 640x480 with 1 Axes>"
      ]
     },
     "metadata": {},
     "output_type": "display_data"
    }
   ],
   "source": [
    "seaborn.countplot(x=loan_charged_off['grade'],data=loan_charged_off)"
   ]
  },
  {
   "cell_type": "markdown",
   "metadata": {
    "id": "VXLzhzSFZnTy"
   },
   "source": [
    "**It can be seen from the above graphical representation that Loans of Grade B are mostly defaulted**"
   ]
  },
  {
   "cell_type": "markdown",
   "metadata": {
    "id": "uEh1Q_r2Z5wd"
   },
   "source": [
    "Checking the employment tenure of the people who have defaulted on loans"
   ]
  },
  {
   "cell_type": "code",
   "execution_count": 41,
   "metadata": {
    "colab": {
     "base_uri": "https://localhost:8080/",
     "height": 468
    },
    "id": "3alanbgcaTvo",
    "outputId": "68fe6988-eba3-4249-dd24-5607856446fa"
   },
   "outputs": [
    {
     "data": {
      "text/plain": [
       "<Axes: xlabel='emp_length', ylabel='count'>"
      ]
     },
     "execution_count": 41,
     "metadata": {},
     "output_type": "execute_result"
    },
    {
     "data": {
      "image/png": "[encoded data removed]",
      "text/plain": [
       "<Figure size 640x480 with 1 Axes>"
      ]
     },
     "metadata": {},
     "output_type": "display_data"
    }
   ],
   "source": [
    "seaborn.countplot(x=loan_charged_off['emp_length'],data=loan_charged_off)"
   ]
  },
  {
   "cell_type": "markdown",
   "metadata": {
    "id": "AorVcPvcab6b"
   },
   "source": [
    "**It can be seen from the above graph employees which 10 or more years of experience have tendency to default on Loan**"
   ]
  },
  {
   "cell_type": "markdown",
   "metadata": {
    "id": "RzKjlnGzaqQp"
   },
   "source": [
    "Checking what is the status of home ownership of defaulted people"
   ]
  },
  {
   "cell_type": "code",
   "execution_count": 42,
   "metadata": {
    "colab": {
     "base_uri": "https://localhost:8080/",
     "height": 468
    },
    "id": "oxbSH7DQavvr",
    "outputId": "e07c338c-79d2-4bbd-c76e-e0e515a356c8"
   },
   "outputs": [
    {
     "data": {
      "text/plain": [
       "<Axes: xlabel='home_ownership', ylabel='count'>"
      ]
     },
     "execution_count": 42,
     "metadata": {},
     "output_type": "execute_result"
    },
    {
     "data": {
      "image/png": "[encoded data removed]",
      "text/plain": [
       "<Figure size 640x480 with 1 Axes>"
      ]
     },
     "metadata": {},
     "output_type": "display_data"
    }
   ],
   "source": [
    "seaborn.countplot(x=loan_charged_off['home_ownership'],data=loan_charged_off)"
   ]
  },
  {
   "cell_type": "markdown",
   "metadata": {
    "id": "l5wIVu4ma0N4"
   },
   "source": [
    "**Maximum number of people who have defaulted have rented accomadation**"
   ]
  },
  {
   "cell_type": "markdown",
   "metadata": {
    "id": "wgxWaK3ja9Sq"
   },
   "source": [
    "Now we will check from what state most of the defaulted people were"
   ]
  },
  {
   "cell_type": "code",
   "execution_count": 43,
   "metadata": {
    "colab": {
     "base_uri": "https://localhost:8080/",
     "height": 696
    },
    "id": "RpPjxNdxbApP",
    "outputId": "b9fa5229-6928-495f-cacd-f81343df3963"
   },
   "outputs": [
    {
     "data": {
      "image/png": "[encoded data removed]",
      "text/plain": [
       "<Figure size 1500x800 with 1 Axes>"
      ]
     },
     "metadata": {},
     "output_type": "display_data"
    }
   ],
   "source": [
    "plt.figure(figsize=(15,8))\n",
    "fig=seaborn.countplot(x=loan_charged_off['addr_state'],data=loan_charged_off)"
   ]
  },
  {
   "cell_type": "markdown",
   "metadata": {
    "id": "sSpW2b17cjV9"
   },
   "source": [
    "**Majority of the defaults are happening from the state of California**"
   ]
  },
  {
   "cell_type": "markdown",
   "metadata": {
    "id": "uZ_cXqZOcwZy"
   },
   "source": [
    "Now we will validate if the income of the applicants for defaulted loan was verified or not"
   ]
  },
  {
   "cell_type": "code",
   "execution_count": 44,
   "metadata": {
    "colab": {
     "base_uri": "https://localhost:8080/",
     "height": 450
    },
    "id": "8kh6EggJc1au",
    "outputId": "f2bfe309-0c40-474c-9aaa-746abbcb8854"
   },
   "outputs": [
    {
     "data": {
      "image/png": "[encoded data removed]",
      "text/plain": [
       "<Figure size 640x480 with 1 Axes>"
      ]
     },
     "metadata": {},
     "output_type": "display_data"
    }
   ],
   "source": [
    "fig=seaborn.countplot(x=loan_charged_off['verification_status'],data=loan_charged_off)"
   ]
  },
  {
   "cell_type": "markdown",
   "metadata": {
    "id": "dFj_crtZc9v8"
   },
   "source": [
    "**It is evident from the above graph that source of income of the defaulers was not verified**"
   ]
  },
  {
   "cell_type": "markdown",
   "metadata": {
    "id": "eEiEtY2MdXLT"
   },
   "source": [
    "Now we will check if any particular purpose of a loan plays an important part in defaulting on loan payment"
   ]
  },
  {
   "cell_type": "code",
   "execution_count": 45,
   "metadata": {
    "colab": {
     "base_uri": "https://localhost:8080/",
     "height": 460
    },
    "id": "bacTKFu-dhMO",
    "outputId": "a6f87218-1963-4cdd-af3b-f07dfa93d80e"
   },
   "outputs": [
    {
     "data": {
      "image/png": "[encoded data removed]",
      "text/plain": [
       "<Figure size 2500x800 with 1 Axes>"
      ]
     },
     "metadata": {},
     "output_type": "display_data"
    }
   ],
   "source": [
    "plt.figure(figsize=(25,8))\n",
    "fig=seaborn.countplot(x=loan_charged_off['purpose'],data=loan_charged_off)"
   ]
  },
  {
   "cell_type": "markdown",
   "metadata": {
    "id": "hdILbSVFhDP1"
   },
   "source": [
    "**From the above graph it could be seen that debt consolidation is the main purpose for which loan is taken and defaulted.This means that people already have certain debt on them**"
   ]
  },
  {
   "cell_type": "markdown",
   "metadata": {
    "id": "W_0fpf75hbsP"
   },
   "source": [
    "Now we will see the month in which loans issued are defaulted"
   ]
  },
  {
   "cell_type": "code",
   "execution_count": 46,
   "metadata": {
    "colab": {
     "base_uri": "https://localhost:8080/"
    },
    "id": "pE2tBfGOhC59",
    "outputId": "905d7bb1-dc95-4349-c5fd-b1cdaf80b2fb"
   },
   "outputs": [
    {
     "name": "stderr",
     "output_type": "stream",
     "text": [
      "<ipython-input-46-a4a7f3849f57>:1: SettingWithCopyWarning: \n",
      "A value is trying to be set on a copy of a slice from a DataFrame.\n",
      "Try using .loc[row_indexer,col_indexer] = value instead\n",
      "\n",
      "See the caveats in the documentation: https://pandas.pydata.org/pandas-docs/stable/user_guide/indexing.html#returning-a-view-versus-a-copy\n",
      "  loan_charged_off['issue_d']=loan_charged_off.issue_d.apply(lambda d: datetime.strptime(d, '%b-%y'))\n"
     ]
    }
   ],
   "source": [
    "loan_charged_off['issue_d']=loan_charged_off.issue_d.apply(lambda d: datetime.strptime(d, '%b-%y'))"
   ]
  },
  {
   "cell_type": "code",
   "execution_count": 47,
   "metadata": {
    "colab": {
     "base_uri": "https://localhost:8080/"
    },
    "id": "pN3-tNGqiJZP",
    "outputId": "9d3a8705-de39-42e6-f1a3-63dcade9d610"
   },
   "outputs": [
    {
     "name": "stderr",
     "output_type": "stream",
     "text": [
      "<ipython-input-47-f4e7b97e6d0d>:1: SettingWithCopyWarning: \n",
      "A value is trying to be set on a copy of a slice from a DataFrame.\n",
      "Try using .loc[row_indexer,col_indexer] = value instead\n",
      "\n",
      "See the caveats in the documentation: https://pandas.pydata.org/pandas-docs/stable/user_guide/indexing.html#returning-a-view-versus-a-copy\n",
      "  loan_charged_off['issue_month']=loan_charged_off['issue_d'].dt.month\n",
      "<ipython-input-47-f4e7b97e6d0d>:2: SettingWithCopyWarning: \n",
      "A value is trying to be set on a copy of a slice from a DataFrame.\n",
      "Try using .loc[row_indexer,col_indexer] = value instead\n",
      "\n",
      "See the caveats in the documentation: https://pandas.pydata.org/pandas-docs/stable/user_guide/indexing.html#returning-a-view-versus-a-copy\n",
      "  loan_charged_off['issue_year']=loan_charged_off['issue_d'].dt.year\n"
     ]
    }
   ],
   "source": [
    "loan_charged_off['issue_month']=loan_charged_off['issue_d'].dt.month\n",
    "loan_charged_off['issue_year']=loan_charged_off['issue_d'].dt.year\n"
   ]
  },
  {
   "cell_type": "code",
   "execution_count": 48,
   "metadata": {
    "colab": {
     "base_uri": "https://localhost:8080/",
     "height": 450
    },
    "id": "k5mI-o81iU1l",
    "outputId": "45473901-f011-4a0a-fe9b-59f0c787fdad"
   },
   "outputs": [
    {
     "data": {
      "image/png": "[encoded data removed]",
      "text/plain": [
       "<Figure size 640x480 with 1 Axes>"
      ]
     },
     "metadata": {},
     "output_type": "display_data"
    }
   ],
   "source": [
    "fig=seaborn.countplot(x=loan_charged_off['issue_month'],data=loan_charged_off)"
   ]
  },
  {
   "cell_type": "markdown",
   "metadata": {
    "id": "cohO2m85ia6J"
   },
   "source": [
    "**Most of the loans are issued in the month of December.This seems fair as it is Holiday season and people apply for loans**"
   ]
  },
  {
   "cell_type": "code",
   "execution_count": 49,
   "metadata": {
    "colab": {
     "base_uri": "https://localhost:8080/",
     "height": 450
    },
    "id": "II2GoBkcioUd",
    "outputId": "b9ff38b7-8b19-4bb9-f6a9-2bed4e9f34ee"
   },
   "outputs": [
    {
     "data": {
      "image/png": "[encoded data removed]",
      "text/plain": [
       "<Figure size 640x480 with 1 Axes>"
      ]
     },
     "metadata": {},
     "output_type": "display_data"
    }
   ],
   "source": [
    "fig=seaborn.countplot(x=loan_charged_off['issue_year'],data=loan_charged_off)"
   ]
  },
  {
   "cell_type": "markdown",
   "metadata": {
    "id": "g7HY_konir8V"
   },
   "source": [
    "**The number of loans issued have increased consistently and os has the default rate**"
   ]
  },
  {
   "cell_type": "markdown",
   "metadata": {
    "id": "XhD4wjBGkjEn"
   },
   "source": [
    "#### Univariate Loan Default Analysis with Continuous Variables"
   ]
  },
  {
   "cell_type": "code",
   "execution_count": 49,
   "metadata": {
    "id": "wfNy7jW4k3Iq"
   },
   "outputs": [],
   "source": []
  },
  {
   "cell_type": "markdown",
   "metadata": {
    "id": "_U-BQptdp2fN"
   },
   "source": [
    "#Bivariate Analysis"
   ]
  },
  {
   "cell_type": "markdown",
   "metadata": {
    "id": "Kz2rfEaVYAhy"
   },
   "source": [
    "# *Multivariate* Analysis"
   ]
  },
  {
   "cell_type": "code",
   "execution_count": 119,
   "metadata": {
    "colab": {
     "base_uri": "https://localhost:8080/",
     "height": 659
    },
    "id": "jXPvaAkQvBUS",
    "outputId": "85c85119-e3e4-42c5-d4bc-0138d0491699"
   },
   "outputs": [
    {
     "name": "stderr",
     "output_type": "stream",
     "text": [
      "<ipython-input-119-ebd9f57cd53c>:1: FutureWarning: The default value of numeric_only in DataFrame.corr is deprecated. In a future version, it will default to False. Select only valid columns or specify the value of numeric_only to silence this warning.\n",
      "  seaborn.heatmap(loan_df_filtered.corr())\n"
     ]
    },
    {
     "data": {
      "text/plain": [
       "<Axes: >"
      ]
     },
     "execution_count": 119,
     "metadata": {},
     "output_type": "execute_result"
    },
    {
     "data": {
      "image/png": "[encoded data removed]",
      "text/plain": [
       "<Figure size 640x480 with 2 Axes>"
      ]
     },
     "metadata": {},
     "output_type": "display_data"
    }
   ],
   "source": [
    "seaborn.heatmap(loan_df_filtered.corr())"
   ]
  },
  {
   "cell_type": "markdown",
   "metadata": {
    "id": "k6M1Nw5PJ5rq"
   },
   "source": [
    "As it can be seen from the above heat map.\n",
    "\n",
    "1.   There is very high correlation between loan_amnt,funded_amnt,funded_amnt_inv.\n",
    "\n",
    "2.   There is high correlation between pub_rec_bankruptcies and pub_rec\n",
    "\n",
    "3.   There is medium correlation between open_acc and total_acc\n",
    "\n",
    "4.   There is relatively medium correlation between term and int_rate\n",
    "\n",
    "\n",
    "\n"
   ]
  },
  {
   "cell_type": "markdown",
   "metadata": {
    "id": "OKFmEs3sp5wR"
   },
   "source": [
    "#Conclusion"
   ]
  }
 ],
 "metadata": {
  "colab": {
   "collapsed_sections": [
    "t7tSbzLxegjH",
    "d7_UEPjheqZO",
    "ADFt2vFdSATW",
    "JEzexv2mpzb_",
    "XhD4wjBGkjEn",
    "Kz2rfEaVYAhy"
   ],
   "provenance": []
  },
  "kernelspec": {
   "display_name": "Python 3 (ipykernel)",
   "language": "python",
   "name": "python3"
  },
  "language_info": {
   "codemirror_mode": {
    "name": "ipython",
    "version": 3
   },
   "file_extension": ".py",
   "mimetype": "text/x-python",
   "name": "python",
   "nbconvert_exporter": "python",
   "pygments_lexer": "ipython3",
   "version": "3.10.9"
  }
 },
 "nbformat": 4,
 "nbformat_minor": 1
}
