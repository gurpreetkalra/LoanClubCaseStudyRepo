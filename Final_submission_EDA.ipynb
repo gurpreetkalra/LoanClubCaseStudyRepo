{
  "nbformat": 4,
  "nbformat_minor": 0,
  "metadata": {
    "colab": {
      "provenance": [],
      "collapsed_sections": [
        "t7tSbzLxegjH",
        "d7_UEPjheqZO",
        "ADFt2vFdSATW",
        "JEzexv2mpzb_",
        "XhD4wjBGkjEn",
        "Kz2rfEaVYAhy"
      ]
    },
    "kernelspec": {
      "name": "python3",
      "display_name": "Python 3"
    },
    "language_info": {
      "name": "python"
    }
  },
  "cells": [
    {
      "cell_type": "markdown",
      "source": [
        "# Problem Statement"
      ],
      "metadata": {
        "id": "t7tSbzLxegjH"
      }
    },
    {
      "cell_type": "markdown",
      "source": [
        "In other words, borrowers who default cause the largest amount of loss to the lenders. In this case, the customers labelled as 'charged-off' are the 'defaulters'. If one is able to identify these risky loan applicants, then such loans can be reduced thereby cutting down the amount of credit loss. Identification of such applicants using EDA is the aim of this case study."
      ],
      "metadata": {
        "id": "MlvNyWemeVpo"
      }
    },
    {
      "cell_type": "markdown",
      "source": [
        "# Introduction to Dataset"
      ],
      "metadata": {
        "id": "d7_UEPjheqZO"
      }
    },
    {
      "cell_type": "code",
      "execution_count": 2,
      "metadata": {
        "id": "31Zo-iCCAkSz"
      },
      "outputs": [],
      "source": [
        "import pandas\n",
        "import matplotlib.pyplot as plt\n",
        "import numpy\n",
        "from google.colab import files\n",
        "import io\n",
        "import seaborn\n",
        "from datetime import datetime\n"
      ]
    },
    {
      "cell_type": "code",
      "source": [
        "uploaded = files.upload()\n",
        "loan_df = pandas.read_csv(io.BytesIO(uploaded['loan.csv']))\n",
        "loan_df.head(5)"
      ],
      "metadata": {
        "colab": {
          "base_uri": "https://localhost:8080/",
          "height": 479
        },
        "id": "SkJZVoQAAnTI",
        "outputId": "fa5fe1d5-0526-4b0d-e5fa-971687daf5b0"
      },
      "execution_count": 3,
      "outputs": [
        {
          "output_type": "display_data",
          "data": {
            "text/plain": [
              "<IPython.core.display.HTML object>"
            ],
            "text/html": [
              "\n",
              "     <input type=\"file\" id=\"files-d3da5ae9-81c6-424a-93ac-ffd9521d613e\" name=\"files[]\" multiple disabled\n",
              "        style=\"border:none\" />\n",
              "     <output id=\"result-d3da5ae9-81c6-424a-93ac-ffd9521d613e\">\n",
              "      Upload widget is only available when the cell has been executed in the\n",
              "      current browser session. Please rerun this cell to enable.\n",
              "      </output>\n",
              "      <script>// Copyright 2017 Google LLC\n",
              "//\n",
              "// Licensed under the Apache License, Version 2.0 (the \"License\");\n",
              "// you may not use this file except in compliance with the License.\n",
              "// You may obtain a copy of the License at\n",
              "//\n",
              "//      http://www.apache.org/licenses/LICENSE-2.0\n",
              "//\n",
              "// Unless required by applicable law or agreed to in writing, software\n",
              "// distributed under the License is distributed on an \"AS IS\" BASIS,\n",
              "// WITHOUT WARRANTIES OR CONDITIONS OF ANY KIND, either express or implied.\n",
              "// See the License for the specific language governing permissions and\n",
              "// limitations under the License.\n",
              "\n",
              "/**\n",
              " * @fileoverview Helpers for google.colab Python module.\n",
              " */\n",
              "(function(scope) {\n",
              "function span(text, styleAttributes = {}) {\n",
              "  const element = document.createElement('span');\n",
              "  element.textContent = text;\n",
              "  for (const key of Object.keys(styleAttributes)) {\n",
              "    element.style[key] = styleAttributes[key];\n",
              "  }\n",
              "  return element;\n",
              "}\n",
              "\n",
              "// Max number of bytes which will be uploaded at a time.\n",
              "const MAX_PAYLOAD_SIZE = 100 * 1024;\n",
              "\n",
              "function _uploadFiles(inputId, outputId) {\n",
              "  const steps = uploadFilesStep(inputId, outputId);\n",
              "  const outputElement = document.getElementById(outputId);\n",
              "  // Cache steps on the outputElement to make it available for the next call\n",
              "  // to uploadFilesContinue from Python.\n",
              "  outputElement.steps = steps;\n",
              "\n",
              "  return _uploadFilesContinue(outputId);\n",
              "}\n",
              "\n",
              "// This is roughly an async generator (not supported in the browser yet),\n",
              "// where there are multiple asynchronous steps and the Python side is going\n",
              "// to poll for completion of each step.\n",
              "// This uses a Promise to block the python side on completion of each step,\n",
              "// then passes the result of the previous step as the input to the next step.\n",
              "function _uploadFilesContinue(outputId) {\n",
              "  const outputElement = document.getElementById(outputId);\n",
              "  const steps = outputElement.steps;\n",
              "\n",
              "  const next = steps.next(outputElement.lastPromiseValue);\n",
              "  return Promise.resolve(next.value.promise).then((value) => {\n",
              "    // Cache the last promise value to make it available to the next\n",
              "    // step of the generator.\n",
              "    outputElement.lastPromiseValue = value;\n",
              "    return next.value.response;\n",
              "  });\n",
              "}\n",
              "\n",
              "/**\n",
              " * Generator function which is called between each async step of the upload\n",
              " * process.\n",
              " * @param {string} inputId Element ID of the input file picker element.\n",
              " * @param {string} outputId Element ID of the output display.\n",
              " * @return {!Iterable<!Object>} Iterable of next steps.\n",
              " */\n",
              "function* uploadFilesStep(inputId, outputId) {\n",
              "  const inputElement = document.getElementById(inputId);\n",
              "  inputElement.disabled = false;\n",
              "\n",
              "  const outputElement = document.getElementById(outputId);\n",
              "  outputElement.innerHTML = '';\n",
              "\n",
              "  const pickedPromise = new Promise((resolve) => {\n",
              "    inputElement.addEventListener('change', (e) => {\n",
              "      resolve(e.target.files);\n",
              "    });\n",
              "  });\n",
              "\n",
              "  const cancel = document.createElement('button');\n",
              "  inputElement.parentElement.appendChild(cancel);\n",
              "  cancel.textContent = 'Cancel upload';\n",
              "  const cancelPromise = new Promise((resolve) => {\n",
              "    cancel.onclick = () => {\n",
              "      resolve(null);\n",
              "    };\n",
              "  });\n",
              "\n",
              "  // Wait for the user to pick the files.\n",
              "  const files = yield {\n",
              "    promise: Promise.race([pickedPromise, cancelPromise]),\n",
              "    response: {\n",
              "      action: 'starting',\n",
              "    }\n",
              "  };\n",
              "\n",
              "  cancel.remove();\n",
              "\n",
              "  // Disable the input element since further picks are not allowed.\n",
              "  inputElement.disabled = true;\n",
              "\n",
              "  if (!files) {\n",
              "    return {\n",
              "      response: {\n",
              "        action: 'complete',\n",
              "      }\n",
              "    };\n",
              "  }\n",
              "\n",
              "  for (const file of files) {\n",
              "    const li = document.createElement('li');\n",
              "    li.append(span(file.name, {fontWeight: 'bold'}));\n",
              "    li.append(span(\n",
              "        `(${file.type || 'n/a'}) - ${file.size} bytes, ` +\n",
              "        `last modified: ${\n",
              "            file.lastModifiedDate ? file.lastModifiedDate.toLocaleDateString() :\n",
              "                                    'n/a'} - `));\n",
              "    const percent = span('0% done');\n",
              "    li.appendChild(percent);\n",
              "\n",
              "    outputElement.appendChild(li);\n",
              "\n",
              "    const fileDataPromise = new Promise((resolve) => {\n",
              "      const reader = new FileReader();\n",
              "      reader.onload = (e) => {\n",
              "        resolve(e.target.result);\n",
              "      };\n",
              "      reader.readAsArrayBuffer(file);\n",
              "    });\n",
              "    // Wait for the data to be ready.\n",
              "    let fileData = yield {\n",
              "      promise: fileDataPromise,\n",
              "      response: {\n",
              "        action: 'continue',\n",
              "      }\n",
              "    };\n",
              "\n",
              "    // Use a chunked sending to avoid message size limits. See b/62115660.\n",
              "    let position = 0;\n",
              "    do {\n",
              "      const length = Math.min(fileData.byteLength - position, MAX_PAYLOAD_SIZE);\n",
              "      const chunk = new Uint8Array(fileData, position, length);\n",
              "      position += length;\n",
              "\n",
              "      const base64 = btoa(String.fromCharCode.apply(null, chunk));\n",
              "      yield {\n",
              "        response: {\n",
              "          action: 'append',\n",
              "          file: file.name,\n",
              "          data: base64,\n",
              "        },\n",
              "      };\n",
              "\n",
              "      let percentDone = fileData.byteLength === 0 ?\n",
              "          100 :\n",
              "          Math.round((position / fileData.byteLength) * 100);\n",
              "      percent.textContent = `${percentDone}% done`;\n",
              "\n",
              "    } while (position < fileData.byteLength);\n",
              "  }\n",
              "\n",
              "  // All done.\n",
              "  yield {\n",
              "    response: {\n",
              "      action: 'complete',\n",
              "    }\n",
              "  };\n",
              "}\n",
              "\n",
              "scope.google = scope.google || {};\n",
              "scope.google.colab = scope.google.colab || {};\n",
              "scope.google.colab._files = {\n",
              "  _uploadFiles,\n",
              "  _uploadFilesContinue,\n",
              "};\n",
              "})(self);\n",
              "</script> "
            ]
          },
          "metadata": {}
        },
        {
          "output_type": "stream",
          "name": "stdout",
          "text": [
            "Saving loan.csv to loan.csv\n"
          ]
        },
        {
          "output_type": "stream",
          "name": "stderr",
          "text": [
            "<ipython-input-3-b220f1ed7781>:2: DtypeWarning: Columns (47) have mixed types. Specify dtype option on import or set low_memory=False.\n",
            "  loan_df = pandas.read_csv(io.BytesIO(uploaded['loan.csv']))\n"
          ]
        },
        {
          "output_type": "execute_result",
          "data": {
            "text/plain": [
              "        id  member_id  loan_amnt  funded_amnt  funded_amnt_inv        term  \\\n",
              "0  1077501    1296599       5000         5000           4975.0   36 months   \n",
              "1  1077430    1314167       2500         2500           2500.0   60 months   \n",
              "2  1077175    1313524       2400         2400           2400.0   36 months   \n",
              "3  1076863    1277178      10000        10000          10000.0   36 months   \n",
              "4  1075358    1311748       3000         3000           3000.0   60 months   \n",
              "\n",
              "  int_rate  installment grade sub_grade  ... num_tl_90g_dpd_24m  \\\n",
              "0   10.65%       162.87     B        B2  ...                NaN   \n",
              "1   15.27%        59.83     C        C4  ...                NaN   \n",
              "2   15.96%        84.33     C        C5  ...                NaN   \n",
              "3   13.49%       339.31     C        C1  ...                NaN   \n",
              "4   12.69%        67.79     B        B5  ...                NaN   \n",
              "\n",
              "  num_tl_op_past_12m pct_tl_nvr_dlq  percent_bc_gt_75 pub_rec_bankruptcies  \\\n",
              "0                NaN            NaN               NaN                  0.0   \n",
              "1                NaN            NaN               NaN                  0.0   \n",
              "2                NaN            NaN               NaN                  0.0   \n",
              "3                NaN            NaN               NaN                  0.0   \n",
              "4                NaN            NaN               NaN                  0.0   \n",
              "\n",
              "  tax_liens tot_hi_cred_lim total_bal_ex_mort total_bc_limit  \\\n",
              "0       0.0             NaN               NaN            NaN   \n",
              "1       0.0             NaN               NaN            NaN   \n",
              "2       0.0             NaN               NaN            NaN   \n",
              "3       0.0             NaN               NaN            NaN   \n",
              "4       0.0             NaN               NaN            NaN   \n",
              "\n",
              "  total_il_high_credit_limit  \n",
              "0                        NaN  \n",
              "1                        NaN  \n",
              "2                        NaN  \n",
              "3                        NaN  \n",
              "4                        NaN  \n",
              "\n",
              "[5 rows x 111 columns]"
            ],
            "text/html": [
              "\n",
              "  <div id=\"df-7c342086-10f2-4ac6-a867-bf121789595c\">\n",
              "    <div class=\"colab-df-container\">\n",
              "      <div>\n",
              "<style scoped>\n",
              "    .dataframe tbody tr th:only-of-type {\n",
              "        vertical-align: middle;\n",
              "    }\n",
              "\n",
              "    .dataframe tbody tr th {\n",
              "        vertical-align: top;\n",
              "    }\n",
              "\n",
              "    .dataframe thead th {\n",
              "        text-align: right;\n",
              "    }\n",
              "</style>\n",
              "<table border=\"1\" class=\"dataframe\">\n",
              "  <thead>\n",
              "    <tr style=\"text-align: right;\">\n",
              "      <th></th>\n",
              "      <th>id</th>\n",
              "      <th>member_id</th>\n",
              "      <th>loan_amnt</th>\n",
              "      <th>funded_amnt</th>\n",
              "      <th>funded_amnt_inv</th>\n",
              "      <th>term</th>\n",
              "      <th>int_rate</th>\n",
              "      <th>installment</th>\n",
              "      <th>grade</th>\n",
              "      <th>sub_grade</th>\n",
              "      <th>...</th>\n",
              "      <th>num_tl_90g_dpd_24m</th>\n",
              "      <th>num_tl_op_past_12m</th>\n",
              "      <th>pct_tl_nvr_dlq</th>\n",
              "      <th>percent_bc_gt_75</th>\n",
              "      <th>pub_rec_bankruptcies</th>\n",
              "      <th>tax_liens</th>\n",
              "      <th>tot_hi_cred_lim</th>\n",
              "      <th>total_bal_ex_mort</th>\n",
              "      <th>total_bc_limit</th>\n",
              "      <th>total_il_high_credit_limit</th>\n",
              "    </tr>\n",
              "  </thead>\n",
              "  <tbody>\n",
              "    <tr>\n",
              "      <th>0</th>\n",
              "      <td>1077501</td>\n",
              "      <td>1296599</td>\n",
              "      <td>5000</td>\n",
              "      <td>5000</td>\n",
              "      <td>4975.0</td>\n",
              "      <td>36 months</td>\n",
              "      <td>10.65%</td>\n",
              "      <td>162.87</td>\n",
              "      <td>B</td>\n",
              "      <td>B2</td>\n",
              "      <td>...</td>\n",
              "      <td>NaN</td>\n",
              "      <td>NaN</td>\n",
              "      <td>NaN</td>\n",
              "      <td>NaN</td>\n",
              "      <td>0.0</td>\n",
              "      <td>0.0</td>\n",
              "      <td>NaN</td>\n",
              "      <td>NaN</td>\n",
              "      <td>NaN</td>\n",
              "      <td>NaN</td>\n",
              "    </tr>\n",
              "    <tr>\n",
              "      <th>1</th>\n",
              "      <td>1077430</td>\n",
              "      <td>1314167</td>\n",
              "      <td>2500</td>\n",
              "      <td>2500</td>\n",
              "      <td>2500.0</td>\n",
              "      <td>60 months</td>\n",
              "      <td>15.27%</td>\n",
              "      <td>59.83</td>\n",
              "      <td>C</td>\n",
              "      <td>C4</td>\n",
              "      <td>...</td>\n",
              "      <td>NaN</td>\n",
              "      <td>NaN</td>\n",
              "      <td>NaN</td>\n",
              "      <td>NaN</td>\n",
              "      <td>0.0</td>\n",
              "      <td>0.0</td>\n",
              "      <td>NaN</td>\n",
              "      <td>NaN</td>\n",
              "      <td>NaN</td>\n",
              "      <td>NaN</td>\n",
              "    </tr>\n",
              "    <tr>\n",
              "      <th>2</th>\n",
              "      <td>1077175</td>\n",
              "      <td>1313524</td>\n",
              "      <td>2400</td>\n",
              "      <td>2400</td>\n",
              "      <td>2400.0</td>\n",
              "      <td>36 months</td>\n",
              "      <td>15.96%</td>\n",
              "      <td>84.33</td>\n",
              "      <td>C</td>\n",
              "      <td>C5</td>\n",
              "      <td>...</td>\n",
              "      <td>NaN</td>\n",
              "      <td>NaN</td>\n",
              "      <td>NaN</td>\n",
              "      <td>NaN</td>\n",
              "      <td>0.0</td>\n",
              "      <td>0.0</td>\n",
              "      <td>NaN</td>\n",
              "      <td>NaN</td>\n",
              "      <td>NaN</td>\n",
              "      <td>NaN</td>\n",
              "    </tr>\n",
              "    <tr>\n",
              "      <th>3</th>\n",
              "      <td>1076863</td>\n",
              "      <td>1277178</td>\n",
              "      <td>10000</td>\n",
              "      <td>10000</td>\n",
              "      <td>10000.0</td>\n",
              "      <td>36 months</td>\n",
              "      <td>13.49%</td>\n",
              "      <td>339.31</td>\n",
              "      <td>C</td>\n",
              "      <td>C1</td>\n",
              "      <td>...</td>\n",
              "      <td>NaN</td>\n",
              "      <td>NaN</td>\n",
              "      <td>NaN</td>\n",
              "      <td>NaN</td>\n",
              "      <td>0.0</td>\n",
              "      <td>0.0</td>\n",
              "      <td>NaN</td>\n",
              "      <td>NaN</td>\n",
              "      <td>NaN</td>\n",
              "      <td>NaN</td>\n",
              "    </tr>\n",
              "    <tr>\n",
              "      <th>4</th>\n",
              "      <td>1075358</td>\n",
              "      <td>1311748</td>\n",
              "      <td>3000</td>\n",
              "      <td>3000</td>\n",
              "      <td>3000.0</td>\n",
              "      <td>60 months</td>\n",
              "      <td>12.69%</td>\n",
              "      <td>67.79</td>\n",
              "      <td>B</td>\n",
              "      <td>B5</td>\n",
              "      <td>...</td>\n",
              "      <td>NaN</td>\n",
              "      <td>NaN</td>\n",
              "      <td>NaN</td>\n",
              "      <td>NaN</td>\n",
              "      <td>0.0</td>\n",
              "      <td>0.0</td>\n",
              "      <td>NaN</td>\n",
              "      <td>NaN</td>\n",
              "      <td>NaN</td>\n",
              "      <td>NaN</td>\n",
              "    </tr>\n",
              "  </tbody>\n",
              "</table>\n",
              "<p>5 rows × 111 columns</p>\n",
              "</div>\n",
              "      <button class=\"colab-df-convert\" onclick=\"convertToInteractive('df-7c342086-10f2-4ac6-a867-bf121789595c')\"\n",
              "              title=\"Convert this dataframe to an interactive table.\"\n",
              "              style=\"display:none;\">\n",
              "        \n",
              "  <svg xmlns=\"http://www.w3.org/2000/svg\" height=\"24px\"viewBox=\"0 0 24 24\"\n",
              "       width=\"24px\">\n",
              "    <path d=\"M0 0h24v24H0V0z\" fill=\"none\"/>\n",
              "    <path d=\"M18.56 5.44l.94 2.06.94-2.06 2.06-.94-2.06-.94-.94-2.06-.94 2.06-2.06.94zm-11 1L8.5 8.5l.94-2.06 2.06-.94-2.06-.94L8.5 2.5l-.94 2.06-2.06.94zm10 10l.94 2.06.94-2.06 2.06-.94-2.06-.94-.94-2.06-.94 2.06-2.06.94z\"/><path d=\"M17.41 7.96l-1.37-1.37c-.4-.4-.92-.59-1.43-.59-.52 0-1.04.2-1.43.59L10.3 9.45l-7.72 7.72c-.78.78-.78 2.05 0 2.83L4 21.41c.39.39.9.59 1.41.59.51 0 1.02-.2 1.41-.59l7.78-7.78 2.81-2.81c.8-.78.8-2.07 0-2.86zM5.41 20L4 18.59l7.72-7.72 1.47 1.35L5.41 20z\"/>\n",
              "  </svg>\n",
              "      </button>\n",
              "      \n",
              "  <style>\n",
              "    .colab-df-container {\n",
              "      display:flex;\n",
              "      flex-wrap:wrap;\n",
              "      gap: 12px;\n",
              "    }\n",
              "\n",
              "    .colab-df-convert {\n",
              "      background-color: #E8F0FE;\n",
              "      border: none;\n",
              "      border-radius: 50%;\n",
              "      cursor: pointer;\n",
              "      display: none;\n",
              "      fill: #1967D2;\n",
              "      height: 32px;\n",
              "      padding: 0 0 0 0;\n",
              "      width: 32px;\n",
              "    }\n",
              "\n",
              "    .colab-df-convert:hover {\n",
              "      background-color: #E2EBFA;\n",
              "      box-shadow: 0px 1px 2px rgba(60, 64, 67, 0.3), 0px 1px 3px 1px rgba(60, 64, 67, 0.15);\n",
              "      fill: #174EA6;\n",
              "    }\n",
              "\n",
              "    [theme=dark] .colab-df-convert {\n",
              "      background-color: #3B4455;\n",
              "      fill: #D2E3FC;\n",
              "    }\n",
              "\n",
              "    [theme=dark] .colab-df-convert:hover {\n",
              "      background-color: #434B5C;\n",
              "      box-shadow: 0px 1px 3px 1px rgba(0, 0, 0, 0.15);\n",
              "      filter: drop-shadow(0px 1px 2px rgba(0, 0, 0, 0.3));\n",
              "      fill: #FFFFFF;\n",
              "    }\n",
              "  </style>\n",
              "\n",
              "      <script>\n",
              "        const buttonEl =\n",
              "          document.querySelector('#df-7c342086-10f2-4ac6-a867-bf121789595c button.colab-df-convert');\n",
              "        buttonEl.style.display =\n",
              "          google.colab.kernel.accessAllowed ? 'block' : 'none';\n",
              "\n",
              "        async function convertToInteractive(key) {\n",
              "          const element = document.querySelector('#df-7c342086-10f2-4ac6-a867-bf121789595c');\n",
              "          const dataTable =\n",
              "            await google.colab.kernel.invokeFunction('convertToInteractive',\n",
              "                                                     [key], {});\n",
              "          if (!dataTable) return;\n",
              "\n",
              "          const docLinkHtml = 'Like what you see? Visit the ' +\n",
              "            '<a target=\"_blank\" href=https://colab.research.google.com/notebooks/data_table.ipynb>data table notebook</a>'\n",
              "            + ' to learn more about interactive tables.';\n",
              "          element.innerHTML = '';\n",
              "          dataTable['output_type'] = 'display_data';\n",
              "          await google.colab.output.renderOutput(dataTable, element);\n",
              "          const docLink = document.createElement('div');\n",
              "          docLink.innerHTML = docLinkHtml;\n",
              "          element.appendChild(docLink);\n",
              "        }\n",
              "      </script>\n",
              "    </div>\n",
              "  </div>\n",
              "  "
            ]
          },
          "metadata": {},
          "execution_count": 3
        }
      ]
    },
    {
      "cell_type": "markdown",
      "source": [
        "Getting the shape of the dataframe"
      ],
      "metadata": {
        "id": "KmBXlGyhQlaf"
      }
    },
    {
      "cell_type": "code",
      "source": [
        "loan_df.shape\n"
      ],
      "metadata": {
        "colab": {
          "base_uri": "https://localhost:8080/"
        },
        "id": "BvfjP6xvD4Oe",
        "outputId": "31467f4a-82fc-4e4a-83ad-cfca0411fb1f"
      },
      "execution_count": 4,
      "outputs": [
        {
          "output_type": "execute_result",
          "data": {
            "text/plain": [
              "(39717, 111)"
            ]
          },
          "metadata": {},
          "execution_count": 4
        }
      ]
    },
    {
      "cell_type": "markdown",
      "source": [
        "As it can be seen that we have 111 columns.We will now remove the unnecessary columns which are not requried.Getting the list of the columns"
      ],
      "metadata": {
        "id": "xbiTwZp3QpMo"
      }
    },
    {
      "cell_type": "code",
      "source": [
        "loan_df.columns"
      ],
      "metadata": {
        "colab": {
          "base_uri": "https://localhost:8080/"
        },
        "id": "9RCheXp2G8MW",
        "outputId": "e6f81b18-4962-45d2-da94-1980eb11bfc2"
      },
      "execution_count": 5,
      "outputs": [
        {
          "output_type": "execute_result",
          "data": {
            "text/plain": [
              "Index(['id', 'member_id', 'loan_amnt', 'funded_amnt', 'funded_amnt_inv',\n",
              "       'term', 'int_rate', 'installment', 'grade', 'sub_grade',\n",
              "       ...\n",
              "       'num_tl_90g_dpd_24m', 'num_tl_op_past_12m', 'pct_tl_nvr_dlq',\n",
              "       'percent_bc_gt_75', 'pub_rec_bankruptcies', 'tax_liens',\n",
              "       'tot_hi_cred_lim', 'total_bal_ex_mort', 'total_bc_limit',\n",
              "       'total_il_high_credit_limit'],\n",
              "      dtype='object', length=111)"
            ]
          },
          "metadata": {},
          "execution_count": 5
        }
      ]
    },
    {
      "cell_type": "markdown",
      "source": [
        "# Cleaning the Dataframe"
      ],
      "metadata": {
        "id": "ADFt2vFdSATW"
      }
    },
    {
      "cell_type": "markdown",
      "source": [
        "Checking the columns which have NA values.Some of the columns will have all the columns as NA.As the number of NA values equal the row count in the dataframe"
      ],
      "metadata": {
        "id": "m-XuCYDcQyb8"
      }
    },
    {
      "cell_type": "code",
      "source": [
        "loan_df.isna().sum().sort_values(ascending =False)"
      ],
      "metadata": {
        "colab": {
          "base_uri": "https://localhost:8080/"
        },
        "id": "emghXW5xZ_Ho",
        "outputId": "f29d9920-6d0b-4bba-fab6-2cccec8e669a"
      },
      "execution_count": 6,
      "outputs": [
        {
          "output_type": "execute_result",
          "data": {
            "text/plain": [
              "verification_status_joint    39717\n",
              "annual_inc_joint             39717\n",
              "mo_sin_old_rev_tl_op         39717\n",
              "mo_sin_old_il_acct           39717\n",
              "bc_util                      39717\n",
              "                             ...  \n",
              "delinq_amnt                      0\n",
              "policy_code                      0\n",
              "earliest_cr_line                 0\n",
              "delinq_2yrs                      0\n",
              "id                               0\n",
              "Length: 111, dtype: int64"
            ]
          },
          "metadata": {},
          "execution_count": 6
        }
      ]
    },
    {
      "cell_type": "markdown",
      "source": [
        "We have seen from above that there are columns where all the values are NA.So we will drop those columns from the dataset"
      ],
      "metadata": {
        "id": "qDbRIrPvRLT9"
      }
    },
    {
      "cell_type": "code",
      "source": [
        "loan_df.dropna(how='all',axis=1,inplace=True)"
      ],
      "metadata": {
        "id": "ULoi8AB2bixO"
      },
      "execution_count": 7,
      "outputs": []
    },
    {
      "cell_type": "markdown",
      "source": [
        "Checking the shape of the dataframe again"
      ],
      "metadata": {
        "id": "zzrgu9-WRVVV"
      }
    },
    {
      "cell_type": "code",
      "source": [
        "loan_df.shape"
      ],
      "metadata": {
        "colab": {
          "base_uri": "https://localhost:8080/"
        },
        "id": "hXzDMeoBb-3t",
        "outputId": "b1acf74f-7375-4d9f-bf95-2bb1acee344c"
      },
      "execution_count": 8,
      "outputs": [
        {
          "output_type": "execute_result",
          "data": {
            "text/plain": [
              "(39717, 57)"
            ]
          },
          "metadata": {},
          "execution_count": 8
        }
      ]
    },
    {
      "cell_type": "markdown",
      "source": [
        "Checking columns which have unique values.If some columns have only 1 unique value then those columns will not play any affect on Loan Charge Off"
      ],
      "metadata": {
        "id": "E4vf_9P4RY44"
      }
    },
    {
      "cell_type": "code",
      "source": [
        "columns=loan_df.nunique()"
      ],
      "metadata": {
        "id": "_kML8smQcQvk"
      },
      "execution_count": 9,
      "outputs": []
    },
    {
      "cell_type": "markdown",
      "source": [
        "So we are dropping those columns from the dataframe as they won't be having any effect on the outcome of the loan"
      ],
      "metadata": {
        "id": "nmNh6zVgRnBU"
      }
    },
    {
      "cell_type": "code",
      "source": [
        "single_values_columns=columns[columns.values==1]"
      ],
      "metadata": {
        "id": "ZnDpMO9ycsHo"
      },
      "execution_count": 10,
      "outputs": []
    },
    {
      "cell_type": "markdown",
      "source": [
        "Name of the columns with single value in them are as below:\n",
        "1.  pymnt_plan\n",
        "2.  initial_list_status\n",
        "3.  collections_12_mths_ex_med\n",
        "4.  policy_code\n",
        "5.  application_type\n",
        "6.  acc_now_delinq\n",
        "7.  chargeoff_within_12_mths\n",
        "8.  delinq_amnt\n",
        "9.  tax_liens"
      ],
      "metadata": {
        "id": "RyOk_TnQfMHe"
      }
    },
    {
      "cell_type": "code",
      "source": [
        "single_values_columns.index"
      ],
      "metadata": {
        "colab": {
          "base_uri": "https://localhost:8080/"
        },
        "id": "UDV4L-LudXhv",
        "outputId": "19a4d522-337b-4210-9761-c6d1ab173d8d"
      },
      "execution_count": 11,
      "outputs": [
        {
          "output_type": "execute_result",
          "data": {
            "text/plain": [
              "Index(['pymnt_plan', 'initial_list_status', 'collections_12_mths_ex_med',\n",
              "       'policy_code', 'application_type', 'acc_now_delinq',\n",
              "       'chargeoff_within_12_mths', 'delinq_amnt', 'tax_liens'],\n",
              "      dtype='object')"
            ]
          },
          "metadata": {},
          "execution_count": 11
        }
      ]
    },
    {
      "cell_type": "code",
      "source": [
        "loan_df.drop(list(single_values_columns.index),axis=1,inplace=True)"
      ],
      "metadata": {
        "id": "vRjJzVRZdayE"
      },
      "execution_count": 12,
      "outputs": []
    },
    {
      "cell_type": "markdown",
      "source": [
        "Checking the shape of the dataframe"
      ],
      "metadata": {
        "id": "yQFQHpfORwXm"
      }
    },
    {
      "cell_type": "code",
      "source": [
        "loan_df.shape"
      ],
      "metadata": {
        "colab": {
          "base_uri": "https://localhost:8080/"
        },
        "id": "bB9jmNvMexZd",
        "outputId": "96885ec5-5b07-4f53-809a-9c27b260e534"
      },
      "execution_count": 13,
      "outputs": [
        {
          "output_type": "execute_result",
          "data": {
            "text/plain": [
              "(39717, 48)"
            ]
          },
          "metadata": {},
          "execution_count": 13
        }
      ]
    },
    {
      "cell_type": "markdown",
      "source": [
        "Removing below columns from the dataframe as these won't affect the loan rejection outcome.We got the definition of these columns from the Data dictionary\n",
        "\n",
        "1. id-> A unique LC assigned ID for the loan listing.\n",
        "2. member_id-> A unique LC assigned Id for the borrower member.\n",
        "3. url-> URL for the LC page with listing data.\n",
        "4. zip_code-> The first 3 numbers of the zip code provided by the borrower in the loan application.\n",
        "\n"
      ],
      "metadata": {
        "id": "VL4coUwIOWzQ"
      }
    },
    {
      "cell_type": "code",
      "source": [
        "columns_to_drop=['id','member_id','url','zip_code']\n",
        "loan_df.drop(columns=columns_to_drop,inplace=True)"
      ],
      "metadata": {
        "id": "FjrHhhFkV5yC"
      },
      "execution_count": 14,
      "outputs": []
    },
    {
      "cell_type": "code",
      "source": [
        "loan_df.columns"
      ],
      "metadata": {
        "colab": {
          "base_uri": "https://localhost:8080/"
        },
        "id": "sG7YzvVLbOQx",
        "outputId": "fea3f1cc-738d-4718-dfa0-02c2bdf6d67e"
      },
      "execution_count": 15,
      "outputs": [
        {
          "output_type": "execute_result",
          "data": {
            "text/plain": [
              "Index(['loan_amnt', 'funded_amnt', 'funded_amnt_inv', 'term', 'int_rate',\n",
              "       'installment', 'grade', 'sub_grade', 'emp_title', 'emp_length',\n",
              "       'home_ownership', 'annual_inc', 'verification_status', 'issue_d',\n",
              "       'loan_status', 'desc', 'purpose', 'title', 'addr_state', 'dti',\n",
              "       'delinq_2yrs', 'earliest_cr_line', 'inq_last_6mths',\n",
              "       'mths_since_last_delinq', 'mths_since_last_record', 'open_acc',\n",
              "       'pub_rec', 'revol_bal', 'revol_util', 'total_acc', 'out_prncp',\n",
              "       'out_prncp_inv', 'total_pymnt', 'total_pymnt_inv', 'total_rec_prncp',\n",
              "       'total_rec_int', 'total_rec_late_fee', 'recoveries',\n",
              "       'collection_recovery_fee', 'last_pymnt_d', 'last_pymnt_amnt',\n",
              "       'next_pymnt_d', 'last_credit_pull_d', 'pub_rec_bankruptcies'],\n",
              "      dtype='object')"
            ]
          },
          "metadata": {},
          "execution_count": 15
        }
      ]
    },
    {
      "cell_type": "markdown",
      "source": [
        "Checking the Percentage of the missing values in the columns"
      ],
      "metadata": {
        "id": "BgqazwPbhOiC"
      }
    },
    {
      "cell_type": "code",
      "source": [
        "(loan_df.isna().sum()/len(loan_df.index))*100"
      ],
      "metadata": {
        "colab": {
          "base_uri": "https://localhost:8080/"
        },
        "id": "to-rp0dgMpMS",
        "outputId": "46a358db-a26a-47c1-b6a7-af7e9a4031fa"
      },
      "execution_count": 16,
      "outputs": [
        {
          "output_type": "execute_result",
          "data": {
            "text/plain": [
              "loan_amnt                   0.000000\n",
              "funded_amnt                 0.000000\n",
              "funded_amnt_inv             0.000000\n",
              "term                        0.000000\n",
              "int_rate                    0.000000\n",
              "installment                 0.000000\n",
              "grade                       0.000000\n",
              "sub_grade                   0.000000\n",
              "emp_title                   6.191303\n",
              "emp_length                  2.706650\n",
              "home_ownership              0.000000\n",
              "annual_inc                  0.000000\n",
              "verification_status         0.000000\n",
              "issue_d                     0.000000\n",
              "loan_status                 0.000000\n",
              "desc                       32.580507\n",
              "purpose                     0.000000\n",
              "title                       0.027696\n",
              "addr_state                  0.000000\n",
              "dti                         0.000000\n",
              "delinq_2yrs                 0.000000\n",
              "earliest_cr_line            0.000000\n",
              "inq_last_6mths              0.000000\n",
              "mths_since_last_delinq     64.662487\n",
              "mths_since_last_record     92.985372\n",
              "open_acc                    0.000000\n",
              "pub_rec                     0.000000\n",
              "revol_bal                   0.000000\n",
              "revol_util                  0.125891\n",
              "total_acc                   0.000000\n",
              "out_prncp                   0.000000\n",
              "out_prncp_inv               0.000000\n",
              "total_pymnt                 0.000000\n",
              "total_pymnt_inv             0.000000\n",
              "total_rec_prncp             0.000000\n",
              "total_rec_int               0.000000\n",
              "total_rec_late_fee          0.000000\n",
              "recoveries                  0.000000\n",
              "collection_recovery_fee     0.000000\n",
              "last_pymnt_d                0.178765\n",
              "last_pymnt_amnt             0.000000\n",
              "next_pymnt_d               97.129693\n",
              "last_credit_pull_d          0.005036\n",
              "pub_rec_bankruptcies        1.754916\n",
              "dtype: float64"
            ]
          },
          "metadata": {},
          "execution_count": 16
        }
      ]
    },
    {
      "cell_type": "markdown",
      "source": [
        "It can be seen from the above derivation that there are still columns where the number of missing values is still very high.We will remove those columns.The columns are\n",
        "1. desc\n",
        "2. next_payment_d\n",
        "3. mths_since_last_record\n",
        "4. mths_since_last_delinq"
      ],
      "metadata": {
        "id": "r-K9x2P0hfOk"
      }
    },
    {
      "cell_type": "code",
      "source": [
        "loan_df.drop(columns=['desc','next_pymnt_d','mths_since_last_delinq','mths_since_last_record'],inplace=True)"
      ],
      "metadata": {
        "id": "SHPirTevhwsN"
      },
      "execution_count": 17,
      "outputs": []
    },
    {
      "cell_type": "code",
      "source": [
        "loan_df.shape"
      ],
      "metadata": {
        "colab": {
          "base_uri": "https://localhost:8080/"
        },
        "id": "HGiMsDpDiCho",
        "outputId": "4af75f16-ffaf-49bb-f159-b50cd4d34711"
      },
      "execution_count": 18,
      "outputs": [
        {
          "output_type": "execute_result",
          "data": {
            "text/plain": [
              "(39717, 40)"
            ]
          },
          "metadata": {},
          "execution_count": 18
        }
      ]
    },
    {
      "cell_type": "markdown",
      "source": [
        "Checking the percentage of missing values again"
      ],
      "metadata": {
        "id": "E7LUzSDoptCM"
      }
    },
    {
      "cell_type": "code",
      "source": [
        "(loan_df.isna().sum()/len(loan_df.index))*100"
      ],
      "metadata": {
        "colab": {
          "base_uri": "https://localhost:8080/"
        },
        "id": "DfUTPF_5pquM",
        "outputId": "2b5bdcf8-ee32-4eae-ee9d-89a666c05ead"
      },
      "execution_count": 19,
      "outputs": [
        {
          "output_type": "execute_result",
          "data": {
            "text/plain": [
              "loan_amnt                  0.000000\n",
              "funded_amnt                0.000000\n",
              "funded_amnt_inv            0.000000\n",
              "term                       0.000000\n",
              "int_rate                   0.000000\n",
              "installment                0.000000\n",
              "grade                      0.000000\n",
              "sub_grade                  0.000000\n",
              "emp_title                  6.191303\n",
              "emp_length                 2.706650\n",
              "home_ownership             0.000000\n",
              "annual_inc                 0.000000\n",
              "verification_status        0.000000\n",
              "issue_d                    0.000000\n",
              "loan_status                0.000000\n",
              "purpose                    0.000000\n",
              "title                      0.027696\n",
              "addr_state                 0.000000\n",
              "dti                        0.000000\n",
              "delinq_2yrs                0.000000\n",
              "earliest_cr_line           0.000000\n",
              "inq_last_6mths             0.000000\n",
              "open_acc                   0.000000\n",
              "pub_rec                    0.000000\n",
              "revol_bal                  0.000000\n",
              "revol_util                 0.125891\n",
              "total_acc                  0.000000\n",
              "out_prncp                  0.000000\n",
              "out_prncp_inv              0.000000\n",
              "total_pymnt                0.000000\n",
              "total_pymnt_inv            0.000000\n",
              "total_rec_prncp            0.000000\n",
              "total_rec_int              0.000000\n",
              "total_rec_late_fee         0.000000\n",
              "recoveries                 0.000000\n",
              "collection_recovery_fee    0.000000\n",
              "last_pymnt_d               0.178765\n",
              "last_pymnt_amnt            0.000000\n",
              "last_credit_pull_d         0.005036\n",
              "pub_rec_bankruptcies       1.754916\n",
              "dtype: float64"
            ]
          },
          "metadata": {},
          "execution_count": 19
        }
      ]
    },
    {
      "cell_type": "markdown",
      "source": [
        "Now we will check at row level to see if any row is having more NA values than the required"
      ],
      "metadata": {
        "id": "37YbAbnkp9jQ"
      }
    },
    {
      "cell_type": "code",
      "source": [
        "loan_df.isnull().sum(axis=1).sort_values(ascending=False)"
      ],
      "metadata": {
        "colab": {
          "base_uri": "https://localhost:8080/"
        },
        "id": "aXGYEOl7qIhm",
        "outputId": "7ad921e0-0e9f-4ffe-c007-d1380e1d315a"
      },
      "execution_count": 20,
      "outputs": [
        {
          "output_type": "execute_result",
          "data": {
            "text/plain": [
              "32545    3\n",
              "16719    3\n",
              "28980    3\n",
              "24984    3\n",
              "28547    3\n",
              "        ..\n",
              "15370    0\n",
              "15369    0\n",
              "15368    0\n",
              "15367    0\n",
              "19858    0\n",
              "Length: 39717, dtype: int64"
            ]
          },
          "metadata": {},
          "execution_count": 20
        }
      ]
    },
    {
      "cell_type": "markdown",
      "source": [
        "It could be seen that there are  rows which have 4 null values,which should be fine as we have total 40 columns"
      ],
      "metadata": {
        "id": "cGuhvawDqUUX"
      }
    },
    {
      "cell_type": "markdown",
      "source": [
        "We will now insert missing values into the other columns which have some missing values.We will be making use of Mode as the element which has to be inserted for NA values.The reason for picking mode is because of biasness which we may get for Numerical Columns."
      ],
      "metadata": {
        "id": "yJY4N2-VsLGF"
      }
    },
    {
      "cell_type": "code",
      "source": [
        "loan_df['emp_length'].value_counts()"
      ],
      "metadata": {
        "colab": {
          "base_uri": "https://localhost:8080/"
        },
        "id": "t3h9-9ShT8nH",
        "outputId": "a3b8c157-4181-4693-8a4e-1c3b0e121cc2"
      },
      "execution_count": 21,
      "outputs": [
        {
          "output_type": "execute_result",
          "data": {
            "text/plain": [
              "10+ years    8879\n",
              "< 1 year     4583\n",
              "2 years      4388\n",
              "3 years      4095\n",
              "4 years      3436\n",
              "5 years      3282\n",
              "1 year       3240\n",
              "6 years      2229\n",
              "7 years      1773\n",
              "8 years      1479\n",
              "9 years      1258\n",
              "Name: emp_length, dtype: int64"
            ]
          },
          "metadata": {},
          "execution_count": 21
        }
      ]
    },
    {
      "cell_type": "code",
      "source": [
        "mode_value=loan_df['emp_length'].mode()\n",
        "loan_df['emp_length'].fillna(value=mode_value[0],inplace=True)\n",
        "loan_df['emp_length'].isna().sum()"
      ],
      "metadata": {
        "colab": {
          "base_uri": "https://localhost:8080/"
        },
        "id": "Ka6CturbUw6T",
        "outputId": "32250ac0-0ff6-420d-f73d-dbe643da5d71"
      },
      "execution_count": 22,
      "outputs": [
        {
          "output_type": "execute_result",
          "data": {
            "text/plain": [
              "0"
            ]
          },
          "metadata": {},
          "execution_count": 22
        }
      ]
    },
    {
      "cell_type": "code",
      "source": [
        "loan_df['emp_length'].value_counts()"
      ],
      "metadata": {
        "colab": {
          "base_uri": "https://localhost:8080/"
        },
        "id": "wg8FM5iha7JY",
        "outputId": "d5221b93-a165-4faa-8cf6-e85e8123acdb"
      },
      "execution_count": 23,
      "outputs": [
        {
          "output_type": "execute_result",
          "data": {
            "text/plain": [
              "10+ years    9954\n",
              "< 1 year     4583\n",
              "2 years      4388\n",
              "3 years      4095\n",
              "4 years      3436\n",
              "5 years      3282\n",
              "1 year       3240\n",
              "6 years      2229\n",
              "7 years      1773\n",
              "8 years      1479\n",
              "9 years      1258\n",
              "Name: emp_length, dtype: int64"
            ]
          },
          "metadata": {},
          "execution_count": 23
        }
      ]
    },
    {
      "cell_type": "code",
      "source": [
        "mode_value_bankruptcies=loan_df['pub_rec_bankruptcies'].mode()\n",
        "loan_df['pub_rec_bankruptcies'].fillna(value=mode_value_bankruptcies[0],inplace=True)\n",
        "loan_df['pub_rec_bankruptcies'].isna().sum()"
      ],
      "metadata": {
        "colab": {
          "base_uri": "https://localhost:8080/"
        },
        "id": "d8XrigdTVQOp",
        "outputId": "20846d9d-24d8-4930-9ace-5410c2b1e625"
      },
      "execution_count": 24,
      "outputs": [
        {
          "output_type": "execute_result",
          "data": {
            "text/plain": [
              "0"
            ]
          },
          "metadata": {},
          "execution_count": 24
        }
      ]
    },
    {
      "cell_type": "code",
      "source": [
        "loan_df['emp_title'].value_counts()"
      ],
      "metadata": {
        "colab": {
          "base_uri": "https://localhost:8080/"
        },
        "id": "0EP7D8A2s1mW",
        "outputId": "38d07c84-cee9-4629-a68c-2ce4439c8a76"
      },
      "execution_count": 25,
      "outputs": [
        {
          "output_type": "execute_result",
          "data": {
            "text/plain": [
              "US Army                              134\n",
              "Bank of America                      109\n",
              "IBM                                   66\n",
              "AT&T                                  59\n",
              "Kaiser Permanente                     56\n",
              "                                    ... \n",
              "Community College of Philadelphia      1\n",
              "AMEC                                   1\n",
              "lee county sheriff                     1\n",
              "Bacon County Board of Education        1\n",
              "Evergreen Center                       1\n",
              "Name: emp_title, Length: 28820, dtype: int64"
            ]
          },
          "metadata": {},
          "execution_count": 25
        }
      ]
    },
    {
      "cell_type": "code",
      "source": [
        "mode_value=loan_df['emp_title'].mode()\n",
        "loan_df['emp_title'].fillna(value=mode_value[0],inplace=True)\n",
        "loan_df['emp_title'].isna().sum()"
      ],
      "metadata": {
        "colab": {
          "base_uri": "https://localhost:8080/"
        },
        "id": "nUL_Lvj3s8lF",
        "outputId": "2c5fbcf6-6615-4b8a-ca18-083107e1f10a"
      },
      "execution_count": 26,
      "outputs": [
        {
          "output_type": "execute_result",
          "data": {
            "text/plain": [
              "0"
            ]
          },
          "metadata": {},
          "execution_count": 26
        }
      ]
    },
    {
      "cell_type": "code",
      "source": [
        "\n",
        "loan_df['pub_rec_bankruptcies'].value_counts()\n",
        "loan_df['pub_rec_bankruptcies'].fillna(0,inplace=True)\n",
        "loan_df['pub_rec_bankruptcies'].isna().sum()"
      ],
      "metadata": {
        "colab": {
          "base_uri": "https://localhost:8080/"
        },
        "id": "xbQ2XjtqWD8p",
        "outputId": "351bb9a5-c652-4137-f123-73657bb915c1"
      },
      "execution_count": 53,
      "outputs": [
        {
          "output_type": "execute_result",
          "data": {
            "text/plain": [
              "0"
            ]
          },
          "metadata": {},
          "execution_count": 53
        }
      ]
    },
    {
      "cell_type": "markdown",
      "source": [
        "This column defines Revolving line utilization rate, or the amount of credit the borrower is using relative to all available revolving credit , so very high chances that the borrower has not done this event and hence value should \n",
        "be replaced by 0% and would also like to mention that when we look at the mode value , the same is also 0% but had it not be same , we still should have gone with assumption that borrower has not performed the event \n"
      ],
      "metadata": {
        "id": "DihPI11RWcTU"
      }
    },
    {
      "cell_type": "code",
      "source": [
        "mode_value = loan_df['revol_util'].mode()[0]\n",
        "loan_df['revol_util'].fillna(\"0%\",inplace=True)\n",
        "loan_df['revol_util'].isna().sum()"
      ],
      "metadata": {
        "colab": {
          "base_uri": "https://localhost:8080/"
        },
        "id": "GU8JEtORWWfx",
        "outputId": "5a4cc3e0-f9a5-4101-d1f1-4d5fcdffb12e"
      },
      "execution_count": 54,
      "outputs": [
        {
          "output_type": "execute_result",
          "data": {
            "text/plain": [
              "0"
            ]
          },
          "metadata": {},
          "execution_count": 54
        }
      ]
    },
    {
      "cell_type": "markdown",
      "source": [
        "Checking the datatype of the Columns present in the dataframe"
      ],
      "metadata": {
        "id": "0ygIMnMerAca"
      }
    },
    {
      "cell_type": "code",
      "source": [
        "loan_df.columns"
      ],
      "metadata": {
        "colab": {
          "base_uri": "https://localhost:8080/"
        },
        "id": "HChorVtqq9jR",
        "outputId": "b46a3392-9d7e-4f53-a3ee-fd28bfd88a9a"
      },
      "execution_count": 56,
      "outputs": [
        {
          "output_type": "execute_result",
          "data": {
            "text/plain": [
              "Index(['loan_amnt', 'funded_amnt', 'funded_amnt_inv', 'term', 'int_rate',\n",
              "       'installment', 'grade', 'sub_grade', 'emp_title', 'emp_length',\n",
              "       'home_ownership', 'annual_inc', 'verification_status', 'issue_d',\n",
              "       'loan_status', 'purpose', 'title', 'addr_state', 'dti', 'delinq_2yrs',\n",
              "       'inq_last_6mths', 'open_acc', 'pub_rec', 'revol_bal', 'revol_util',\n",
              "       'total_acc', 'out_prncp_inv', 'total_rec_late_fee', 'recoveries',\n",
              "       'collection_recovery_fee', 'pub_rec_bankruptcies'],\n",
              "      dtype='object')"
            ]
          },
          "metadata": {},
          "execution_count": 56
        }
      ]
    },
    {
      "cell_type": "markdown",
      "source": [
        "## Standardise the Data"
      ],
      "metadata": {
        "id": "pVayNqZrY7Bw"
      }
    },
    {
      "cell_type": "markdown",
      "source": [
        "Checking the information present in each column"
      ],
      "metadata": {
        "id": "9FHdOvuhZADr"
      }
    },
    {
      "cell_type": "code",
      "source": [
        "loan_df.head(5)"
      ],
      "metadata": {
        "colab": {
          "base_uri": "https://localhost:8080/",
          "height": 421
        },
        "id": "EwYQqrhjZEEH",
        "outputId": "8b63a4bf-83da-4535-e6ad-86f9d59a5ac8"
      },
      "execution_count": 28,
      "outputs": [
        {
          "output_type": "execute_result",
          "data": {
            "text/plain": [
              "   loan_amnt  funded_amnt  funded_amnt_inv        term int_rate  installment  \\\n",
              "0       5000         5000           4975.0   36 months   10.65%       162.87   \n",
              "1       2500         2500           2500.0   60 months   15.27%        59.83   \n",
              "2       2400         2400           2400.0   36 months   15.96%        84.33   \n",
              "3      10000        10000          10000.0   36 months   13.49%       339.31   \n",
              "4       3000         3000           3000.0   60 months   12.69%        67.79   \n",
              "\n",
              "  grade sub_grade                 emp_title emp_length  ... total_pymnt_inv  \\\n",
              "0     B        B2                   US Army  10+ years  ...         5833.84   \n",
              "1     C        C4                     Ryder   < 1 year  ...         1008.71   \n",
              "2     C        C5                   US Army  10+ years  ...         3005.67   \n",
              "3     C        C1       AIR RESOURCES BOARD  10+ years  ...        12231.89   \n",
              "4     B        B5  University Medical Group     1 year  ...         3513.33   \n",
              "\n",
              "   total_rec_prncp total_rec_int total_rec_late_fee recoveries  \\\n",
              "0          5000.00        863.16               0.00       0.00   \n",
              "1           456.46        435.17               0.00     117.08   \n",
              "2          2400.00        605.67               0.00       0.00   \n",
              "3         10000.00       2214.92              16.97       0.00   \n",
              "4          2475.94       1037.39               0.00       0.00   \n",
              "\n",
              "  collection_recovery_fee last_pymnt_d last_pymnt_amnt  last_credit_pull_d  \\\n",
              "0                    0.00       Jan-15          171.62              May-16   \n",
              "1                    1.11       Apr-13          119.66              Sep-13   \n",
              "2                    0.00       Jun-14          649.91              May-16   \n",
              "3                    0.00       Jan-15          357.48              Apr-16   \n",
              "4                    0.00       May-16           67.79              May-16   \n",
              "\n",
              "   pub_rec_bankruptcies  \n",
              "0                   0.0  \n",
              "1                   0.0  \n",
              "2                   0.0  \n",
              "3                   0.0  \n",
              "4                   0.0  \n",
              "\n",
              "[5 rows x 40 columns]"
            ],
            "text/html": [
              "\n",
              "  <div id=\"df-98cfb4d6-e903-44fc-b6c0-4dfaf17bbfd9\">\n",
              "    <div class=\"colab-df-container\">\n",
              "      <div>\n",
              "<style scoped>\n",
              "    .dataframe tbody tr th:only-of-type {\n",
              "        vertical-align: middle;\n",
              "    }\n",
              "\n",
              "    .dataframe tbody tr th {\n",
              "        vertical-align: top;\n",
              "    }\n",
              "\n",
              "    .dataframe thead th {\n",
              "        text-align: right;\n",
              "    }\n",
              "</style>\n",
              "<table border=\"1\" class=\"dataframe\">\n",
              "  <thead>\n",
              "    <tr style=\"text-align: right;\">\n",
              "      <th></th>\n",
              "      <th>loan_amnt</th>\n",
              "      <th>funded_amnt</th>\n",
              "      <th>funded_amnt_inv</th>\n",
              "      <th>term</th>\n",
              "      <th>int_rate</th>\n",
              "      <th>installment</th>\n",
              "      <th>grade</th>\n",
              "      <th>sub_grade</th>\n",
              "      <th>emp_title</th>\n",
              "      <th>emp_length</th>\n",
              "      <th>...</th>\n",
              "      <th>total_pymnt_inv</th>\n",
              "      <th>total_rec_prncp</th>\n",
              "      <th>total_rec_int</th>\n",
              "      <th>total_rec_late_fee</th>\n",
              "      <th>recoveries</th>\n",
              "      <th>collection_recovery_fee</th>\n",
              "      <th>last_pymnt_d</th>\n",
              "      <th>last_pymnt_amnt</th>\n",
              "      <th>last_credit_pull_d</th>\n",
              "      <th>pub_rec_bankruptcies</th>\n",
              "    </tr>\n",
              "  </thead>\n",
              "  <tbody>\n",
              "    <tr>\n",
              "      <th>0</th>\n",
              "      <td>5000</td>\n",
              "      <td>5000</td>\n",
              "      <td>4975.0</td>\n",
              "      <td>36 months</td>\n",
              "      <td>10.65%</td>\n",
              "      <td>162.87</td>\n",
              "      <td>B</td>\n",
              "      <td>B2</td>\n",
              "      <td>US Army</td>\n",
              "      <td>10+ years</td>\n",
              "      <td>...</td>\n",
              "      <td>5833.84</td>\n",
              "      <td>5000.00</td>\n",
              "      <td>863.16</td>\n",
              "      <td>0.00</td>\n",
              "      <td>0.00</td>\n",
              "      <td>0.00</td>\n",
              "      <td>Jan-15</td>\n",
              "      <td>171.62</td>\n",
              "      <td>May-16</td>\n",
              "      <td>0.0</td>\n",
              "    </tr>\n",
              "    <tr>\n",
              "      <th>1</th>\n",
              "      <td>2500</td>\n",
              "      <td>2500</td>\n",
              "      <td>2500.0</td>\n",
              "      <td>60 months</td>\n",
              "      <td>15.27%</td>\n",
              "      <td>59.83</td>\n",
              "      <td>C</td>\n",
              "      <td>C4</td>\n",
              "      <td>Ryder</td>\n",
              "      <td>&lt; 1 year</td>\n",
              "      <td>...</td>\n",
              "      <td>1008.71</td>\n",
              "      <td>456.46</td>\n",
              "      <td>435.17</td>\n",
              "      <td>0.00</td>\n",
              "      <td>117.08</td>\n",
              "      <td>1.11</td>\n",
              "      <td>Apr-13</td>\n",
              "      <td>119.66</td>\n",
              "      <td>Sep-13</td>\n",
              "      <td>0.0</td>\n",
              "    </tr>\n",
              "    <tr>\n",
              "      <th>2</th>\n",
              "      <td>2400</td>\n",
              "      <td>2400</td>\n",
              "      <td>2400.0</td>\n",
              "      <td>36 months</td>\n",
              "      <td>15.96%</td>\n",
              "      <td>84.33</td>\n",
              "      <td>C</td>\n",
              "      <td>C5</td>\n",
              "      <td>US Army</td>\n",
              "      <td>10+ years</td>\n",
              "      <td>...</td>\n",
              "      <td>3005.67</td>\n",
              "      <td>2400.00</td>\n",
              "      <td>605.67</td>\n",
              "      <td>0.00</td>\n",
              "      <td>0.00</td>\n",
              "      <td>0.00</td>\n",
              "      <td>Jun-14</td>\n",
              "      <td>649.91</td>\n",
              "      <td>May-16</td>\n",
              "      <td>0.0</td>\n",
              "    </tr>\n",
              "    <tr>\n",
              "      <th>3</th>\n",
              "      <td>10000</td>\n",
              "      <td>10000</td>\n",
              "      <td>10000.0</td>\n",
              "      <td>36 months</td>\n",
              "      <td>13.49%</td>\n",
              "      <td>339.31</td>\n",
              "      <td>C</td>\n",
              "      <td>C1</td>\n",
              "      <td>AIR RESOURCES BOARD</td>\n",
              "      <td>10+ years</td>\n",
              "      <td>...</td>\n",
              "      <td>12231.89</td>\n",
              "      <td>10000.00</td>\n",
              "      <td>2214.92</td>\n",
              "      <td>16.97</td>\n",
              "      <td>0.00</td>\n",
              "      <td>0.00</td>\n",
              "      <td>Jan-15</td>\n",
              "      <td>357.48</td>\n",
              "      <td>Apr-16</td>\n",
              "      <td>0.0</td>\n",
              "    </tr>\n",
              "    <tr>\n",
              "      <th>4</th>\n",
              "      <td>3000</td>\n",
              "      <td>3000</td>\n",
              "      <td>3000.0</td>\n",
              "      <td>60 months</td>\n",
              "      <td>12.69%</td>\n",
              "      <td>67.79</td>\n",
              "      <td>B</td>\n",
              "      <td>B5</td>\n",
              "      <td>University Medical Group</td>\n",
              "      <td>1 year</td>\n",
              "      <td>...</td>\n",
              "      <td>3513.33</td>\n",
              "      <td>2475.94</td>\n",
              "      <td>1037.39</td>\n",
              "      <td>0.00</td>\n",
              "      <td>0.00</td>\n",
              "      <td>0.00</td>\n",
              "      <td>May-16</td>\n",
              "      <td>67.79</td>\n",
              "      <td>May-16</td>\n",
              "      <td>0.0</td>\n",
              "    </tr>\n",
              "  </tbody>\n",
              "</table>\n",
              "<p>5 rows × 40 columns</p>\n",
              "</div>\n",
              "      <button class=\"colab-df-convert\" onclick=\"convertToInteractive('df-98cfb4d6-e903-44fc-b6c0-4dfaf17bbfd9')\"\n",
              "              title=\"Convert this dataframe to an interactive table.\"\n",
              "              style=\"display:none;\">\n",
              "        \n",
              "  <svg xmlns=\"http://www.w3.org/2000/svg\" height=\"24px\"viewBox=\"0 0 24 24\"\n",
              "       width=\"24px\">\n",
              "    <path d=\"M0 0h24v24H0V0z\" fill=\"none\"/>\n",
              "    <path d=\"M18.56 5.44l.94 2.06.94-2.06 2.06-.94-2.06-.94-.94-2.06-.94 2.06-2.06.94zm-11 1L8.5 8.5l.94-2.06 2.06-.94-2.06-.94L8.5 2.5l-.94 2.06-2.06.94zm10 10l.94 2.06.94-2.06 2.06-.94-2.06-.94-.94-2.06-.94 2.06-2.06.94z\"/><path d=\"M17.41 7.96l-1.37-1.37c-.4-.4-.92-.59-1.43-.59-.52 0-1.04.2-1.43.59L10.3 9.45l-7.72 7.72c-.78.78-.78 2.05 0 2.83L4 21.41c.39.39.9.59 1.41.59.51 0 1.02-.2 1.41-.59l7.78-7.78 2.81-2.81c.8-.78.8-2.07 0-2.86zM5.41 20L4 18.59l7.72-7.72 1.47 1.35L5.41 20z\"/>\n",
              "  </svg>\n",
              "      </button>\n",
              "      \n",
              "  <style>\n",
              "    .colab-df-container {\n",
              "      display:flex;\n",
              "      flex-wrap:wrap;\n",
              "      gap: 12px;\n",
              "    }\n",
              "\n",
              "    .colab-df-convert {\n",
              "      background-color: #E8F0FE;\n",
              "      border: none;\n",
              "      border-radius: 50%;\n",
              "      cursor: pointer;\n",
              "      display: none;\n",
              "      fill: #1967D2;\n",
              "      height: 32px;\n",
              "      padding: 0 0 0 0;\n",
              "      width: 32px;\n",
              "    }\n",
              "\n",
              "    .colab-df-convert:hover {\n",
              "      background-color: #E2EBFA;\n",
              "      box-shadow: 0px 1px 2px rgba(60, 64, 67, 0.3), 0px 1px 3px 1px rgba(60, 64, 67, 0.15);\n",
              "      fill: #174EA6;\n",
              "    }\n",
              "\n",
              "    [theme=dark] .colab-df-convert {\n",
              "      background-color: #3B4455;\n",
              "      fill: #D2E3FC;\n",
              "    }\n",
              "\n",
              "    [theme=dark] .colab-df-convert:hover {\n",
              "      background-color: #434B5C;\n",
              "      box-shadow: 0px 1px 3px 1px rgba(0, 0, 0, 0.15);\n",
              "      filter: drop-shadow(0px 1px 2px rgba(0, 0, 0, 0.3));\n",
              "      fill: #FFFFFF;\n",
              "    }\n",
              "  </style>\n",
              "\n",
              "      <script>\n",
              "        const buttonEl =\n",
              "          document.querySelector('#df-98cfb4d6-e903-44fc-b6c0-4dfaf17bbfd9 button.colab-df-convert');\n",
              "        buttonEl.style.display =\n",
              "          google.colab.kernel.accessAllowed ? 'block' : 'none';\n",
              "\n",
              "        async function convertToInteractive(key) {\n",
              "          const element = document.querySelector('#df-98cfb4d6-e903-44fc-b6c0-4dfaf17bbfd9');\n",
              "          const dataTable =\n",
              "            await google.colab.kernel.invokeFunction('convertToInteractive',\n",
              "                                                     [key], {});\n",
              "          if (!dataTable) return;\n",
              "\n",
              "          const docLinkHtml = 'Like what you see? Visit the ' +\n",
              "            '<a target=\"_blank\" href=https://colab.research.google.com/notebooks/data_table.ipynb>data table notebook</a>'\n",
              "            + ' to learn more about interactive tables.';\n",
              "          element.innerHTML = '';\n",
              "          dataTable['output_type'] = 'display_data';\n",
              "          await google.colab.output.renderOutput(dataTable, element);\n",
              "          const docLink = document.createElement('div');\n",
              "          docLink.innerHTML = docLinkHtml;\n",
              "          element.appendChild(docLink);\n",
              "        }\n",
              "      </script>\n",
              "    </div>\n",
              "  </div>\n",
              "  "
            ]
          },
          "metadata": {},
          "execution_count": 28
        }
      ]
    },
    {
      "cell_type": "code",
      "source": [
        "loan_df['emp_length']=loan_df['emp_length'].apply(lambda x: 0 if '<' in str(x) else (10 if '+' in str(x) else str(x).split()[0]))"
      ],
      "metadata": {
        "id": "Z7A4EoB6ZMJf"
      },
      "execution_count": 29,
      "outputs": []
    },
    {
      "cell_type": "code",
      "source": [
        "loan_df['int_rate']=loan_df['int_rate'].apply(lambda x:float(str(x)[:-1]))\n",
        "loan_df['int_rate'].head(5)"
      ],
      "metadata": {
        "colab": {
          "base_uri": "https://localhost:8080/"
        },
        "id": "rKyQwE84HOFc",
        "outputId": "f0c63ecf-5b27-488b-9b46-3badd4b42a93"
      },
      "execution_count": 30,
      "outputs": [
        {
          "output_type": "execute_result",
          "data": {
            "text/plain": [
              "0    10.65\n",
              "1    15.27\n",
              "2    15.96\n",
              "3    13.49\n",
              "4    12.69\n",
              "Name: int_rate, dtype: float64"
            ]
          },
          "metadata": {},
          "execution_count": 30
        }
      ]
    },
    {
      "cell_type": "code",
      "source": [
        "loan_df['term']=loan_df['term'].apply(lambda x:float(str(x).replace(\" months\",'')))\n",
        "loan_df['term'].head(5)"
      ],
      "metadata": {
        "colab": {
          "base_uri": "https://localhost:8080/"
        },
        "id": "Z3VKd4BTHwBh",
        "outputId": "e75365aa-351d-4781-fce9-b6786a264aa3"
      },
      "execution_count": 31,
      "outputs": [
        {
          "output_type": "execute_result",
          "data": {
            "text/plain": [
              "0    36.0\n",
              "1    60.0\n",
              "2    36.0\n",
              "3    36.0\n",
              "4    60.0\n",
              "Name: term, dtype: float64"
            ]
          },
          "metadata": {},
          "execution_count": 31
        }
      ]
    },
    {
      "cell_type": "markdown",
      "source": [
        "Out of all the columns which we have there will be only few columns which will be available to us at the time of filling a loan application and some variables will be generate after the loan has been approved based on the customer.We can remove those columns which are generated after the loan has been approved.\n"
      ],
      "metadata": {
        "id": "olNitY3uuvEN"
      }
    },
    {
      "cell_type": "code",
      "source": [
        "columns_after_loan_application =  [\n",
        "  \"earliest_cr_line\",\n",
        "  \"out_prncp_inv\",\n",
        "  \"total_pymnt\",\n",
        "  \"total_pymnt_inv\",\n",
        "  \"total_rec_prncp\",\n",
        "  \"total_rec_int\",\n",
        "  \"last_pymnt_d\",\n",
        "  \"last_pymnt_amnt\",\n",
        "  \"last_credit_pull_d\"]"
      ],
      "metadata": {
        "id": "OioCNSeDvSJV"
      },
      "execution_count": 32,
      "outputs": []
    },
    {
      "cell_type": "code",
      "source": [
        "loan_df.drop(columns=columns_after_loan_application,inplace=True)"
      ],
      "metadata": {
        "id": "uLUXS7pdvXUv"
      },
      "execution_count": 33,
      "outputs": []
    },
    {
      "cell_type": "markdown",
      "source": [
        "In our current dataset we have all the users whose loans have been:\n",
        "\n",
        "1. Charged Off\n",
        "2. Completed\n",
        "3. Ongoing\n",
        "\n",
        "Let us see the distribution of the dataset based on the loan status"
      ],
      "metadata": {
        "id": "4sg98Tc0voRi"
      }
    },
    {
      "cell_type": "code",
      "source": [
        "loan_df['loan_status'].value_counts()"
      ],
      "metadata": {
        "colab": {
          "base_uri": "https://localhost:8080/"
        },
        "id": "o44FgBtxwC6A",
        "outputId": "948ebb34-9c53-4ad5-9a7b-3e808f0c9ff6"
      },
      "execution_count": 34,
      "outputs": [
        {
          "output_type": "execute_result",
          "data": {
            "text/plain": [
              "Fully Paid     32950\n",
              "Charged Off     5627\n",
              "Current         1140\n",
              "Name: loan_status, dtype: int64"
            ]
          },
          "metadata": {},
          "execution_count": 34
        }
      ]
    },
    {
      "cell_type": "code",
      "source": [
        "loan_df.info()"
      ],
      "metadata": {
        "colab": {
          "base_uri": "https://localhost:8080/"
        },
        "id": "DsOp21Fgac4_",
        "outputId": "bc65bbcf-94ac-463e-d45a-1046f5eea8c6"
      },
      "execution_count": 58,
      "outputs": [
        {
          "output_type": "stream",
          "name": "stdout",
          "text": [
            "<class 'pandas.core.frame.DataFrame'>\n",
            "RangeIndex: 39717 entries, 0 to 39716\n",
            "Data columns (total 31 columns):\n",
            " #   Column                   Non-Null Count  Dtype  \n",
            "---  ------                   --------------  -----  \n",
            " 0   loan_amnt                39717 non-null  int64  \n",
            " 1   funded_amnt              39717 non-null  int64  \n",
            " 2   funded_amnt_inv          39717 non-null  float64\n",
            " 3   term                     39717 non-null  float64\n",
            " 4   int_rate                 39717 non-null  float64\n",
            " 5   installment              39717 non-null  float64\n",
            " 6   grade                    39717 non-null  object \n",
            " 7   sub_grade                39717 non-null  object \n",
            " 8   emp_title                39717 non-null  object \n",
            " 9   emp_length               39717 non-null  object \n",
            " 10  home_ownership           39717 non-null  object \n",
            " 11  annual_inc               39717 non-null  float64\n",
            " 12  verification_status      39717 non-null  object \n",
            " 13  issue_d                  39717 non-null  object \n",
            " 14  loan_status              39717 non-null  object \n",
            " 15  purpose                  39717 non-null  object \n",
            " 16  title                    39706 non-null  object \n",
            " 17  addr_state               39717 non-null  object \n",
            " 18  dti                      39717 non-null  float64\n",
            " 19  delinq_2yrs              39717 non-null  int64  \n",
            " 20  inq_last_6mths           39717 non-null  int64  \n",
            " 21  open_acc                 39717 non-null  int64  \n",
            " 22  pub_rec                  39717 non-null  int64  \n",
            " 23  revol_bal                39717 non-null  int64  \n",
            " 24  revol_util               39717 non-null  object \n",
            " 25  total_acc                39717 non-null  int64  \n",
            " 26  out_prncp_inv            39717 non-null  float64\n",
            " 27  total_rec_late_fee       39717 non-null  float64\n",
            " 28  recoveries               39717 non-null  float64\n",
            " 29  collection_recovery_fee  39717 non-null  float64\n",
            " 30  pub_rec_bankruptcies     39717 non-null  float64\n",
            "dtypes: float64(11), int64(8), object(12)\n",
            "memory usage: 9.4+ MB\n"
          ]
        }
      ]
    },
    {
      "cell_type": "markdown",
      "source": [
        "People with Loan status as Current will not play any major role in our analysis.So we can filter them out"
      ],
      "metadata": {
        "id": "9MkU6o2UwT6T"
      }
    },
    {
      "cell_type": "code",
      "source": [
        "loan_df_filtered=loan_df[loan_df['loan_status']!='Current']"
      ],
      "metadata": {
        "id": "Woohi_E9wR-e"
      },
      "execution_count": 35,
      "outputs": []
    },
    {
      "cell_type": "markdown",
      "source": [
        "Let us check the shape of the dataset after filtering\n"
      ],
      "metadata": {
        "id": "RKEBSkucwm83"
      }
    },
    {
      "cell_type": "code",
      "source": [
        "loan_df_filtered.shape"
      ],
      "metadata": {
        "colab": {
          "base_uri": "https://localhost:8080/"
        },
        "id": "HRjEK31qwrxX",
        "outputId": "4975aa08-1d1b-464c-d8a5-0561fb037510"
      },
      "execution_count": 36,
      "outputs": [
        {
          "output_type": "execute_result",
          "data": {
            "text/plain": [
              "(38577, 31)"
            ]
          },
          "metadata": {},
          "execution_count": 36
        }
      ]
    },
    {
      "cell_type": "markdown",
      "source": [
        "# Univariate Analysis"
      ],
      "metadata": {
        "id": "y39f0X3sXdSy"
      }
    },
    {
      "cell_type": "markdown",
      "source": [
        "Now we will perform analysis on the data"
      ],
      "metadata": {
        "id": "IzaLqrQZXgzN"
      }
    },
    {
      "cell_type": "markdown",
      "source": [
        "We will start with analysing the distribution of loan amount.How the amount is distributed.For that we will make use of histogram."
      ],
      "metadata": {
        "id": "oWvOy0UOZwcK"
      }
    },
    {
      "cell_type": "code",
      "source": [
        "ax = plt.subplots(figsize=(10, 6))\n",
        "seaborn.histplot(data=loan_df_filtered,x='loan_amnt',bins=15)"
      ],
      "metadata": {
        "colab": {
          "base_uri": "https://localhost:8080/",
          "height": 560
        },
        "id": "QF-3xkGQaTVl",
        "outputId": "9cc1e441-6141-42ae-d640-bb8dbb28e84a"
      },
      "execution_count": 64,
      "outputs": [
        {
          "output_type": "execute_result",
          "data": {
            "text/plain": [
              "<Axes: xlabel='loan_amnt', ylabel='Count'>"
            ]
          },
          "metadata": {},
          "execution_count": 64
        },
        {
          "output_type": "display_data",
          "data": {
            "text/plain": [
              "<Figure size 1000x600 with 1 Axes>"
            ],
            "image/png": "[encoded data removed]"
          },
          "metadata": {}
        }
      ]
    },
    {
      "cell_type": "markdown",
      "source": [
        "**It can be seen that majority of the loans are in the range 2500-5000**"
      ],
      "metadata": {
        "id": "0WHmePjIb0in"
      }
    },
    {
      "cell_type": "markdown",
      "source": [
        "We will also check the income distribution of the applicants.For that we will make use of Boxplot"
      ],
      "metadata": {
        "id": "Ci2KxxW-d3PS"
      }
    },
    {
      "cell_type": "code",
      "source": [
        "seaborn.boxplot(y=loan_df_filtered['annual_inc'],x=loan_df_filtered['loan_status'],data=loan_df_filtered)"
      ],
      "metadata": {
        "colab": {
          "base_uri": "https://localhost:8080/",
          "height": 468
        },
        "id": "rcCrggYsd7S2",
        "outputId": "dd3d580f-cb20-40ee-ff35-f8f8722db53b"
      },
      "execution_count": 81,
      "outputs": [
        {
          "output_type": "execute_result",
          "data": {
            "text/plain": [
              "<Axes: xlabel='loan_status', ylabel='annual_inc'>"
            ]
          },
          "metadata": {},
          "execution_count": 81
        },
        {
          "output_type": "display_data",
          "data": {
            "text/plain": [
              "<Figure size 640x480 with 1 Axes>"
            ],
            "image/png": "[encoded data removed]"
          },
          "metadata": {}
        }
      ]
    },
    {
      "cell_type": "markdown",
      "source": [
        "We cannot make any conlcusion from the graph.We need to remove the outliers.We will make use of IQR to remove the outliers from the dataset.the minimum value will be Q1-IQR*1.5 and maximum value will be Q3+IQR*1.5"
      ],
      "metadata": {
        "id": "osGkvH7AetXZ"
      }
    },
    {
      "cell_type": "code",
      "source": [
        "Q1=numpy.percentile(loan_df_filtered['annual_inc'],25)\n",
        "Q3=numpy.percentile(loan_df_filtered['annual_inc'],75)\n",
        "IQR=Q3-Q1\n",
        "IQR"
      ],
      "metadata": {
        "colab": {
          "base_uri": "https://localhost:8080/"
        },
        "id": "6k30WtRAgs_Q",
        "outputId": "458f0242-e605-4057-ff28-19ed89c76cff"
      },
      "execution_count": 70,
      "outputs": [
        {
          "output_type": "execute_result",
          "data": {
            "text/plain": [
              "42000.0"
            ]
          },
          "metadata": {},
          "execution_count": 70
        }
      ]
    },
    {
      "cell_type": "code",
      "source": [
        "upper_limit_income=Q3+1.5*IQR\n",
        "lower_limit_income=Q1-1.5*IQR\n",
        "print(\"Lower Limit {}\",lower_limit_income)\n",
        "print(\"Upper Limit {}\",upper_limit_income)"
      ],
      "metadata": {
        "colab": {
          "base_uri": "https://localhost:8080/"
        },
        "id": "-Gcc5pBch5mT",
        "outputId": "312c3151-a6ec-4b9a-f45d-8c20425ddf85"
      },
      "execution_count": 71,
      "outputs": [
        {
          "output_type": "stream",
          "name": "stdout",
          "text": [
            "Lower Limit {} -23000.0\n",
            "Upper Limit {} 145000.0\n"
          ]
        }
      ]
    },
    {
      "cell_type": "code",
      "source": [
        "min(loan_df_filtered['annual_inc'])"
      ],
      "metadata": {
        "colab": {
          "base_uri": "https://localhost:8080/"
        },
        "id": "TvomvYohjd4h",
        "outputId": "7ca4699a-1e0c-40c0-d1f2-ec736632c7c4"
      },
      "execution_count": 78,
      "outputs": [
        {
          "output_type": "execute_result",
          "data": {
            "text/plain": [
              "4000.0"
            ]
          },
          "metadata": {},
          "execution_count": 78
        }
      ]
    },
    {
      "cell_type": "markdown",
      "source": [
        "Since there are no negative values present in the annual income field we can ignore the lower limit"
      ],
      "metadata": {
        "id": "G8pDIUSxjlLl"
      }
    },
    {
      "cell_type": "markdown",
      "source": [
        "We will now remove the outliers after checking the upper limit on the data\n",
        "\n"
      ],
      "metadata": {
        "id": "XuaaFJTBiVqg"
      }
    },
    {
      "cell_type": "code",
      "source": [
        "loan_df_filtered.drop(loan_df_filtered[(loan_df_filtered['annual_inc']>=upper_limit_income)].index,inplace=True)"
      ],
      "metadata": {
        "colab": {
          "base_uri": "https://localhost:8080/"
        },
        "id": "OBqD3RFkic_H",
        "outputId": "d1496d7d-fc8b-4d99-d7d2-5ef4bb3058b2"
      },
      "execution_count": 75,
      "outputs": [
        {
          "output_type": "stream",
          "name": "stderr",
          "text": [
            "<ipython-input-75-77ad039a57de>:1: SettingWithCopyWarning: \n",
            "A value is trying to be set on a copy of a slice from a DataFrame\n",
            "\n",
            "See the caveats in the documentation: https://pandas.pydata.org/pandas-docs/stable/user_guide/indexing.html#returning-a-view-versus-a-copy\n",
            "  loan_df_filtered.drop(loan_df_filtered[(loan_df_filtered['annual_inc']>=upper_limit_income)].index,inplace=True)\n"
          ]
        }
      ]
    },
    {
      "cell_type": "markdown",
      "source": [
        "Checking the shape of the data after removing the outliers and plotting the graph again"
      ],
      "metadata": {
        "id": "1YUUUsvaj0nS"
      }
    },
    {
      "cell_type": "code",
      "source": [
        "loan_df_filtered.shape()"
      ],
      "metadata": {
        "colab": {
          "base_uri": "https://localhost:8080/"
        },
        "id": "838dOjanjUlA",
        "outputId": "4b8c2d2b-f9e8-4f81-c6c6-a9d8ea45a3f6"
      },
      "execution_count": 77,
      "outputs": [
        {
          "output_type": "execute_result",
          "data": {
            "text/plain": [
              "(36754, 31)"
            ]
          },
          "metadata": {},
          "execution_count": 77
        }
      ]
    },
    {
      "cell_type": "code",
      "source": [
        "seaborn.boxplot(y=loan_df_filtered['annual_inc'],x=loan_df_filtered['loan_status'],data=loan_df_filtered)"
      ],
      "metadata": {
        "colab": {
          "base_uri": "https://localhost:8080/",
          "height": 468
        },
        "id": "j6NqKPJwj7Xa",
        "outputId": "8d5b9be6-5036-4d17-de8c-385bde0135cf"
      },
      "execution_count": 82,
      "outputs": [
        {
          "output_type": "execute_result",
          "data": {
            "text/plain": [
              "<Axes: xlabel='loan_status', ylabel='annual_inc'>"
            ]
          },
          "metadata": {},
          "execution_count": 82
        },
        {
          "output_type": "display_data",
          "data": {
            "text/plain": [
              "<Figure size 640x480 with 1 Axes>"
            ],
            "image/png": "[encoded data removed]"
          },
          "metadata": {}
        }
      ]
    },
    {
      "cell_type": "markdown",
      "source": [
        "Now we will check distribution of intreset rate through histplot"
      ],
      "metadata": {
        "id": "OPn5bu9knS_r"
      }
    },
    {
      "cell_type": "code",
      "source": [
        "seaborn.histplot(data=loan_df_filtered,x='int_rate',bins=15)"
      ],
      "metadata": {
        "colab": {
          "base_uri": "https://localhost:8080/",
          "height": 468
        },
        "id": "4FN1UV2HnZmp",
        "outputId": "552b8cf1-a7b5-4464-c55b-4683a1e0994d"
      },
      "execution_count": 85,
      "outputs": [
        {
          "output_type": "execute_result",
          "data": {
            "text/plain": [
              "<Axes: xlabel='int_rate', ylabel='Count'>"
            ]
          },
          "metadata": {},
          "execution_count": 85
        },
        {
          "output_type": "display_data",
          "data": {
            "text/plain": [
              "<Figure size 640x480 with 1 Axes>"
            ],
            "image/png": "[encoded data removed]"
          },
          "metadata": {}
        }
      ]
    },
    {
      "cell_type": "markdown",
      "source": [
        "**Intrest Rates between 10.5 and 12 are the highest**"
      ],
      "metadata": {
        "id": "bixTadnbnyiV"
      }
    },
    {
      "cell_type": "code",
      "source": [
        "plt.figure(figsize=(15,8))\n",
        "plt.subplot(1, 3, 1)\n",
        "ax=plt.hist(data=loan_df_filtered,x='loan_amnt',bins=10)\n",
        "plt.title(\"Loan Amount\")\n",
        "plt.subplot(1, 3, 2)\n",
        "plt.hist(data=loan_df_filtered,x='funded_amnt',bins=10)\n",
        "plt.title(\"Funded Amount\")\n",
        "plt.subplot(1, 3, 3)\n",
        "plt.hist(data=loan_df_filtered,x='funded_amnt_inv',bins=10)\n",
        "plt.title(\"Investor Funded Amount\")\n"
      ],
      "metadata": {
        "colab": {
          "base_uri": "https://localhost:8080/",
          "height": 717
        },
        "id": "88O3cguwn8-w",
        "outputId": "1c5bb079-a670-4128-c049-d65b5c4b76b6"
      },
      "execution_count": 117,
      "outputs": [
        {
          "output_type": "execute_result",
          "data": {
            "text/plain": [
              "Text(0.5, 1.0, 'Investor Funded Amount')"
            ]
          },
          "metadata": {},
          "execution_count": 117
        },
        {
          "output_type": "display_data",
          "data": {
            "text/plain": [
              "<Figure size 1500x800 with 3 Axes>"
            ],
            "image/png": "[encoded data removed]"
          },
          "metadata": {}
        }
      ]
    },
    {
      "cell_type": "markdown",
      "source": [
        "We can see that there is not a lot of difference in these Loan values\n",
        "\n",
        "\n",
        "\n"
      ],
      "metadata": {
        "id": "nxIM4B3Rudlx"
      }
    },
    {
      "cell_type": "markdown",
      "source": [
        "# Segmented Univariate Analysis"
      ],
      "metadata": {
        "id": "JEzexv2mpzb_"
      }
    },
    {
      "cell_type": "markdown",
      "source": [
        "Getting the number of Charged Off Loan and Loans Paid in Complete"
      ],
      "metadata": {
        "id": "RHJWn-T6TMiy"
      }
    },
    {
      "cell_type": "code",
      "source": [
        "ax =seaborn.countplot(x=loan_df_filtered['loan_status'],data=loan_df_filtered)\n",
        "ax.bar_label(ax.containers[0])"
      ],
      "metadata": {
        "colab": {
          "base_uri": "https://localhost:8080/",
          "height": 468
        },
        "id": "fA3XSRqZTTZA",
        "outputId": "8e687186-f86e-4e9a-b222-7052fa9c3a01"
      },
      "execution_count": 37,
      "outputs": [
        {
          "output_type": "execute_result",
          "data": {
            "text/plain": [
              "[Text(0, 0, '32950'), Text(0, 0, '5627')]"
            ]
          },
          "metadata": {},
          "execution_count": 37
        },
        {
          "output_type": "display_data",
          "data": {
            "text/plain": [
              "<Figure size 640x480 with 1 Axes>"
            ],
            "image/png": "[encoded data removed]"
          },
          "metadata": {}
        }
      ]
    },
    {
      "cell_type": "markdown",
      "source": [
        "It can be seen from the above plot that we have 5627 as Charged Off Loan and Fully Paid loan are 32950"
      ],
      "metadata": {
        "id": "3NR9KOS9UTQi"
      }
    },
    {
      "cell_type": "markdown",
      "source": [
        "Now we will gather the categorical variables from the dataset and see the relation of Loan Default with them"
      ],
      "metadata": {
        "id": "QaLQ4NRCUcPb"
      }
    },
    {
      "cell_type": "markdown",
      "source": [
        "#### Categorical Univariate Analysis\n",
        "\n",
        "\n",
        "\n"
      ],
      "metadata": {
        "id": "gFEQtJR0XYVS"
      }
    },
    {
      "cell_type": "markdown",
      "source": [
        "Checking the Grade of the Loans which are charged off"
      ],
      "metadata": {
        "id": "L3MeZon_XLWs"
      }
    },
    {
      "cell_type": "code",
      "source": [
        "loan_charged_off=loan_df_filtered[(loan_df_filtered['loan_status']=='Charged Off')]"
      ],
      "metadata": {
        "id": "6ocJS0OQXnl2"
      },
      "execution_count": 38,
      "outputs": []
    },
    {
      "cell_type": "code",
      "source": [
        "loan_charged_off['grade'].count()"
      ],
      "metadata": {
        "colab": {
          "base_uri": "https://localhost:8080/"
        },
        "id": "T_E9EzlyY8Qw",
        "outputId": "077b3a9b-9bd5-4181-aa7e-4177b35cc24d"
      },
      "execution_count": 39,
      "outputs": [
        {
          "output_type": "execute_result",
          "data": {
            "text/plain": [
              "5627"
            ]
          },
          "metadata": {},
          "execution_count": 39
        }
      ]
    },
    {
      "cell_type": "code",
      "source": [
        "seaborn.countplot(x=loan_charged_off['grade'],data=loan_charged_off)"
      ],
      "metadata": {
        "colab": {
          "base_uri": "https://localhost:8080/",
          "height": 467
        },
        "id": "X3n8VjMfX3hF",
        "outputId": "7d236cb2-ad5c-4ed0-b4d7-aa197f7a118a"
      },
      "execution_count": 40,
      "outputs": [
        {
          "output_type": "execute_result",
          "data": {
            "text/plain": [
              "<Axes: xlabel='grade', ylabel='count'>"
            ]
          },
          "metadata": {},
          "execution_count": 40
        },
        {
          "output_type": "display_data",
          "data": {
            "text/plain": [
              "<Figure size 640x480 with 1 Axes>"
            ],
            "image/png": "[encoded data removed]"
          },
          "metadata": {}
        }
      ]
    },
    {
      "cell_type": "markdown",
      "source": [
        "**It can be seen from the above graphical representation that Loans of Grade B are mostly defaulted**"
      ],
      "metadata": {
        "id": "VXLzhzSFZnTy"
      }
    },
    {
      "cell_type": "markdown",
      "source": [
        "Checking the employment tenure of the people who have defaulted on loans"
      ],
      "metadata": {
        "id": "uEh1Q_r2Z5wd"
      }
    },
    {
      "cell_type": "code",
      "source": [
        "seaborn.countplot(x=loan_charged_off['emp_length'],data=loan_charged_off)"
      ],
      "metadata": {
        "colab": {
          "base_uri": "https://localhost:8080/",
          "height": 468
        },
        "id": "3alanbgcaTvo",
        "outputId": "68fe6988-eba3-4249-dd24-5607856446fa"
      },
      "execution_count": 41,
      "outputs": [
        {
          "output_type": "execute_result",
          "data": {
            "text/plain": [
              "<Axes: xlabel='emp_length', ylabel='count'>"
            ]
          },
          "metadata": {},
          "execution_count": 41
        },
        {
          "output_type": "display_data",
          "data": {
            "text/plain": [
              "<Figure size 640x480 with 1 Axes>"
            ],
            "image/png": "[encoded data removed]"
          },
          "metadata": {}
        }
      ]
    },
    {
      "cell_type": "markdown",
      "source": [
        "**It can be seen from the above graph employees which 10 or more years of experience have tendency to default on Loan**"
      ],
      "metadata": {
        "id": "AorVcPvcab6b"
      }
    },
    {
      "cell_type": "markdown",
      "source": [
        "Checking what is the status of home ownership of defaulted people"
      ],
      "metadata": {
        "id": "RzKjlnGzaqQp"
      }
    },
    {
      "cell_type": "code",
      "source": [
        "seaborn.countplot(x=loan_charged_off['home_ownership'],data=loan_charged_off)"
      ],
      "metadata": {
        "colab": {
          "base_uri": "https://localhost:8080/",
          "height": 468
        },
        "id": "oxbSH7DQavvr",
        "outputId": "e07c338c-79d2-4bbd-c76e-e0e515a356c8"
      },
      "execution_count": 42,
      "outputs": [
        {
          "output_type": "execute_result",
          "data": {
            "text/plain": [
              "<Axes: xlabel='home_ownership', ylabel='count'>"
            ]
          },
          "metadata": {},
          "execution_count": 42
        },
        {
          "output_type": "display_data",
          "data": {
            "text/plain": [
              "<Figure size 640x480 with 1 Axes>"
            ],
            "image/png": "[encoded data removed]"
          },
          "metadata": {}
        }
      ]
    },
    {
      "cell_type": "markdown",
      "source": [
        "**Maximum number of people who have defaulted have rented accomadation**"
      ],
      "metadata": {
        "id": "l5wIVu4ma0N4"
      }
    },
    {
      "cell_type": "markdown",
      "source": [
        "Now we will check from what state most of the defaulted people were"
      ],
      "metadata": {
        "id": "wgxWaK3ja9Sq"
      }
    },
    {
      "cell_type": "code",
      "source": [
        "plt.figure(figsize=(15,8))\n",
        "fig=seaborn.countplot(x=loan_charged_off['addr_state'],data=loan_charged_off)"
      ],
      "metadata": {
        "colab": {
          "base_uri": "https://localhost:8080/",
          "height": 696
        },
        "id": "RpPjxNdxbApP",
        "outputId": "b9fa5229-6928-495f-cacd-f81343df3963"
      },
      "execution_count": 43,
      "outputs": [
        {
          "output_type": "display_data",
          "data": {
            "text/plain": [
              "<Figure size 1500x800 with 1 Axes>"
            ],
            "image/png": "[encoded data removed]"
          },
          "metadata": {}
        }
      ]
    },
    {
      "cell_type": "markdown",
      "source": [
        "**Majority of the defaults are happening from the state of California**"
      ],
      "metadata": {
        "id": "sSpW2b17cjV9"
      }
    },
    {
      "cell_type": "markdown",
      "source": [
        "Now we will validate if the income of the applicants for defaulted loan was verified or not"
      ],
      "metadata": {
        "id": "uZ_cXqZOcwZy"
      }
    },
    {
      "cell_type": "code",
      "source": [
        "fig=seaborn.countplot(x=loan_charged_off['verification_status'],data=loan_charged_off)"
      ],
      "metadata": {
        "colab": {
          "base_uri": "https://localhost:8080/",
          "height": 450
        },
        "id": "8kh6EggJc1au",
        "outputId": "f2bfe309-0c40-474c-9aaa-746abbcb8854"
      },
      "execution_count": 44,
      "outputs": [
        {
          "output_type": "display_data",
          "data": {
            "text/plain": [
              "<Figure size 640x480 with 1 Axes>"
            ],
            "image/png": "[encoded data removed]"
          },
          "metadata": {}
        }
      ]
    },
    {
      "cell_type": "markdown",
      "source": [
        "**It is evident from the above graph that source of income of the defaulers was not verified**"
      ],
      "metadata": {
        "id": "dFj_crtZc9v8"
      }
    },
    {
      "cell_type": "markdown",
      "source": [
        "Now we will check if any particular purpose of a loan plays an important part in defaulting on loan payment"
      ],
      "metadata": {
        "id": "eEiEtY2MdXLT"
      }
    },
    {
      "cell_type": "code",
      "source": [
        "plt.figure(figsize=(25,8))\n",
        "fig=seaborn.countplot(x=loan_charged_off['purpose'],data=loan_charged_off)"
      ],
      "metadata": {
        "colab": {
          "base_uri": "https://localhost:8080/",
          "height": 460
        },
        "id": "bacTKFu-dhMO",
        "outputId": "a6f87218-1963-4cdd-af3b-f07dfa93d80e"
      },
      "execution_count": 45,
      "outputs": [
        {
          "output_type": "display_data",
          "data": {
            "text/plain": [
              "<Figure size 2500x800 with 1 Axes>"
            ],
            "image/png": "[encoded data removed]"
          },
          "metadata": {}
        }
      ]
    },
    {
      "cell_type": "markdown",
      "source": [
        "**From the above graph it could be seen that debt consolidation is the main purpose for which loan is taken and defaulted.This means that people already have certain debt on them**"
      ],
      "metadata": {
        "id": "hdILbSVFhDP1"
      }
    },
    {
      "cell_type": "markdown",
      "source": [
        "Now we will see the month in which loans issued are defaulted"
      ],
      "metadata": {
        "id": "W_0fpf75hbsP"
      }
    },
    {
      "cell_type": "code",
      "source": [
        "loan_charged_off['issue_d']=loan_charged_off.issue_d.apply(lambda d: datetime.strptime(d, '%b-%y'))"
      ],
      "metadata": {
        "colab": {
          "base_uri": "https://localhost:8080/"
        },
        "id": "pE2tBfGOhC59",
        "outputId": "905d7bb1-dc95-4349-c5fd-b1cdaf80b2fb"
      },
      "execution_count": 46,
      "outputs": [
        {
          "output_type": "stream",
          "name": "stderr",
          "text": [
            "<ipython-input-46-a4a7f3849f57>:1: SettingWithCopyWarning: \n",
            "A value is trying to be set on a copy of a slice from a DataFrame.\n",
            "Try using .loc[row_indexer,col_indexer] = value instead\n",
            "\n",
            "See the caveats in the documentation: https://pandas.pydata.org/pandas-docs/stable/user_guide/indexing.html#returning-a-view-versus-a-copy\n",
            "  loan_charged_off['issue_d']=loan_charged_off.issue_d.apply(lambda d: datetime.strptime(d, '%b-%y'))\n"
          ]
        }
      ]
    },
    {
      "cell_type": "code",
      "source": [
        "loan_charged_off['issue_month']=loan_charged_off['issue_d'].dt.month\n",
        "loan_charged_off['issue_year']=loan_charged_off['issue_d'].dt.year\n"
      ],
      "metadata": {
        "colab": {
          "base_uri": "https://localhost:8080/"
        },
        "id": "pN3-tNGqiJZP",
        "outputId": "9d3a8705-de39-42e6-f1a3-63dcade9d610"
      },
      "execution_count": 47,
      "outputs": [
        {
          "output_type": "stream",
          "name": "stderr",
          "text": [
            "<ipython-input-47-f4e7b97e6d0d>:1: SettingWithCopyWarning: \n",
            "A value is trying to be set on a copy of a slice from a DataFrame.\n",
            "Try using .loc[row_indexer,col_indexer] = value instead\n",
            "\n",
            "See the caveats in the documentation: https://pandas.pydata.org/pandas-docs/stable/user_guide/indexing.html#returning-a-view-versus-a-copy\n",
            "  loan_charged_off['issue_month']=loan_charged_off['issue_d'].dt.month\n",
            "<ipython-input-47-f4e7b97e6d0d>:2: SettingWithCopyWarning: \n",
            "A value is trying to be set on a copy of a slice from a DataFrame.\n",
            "Try using .loc[row_indexer,col_indexer] = value instead\n",
            "\n",
            "See the caveats in the documentation: https://pandas.pydata.org/pandas-docs/stable/user_guide/indexing.html#returning-a-view-versus-a-copy\n",
            "  loan_charged_off['issue_year']=loan_charged_off['issue_d'].dt.year\n"
          ]
        }
      ]
    },
    {
      "cell_type": "code",
      "source": [
        "fig=seaborn.countplot(x=loan_charged_off['issue_month'],data=loan_charged_off)"
      ],
      "metadata": {
        "colab": {
          "base_uri": "https://localhost:8080/",
          "height": 450
        },
        "id": "k5mI-o81iU1l",
        "outputId": "45473901-f011-4a0a-fe9b-59f0c787fdad"
      },
      "execution_count": 48,
      "outputs": [
        {
          "output_type": "display_data",
          "data": {
            "text/plain": [
              "<Figure size 640x480 with 1 Axes>"
            ],
            "image/png": "[encoded data removed]"
          },
          "metadata": {}
        }
      ]
    },
    {
      "cell_type": "markdown",
      "source": [
        "**Most of the loans are issued in the month of December.This seems fair as it is Holiday season and people apply for loans**"
      ],
      "metadata": {
        "id": "cohO2m85ia6J"
      }
    },
    {
      "cell_type": "code",
      "source": [
        "fig=seaborn.countplot(x=loan_charged_off['issue_year'],data=loan_charged_off)"
      ],
      "metadata": {
        "colab": {
          "base_uri": "https://localhost:8080/",
          "height": 450
        },
        "id": "II2GoBkcioUd",
        "outputId": "b9ff38b7-8b19-4bb9-f6a9-2bed4e9f34ee"
      },
      "execution_count": 49,
      "outputs": [
        {
          "output_type": "display_data",
          "data": {
            "text/plain": [
              "<Figure size 640x480 with 1 Axes>"
            ],
            "image/png": "[encoded data removed]"
          },
          "metadata": {}
        }
      ]
    },
    {
      "cell_type": "markdown",
      "source": [
        "**The number of loans issued have increased consistently and os has the default rate**"
      ],
      "metadata": {
        "id": "g7HY_konir8V"
      }
    },
    {
      "cell_type": "markdown",
      "source": [
        "#### Univariate Loan Default Analysis with Continuous Variables"
      ],
      "metadata": {
        "id": "XhD4wjBGkjEn"
      }
    },
    {
      "cell_type": "code",
      "source": [],
      "metadata": {
        "id": "wfNy7jW4k3Iq"
      },
      "execution_count": 49,
      "outputs": []
    },
    {
      "cell_type": "markdown",
      "source": [
        "#Bivariate Analysis"
      ],
      "metadata": {
        "id": "_U-BQptdp2fN"
      }
    },
    {
      "cell_type": "markdown",
      "source": [
        "# *Multivariate* Analysis"
      ],
      "metadata": {
        "id": "Kz2rfEaVYAhy"
      }
    },
    {
      "cell_type": "code",
      "source": [
        "seaborn.heatmap(loan_df_filtered.corr())"
      ],
      "metadata": {
        "colab": {
          "base_uri": "https://localhost:8080/",
          "height": 659
        },
        "id": "jXPvaAkQvBUS",
        "outputId": "85c85119-e3e4-42c5-d4bc-0138d0491699"
      },
      "execution_count": 119,
      "outputs": [
        {
          "output_type": "stream",
          "name": "stderr",
          "text": [
            "<ipython-input-119-ebd9f57cd53c>:1: FutureWarning: The default value of numeric_only in DataFrame.corr is deprecated. In a future version, it will default to False. Select only valid columns or specify the value of numeric_only to silence this warning.\n",
            "  seaborn.heatmap(loan_df_filtered.corr())\n"
          ]
        },
        {
          "output_type": "execute_result",
          "data": {
            "text/plain": [
              "<Axes: >"
            ]
          },
          "metadata": {},
          "execution_count": 119
        },
        {
          "output_type": "display_data",
          "data": {
            "text/plain": [
              "<Figure size 640x480 with 2 Axes>"
            ],
            "image/png": "[encoded data removed]"
          },
          "metadata": {}
        }
      ]
    },
    {
      "cell_type": "markdown",
      "source": [
        "As it can be seen from the above heat map.\n",
        "\n",
        "1.   There is very high correlation between loan_amnt,funded_amnt,funded_amnt_inv.\n",
        "\n",
        "2.   There is high correlation between pub_rec_bankruptcies and pub_rec\n",
        "\n",
        "3.   There is medium correlation between open_acc and total_acc\n",
        "\n",
        "4.   There is relatively medium correlation between term and int_rate\n",
        "\n",
        "\n",
        "\n"
      ],
      "metadata": {
        "id": "k6M1Nw5PJ5rq"
      }
    },
    {
      "cell_type": "markdown",
      "source": [
        "#Conclusion"
      ],
      "metadata": {
        "id": "OKFmEs3sp5wR"
      }
    }
  ]
}