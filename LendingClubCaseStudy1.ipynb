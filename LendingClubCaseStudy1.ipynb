{
 "cells": [
  {
   "cell_type": "code",
   "execution_count": 180,
   "id": "16bf7b08",
   "metadata": {},
   "outputs": [],
   "source": [
    "import numpy as np\n",
    "import pandas as pd;\n",
    "import warnings\n",
    "warnings.filterwarnings('ignore')"
   ]
  },
  {
   "cell_type": "markdown",
   "id": "99cc59ad",
   "metadata": {},
   "source": [
    "### Reading csv file"
   ]
  },
  {
   "cell_type": "code",
   "execution_count": 181,
   "id": "2e7ba18a",
   "metadata": {},
   "outputs": [],
   "source": [
    "rawData = pd.read_csv(\"loan.csv\")"
   ]
  },
  {
   "cell_type": "markdown",
   "id": "03ed2ed6",
   "metadata": {},
   "source": [
    "### Understanding Data \n",
    "Viewing Top 5 Records  , shape of the data  & structure of the data with its datatype"
   ]
  },
  {
   "cell_type": "code",
   "execution_count": 182,
   "id": "c93d3345",
   "metadata": {},
   "outputs": [
    {
     "data": {
      "text/html": [
       "<div>\n",
       "<style scoped>\n",
       "    .dataframe tbody tr th:only-of-type {\n",
       "        vertical-align: middle;\n",
       "    }\n",
       "\n",
       "    .dataframe tbody tr th {\n",
       "        vertical-align: top;\n",
       "    }\n",
       "\n",
       "    .dataframe thead th {\n",
       "        text-align: right;\n",
       "    }\n",
       "</style>\n",
       "<table border=\"1\" class=\"dataframe\">\n",
       "  <thead>\n",
       "    <tr style=\"text-align: right;\">\n",
       "      <th></th>\n",
       "      <th>id</th>\n",
       "      <th>member_id</th>\n",
       "      <th>loan_amnt</th>\n",
       "      <th>funded_amnt</th>\n",
       "      <th>funded_amnt_inv</th>\n",
       "      <th>term</th>\n",
       "      <th>int_rate</th>\n",
       "      <th>installment</th>\n",
       "      <th>grade</th>\n",
       "      <th>sub_grade</th>\n",
       "      <th>...</th>\n",
       "      <th>num_tl_90g_dpd_24m</th>\n",
       "      <th>num_tl_op_past_12m</th>\n",
       "      <th>pct_tl_nvr_dlq</th>\n",
       "      <th>percent_bc_gt_75</th>\n",
       "      <th>pub_rec_bankruptcies</th>\n",
       "      <th>tax_liens</th>\n",
       "      <th>tot_hi_cred_lim</th>\n",
       "      <th>total_bal_ex_mort</th>\n",
       "      <th>total_bc_limit</th>\n",
       "      <th>total_il_high_credit_limit</th>\n",
       "    </tr>\n",
       "  </thead>\n",
       "  <tbody>\n",
       "    <tr>\n",
       "      <th>0</th>\n",
       "      <td>1077501</td>\n",
       "      <td>1296599</td>\n",
       "      <td>5000</td>\n",
       "      <td>5000</td>\n",
       "      <td>4975.0</td>\n",
       "      <td>36 months</td>\n",
       "      <td>10.65%</td>\n",
       "      <td>162.87</td>\n",
       "      <td>B</td>\n",
       "      <td>B2</td>\n",
       "      <td>...</td>\n",
       "      <td>NaN</td>\n",
       "      <td>NaN</td>\n",
       "      <td>NaN</td>\n",
       "      <td>NaN</td>\n",
       "      <td>0.0</td>\n",
       "      <td>0.0</td>\n",
       "      <td>NaN</td>\n",
       "      <td>NaN</td>\n",
       "      <td>NaN</td>\n",
       "      <td>NaN</td>\n",
       "    </tr>\n",
       "    <tr>\n",
       "      <th>1</th>\n",
       "      <td>1077430</td>\n",
       "      <td>1314167</td>\n",
       "      <td>2500</td>\n",
       "      <td>2500</td>\n",
       "      <td>2500.0</td>\n",
       "      <td>60 months</td>\n",
       "      <td>15.27%</td>\n",
       "      <td>59.83</td>\n",
       "      <td>C</td>\n",
       "      <td>C4</td>\n",
       "      <td>...</td>\n",
       "      <td>NaN</td>\n",
       "      <td>NaN</td>\n",
       "      <td>NaN</td>\n",
       "      <td>NaN</td>\n",
       "      <td>0.0</td>\n",
       "      <td>0.0</td>\n",
       "      <td>NaN</td>\n",
       "      <td>NaN</td>\n",
       "      <td>NaN</td>\n",
       "      <td>NaN</td>\n",
       "    </tr>\n",
       "    <tr>\n",
       "      <th>2</th>\n",
       "      <td>1077175</td>\n",
       "      <td>1313524</td>\n",
       "      <td>2400</td>\n",
       "      <td>2400</td>\n",
       "      <td>2400.0</td>\n",
       "      <td>36 months</td>\n",
       "      <td>15.96%</td>\n",
       "      <td>84.33</td>\n",
       "      <td>C</td>\n",
       "      <td>C5</td>\n",
       "      <td>...</td>\n",
       "      <td>NaN</td>\n",
       "      <td>NaN</td>\n",
       "      <td>NaN</td>\n",
       "      <td>NaN</td>\n",
       "      <td>0.0</td>\n",
       "      <td>0.0</td>\n",
       "      <td>NaN</td>\n",
       "      <td>NaN</td>\n",
       "      <td>NaN</td>\n",
       "      <td>NaN</td>\n",
       "    </tr>\n",
       "    <tr>\n",
       "      <th>3</th>\n",
       "      <td>1076863</td>\n",
       "      <td>1277178</td>\n",
       "      <td>10000</td>\n",
       "      <td>10000</td>\n",
       "      <td>10000.0</td>\n",
       "      <td>36 months</td>\n",
       "      <td>13.49%</td>\n",
       "      <td>339.31</td>\n",
       "      <td>C</td>\n",
       "      <td>C1</td>\n",
       "      <td>...</td>\n",
       "      <td>NaN</td>\n",
       "      <td>NaN</td>\n",
       "      <td>NaN</td>\n",
       "      <td>NaN</td>\n",
       "      <td>0.0</td>\n",
       "      <td>0.0</td>\n",
       "      <td>NaN</td>\n",
       "      <td>NaN</td>\n",
       "      <td>NaN</td>\n",
       "      <td>NaN</td>\n",
       "    </tr>\n",
       "    <tr>\n",
       "      <th>4</th>\n",
       "      <td>1075358</td>\n",
       "      <td>1311748</td>\n",
       "      <td>3000</td>\n",
       "      <td>3000</td>\n",
       "      <td>3000.0</td>\n",
       "      <td>60 months</td>\n",
       "      <td>12.69%</td>\n",
       "      <td>67.79</td>\n",
       "      <td>B</td>\n",
       "      <td>B5</td>\n",
       "      <td>...</td>\n",
       "      <td>NaN</td>\n",
       "      <td>NaN</td>\n",
       "      <td>NaN</td>\n",
       "      <td>NaN</td>\n",
       "      <td>0.0</td>\n",
       "      <td>0.0</td>\n",
       "      <td>NaN</td>\n",
       "      <td>NaN</td>\n",
       "      <td>NaN</td>\n",
       "      <td>NaN</td>\n",
       "    </tr>\n",
       "  </tbody>\n",
       "</table>\n",
       "<p>5 rows × 111 columns</p>\n",
       "</div>"
      ],
      "text/plain": [
       "        id  member_id  loan_amnt  funded_amnt  funded_amnt_inv        term  \\\n",
       "0  1077501    1296599       5000         5000           4975.0   36 months   \n",
       "1  1077430    1314167       2500         2500           2500.0   60 months   \n",
       "2  1077175    1313524       2400         2400           2400.0   36 months   \n",
       "3  1076863    1277178      10000        10000          10000.0   36 months   \n",
       "4  1075358    1311748       3000         3000           3000.0   60 months   \n",
       "\n",
       "  int_rate  installment grade sub_grade  ... num_tl_90g_dpd_24m  \\\n",
       "0   10.65%       162.87     B        B2  ...                NaN   \n",
       "1   15.27%        59.83     C        C4  ...                NaN   \n",
       "2   15.96%        84.33     C        C5  ...                NaN   \n",
       "3   13.49%       339.31     C        C1  ...                NaN   \n",
       "4   12.69%        67.79     B        B5  ...                NaN   \n",
       "\n",
       "  num_tl_op_past_12m pct_tl_nvr_dlq  percent_bc_gt_75 pub_rec_bankruptcies  \\\n",
       "0                NaN            NaN               NaN                  0.0   \n",
       "1                NaN            NaN               NaN                  0.0   \n",
       "2                NaN            NaN               NaN                  0.0   \n",
       "3                NaN            NaN               NaN                  0.0   \n",
       "4                NaN            NaN               NaN                  0.0   \n",
       "\n",
       "  tax_liens tot_hi_cred_lim total_bal_ex_mort total_bc_limit  \\\n",
       "0       0.0             NaN               NaN            NaN   \n",
       "1       0.0             NaN               NaN            NaN   \n",
       "2       0.0             NaN               NaN            NaN   \n",
       "3       0.0             NaN               NaN            NaN   \n",
       "4       0.0             NaN               NaN            NaN   \n",
       "\n",
       "  total_il_high_credit_limit  \n",
       "0                        NaN  \n",
       "1                        NaN  \n",
       "2                        NaN  \n",
       "3                        NaN  \n",
       "4                        NaN  \n",
       "\n",
       "[5 rows x 111 columns]"
      ]
     },
     "execution_count": 182,
     "metadata": {},
     "output_type": "execute_result"
    }
   ],
   "source": [
    "rawData.head()"
   ]
  },
  {
   "cell_type": "code",
   "execution_count": 183,
   "id": "437273ef",
   "metadata": {},
   "outputs": [
    {
     "data": {
      "text/plain": [
       "(39717, 111)"
      ]
     },
     "execution_count": 183,
     "metadata": {},
     "output_type": "execute_result"
    }
   ],
   "source": [
    "rawData.shape"
   ]
  },
  {
   "cell_type": "code",
   "execution_count": 184,
   "id": "8b7f39a1",
   "metadata": {},
   "outputs": [
    {
     "name": "stdout",
     "output_type": "stream",
     "text": [
      "<class 'pandas.core.frame.DataFrame'>\n",
      "RangeIndex: 39717 entries, 0 to 39716\n",
      "Data columns (total 111 columns):\n",
      " #    Column                          Non-Null Count  Dtype  \n",
      "---   ------                          --------------  -----  \n",
      " 0    id                              39717 non-null  int64  \n",
      " 1    member_id                       39717 non-null  int64  \n",
      " 2    loan_amnt                       39717 non-null  int64  \n",
      " 3    funded_amnt                     39717 non-null  int64  \n",
      " 4    funded_amnt_inv                 39717 non-null  float64\n",
      " 5    term                            39717 non-null  object \n",
      " 6    int_rate                        39717 non-null  object \n",
      " 7    installment                     39717 non-null  float64\n",
      " 8    grade                           39717 non-null  object \n",
      " 9    sub_grade                       39717 non-null  object \n",
      " 10   emp_title                       37258 non-null  object \n",
      " 11   emp_length                      38642 non-null  object \n",
      " 12   home_ownership                  39717 non-null  object \n",
      " 13   annual_inc                      39717 non-null  float64\n",
      " 14   verification_status             39717 non-null  object \n",
      " 15   issue_d                         39717 non-null  object \n",
      " 16   loan_status                     39717 non-null  object \n",
      " 17   pymnt_plan                      39717 non-null  object \n",
      " 18   url                             39717 non-null  object \n",
      " 19   desc                            26777 non-null  object \n",
      " 20   purpose                         39717 non-null  object \n",
      " 21   title                           39706 non-null  object \n",
      " 22   zip_code                        39717 non-null  object \n",
      " 23   addr_state                      39717 non-null  object \n",
      " 24   dti                             39717 non-null  float64\n",
      " 25   delinq_2yrs                     39717 non-null  int64  \n",
      " 26   earliest_cr_line                39717 non-null  object \n",
      " 27   inq_last_6mths                  39717 non-null  int64  \n",
      " 28   mths_since_last_delinq          14035 non-null  float64\n",
      " 29   mths_since_last_record          2786 non-null   float64\n",
      " 30   open_acc                        39717 non-null  int64  \n",
      " 31   pub_rec                         39717 non-null  int64  \n",
      " 32   revol_bal                       39717 non-null  int64  \n",
      " 33   revol_util                      39667 non-null  object \n",
      " 34   total_acc                       39717 non-null  int64  \n",
      " 35   initial_list_status             39717 non-null  object \n",
      " 36   out_prncp                       39717 non-null  float64\n",
      " 37   out_prncp_inv                   39717 non-null  float64\n",
      " 38   total_pymnt                     39717 non-null  float64\n",
      " 39   total_pymnt_inv                 39717 non-null  float64\n",
      " 40   total_rec_prncp                 39717 non-null  float64\n",
      " 41   total_rec_int                   39717 non-null  float64\n",
      " 42   total_rec_late_fee              39717 non-null  float64\n",
      " 43   recoveries                      39717 non-null  float64\n",
      " 44   collection_recovery_fee         39717 non-null  float64\n",
      " 45   last_pymnt_d                    39646 non-null  object \n",
      " 46   last_pymnt_amnt                 39717 non-null  float64\n",
      " 47   next_pymnt_d                    1140 non-null   object \n",
      " 48   last_credit_pull_d              39715 non-null  object \n",
      " 49   collections_12_mths_ex_med      39661 non-null  float64\n",
      " 50   mths_since_last_major_derog     0 non-null      float64\n",
      " 51   policy_code                     39717 non-null  int64  \n",
      " 52   application_type                39717 non-null  object \n",
      " 53   annual_inc_joint                0 non-null      float64\n",
      " 54   dti_joint                       0 non-null      float64\n",
      " 55   verification_status_joint       0 non-null      float64\n",
      " 56   acc_now_delinq                  39717 non-null  int64  \n",
      " 57   tot_coll_amt                    0 non-null      float64\n",
      " 58   tot_cur_bal                     0 non-null      float64\n",
      " 59   open_acc_6m                     0 non-null      float64\n",
      " 60   open_il_6m                      0 non-null      float64\n",
      " 61   open_il_12m                     0 non-null      float64\n",
      " 62   open_il_24m                     0 non-null      float64\n",
      " 63   mths_since_rcnt_il              0 non-null      float64\n",
      " 64   total_bal_il                    0 non-null      float64\n",
      " 65   il_util                         0 non-null      float64\n",
      " 66   open_rv_12m                     0 non-null      float64\n",
      " 67   open_rv_24m                     0 non-null      float64\n",
      " 68   max_bal_bc                      0 non-null      float64\n",
      " 69   all_util                        0 non-null      float64\n",
      " 70   total_rev_hi_lim                0 non-null      float64\n",
      " 71   inq_fi                          0 non-null      float64\n",
      " 72   total_cu_tl                     0 non-null      float64\n",
      " 73   inq_last_12m                    0 non-null      float64\n",
      " 74   acc_open_past_24mths            0 non-null      float64\n",
      " 75   avg_cur_bal                     0 non-null      float64\n",
      " 76   bc_open_to_buy                  0 non-null      float64\n",
      " 77   bc_util                         0 non-null      float64\n",
      " 78   chargeoff_within_12_mths        39661 non-null  float64\n",
      " 79   delinq_amnt                     39717 non-null  int64  \n",
      " 80   mo_sin_old_il_acct              0 non-null      float64\n",
      " 81   mo_sin_old_rev_tl_op            0 non-null      float64\n",
      " 82   mo_sin_rcnt_rev_tl_op           0 non-null      float64\n",
      " 83   mo_sin_rcnt_tl                  0 non-null      float64\n",
      " 84   mort_acc                        0 non-null      float64\n",
      " 85   mths_since_recent_bc            0 non-null      float64\n",
      " 86   mths_since_recent_bc_dlq        0 non-null      float64\n",
      " 87   mths_since_recent_inq           0 non-null      float64\n",
      " 88   mths_since_recent_revol_delinq  0 non-null      float64\n",
      " 89   num_accts_ever_120_pd           0 non-null      float64\n",
      " 90   num_actv_bc_tl                  0 non-null      float64\n",
      " 91   num_actv_rev_tl                 0 non-null      float64\n",
      " 92   num_bc_sats                     0 non-null      float64\n",
      " 93   num_bc_tl                       0 non-null      float64\n",
      " 94   num_il_tl                       0 non-null      float64\n",
      " 95   num_op_rev_tl                   0 non-null      float64\n",
      " 96   num_rev_accts                   0 non-null      float64\n",
      " 97   num_rev_tl_bal_gt_0             0 non-null      float64\n",
      " 98   num_sats                        0 non-null      float64\n",
      " 99   num_tl_120dpd_2m                0 non-null      float64\n",
      " 100  num_tl_30dpd                    0 non-null      float64\n",
      " 101  num_tl_90g_dpd_24m              0 non-null      float64\n",
      " 102  num_tl_op_past_12m              0 non-null      float64\n",
      " 103  pct_tl_nvr_dlq                  0 non-null      float64\n",
      " 104  percent_bc_gt_75                0 non-null      float64\n",
      " 105  pub_rec_bankruptcies            39020 non-null  float64\n",
      " 106  tax_liens                       39678 non-null  float64\n",
      " 107  tot_hi_cred_lim                 0 non-null      float64\n",
      " 108  total_bal_ex_mort               0 non-null      float64\n",
      " 109  total_bc_limit                  0 non-null      float64\n",
      " 110  total_il_high_credit_limit      0 non-null      float64\n",
      "dtypes: float64(74), int64(13), object(24)\n",
      "memory usage: 33.6+ MB\n",
      "None\n"
     ]
    }
   ],
   "source": [
    "print(rawData.info(verbose=True, null_counts=True))"
   ]
  },
  {
   "cell_type": "markdown",
   "id": "d429fd74",
   "metadata": {},
   "source": [
    "### Cleaning Data Set > Removing Irrelevant Columns"
   ]
  },
  {
   "cell_type": "code",
   "execution_count": 185,
   "id": "1dd72146",
   "metadata": {},
   "outputs": [],
   "source": [
    "# if we look at above column list , we will find few of the fields that are irrelevant\n",
    "# and should not be considered as part of our EDA process , Lets talk about each of them and understand \n",
    "# why they are not relevant\n",
    "\n",
    "# id  - A unique LC assigned ID for the loan listing. it is not an usefull information and adds noise to the data \n",
    "# member_id - A unique LC assigned Id for the borrower member. it is again a random numeric number added and does not add value\n",
    "# emp_title - The job title supplied by the Borrower when applying for the loan.Additionally this information got \n",
    "        # changed to employee name after 9/23/2013. Further it has text record with subjective information that \n",
    "        # does not add uniformity with each other.hence should be removed\n",
    "# pymnt_plan - Indicates if a payment plan has been put in place for the loan . This has single value so analysis\n",
    "        # can be performed as it has same value for all the rows\n",
    "# url - URL for the LC page with listing data. It is just an information of the url and need not to be kept for analysis\n",
    "# desc - Loan description provided by the borrower , it is not a useful information \n",
    "# zip_code - The first 3 numbers of the zip code provided by the borrower in the loan application. \n",
    "        # This is a masked information and so cannot be used \n",
    "# policy_code - publicly available policy_code=1,new products not publicly available policy_code=2. Dataset has single \n",
    "        # record since we are only analyzing public data here. Not Useful Information\n",
    "# application_type - Indicates whether the loan is an individual application or a joint application with two co-borrowers.\n",
    "        # Same Value present for all the rows  \n",
    "#title - The loan title provided by the borrower , there are 19615 unique entries for this column and the\n",
    "        #information is more a remarks and would not add value to the EDA \n",
    "#collections_12_mths_ex_med - Number of collections in 12 months excluding medical collections , it has unique values as 0 or NA\n",
    "            # does not add value to eda\n",
    "#tax_liens - Number of tax liens , it has unique values as 0 or NA, does not add value to eda\n",
    "#chargeoff_within_12_mths - Number of charge-offs within 12 months,it has unique values as 0 or NA, does not add value to eda\n",
    "#next_pymnt_d - Next scheduled payment date , it has 97% records missing and is not fit for EDA analysis on ground of that \n",
    "#mths_since_last_record - The number of months since the last public record. around 93% of data missing  \n",
    "\n",
    "pickedData = rawData.drop(['id', 'member_id', 'emp_title','pymnt_plan','url','desc','zip_code',\n",
    "                                'policy_code','application_type','title',\"collections_12_mths_ex_med\"\n",
    "                          ,\"tax_liens\",\"chargeoff_within_12_mths\",\"next_pymnt_d\",\"mths_since_last_record\"], axis=1)"
   ]
  },
  {
   "cell_type": "markdown",
   "id": "9a4095d6",
   "metadata": {},
   "source": [
    "On Looking Non null values of the above df.info() response , it is visible that there are columns in the dataset that have no values for all the rows, we need to first find these columns & drop them as they dont have any data. With this, we are now moving towards data cleaning part of our EDA "
   ]
  },
  {
   "cell_type": "markdown",
   "id": "44c91e68",
   "metadata": {},
   "source": [
    "### Cleaning Data Set > Finding Columns With Null Values"
   ]
  },
  {
   "cell_type": "code",
   "execution_count": 186,
   "id": "8ab3b431",
   "metadata": {},
   "outputs": [
    {
     "name": "stdout",
     "output_type": "stream",
     "text": [
      "open_il_12m              100.0\n",
      "inq_last_12m             100.0\n",
      "mort_acc                 100.0\n",
      "mo_sin_rcnt_tl           100.0\n",
      "mo_sin_rcnt_rev_tl_op    100.0\n",
      "                         ...  \n",
      "revol_bal                  0.0\n",
      "pub_rec                    0.0\n",
      "open_acc                   0.0\n",
      "last_pymnt_amnt            0.0\n",
      "loan_amnt                  0.0\n",
      "Length: 96, dtype: float64\n"
     ]
    }
   ],
   "source": [
    "# compute percentage of missing values for each column\n",
    "missing_values_percent = (pickedData.isnull().sum() / pickedData.shape[0] * 100).round(2).sort_values(ascending=False)\n",
    "print(missing_values_percent)"
   ]
  },
  {
   "cell_type": "code",
   "execution_count": 187,
   "id": "b099c7a1",
   "metadata": {},
   "outputs": [
    {
     "name": "stdout",
     "output_type": "stream",
     "text": [
      "(39717, 42)\n"
     ]
    }
   ],
   "source": [
    "## Removing Columns that have 100% Null Values\n",
    "\n",
    "# remove columns with zero missing values\n",
    "missing_values_percent = missing_values_percent[missing_values_percent != 0]\n",
    "\n",
    "# remove columns with 100% missing values\n",
    "cols_to_drop = missing_values_percent[missing_values_percent == 100].index\n",
    "\n",
    "dataAfterDroppingNullCol = pickedData.drop(cols_to_drop, axis=1)\n",
    "\n",
    "print(dataAfterDroppingNullCol.shape)"
   ]
  },
  {
   "cell_type": "markdown",
   "id": "8dc96c61",
   "metadata": {},
   "source": [
    "On Dropping the columns , we have now have filtered data for 39717 rows and 48 columns. This we have done for columns ,now if we will go back for df.info() response , we will see that there are few of the columns that have less records, lets deep dive more in to these records"
   ]
  },
  {
   "cell_type": "markdown",
   "id": "f6b69638",
   "metadata": {},
   "source": [
    "### Cleaning Data Set > Finding Columns With Missing Values"
   ]
  },
  {
   "cell_type": "code",
   "execution_count": 188,
   "id": "e9a278bf",
   "metadata": {},
   "outputs": [
    {
     "name": "stdout",
     "output_type": "stream",
     "text": [
      "mths_since_last_delinq    64.66\n",
      "emp_length                 2.71\n",
      "pub_rec_bankruptcies       1.75\n",
      "last_pymnt_d               0.18\n",
      "revol_util                 0.13\n",
      "last_credit_pull_d         0.01\n",
      "dtype: float64\n"
     ]
    }
   ],
   "source": [
    "# Before Proceeding Further ,let us once again look at our dataset to pull missing values cols \n",
    "some_values_missing_cols = missing_values_percent[(missing_values_percent>0)&(missing_values_percent<100)]\n",
    "print(some_values_missing_cols)"
   ]
  },
  {
   "cell_type": "markdown",
   "id": "d2013e7a",
   "metadata": {},
   "source": [
    "### Cleaning Data Set > Handling Missing Values"
   ]
  },
  {
   "cell_type": "code",
   "execution_count": 189,
   "id": "6d2f20a1",
   "metadata": {},
   "outputs": [
    {
     "name": "stdout",
     "output_type": "stream",
     "text": [
      "Unique values in mths_since_last_delinq: [ nan  35.  38.  61.   8.  20.  18.  68.  45.  48.  41.  40.  74.  25.\n",
      "  53.  39.  10.  26.  56.  77.  28.  52.  24.  16.  60.  54.  23.   9.\n",
      "  11.  13.  65.  19.  80.  22.  59.  79.  44.  64.  57.  14.  63.  49.\n",
      "  15.  73.  70.  29.  51.   5.  75.  55.   2.  30.  47.  33.  69.   4.\n",
      "  43.  21.  27.  46.  81.  78.  82.  31.  76.  62.  72.  42.  50.   3.\n",
      "  12.  67.  36.  34.  58.  17.  71.  66.  32.   6.  37.   7.   1.  83.\n",
      "  86. 115.  96. 103. 120. 106.  89. 107.  85.  97.  95.   0.]\n",
      "Unique values in emp_length: ['10+ years' '< 1 year' '1 year' '3 years' '8 years' '9 years' '4 years'\n",
      " '5 years' '6 years' '2 years' '7 years' nan]\n",
      "Unique values in pub_rec_bankruptcies: [ 0.  1.  2. nan]\n",
      "Unique values in last_pymnt_d: ['Jan-15' 'Apr-13' 'Jun-14' 'May-16' 'Apr-12' 'Nov-12' 'Jun-13' 'Sep-13'\n",
      " 'Jul-12' 'Oct-13' 'May-13' 'Feb-15' 'Aug-15' 'Oct-12' 'Sep-12' nan\n",
      " 'Dec-12' 'Dec-14' 'Aug-13' 'Nov-13' 'Jan-14' 'Apr-14' 'Aug-14' 'Oct-14'\n",
      " 'Aug-12' 'Jul-14' 'Jul-13' 'Jan-16' 'Feb-16' 'Apr-15' 'Feb-14' 'Sep-14'\n",
      " 'Jun-12' 'Feb-13' 'Mar-13' 'May-14' 'Mar-15' 'Jan-13' 'Dec-13' 'Feb-12'\n",
      " 'Mar-14' 'Sep-15' 'Nov-15' 'Mar-16' 'Jan-12' 'Oct-15' 'Nov-14' 'Mar-12'\n",
      " 'May-12' 'Apr-16' 'Dec-15' 'Jun-15' 'May-15' 'Jul-15' 'Dec-11' 'Nov-11'\n",
      " 'Oct-11' 'Sep-11' 'Aug-11' 'Jul-11' 'Jun-11' 'May-11' 'Apr-11' 'Mar-11'\n",
      " 'Feb-11' 'Jan-11' 'Dec-10' 'Nov-10' 'Oct-10' 'Sep-10' 'Aug-10' 'Jul-10'\n",
      " 'Jun-10' 'May-10' 'Apr-10' 'Mar-10' 'Feb-10' 'Jan-10' 'Dec-09' 'Nov-09'\n",
      " 'Oct-09' 'Sep-09' 'Aug-09' 'Jul-09' 'Jun-09' 'May-09' 'Apr-09' 'Mar-09'\n",
      " 'Feb-09' 'Jan-09' 'Dec-08' 'Oct-08' 'Aug-08' 'Jul-08' 'Sep-08' 'Jun-08'\n",
      " 'May-08' 'Nov-08' 'Apr-08' 'Mar-08' 'Feb-08' 'Jan-08']\n",
      "Unique values in revol_util: ['83.70%' '9.40%' '98.50%' ... '49.63%' '0.04%' '7.28%']\n",
      "Unique values in last_credit_pull_d: ['May-16' 'Sep-13' 'Apr-16' 'Jan-16' 'Dec-14' 'Aug-12' 'Mar-13' 'Dec-15'\n",
      " 'Aug-13' 'Nov-12' 'Mar-14' 'Apr-15' 'May-14' 'Jul-15' 'Feb-16' 'Mar-16'\n",
      " 'Sep-12' 'May-13' 'Jan-15' 'Jun-12' 'Mar-15' 'Dec-12' 'Sep-14' 'Feb-14'\n",
      " 'Jun-15' 'Oct-13' 'Apr-14' 'Oct-14' 'Feb-13' 'Nov-15' 'Jul-14' 'Sep-15'\n",
      " 'Oct-12' 'Nov-13' 'Nov-14' 'Feb-12' 'Oct-15' 'Apr-12' 'Aug-15' 'Jun-14'\n",
      " 'Jan-12' 'Aug-14' 'Jun-13' 'Dec-13' 'May-12' 'Jul-12' 'Jan-14' 'Jul-13'\n",
      " 'Apr-13' 'May-15' 'Feb-15' 'Mar-12' 'Nov-11' 'Dec-11' 'Jan-13' 'Oct-11'\n",
      " 'Sep-11' 'Aug-11' 'Jul-11' 'Jun-11' 'May-11' 'Apr-11' 'Mar-11' 'Feb-11'\n",
      " 'Jan-11' 'Dec-10' 'Nov-10' 'Oct-10' nan 'Sep-10' 'Aug-10' 'Jul-10'\n",
      " 'Jun-10' 'May-10' 'Apr-10' 'Feb-10' 'Mar-10' 'Aug-07' 'Jan-10' 'Dec-09'\n",
      " 'Nov-09' 'Oct-09' 'Sep-09' 'Jul-09' 'Aug-09' 'May-09' 'Jun-09' 'Apr-09'\n",
      " 'Mar-09' 'Feb-09' 'Jan-09' 'Dec-08' 'Jun-08' 'Sep-08' 'May-08' 'Aug-08'\n",
      " 'Mar-08' 'Oct-08' 'Feb-08' 'Jan-08' 'Dec-07' 'Jul-08' 'Oct-07' 'Sep-07'\n",
      " 'Jun-07' 'May-07' 'Jul-07']\n"
     ]
    }
   ],
   "source": [
    "for key, value in some_values_missing_cols.iteritems():\n",
    "    unique_values = dataAfterDroppingNullCol[key].unique()\n",
    "    print('Unique values in {}: {}'.format(key, unique_values))"
   ]
  },
  {
   "cell_type": "markdown",
   "id": "a0ea8599",
   "metadata": {},
   "source": [
    "### Fixing Columns One By One "
   ]
  },
  {
   "cell_type": "markdown",
   "id": "86dfaff8",
   "metadata": {},
   "source": [
    "### emp_length"
   ]
  },
  {
   "cell_type": "code",
   "execution_count": 190,
   "id": "9591cea8",
   "metadata": {},
   "outputs": [
    {
     "name": "stdout",
     "output_type": "stream",
     "text": [
      "count         38642\n",
      "unique           11\n",
      "top       10+ years\n",
      "freq           8879\n",
      "Name: emp_length, dtype: object\n",
      "10+ years\n"
     ]
    }
   ],
   "source": [
    "# Lets pick the first column emp_length \n",
    "print(dataAfterDroppingNullCol['emp_length'].describe())\n",
    "# the 'emp_length' column has 38,642 non-missing values, 11 unique values, \n",
    "# and '10+ years' is the most frequently occurring value in the column, occurring 8,879 times.\n",
    "mode_value = dataAfterDroppingNullCol['emp_length'].mode()[0]\n",
    "print(mode_value)\n",
    "dataAfterDroppingNullCol['emp_length'].fillna(mode_value,inplace=True)"
   ]
  },
  {
   "cell_type": "markdown",
   "id": "0f2d9fb4",
   "metadata": {},
   "source": [
    "### mths_since_last_delinq"
   ]
  },
  {
   "cell_type": "code",
   "execution_count": 191,
   "id": "d103fabb",
   "metadata": {},
   "outputs": [
    {
     "name": "stdout",
     "output_type": "stream",
     "text": [
      "count    14035.000000\n",
      "mean        35.900962\n",
      "std         22.020060\n",
      "min          0.000000\n",
      "25%         18.000000\n",
      "50%         34.000000\n",
      "75%         52.000000\n",
      "max        120.000000\n",
      "Name: mths_since_last_delinq, dtype: float64\n"
     ]
    }
   ],
   "source": [
    "print(dataAfterDroppingNullCol['mths_since_last_delinq'].describe())\n",
    "# This column defines the number of months since the borrower's last delinquency and empty values are around  36%\n",
    "# Since this defines borrowers financial capability , we should not take mean , median but instead we should assume that missing\n",
    "# values states that borrower hasnt done any such event , Lets impute the missing value with 0\n",
    "dataAfterDroppingNullCol['mths_since_last_delinq'].fillna(0,inplace=True)"
   ]
  },
  {
   "cell_type": "markdown",
   "id": "1892b471",
   "metadata": {},
   "source": [
    "### pub_rec_bankruptcies"
   ]
  },
  {
   "cell_type": "code",
   "execution_count": 192,
   "id": "3878fe63",
   "metadata": {},
   "outputs": [
    {
     "name": "stdout",
     "output_type": "stream",
     "text": [
      "count    39020.000000\n",
      "mean         0.043260\n",
      "std          0.204324\n",
      "min          0.000000\n",
      "25%          0.000000\n",
      "50%          0.000000\n",
      "75%          0.000000\n",
      "max          2.000000\n",
      "Name: pub_rec_bankruptcies, dtype: float64\n",
      "0.0    37339\n",
      "1.0     1674\n",
      "2.0        7\n",
      "Name: pub_rec_bankruptcies, dtype: int64\n"
     ]
    }
   ],
   "source": [
    "print(dataAfterDroppingNullCol['pub_rec_bankruptcies'].describe())\n",
    "print(dataAfterDroppingNullCol['pub_rec_bankruptcies'].value_counts())\n",
    "# This column defines Number of public record bankruptcies and empty values are around  1.75%\n",
    "# Since this defines borrowers financial capability , we should not take mean , median but instead we should assume that missing\n",
    "# values states that borrower hasnt done any such event , Lets impute the missing value with 0\n",
    "dataAfterDroppingNullCol['pub_rec_bankruptcies'].fillna(0,inplace=True)"
   ]
  },
  {
   "cell_type": "markdown",
   "id": "9cb32be0",
   "metadata": {},
   "source": [
    "### last_pymnt_d               "
   ]
  },
  {
   "cell_type": "code",
   "execution_count": 196,
   "id": "ea228ae0",
   "metadata": {},
   "outputs": [
    {
     "name": "stdout",
     "output_type": "stream",
     "text": [
      "count      39717\n",
      "unique       102\n",
      "top       May-16\n",
      "freq        1256\n",
      "Name: last_pymnt_d, dtype: object\n",
      "May-16    1256\n",
      "Mar-13    1026\n",
      "Dec-14     945\n",
      "May-13     907\n",
      "Feb-13     869\n",
      "          ... \n",
      "Jun-08      10\n",
      "Nov-08      10\n",
      "Mar-08       5\n",
      "Jan-08       4\n",
      "Feb-08       1\n",
      "Name: last_pymnt_d, Length: 102, dtype: int64\n"
     ]
    }
   ],
   "source": [
    "print(dataAfterDroppingNullCol['last_pymnt_d'].describe())\n",
    "print(dataAfterDroppingNullCol['last_pymnt_d'].value_counts())\n",
    "# This column defines Last month payment was received and empty values are around  0.18%\n",
    "# We can safely assume that entries that dont have dates for the payment recieved , have actually not recieved any payment\n",
    "dataAfterDroppingNullCol['last_pymnt_d'].fillna(\"Missing Payment\",inplace=True)"
   ]
  },
  {
   "cell_type": "markdown",
   "id": "ed9e3b2c",
   "metadata": {},
   "source": [
    "### revol_util"
   ]
  },
  {
   "cell_type": "code",
   "execution_count": 197,
   "id": "96ce9554",
   "metadata": {},
   "outputs": [
    {
     "name": "stdout",
     "output_type": "stream",
     "text": [
      "count     39717\n",
      "unique     1089\n",
      "top          0%\n",
      "freq       1027\n",
      "Name: revol_util, dtype: object\n",
      "0%\n"
     ]
    }
   ],
   "source": [
    "print(dataAfterDroppingNullCol['revol_util'].describe())\n",
    "# This column defines Revolving line utilization rate, or the amount of credit the borrower is using relative to \n",
    "# all available revolving credit , so very high chances that the borrower has not done this event and hence value should \n",
    "# be replaced by 0% and would also like to mention that when we look at the mode value , the same is also 0%\n",
    "# but had it not be same , we still should have gone with assumption that borrower has not performed the event \n",
    "\n",
    "mode_value = dataAfterDroppingNullCol['revol_util'].mode()[0]\n",
    "\n",
    "print(mode_value)\n",
    "\n",
    "dataAfterDroppingNullCol['revol_util'].fillna(\"0%\",inplace=True)"
   ]
  },
  {
   "cell_type": "markdown",
   "id": "88c02553",
   "metadata": {},
   "source": [
    "### last_credit_pull_d"
   ]
  },
  {
   "cell_type": "code",
   "execution_count": 195,
   "id": "c78cd87b",
   "metadata": {},
   "outputs": [
    {
     "name": "stdout",
     "output_type": "stream",
     "text": [
      "count      39715\n",
      "unique       106\n",
      "top       May-16\n",
      "freq       10308\n",
      "Name: last_credit_pull_d, dtype: object\n",
      "May-16\n"
     ]
    }
   ],
   "source": [
    "print(dataAfterDroppingNullCol['last_credit_pull_d'].describe())\n",
    "# This column defines The most recent month LC pulled credit for this loan  and the missing values are .01% , we can \n",
    "# assume that the borrower has not done this event and so the value amputed here should be \"Missing Event\"\n",
    "\n",
    "mode_value = dataAfterDroppingNullCol['last_credit_pull_d'].mode()[0]\n",
    "print(mode_value)\n",
    "\n",
    "dataAfterDroppingNullCol['last_credit_pull_d'].fillna(\"Missing Event\",inplace=True)"
   ]
  },
  {
   "cell_type": "code",
   "execution_count": null,
   "id": "066c605e",
   "metadata": {},
   "outputs": [],
   "source": []
  },
  {
   "cell_type": "code",
   "execution_count": null,
   "id": "2c35fd1e",
   "metadata": {},
   "outputs": [],
   "source": []
  },
  {
   "cell_type": "code",
   "execution_count": null,
   "id": "5a781fea",
   "metadata": {},
   "outputs": [],
   "source": []
  },
  {
   "cell_type": "code",
   "execution_count": null,
   "id": "c74eb487",
   "metadata": {},
   "outputs": [],
   "source": []
  },
  {
   "cell_type": "code",
   "execution_count": null,
   "id": "e4153b47",
   "metadata": {},
   "outputs": [],
   "source": []
  }
 ],
 "metadata": {
  "kernelspec": {
   "display_name": "Python 3 (ipykernel)",
   "language": "python",
   "name": "python3"
  },
  "language_info": {
   "codemirror_mode": {
    "name": "ipython",
    "version": 3
   },
   "file_extension": ".py",
   "mimetype": "text/x-python",
   "name": "python",
   "nbconvert_exporter": "python",
   "pygments_lexer": "ipython3",
   "version": "3.9.13"
  }
 },
 "nbformat": 4,
 "nbformat_minor": 5
}
