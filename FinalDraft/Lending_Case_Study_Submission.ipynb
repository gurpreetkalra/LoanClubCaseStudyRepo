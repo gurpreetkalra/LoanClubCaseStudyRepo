{
 "cells": [
  {
   "cell_type": "markdown",
   "metadata": {
    "id": "t7tSbzLxegjH"
   },
   "source": [
    "# Problem Statement"
   ]
  },
  {
   "cell_type": "markdown",
   "metadata": {
    "id": "MlvNyWemeVpo"
   },
   "source": [
    "In other words, borrowers who default cause the largest amount of loss to the lenders. In this case, the customers labelled as 'charged-off' are the 'defaulters'. If one is able to identify these risky loan applicants, then such loans can be reduced thereby cutting down the amount of credit loss. Identification of such applicants using EDA is the aim of this case study."
   ]
  },
  {
   "cell_type": "markdown",
   "metadata": {
    "id": "d7_UEPjheqZO"
   },
   "source": [
    "# Introduction to Dataset"
   ]
  },
  {
   "cell_type": "code",
   "execution_count": 1156,
   "metadata": {
    "id": "31Zo-iCCAkSz"
   },
   "outputs": [],
   "source": [
    "import pandas\n",
    "import matplotlib.pyplot as plt\n",
    "import numpy as np\n",
    "import io\n",
    "import matplotlib.pyplot as plt\n",
    "import seaborn as sns \n",
    "from datetime import datetime\n",
    "import warnings\n",
    "warnings.filterwarnings('ignore')"
   ]
  },
  {
   "cell_type": "code",
   "execution_count": 1157,
   "metadata": {
    "colab": {
     "base_uri": "https://localhost:8080/",
     "height": 479
    },
    "id": "SkJZVoQAAnTI",
    "outputId": "1c36f99f-d9b9-42d1-f4e5-84eefdd9add5"
   },
   "outputs": [
    {
     "data": {
      "text/html": [
       "<div>\n",
       "<style scoped>\n",
       "    .dataframe tbody tr th:only-of-type {\n",
       "        vertical-align: middle;\n",
       "    }\n",
       "\n",
       "    .dataframe tbody tr th {\n",
       "        vertical-align: top;\n",
       "    }\n",
       "\n",
       "    .dataframe thead th {\n",
       "        text-align: right;\n",
       "    }\n",
       "</style>\n",
       "<table border=\"1\" class=\"dataframe\">\n",
       "  <thead>\n",
       "    <tr style=\"text-align: right;\">\n",
       "      <th></th>\n",
       "      <th>id</th>\n",
       "      <th>member_id</th>\n",
       "      <th>loan_amnt</th>\n",
       "      <th>funded_amnt</th>\n",
       "      <th>funded_amnt_inv</th>\n",
       "      <th>term</th>\n",
       "      <th>int_rate</th>\n",
       "      <th>installment</th>\n",
       "      <th>grade</th>\n",
       "      <th>sub_grade</th>\n",
       "      <th>...</th>\n",
       "      <th>num_tl_90g_dpd_24m</th>\n",
       "      <th>num_tl_op_past_12m</th>\n",
       "      <th>pct_tl_nvr_dlq</th>\n",
       "      <th>percent_bc_gt_75</th>\n",
       "      <th>pub_rec_bankruptcies</th>\n",
       "      <th>tax_liens</th>\n",
       "      <th>tot_hi_cred_lim</th>\n",
       "      <th>total_bal_ex_mort</th>\n",
       "      <th>total_bc_limit</th>\n",
       "      <th>total_il_high_credit_limit</th>\n",
       "    </tr>\n",
       "  </thead>\n",
       "  <tbody>\n",
       "    <tr>\n",
       "      <th>0</th>\n",
       "      <td>1077501</td>\n",
       "      <td>1296599</td>\n",
       "      <td>5000</td>\n",
       "      <td>5000</td>\n",
       "      <td>4975.0</td>\n",
       "      <td>36 months</td>\n",
       "      <td>10.65%</td>\n",
       "      <td>162.87</td>\n",
       "      <td>B</td>\n",
       "      <td>B2</td>\n",
       "      <td>...</td>\n",
       "      <td>NaN</td>\n",
       "      <td>NaN</td>\n",
       "      <td>NaN</td>\n",
       "      <td>NaN</td>\n",
       "      <td>0.0</td>\n",
       "      <td>0.0</td>\n",
       "      <td>NaN</td>\n",
       "      <td>NaN</td>\n",
       "      <td>NaN</td>\n",
       "      <td>NaN</td>\n",
       "    </tr>\n",
       "    <tr>\n",
       "      <th>1</th>\n",
       "      <td>1077430</td>\n",
       "      <td>1314167</td>\n",
       "      <td>2500</td>\n",
       "      <td>2500</td>\n",
       "      <td>2500.0</td>\n",
       "      <td>60 months</td>\n",
       "      <td>15.27%</td>\n",
       "      <td>59.83</td>\n",
       "      <td>C</td>\n",
       "      <td>C4</td>\n",
       "      <td>...</td>\n",
       "      <td>NaN</td>\n",
       "      <td>NaN</td>\n",
       "      <td>NaN</td>\n",
       "      <td>NaN</td>\n",
       "      <td>0.0</td>\n",
       "      <td>0.0</td>\n",
       "      <td>NaN</td>\n",
       "      <td>NaN</td>\n",
       "      <td>NaN</td>\n",
       "      <td>NaN</td>\n",
       "    </tr>\n",
       "    <tr>\n",
       "      <th>2</th>\n",
       "      <td>1077175</td>\n",
       "      <td>1313524</td>\n",
       "      <td>2400</td>\n",
       "      <td>2400</td>\n",
       "      <td>2400.0</td>\n",
       "      <td>36 months</td>\n",
       "      <td>15.96%</td>\n",
       "      <td>84.33</td>\n",
       "      <td>C</td>\n",
       "      <td>C5</td>\n",
       "      <td>...</td>\n",
       "      <td>NaN</td>\n",
       "      <td>NaN</td>\n",
       "      <td>NaN</td>\n",
       "      <td>NaN</td>\n",
       "      <td>0.0</td>\n",
       "      <td>0.0</td>\n",
       "      <td>NaN</td>\n",
       "      <td>NaN</td>\n",
       "      <td>NaN</td>\n",
       "      <td>NaN</td>\n",
       "    </tr>\n",
       "    <tr>\n",
       "      <th>3</th>\n",
       "      <td>1076863</td>\n",
       "      <td>1277178</td>\n",
       "      <td>10000</td>\n",
       "      <td>10000</td>\n",
       "      <td>10000.0</td>\n",
       "      <td>36 months</td>\n",
       "      <td>13.49%</td>\n",
       "      <td>339.31</td>\n",
       "      <td>C</td>\n",
       "      <td>C1</td>\n",
       "      <td>...</td>\n",
       "      <td>NaN</td>\n",
       "      <td>NaN</td>\n",
       "      <td>NaN</td>\n",
       "      <td>NaN</td>\n",
       "      <td>0.0</td>\n",
       "      <td>0.0</td>\n",
       "      <td>NaN</td>\n",
       "      <td>NaN</td>\n",
       "      <td>NaN</td>\n",
       "      <td>NaN</td>\n",
       "    </tr>\n",
       "    <tr>\n",
       "      <th>4</th>\n",
       "      <td>1075358</td>\n",
       "      <td>1311748</td>\n",
       "      <td>3000</td>\n",
       "      <td>3000</td>\n",
       "      <td>3000.0</td>\n",
       "      <td>60 months</td>\n",
       "      <td>12.69%</td>\n",
       "      <td>67.79</td>\n",
       "      <td>B</td>\n",
       "      <td>B5</td>\n",
       "      <td>...</td>\n",
       "      <td>NaN</td>\n",
       "      <td>NaN</td>\n",
       "      <td>NaN</td>\n",
       "      <td>NaN</td>\n",
       "      <td>0.0</td>\n",
       "      <td>0.0</td>\n",
       "      <td>NaN</td>\n",
       "      <td>NaN</td>\n",
       "      <td>NaN</td>\n",
       "      <td>NaN</td>\n",
       "    </tr>\n",
       "  </tbody>\n",
       "</table>\n",
       "<p>5 rows × 111 columns</p>\n",
       "</div>"
      ],
      "text/plain": [
       "        id  member_id  loan_amnt  funded_amnt  funded_amnt_inv        term  \\\n",
       "0  1077501    1296599       5000         5000           4975.0   36 months   \n",
       "1  1077430    1314167       2500         2500           2500.0   60 months   \n",
       "2  1077175    1313524       2400         2400           2400.0   36 months   \n",
       "3  1076863    1277178      10000        10000          10000.0   36 months   \n",
       "4  1075358    1311748       3000         3000           3000.0   60 months   \n",
       "\n",
       "  int_rate  installment grade sub_grade  ... num_tl_90g_dpd_24m  \\\n",
       "0   10.65%       162.87     B        B2  ...                NaN   \n",
       "1   15.27%        59.83     C        C4  ...                NaN   \n",
       "2   15.96%        84.33     C        C5  ...                NaN   \n",
       "3   13.49%       339.31     C        C1  ...                NaN   \n",
       "4   12.69%        67.79     B        B5  ...                NaN   \n",
       "\n",
       "  num_tl_op_past_12m pct_tl_nvr_dlq  percent_bc_gt_75 pub_rec_bankruptcies  \\\n",
       "0                NaN            NaN               NaN                  0.0   \n",
       "1                NaN            NaN               NaN                  0.0   \n",
       "2                NaN            NaN               NaN                  0.0   \n",
       "3                NaN            NaN               NaN                  0.0   \n",
       "4                NaN            NaN               NaN                  0.0   \n",
       "\n",
       "  tax_liens tot_hi_cred_lim total_bal_ex_mort total_bc_limit  \\\n",
       "0       0.0             NaN               NaN            NaN   \n",
       "1       0.0             NaN               NaN            NaN   \n",
       "2       0.0             NaN               NaN            NaN   \n",
       "3       0.0             NaN               NaN            NaN   \n",
       "4       0.0             NaN               NaN            NaN   \n",
       "\n",
       "  total_il_high_credit_limit  \n",
       "0                        NaN  \n",
       "1                        NaN  \n",
       "2                        NaN  \n",
       "3                        NaN  \n",
       "4                        NaN  \n",
       "\n",
       "[5 rows x 111 columns]"
      ]
     },
     "execution_count": 1157,
     "metadata": {},
     "output_type": "execute_result"
    }
   ],
   "source": [
    " \n",
    "loan_df = pandas.read_csv('loan.csv')\n",
    "loan_df.head(5)"
   ]
  },
  {
   "cell_type": "markdown",
   "metadata": {
    "id": "KmBXlGyhQlaf"
   },
   "source": [
    "Getting the shape of the dataframe"
   ]
  },
  {
   "cell_type": "code",
   "execution_count": 1158,
   "metadata": {
    "colab": {
     "base_uri": "https://localhost:8080/"
    },
    "id": "BvfjP6xvD4Oe",
    "outputId": "d8e2ef32-fe2e-4e71-9fa2-a054ab345e9e"
   },
   "outputs": [
    {
     "data": {
      "text/plain": [
       "(39717, 111)"
      ]
     },
     "execution_count": 1158,
     "metadata": {},
     "output_type": "execute_result"
    }
   ],
   "source": [
    "loan_df.shape\n"
   ]
  },
  {
   "cell_type": "markdown",
   "metadata": {
    "id": "xbiTwZp3QpMo"
   },
   "source": [
    "As it can be seen that we have 111 columns.We will now remove the unnecessary columns which are not requried.Getting the list of the columns"
   ]
  },
  {
   "cell_type": "code",
   "execution_count": 1159,
   "metadata": {
    "colab": {
     "base_uri": "https://localhost:8080/"
    },
    "id": "9RCheXp2G8MW",
    "outputId": "a5340f58-4c4f-487c-b78a-8106dbce31a3"
   },
   "outputs": [
    {
     "data": {
      "text/plain": [
       "Index(['id', 'member_id', 'loan_amnt', 'funded_amnt', 'funded_amnt_inv',\n",
       "       'term', 'int_rate', 'installment', 'grade', 'sub_grade',\n",
       "       ...\n",
       "       'num_tl_90g_dpd_24m', 'num_tl_op_past_12m', 'pct_tl_nvr_dlq',\n",
       "       'percent_bc_gt_75', 'pub_rec_bankruptcies', 'tax_liens',\n",
       "       'tot_hi_cred_lim', 'total_bal_ex_mort', 'total_bc_limit',\n",
       "       'total_il_high_credit_limit'],\n",
       "      dtype='object', length=111)"
      ]
     },
     "execution_count": 1159,
     "metadata": {},
     "output_type": "execute_result"
    }
   ],
   "source": [
    "loan_df.columns"
   ]
  },
  {
   "cell_type": "markdown",
   "metadata": {
    "id": "ADFt2vFdSATW"
   },
   "source": [
    "# Cleaning the Data"
   ]
  },
  {
   "cell_type": "markdown",
   "metadata": {
    "id": "m-XuCYDcQyb8"
   },
   "source": [
    "### Columns With all values as Missing or NA"
   ]
  },
  {
   "cell_type": "code",
   "execution_count": 1160,
   "metadata": {
    "colab": {
     "base_uri": "https://localhost:8080/"
    },
    "id": "emghXW5xZ_Ho",
    "outputId": "cba5793d-30b6-47e2-e2fd-6dded5a73603"
   },
   "outputs": [
    {
     "data": {
      "text/plain": [
       "verification_status_joint    39717\n",
       "annual_inc_joint             39717\n",
       "mo_sin_old_rev_tl_op         39717\n",
       "mo_sin_old_il_acct           39717\n",
       "bc_util                      39717\n",
       "                             ...  \n",
       "delinq_amnt                      0\n",
       "policy_code                      0\n",
       "earliest_cr_line                 0\n",
       "delinq_2yrs                      0\n",
       "id                               0\n",
       "Length: 111, dtype: int64"
      ]
     },
     "execution_count": 1160,
     "metadata": {},
     "output_type": "execute_result"
    }
   ],
   "source": [
    "loan_df.isna().sum().sort_values(ascending =False)"
   ]
  },
  {
   "cell_type": "markdown",
   "metadata": {
    "id": "qDbRIrPvRLT9"
   },
   "source": [
    "We have seen from above that there are columns where all the values are NA.So we will drop those columns from the dataset"
   ]
  },
  {
   "cell_type": "code",
   "execution_count": 1161,
   "metadata": {
    "id": "ULoi8AB2bixO"
   },
   "outputs": [],
   "source": [
    "loan_df.dropna(how='all',axis=1,inplace=True)"
   ]
  },
  {
   "cell_type": "markdown",
   "metadata": {
    "id": "zzrgu9-WRVVV"
   },
   "source": [
    "Checking the shape of the dataframe again"
   ]
  },
  {
   "cell_type": "code",
   "execution_count": 1162,
   "metadata": {
    "colab": {
     "base_uri": "https://localhost:8080/"
    },
    "id": "hXzDMeoBb-3t",
    "outputId": "c8ed24d7-6981-41f9-ec5f-f3f3b71eca4c"
   },
   "outputs": [
    {
     "data": {
      "text/plain": [
       "(39717, 57)"
      ]
     },
     "execution_count": 1162,
     "metadata": {},
     "output_type": "execute_result"
    }
   ],
   "source": [
    "loan_df.shape"
   ]
  },
  {
   "cell_type": "markdown",
   "metadata": {
    "id": "E4vf_9P4RY44"
   },
   "source": [
    "Checking columns which have unique values.If some columns have only 1 unique value then those columns will not play any affect on Loan Charge Off and as well columns that have all values as unique values"
   ]
  },
  {
   "cell_type": "code",
   "execution_count": 1163,
   "metadata": {
    "id": "_kML8smQcQvk"
   },
   "outputs": [],
   "source": [
    "columns=loan_df.nunique() "
   ]
  },
  {
   "cell_type": "markdown",
   "metadata": {
    "id": "nmNh6zVgRnBU"
   },
   "source": [
    "### Columns with Same Value for All Rows where Unique Values = 1 "
   ]
  },
  {
   "cell_type": "code",
   "execution_count": 1164,
   "metadata": {
    "id": "ZnDpMO9ycsHo"
   },
   "outputs": [
    {
     "data": {
      "text/plain": [
       "Index(['pymnt_plan', 'initial_list_status', 'collections_12_mths_ex_med',\n",
       "       'policy_code', 'application_type', 'acc_now_delinq',\n",
       "       'chargeoff_within_12_mths', 'delinq_amnt', 'tax_liens'],\n",
       "      dtype='object')"
      ]
     },
     "execution_count": 1164,
     "metadata": {},
     "output_type": "execute_result"
    }
   ],
   "source": [
    "# So we are dropping those columns from the dataframe as they won't be having any effect on the outcome of the loan\n",
    "single_values_columns=columns[columns.values==1]\n",
    "single_values_columns.index"
   ]
  },
  {
   "cell_type": "code",
   "execution_count": 1165,
   "metadata": {
    "id": "vRjJzVRZdayE"
   },
   "outputs": [],
   "source": [
    "loan_df.drop(list(single_values_columns.index),axis=1,inplace=True)"
   ]
  },
  {
   "cell_type": "markdown",
   "metadata": {},
   "source": [
    "### Columns with Unique Value for All Rows where  Unique Values = Data Set Rows"
   ]
  },
  {
   "cell_type": "code",
   "execution_count": 1166,
   "metadata": {},
   "outputs": [
    {
     "data": {
      "text/plain": [
       "Index(['id', 'member_id', 'url'], dtype='object')"
      ]
     },
     "execution_count": 1166,
     "metadata": {},
     "output_type": "execute_result"
    }
   ],
   "source": [
    "# So we are dropping those columns from the dataframe as they won't be having any effect on the outcome of the loan\n",
    "all_unique_values_columns=columns[columns.values==loan_df.shape[0]]\n",
    "all_unique_values_columns.index"
   ]
  },
  {
   "cell_type": "code",
   "execution_count": 1167,
   "metadata": {},
   "outputs": [],
   "source": [
    "loan_df.drop(list(all_unique_values_columns.index),axis=1,inplace=True)"
   ]
  },
  {
   "cell_type": "markdown",
   "metadata": {},
   "source": [
    "### Columns with Masked Values"
   ]
  },
  {
   "cell_type": "code",
   "execution_count": 1168,
   "metadata": {},
   "outputs": [],
   "source": [
    "#Looking at the dataset , we can see that there is a column that is masked column that does \n",
    "# not add any value to our EDA Process , so its better to remove the column\n",
    "# zip_code-> The first 3 numbers of the zip code provided by the borrower in the loan application.\n",
    "columns_to_drop=['zip_code']\n",
    "loan_df.drop(columns=columns_to_drop,inplace=True)"
   ]
  },
  {
   "cell_type": "markdown",
   "metadata": {},
   "source": [
    "### Customer Behaviour Variables "
   ]
  },
  {
   "cell_type": "code",
   "execution_count": 1169,
   "metadata": {},
   "outputs": [],
   "source": [
    "#the customer behavior variables are not available at the time of loan application, and  thus they cannot be used \n",
    "# as predictors for credit approval. So we need to ignore these columns while doing our EDA for the goal required\n",
    "columns_to_drop=['last_credit_pull_d','last_pymnt_d','earliest_cr_line','out_prncp_inv','total_pymnt', 'total_pymnt_inv',\n",
    "                'total_rec_prncp',  'total_rec_int','last_pymnt_d','last_pymnt_amnt','last_credit_pull_d','delinq_2yrs'\n",
    "                 ,'collection_recovery_fee','next_pymnt_d','total_rec_late_fee','recoveries',\n",
    "                'inq_last_6mths','revol_bal', 'revol_util', 'total_acc',   'out_prncp'] \n",
    "loan_df.drop(columns=columns_to_drop,inplace=True)"
   ]
  },
  {
   "cell_type": "markdown",
   "metadata": {},
   "source": [
    "### Row Level Filteration"
   ]
  },
  {
   "cell_type": "code",
   "execution_count": 1170,
   "metadata": {},
   "outputs": [
    {
     "data": {
      "text/plain": [
       "Fully Paid     32950\n",
       "Charged Off     5627\n",
       "Current         1140\n",
       "Name: loan_status, dtype: int64"
      ]
     },
     "execution_count": 1170,
     "metadata": {},
     "output_type": "execute_result"
    }
   ],
   "source": [
    "loan_df['loan_status'].value_counts()"
   ]
  },
  {
   "cell_type": "code",
   "execution_count": 1171,
   "metadata": {},
   "outputs": [],
   "source": [
    "# Since our objective of doing EDA is to identify whether a loan is charged off or fully paid , Having Records with current \n",
    "# status would add noise to the data and will also lead to effect our model. It is therefore recommended to \n",
    "# filter out rows that have status as current \n",
    "loan_df=loan_df[loan_df['loan_status']!='Current']"
   ]
  },
  {
   "cell_type": "markdown",
   "metadata": {
    "id": "yQFQHpfORwXm"
   },
   "source": [
    "Checking the shape of the dataframe"
   ]
  },
  {
   "cell_type": "code",
   "execution_count": 1172,
   "metadata": {
    "colab": {
     "base_uri": "https://localhost:8080/"
    },
    "id": "bB9jmNvMexZd",
    "outputId": "bd026050-da94-4c7e-fb9c-d95b857f6a58"
   },
   "outputs": [
    {
     "data": {
      "text/plain": [
       "(38577, 25)"
      ]
     },
     "execution_count": 1172,
     "metadata": {},
     "output_type": "execute_result"
    }
   ],
   "source": [
    "loan_df.shape"
   ]
  },
  {
   "cell_type": "code",
   "execution_count": 1173,
   "metadata": {},
   "outputs": [],
   "source": [
    "def get_missing_values_percent(data):\n",
    "    missing_percentages =  (   data.isna().sum() / len(data.index)) * 100\n",
    "    missing_percentages =   missing_percentages[missing_percentages > 0].sort_values(ascending=False)\n",
    "    return missing_percentages.map(\"{:.2f}%\".format)"
   ]
  },
  {
   "cell_type": "markdown",
   "metadata": {
    "id": "BgqazwPbhOiC"
   },
   "source": [
    "### Missing Values"
   ]
  },
  {
   "cell_type": "code",
   "execution_count": 1174,
   "metadata": {
    "colab": {
     "base_uri": "https://localhost:8080/"
    },
    "id": "to-rp0dgMpMS",
    "outputId": "16bf2790-51d5-470f-ee9a-2df579c8405b"
   },
   "outputs": [
    {
     "data": {
      "text/plain": [
       "mths_since_last_record    92.90%\n",
       "mths_since_last_delinq    64.56%\n",
       "desc                      32.47%\n",
       "emp_title                  6.19%\n",
       "emp_length                 2.68%\n",
       "pub_rec_bankruptcies       1.81%\n",
       "title                      0.03%\n",
       "dtype: object"
      ]
     },
     "execution_count": 1174,
     "metadata": {},
     "output_type": "execute_result"
    }
   ],
   "source": [
    "# Checking again  the Percentage of the missing values in the columns\n",
    "get_missing_values_percent(loan_df)"
   ]
  },
  {
   "cell_type": "markdown",
   "metadata": {
    "id": "r-K9x2P0hfOk"
   },
   "source": [
    "It can be seen from the above derivation that there are still columns where the number of missing values is still very high.We will remove those columns.The columns are\n",
    "1. next_pymnt_d              \n",
    "2. mths_since_last_record     \n",
    "3. mths_since_last_delinq     \n",
    "4. desc                       "
   ]
  },
  {
   "cell_type": "code",
   "execution_count": 1175,
   "metadata": {
    "id": "SHPirTevhwsN"
   },
   "outputs": [],
   "source": [
    "loan_df.drop(columns=['mths_since_last_record','mths_since_last_delinq','desc'],inplace=True)"
   ]
  },
  {
   "cell_type": "code",
   "execution_count": 1176,
   "metadata": {
    "colab": {
     "base_uri": "https://localhost:8080/"
    },
    "id": "HGiMsDpDiCho",
    "outputId": "c5fd1e64-1ea4-4711-e249-e61104d4559f"
   },
   "outputs": [
    {
     "data": {
      "text/plain": [
       "(38577, 22)"
      ]
     },
     "execution_count": 1176,
     "metadata": {},
     "output_type": "execute_result"
    }
   ],
   "source": [
    "loan_df.shape"
   ]
  },
  {
   "cell_type": "markdown",
   "metadata": {
    "id": "E7LUzSDoptCM"
   },
   "source": [
    "Checking the percentage of missing values again"
   ]
  },
  {
   "cell_type": "code",
   "execution_count": 1177,
   "metadata": {
    "colab": {
     "base_uri": "https://localhost:8080/"
    },
    "id": "DfUTPF_5pquM",
    "outputId": "4df58b05-4465-459e-ee66-e0c3a120a999"
   },
   "outputs": [
    {
     "data": {
      "text/plain": [
       "emp_title               6.19%\n",
       "emp_length              2.68%\n",
       "pub_rec_bankruptcies    1.81%\n",
       "title                   0.03%\n",
       "dtype: object"
      ]
     },
     "execution_count": 1177,
     "metadata": {},
     "output_type": "execute_result"
    }
   ],
   "source": [
    "# Checking again  the Percentage of the missing values in the columns\n",
    "get_missing_values_percent(loan_df)"
   ]
  },
  {
   "cell_type": "markdown",
   "metadata": {
    "id": "yJY4N2-VsLGF"
   },
   "source": [
    "### Amputing Missing Values\n",
    "We will now insert missing values into the other columns which have some missing values.We will be making use of Mode as the element which has to be inserted for NA values.The reason for picking mode is because of biasness which we may get for Numerical Columns."
   ]
  },
  {
   "cell_type": "markdown",
   "metadata": {},
   "source": [
    "### emp_title "
   ]
  },
  {
   "cell_type": "code",
   "execution_count": 1178,
   "metadata": {
    "colab": {
     "base_uri": "https://localhost:8080/"
    },
    "id": "t3h9-9ShT8nH",
    "outputId": "3b35b226-1347-4db1-debf-1bcc7b0442ef"
   },
   "outputs": [
    {
     "data": {
      "text/plain": [
       "US Army                                     131\n",
       "Bank of America                             107\n",
       "IBM                                          65\n",
       "AT&T                                         57\n",
       "Kaiser Permanente                            56\n",
       "                                           ... \n",
       "amneal pharmaceuticals                        1\n",
       "Net Equity Financial                          1\n",
       "Kernersville Fire Department                  1\n",
       "The Keith Corp. (empl by county, now Kei      1\n",
       "Evergreen Center                              1\n",
       "Name: emp_title, Length: 28027, dtype: int64"
      ]
     },
     "execution_count": 1178,
     "metadata": {},
     "output_type": "execute_result"
    }
   ],
   "source": [
    "loan_df['emp_title'].value_counts()"
   ]
  },
  {
   "cell_type": "code",
   "execution_count": 1179,
   "metadata": {
    "colab": {
     "base_uri": "https://localhost:8080/"
    },
    "id": "Ka6CturbUw6T",
    "outputId": "ce8222f8-1092-4d4d-f8f5-65ab788595c7"
   },
   "outputs": [
    {
     "data": {
      "text/plain": [
       "0"
      ]
     },
     "execution_count": 1179,
     "metadata": {},
     "output_type": "execute_result"
    }
   ],
   "source": [
    "# Emp Title are titles specified by the borrower while taking loan and there are many unique values , so instead of amputing\n",
    "# any value , we can safely create a new title as \"Not specified\" and replace the missing value with the same\n",
    "loan_df['emp_title'].fillna(value=\"Not Specified\",inplace=True)\n",
    "loan_df['emp_title'].isna().sum()"
   ]
  },
  {
   "cell_type": "markdown",
   "metadata": {},
   "source": [
    "### emp_length"
   ]
  },
  {
   "cell_type": "code",
   "execution_count": 1180,
   "metadata": {
    "colab": {
     "base_uri": "https://localhost:8080/"
    },
    "id": "0EP7D8A2s1mW",
    "outputId": "114a92ff-284f-4e5d-b1d8-cacbd154c836"
   },
   "outputs": [
    {
     "data": {
      "text/plain": [
       "10+ years    8488\n",
       "< 1 year     4508\n",
       "2 years      4291\n",
       "3 years      4012\n",
       "4 years      3342\n",
       "5 years      3194\n",
       "1 year       3169\n",
       "6 years      2168\n",
       "7 years      1711\n",
       "8 years      1435\n",
       "9 years      1226\n",
       "Name: emp_length, dtype: int64"
      ]
     },
     "execution_count": 1180,
     "metadata": {},
     "output_type": "execute_result"
    }
   ],
   "source": [
    "loan_df['emp_length'].value_counts()"
   ]
  },
  {
   "cell_type": "code",
   "execution_count": 1181,
   "metadata": {
    "colab": {
     "base_uri": "https://localhost:8080/"
    },
    "id": "nUL_Lvj3s8lF",
    "outputId": "47a15464-c27a-4184-d2e9-e1a870db82e3"
   },
   "outputs": [
    {
     "data": {
      "text/plain": [
       "0"
      ]
     },
     "execution_count": 1181,
     "metadata": {},
     "output_type": "execute_result"
    }
   ],
   "source": [
    "# We have replaced the value with mode value , since maximum records were mentioned by the same\n",
    "mode_value=loan_df['emp_length'].mode()\n",
    "loan_df['emp_length'].fillna(value=mode_value[0],inplace=True)\n",
    "loan_df['emp_length'].isna().sum()"
   ]
  },
  {
   "cell_type": "markdown",
   "metadata": {},
   "source": [
    "### pub_rec_bankruptcies"
   ]
  },
  {
   "cell_type": "code",
   "execution_count": 1182,
   "metadata": {
    "colab": {
     "base_uri": "https://localhost:8080/"
    },
    "id": "xbQ2XjtqWD8p",
    "outputId": "057a02f8-8634-4459-b739-d68c239c505e"
   },
   "outputs": [
    {
     "data": {
      "text/plain": [
       "0"
      ]
     },
     "execution_count": 1182,
     "metadata": {},
     "output_type": "execute_result"
    }
   ],
   "source": [
    "# We will be treating this column as event for the bankruptcy event and for the records not present , the value \n",
    "# should be amputed as 0 assuming no such event has happened in the lifetime of the borrower\n",
    "loan_df['pub_rec_bankruptcies'].value_counts()\n",
    "loan_df['pub_rec_bankruptcies'].fillna(0,inplace=True)\n",
    "loan_df['pub_rec_bankruptcies'].isna().sum()"
   ]
  },
  {
   "cell_type": "markdown",
   "metadata": {},
   "source": [
    "### title                   "
   ]
  },
  {
   "cell_type": "code",
   "execution_count": 1183,
   "metadata": {},
   "outputs": [
    {
     "data": {
      "text/plain": [
       "Debt Consolidation           2090\n",
       "Debt Consolidation Loan      1620\n",
       "Personal Loan                 641\n",
       "Consolidation                 491\n",
       "debt consolidation            478\n",
       "                             ... \n",
       "Murray Loan                     1\n",
       "Need debt consolidation!        1\n",
       "freedom2                        1\n",
       "DAVE WEDDING                    1\n",
       "JAL Loan                        1\n",
       "Name: title, Length: 19297, dtype: int64"
      ]
     },
     "execution_count": 1183,
     "metadata": {},
     "output_type": "execute_result"
    }
   ],
   "source": [
    "loan_df['title'].value_counts()"
   ]
  },
  {
   "cell_type": "code",
   "execution_count": 1184,
   "metadata": {},
   "outputs": [
    {
     "data": {
      "text/plain": [
       "0"
      ]
     },
     "execution_count": 1184,
     "metadata": {},
     "output_type": "execute_result"
    }
   ],
   "source": [
    "# This Column has around 19k+ different records specified and it will not add value while doing EDA but \n",
    "# deleting this column will lead to deletion of information as to how title was specified while inputting it . So instead of\n",
    "# delete the column , its a better idea to keep it and replace the missing value with our own speicifed values as \n",
    "# this is a categorial data and can be interpret in future to view the data in different prespective\n",
    "loan_df['title'].fillna(value=\"Not Specified\",inplace=True)\n",
    "loan_df['title'].isna().sum()"
   ]
  },
  {
   "cell_type": "markdown",
   "metadata": {
    "id": "0ygIMnMerAca"
   },
   "source": [
    "Checking the datatype of the Columns present in the dataframe"
   ]
  },
  {
   "cell_type": "code",
   "execution_count": 1185,
   "metadata": {
    "colab": {
     "base_uri": "https://localhost:8080/"
    },
    "id": "HChorVtqq9jR",
    "outputId": "2406ee9f-f5e4-450b-8dbd-18708d62c3ff"
   },
   "outputs": [
    {
     "name": "stdout",
     "output_type": "stream",
     "text": [
      "Index(['loan_amnt', 'funded_amnt', 'funded_amnt_inv', 'term', 'int_rate',\n",
      "       'installment', 'grade', 'sub_grade', 'emp_title', 'emp_length',\n",
      "       'home_ownership', 'annual_inc', 'verification_status', 'issue_d',\n",
      "       'loan_status', 'purpose', 'title', 'addr_state', 'dti', 'open_acc',\n",
      "       'pub_rec', 'pub_rec_bankruptcies'],\n",
      "      dtype='object')\n",
      "(38577, 22)\n"
     ]
    }
   ],
   "source": [
    "print(loan_df.columns)\n",
    "print(loan_df.shape)"
   ]
  },
  {
   "cell_type": "markdown",
   "metadata": {
    "id": "pVayNqZrY7Bw"
   },
   "source": [
    "# Standardise the Data"
   ]
  },
  {
   "cell_type": "markdown",
   "metadata": {
    "id": "9FHdOvuhZADr"
   },
   "source": [
    "Checking the information present in each column"
   ]
  },
  {
   "cell_type": "code",
   "execution_count": 1186,
   "metadata": {
    "colab": {
     "base_uri": "https://localhost:8080/",
     "height": 421
    },
    "id": "EwYQqrhjZEEH",
    "outputId": "bee7a70c-3465-4336-8b96-254f12226dfe"
   },
   "outputs": [
    {
     "data": {
      "text/html": [
       "<div>\n",
       "<style scoped>\n",
       "    .dataframe tbody tr th:only-of-type {\n",
       "        vertical-align: middle;\n",
       "    }\n",
       "\n",
       "    .dataframe tbody tr th {\n",
       "        vertical-align: top;\n",
       "    }\n",
       "\n",
       "    .dataframe thead th {\n",
       "        text-align: right;\n",
       "    }\n",
       "</style>\n",
       "<table border=\"1\" class=\"dataframe\">\n",
       "  <thead>\n",
       "    <tr style=\"text-align: right;\">\n",
       "      <th></th>\n",
       "      <th>loan_amnt</th>\n",
       "      <th>funded_amnt</th>\n",
       "      <th>funded_amnt_inv</th>\n",
       "      <th>term</th>\n",
       "      <th>int_rate</th>\n",
       "      <th>installment</th>\n",
       "      <th>grade</th>\n",
       "      <th>sub_grade</th>\n",
       "      <th>emp_title</th>\n",
       "      <th>emp_length</th>\n",
       "      <th>...</th>\n",
       "      <th>verification_status</th>\n",
       "      <th>issue_d</th>\n",
       "      <th>loan_status</th>\n",
       "      <th>purpose</th>\n",
       "      <th>title</th>\n",
       "      <th>addr_state</th>\n",
       "      <th>dti</th>\n",
       "      <th>open_acc</th>\n",
       "      <th>pub_rec</th>\n",
       "      <th>pub_rec_bankruptcies</th>\n",
       "    </tr>\n",
       "  </thead>\n",
       "  <tbody>\n",
       "    <tr>\n",
       "      <th>0</th>\n",
       "      <td>5000</td>\n",
       "      <td>5000</td>\n",
       "      <td>4975.0</td>\n",
       "      <td>36 months</td>\n",
       "      <td>10.65%</td>\n",
       "      <td>162.87</td>\n",
       "      <td>B</td>\n",
       "      <td>B2</td>\n",
       "      <td>Not Specified</td>\n",
       "      <td>10+ years</td>\n",
       "      <td>...</td>\n",
       "      <td>Verified</td>\n",
       "      <td>Dec-11</td>\n",
       "      <td>Fully Paid</td>\n",
       "      <td>credit_card</td>\n",
       "      <td>Computer</td>\n",
       "      <td>AZ</td>\n",
       "      <td>27.65</td>\n",
       "      <td>3</td>\n",
       "      <td>0</td>\n",
       "      <td>0.0</td>\n",
       "    </tr>\n",
       "    <tr>\n",
       "      <th>1</th>\n",
       "      <td>2500</td>\n",
       "      <td>2500</td>\n",
       "      <td>2500.0</td>\n",
       "      <td>60 months</td>\n",
       "      <td>15.27%</td>\n",
       "      <td>59.83</td>\n",
       "      <td>C</td>\n",
       "      <td>C4</td>\n",
       "      <td>Ryder</td>\n",
       "      <td>&lt; 1 year</td>\n",
       "      <td>...</td>\n",
       "      <td>Source Verified</td>\n",
       "      <td>Dec-11</td>\n",
       "      <td>Charged Off</td>\n",
       "      <td>car</td>\n",
       "      <td>bike</td>\n",
       "      <td>GA</td>\n",
       "      <td>1.00</td>\n",
       "      <td>3</td>\n",
       "      <td>0</td>\n",
       "      <td>0.0</td>\n",
       "    </tr>\n",
       "    <tr>\n",
       "      <th>2</th>\n",
       "      <td>2400</td>\n",
       "      <td>2400</td>\n",
       "      <td>2400.0</td>\n",
       "      <td>36 months</td>\n",
       "      <td>15.96%</td>\n",
       "      <td>84.33</td>\n",
       "      <td>C</td>\n",
       "      <td>C5</td>\n",
       "      <td>Not Specified</td>\n",
       "      <td>10+ years</td>\n",
       "      <td>...</td>\n",
       "      <td>Not Verified</td>\n",
       "      <td>Dec-11</td>\n",
       "      <td>Fully Paid</td>\n",
       "      <td>small_business</td>\n",
       "      <td>real estate business</td>\n",
       "      <td>IL</td>\n",
       "      <td>8.72</td>\n",
       "      <td>2</td>\n",
       "      <td>0</td>\n",
       "      <td>0.0</td>\n",
       "    </tr>\n",
       "    <tr>\n",
       "      <th>3</th>\n",
       "      <td>10000</td>\n",
       "      <td>10000</td>\n",
       "      <td>10000.0</td>\n",
       "      <td>36 months</td>\n",
       "      <td>13.49%</td>\n",
       "      <td>339.31</td>\n",
       "      <td>C</td>\n",
       "      <td>C1</td>\n",
       "      <td>AIR RESOURCES BOARD</td>\n",
       "      <td>10+ years</td>\n",
       "      <td>...</td>\n",
       "      <td>Source Verified</td>\n",
       "      <td>Dec-11</td>\n",
       "      <td>Fully Paid</td>\n",
       "      <td>other</td>\n",
       "      <td>personel</td>\n",
       "      <td>CA</td>\n",
       "      <td>20.00</td>\n",
       "      <td>10</td>\n",
       "      <td>0</td>\n",
       "      <td>0.0</td>\n",
       "    </tr>\n",
       "    <tr>\n",
       "      <th>5</th>\n",
       "      <td>5000</td>\n",
       "      <td>5000</td>\n",
       "      <td>5000.0</td>\n",
       "      <td>36 months</td>\n",
       "      <td>7.90%</td>\n",
       "      <td>156.46</td>\n",
       "      <td>A</td>\n",
       "      <td>A4</td>\n",
       "      <td>Veolia Transportaton</td>\n",
       "      <td>3 years</td>\n",
       "      <td>...</td>\n",
       "      <td>Source Verified</td>\n",
       "      <td>Dec-11</td>\n",
       "      <td>Fully Paid</td>\n",
       "      <td>wedding</td>\n",
       "      <td>My wedding loan I promise to pay back</td>\n",
       "      <td>AZ</td>\n",
       "      <td>11.20</td>\n",
       "      <td>9</td>\n",
       "      <td>0</td>\n",
       "      <td>0.0</td>\n",
       "    </tr>\n",
       "  </tbody>\n",
       "</table>\n",
       "<p>5 rows × 22 columns</p>\n",
       "</div>"
      ],
      "text/plain": [
       "   loan_amnt  funded_amnt  funded_amnt_inv        term int_rate  installment  \\\n",
       "0       5000         5000           4975.0   36 months   10.65%       162.87   \n",
       "1       2500         2500           2500.0   60 months   15.27%        59.83   \n",
       "2       2400         2400           2400.0   36 months   15.96%        84.33   \n",
       "3      10000        10000          10000.0   36 months   13.49%       339.31   \n",
       "5       5000         5000           5000.0   36 months    7.90%       156.46   \n",
       "\n",
       "  grade sub_grade             emp_title emp_length  ... verification_status  \\\n",
       "0     B        B2         Not Specified  10+ years  ...            Verified   \n",
       "1     C        C4                 Ryder   < 1 year  ...     Source Verified   \n",
       "2     C        C5         Not Specified  10+ years  ...        Not Verified   \n",
       "3     C        C1   AIR RESOURCES BOARD  10+ years  ...     Source Verified   \n",
       "5     A        A4  Veolia Transportaton    3 years  ...     Source Verified   \n",
       "\n",
       "   issue_d  loan_status         purpose  \\\n",
       "0   Dec-11   Fully Paid     credit_card   \n",
       "1   Dec-11  Charged Off             car   \n",
       "2   Dec-11   Fully Paid  small_business   \n",
       "3   Dec-11   Fully Paid           other   \n",
       "5   Dec-11   Fully Paid         wedding   \n",
       "\n",
       "                                   title addr_state    dti open_acc  pub_rec  \\\n",
       "0                               Computer         AZ  27.65        3        0   \n",
       "1                                   bike         GA   1.00        3        0   \n",
       "2                   real estate business         IL   8.72        2        0   \n",
       "3                               personel         CA  20.00       10        0   \n",
       "5  My wedding loan I promise to pay back         AZ  11.20        9        0   \n",
       "\n",
       "   pub_rec_bankruptcies  \n",
       "0                   0.0  \n",
       "1                   0.0  \n",
       "2                   0.0  \n",
       "3                   0.0  \n",
       "5                   0.0  \n",
       "\n",
       "[5 rows x 22 columns]"
      ]
     },
     "execution_count": 1186,
     "metadata": {},
     "output_type": "execute_result"
    }
   ],
   "source": [
    "loan_df.head(5)"
   ]
  },
  {
   "cell_type": "code",
   "execution_count": 1187,
   "metadata": {
    "id": "Z7A4EoB6ZMJf"
   },
   "outputs": [],
   "source": [
    "loan_df['emp_length']=loan_df['emp_length'].apply(lambda x: 0 if '<' in str(x) else (10 if '+' in str(x) else str(x).split()[0]))"
   ]
  },
  {
   "cell_type": "code",
   "execution_count": 1188,
   "metadata": {
    "colab": {
     "base_uri": "https://localhost:8080/"
    },
    "id": "rKyQwE84HOFc",
    "outputId": "053cea0e-1767-41cb-b5b7-4c8665c0fc9a"
   },
   "outputs": [
    {
     "data": {
      "text/plain": [
       "0    10.65\n",
       "1    15.27\n",
       "2    15.96\n",
       "3    13.49\n",
       "5     7.90\n",
       "Name: int_rate, dtype: float64"
      ]
     },
     "execution_count": 1188,
     "metadata": {},
     "output_type": "execute_result"
    }
   ],
   "source": [
    "loan_df['int_rate']=loan_df['int_rate'].apply(lambda x:float(str(x)[:-1]))\n",
    "loan_df['int_rate'].head(5)"
   ]
  },
  {
   "cell_type": "code",
   "execution_count": 1189,
   "metadata": {
    "colab": {
     "base_uri": "https://localhost:8080/"
    },
    "id": "Z3VKd4BTHwBh",
    "outputId": "62088f69-afe1-4ff7-9e84-795afdc6f1db"
   },
   "outputs": [
    {
     "data": {
      "text/plain": [
       "0    36.0\n",
       "1    60.0\n",
       "2    36.0\n",
       "3    36.0\n",
       "5    36.0\n",
       "Name: term, dtype: float64"
      ]
     },
     "execution_count": 1189,
     "metadata": {},
     "output_type": "execute_result"
    }
   ],
   "source": [
    "loan_df['term']=loan_df['term'].apply(lambda x:float(str(x).replace(\" months\",'')))\n",
    "loan_df['term'].head(5)"
   ]
  },
  {
   "cell_type": "markdown",
   "metadata": {
    "id": "cOhwJUyZzfor"
   },
   "source": [
    "# Derived Columns"
   ]
  },
  {
   "cell_type": "markdown",
   "metadata": {},
   "source": [
    "### Issue Month and Issue Year : issue_month , issue_year"
   ]
  },
  {
   "cell_type": "code",
   "execution_count": 1190,
   "metadata": {
    "id": "MJex5TurXfKd"
   },
   "outputs": [],
   "source": [
    "loan_df['issue_d']=loan_df.issue_d.apply(lambda d: datetime.strptime(d, '%b-%y'))\n",
    "loan_df['issue_month']=loan_df['issue_d'].dt.month\n",
    "loan_df['issue_year']=loan_df['issue_d'].dt.year"
   ]
  },
  {
   "cell_type": "markdown",
   "metadata": {},
   "source": [
    "### Annual Income Range Bins : annual_inc_rng"
   ]
  },
  {
   "cell_type": "code",
   "execution_count": 1191,
   "metadata": {
    "id": "ROY5mTqHYrK1"
   },
   "outputs": [],
   "source": [
    "bins = [0, 20000, 40000, 60000, 80000, 100000, 120000, 140000, 160000, 180000, 200000, 220000, 240000]\n",
    "\n",
    "rng = ['0-20000', '20000-40000', '40000-60000', '60000-80000', '80000-100000', '100000-120000',\n",
    "       '120000-140000', '140000-160000', '160000-180000', '180000-200000', '200000-220000',\n",
    "       '220000-240000']\n",
    "\n",
    "loan_df['annual_inc_rng'] = pandas.cut(loan_df.annual_inc, bins, labels = rng)"
   ]
  },
  {
   "cell_type": "markdown",
   "metadata": {},
   "source": [
    "### Interest Range : int_rng"
   ]
  },
  {
   "cell_type": "code",
   "execution_count": 1192,
   "metadata": {
    "id": "a6UQL-dgYuZR"
   },
   "outputs": [],
   "source": [
    "bins = [5, 10, 15, 20, 25]\n",
    "rng = ['5-10', '10-15', '15-20', '20-25']\n",
    "loan_df['int_rng'] = pandas.cut(loan_df.int_rate, bins, labels = rng)"
   ]
  },
  {
   "cell_type": "markdown",
   "metadata": {},
   "source": [
    "### Loan Amount Range  : loan_amnt_rng"
   ]
  },
  {
   "cell_type": "code",
   "execution_count": 1193,
   "metadata": {
    "id": "O8weBHvkfln8"
   },
   "outputs": [],
   "source": [
    "loan_df['loan_amnt_rng'] = pandas.cut(loan_df['loan_amnt'], [0, 7000, 14000, 21000, 28000, 35000],\n",
    "                                      labels=['0-7000', '7000-14000', '14000-21000', '21000-28000', '28000 +'])"
   ]
  },
  {
   "cell_type": "markdown",
   "metadata": {},
   "source": [
    "### DTI Range : dti_rng"
   ]
  },
  {
   "cell_type": "code",
   "execution_count": 1194,
   "metadata": {
    "id": "Eg890lzY1pK2"
   },
   "outputs": [],
   "source": [
    "bins = [0, 5, 10, 15, 20, 25]\n",
    "\n",
    "rng = ['0-5', '5-10', '10-15', '15-20', '25-30']\n",
    "loan_df['dti_rng']= pandas.cut(loan_df.dti, bins, labels = rng)"
   ]
  },
  {
   "cell_type": "markdown",
   "metadata": {},
   "source": [
    "# Data Analysis "
   ]
  },
  {
   "cell_type": "code",
   "execution_count": 1195,
   "metadata": {},
   "outputs": [
    {
     "data": {
      "text/plain": [
       "(38577, 28)"
      ]
     },
     "execution_count": 1195,
     "metadata": {},
     "output_type": "execute_result"
    }
   ],
   "source": [
    "# Before Moving towards data analysis section , lets look at the data ready for it \n",
    "loan_df.shape"
   ]
  },
  {
   "cell_type": "code",
   "execution_count": 1196,
   "metadata": {},
   "outputs": [
    {
     "data": {
      "text/html": [
       "<div>\n",
       "<style scoped>\n",
       "    .dataframe tbody tr th:only-of-type {\n",
       "        vertical-align: middle;\n",
       "    }\n",
       "\n",
       "    .dataframe tbody tr th {\n",
       "        vertical-align: top;\n",
       "    }\n",
       "\n",
       "    .dataframe thead th {\n",
       "        text-align: right;\n",
       "    }\n",
       "</style>\n",
       "<table border=\"1\" class=\"dataframe\">\n",
       "  <thead>\n",
       "    <tr style=\"text-align: right;\">\n",
       "      <th></th>\n",
       "      <th>loan_amnt</th>\n",
       "      <th>funded_amnt</th>\n",
       "      <th>funded_amnt_inv</th>\n",
       "      <th>term</th>\n",
       "      <th>int_rate</th>\n",
       "      <th>installment</th>\n",
       "      <th>annual_inc</th>\n",
       "      <th>dti</th>\n",
       "      <th>open_acc</th>\n",
       "      <th>pub_rec</th>\n",
       "      <th>pub_rec_bankruptcies</th>\n",
       "      <th>issue_month</th>\n",
       "      <th>issue_year</th>\n",
       "    </tr>\n",
       "  </thead>\n",
       "  <tbody>\n",
       "    <tr>\n",
       "      <th>count</th>\n",
       "      <td>38577.000000</td>\n",
       "      <td>38577.000000</td>\n",
       "      <td>38577.000000</td>\n",
       "      <td>38577.000000</td>\n",
       "      <td>38577.000000</td>\n",
       "      <td>38577.000000</td>\n",
       "      <td>3.857700e+04</td>\n",
       "      <td>38577.000000</td>\n",
       "      <td>38577.000000</td>\n",
       "      <td>38577.000000</td>\n",
       "      <td>38577.000000</td>\n",
       "      <td>38577.000000</td>\n",
       "      <td>38577.000000</td>\n",
       "    </tr>\n",
       "    <tr>\n",
       "      <th>mean</th>\n",
       "      <td>11047.025430</td>\n",
       "      <td>10784.058506</td>\n",
       "      <td>10222.481123</td>\n",
       "      <td>41.898437</td>\n",
       "      <td>11.932219</td>\n",
       "      <td>322.466318</td>\n",
       "      <td>6.877797e+04</td>\n",
       "      <td>13.272727</td>\n",
       "      <td>9.275423</td>\n",
       "      <td>0.055422</td>\n",
       "      <td>0.042694</td>\n",
       "      <td>7.114757</td>\n",
       "      <td>2010.309070</td>\n",
       "    </tr>\n",
       "    <tr>\n",
       "      <th>std</th>\n",
       "      <td>7348.441646</td>\n",
       "      <td>7090.306027</td>\n",
       "      <td>7022.720644</td>\n",
       "      <td>10.333136</td>\n",
       "      <td>3.691327</td>\n",
       "      <td>208.639215</td>\n",
       "      <td>6.421868e+04</td>\n",
       "      <td>6.673044</td>\n",
       "      <td>4.401588</td>\n",
       "      <td>0.237804</td>\n",
       "      <td>0.202809</td>\n",
       "      <td>3.408523</td>\n",
       "      <td>0.882658</td>\n",
       "    </tr>\n",
       "    <tr>\n",
       "      <th>min</th>\n",
       "      <td>500.000000</td>\n",
       "      <td>500.000000</td>\n",
       "      <td>0.000000</td>\n",
       "      <td>36.000000</td>\n",
       "      <td>5.420000</td>\n",
       "      <td>15.690000</td>\n",
       "      <td>4.000000e+03</td>\n",
       "      <td>0.000000</td>\n",
       "      <td>2.000000</td>\n",
       "      <td>0.000000</td>\n",
       "      <td>0.000000</td>\n",
       "      <td>1.000000</td>\n",
       "      <td>2007.000000</td>\n",
       "    </tr>\n",
       "    <tr>\n",
       "      <th>25%</th>\n",
       "      <td>5300.000000</td>\n",
       "      <td>5200.000000</td>\n",
       "      <td>5000.000000</td>\n",
       "      <td>36.000000</td>\n",
       "      <td>8.940000</td>\n",
       "      <td>165.740000</td>\n",
       "      <td>4.000000e+04</td>\n",
       "      <td>8.130000</td>\n",
       "      <td>6.000000</td>\n",
       "      <td>0.000000</td>\n",
       "      <td>0.000000</td>\n",
       "      <td>4.000000</td>\n",
       "      <td>2010.000000</td>\n",
       "    </tr>\n",
       "    <tr>\n",
       "      <th>50%</th>\n",
       "      <td>9600.000000</td>\n",
       "      <td>9550.000000</td>\n",
       "      <td>8733.440000</td>\n",
       "      <td>36.000000</td>\n",
       "      <td>11.710000</td>\n",
       "      <td>277.860000</td>\n",
       "      <td>5.886800e+04</td>\n",
       "      <td>13.370000</td>\n",
       "      <td>9.000000</td>\n",
       "      <td>0.000000</td>\n",
       "      <td>0.000000</td>\n",
       "      <td>7.000000</td>\n",
       "      <td>2011.000000</td>\n",
       "    </tr>\n",
       "    <tr>\n",
       "      <th>75%</th>\n",
       "      <td>15000.000000</td>\n",
       "      <td>15000.000000</td>\n",
       "      <td>14000.000000</td>\n",
       "      <td>36.000000</td>\n",
       "      <td>14.380000</td>\n",
       "      <td>425.550000</td>\n",
       "      <td>8.200000e+04</td>\n",
       "      <td>18.560000</td>\n",
       "      <td>12.000000</td>\n",
       "      <td>0.000000</td>\n",
       "      <td>0.000000</td>\n",
       "      <td>10.000000</td>\n",
       "      <td>2011.000000</td>\n",
       "    </tr>\n",
       "    <tr>\n",
       "      <th>max</th>\n",
       "      <td>35000.000000</td>\n",
       "      <td>35000.000000</td>\n",
       "      <td>35000.000000</td>\n",
       "      <td>60.000000</td>\n",
       "      <td>24.400000</td>\n",
       "      <td>1305.190000</td>\n",
       "      <td>6.000000e+06</td>\n",
       "      <td>29.990000</td>\n",
       "      <td>44.000000</td>\n",
       "      <td>4.000000</td>\n",
       "      <td>2.000000</td>\n",
       "      <td>12.000000</td>\n",
       "      <td>2011.000000</td>\n",
       "    </tr>\n",
       "  </tbody>\n",
       "</table>\n",
       "</div>"
      ],
      "text/plain": [
       "          loan_amnt   funded_amnt  funded_amnt_inv          term  \\\n",
       "count  38577.000000  38577.000000     38577.000000  38577.000000   \n",
       "mean   11047.025430  10784.058506     10222.481123     41.898437   \n",
       "std     7348.441646   7090.306027      7022.720644     10.333136   \n",
       "min      500.000000    500.000000         0.000000     36.000000   \n",
       "25%     5300.000000   5200.000000      5000.000000     36.000000   \n",
       "50%     9600.000000   9550.000000      8733.440000     36.000000   \n",
       "75%    15000.000000  15000.000000     14000.000000     36.000000   \n",
       "max    35000.000000  35000.000000     35000.000000     60.000000   \n",
       "\n",
       "           int_rate   installment    annual_inc           dti      open_acc  \\\n",
       "count  38577.000000  38577.000000  3.857700e+04  38577.000000  38577.000000   \n",
       "mean      11.932219    322.466318  6.877797e+04     13.272727      9.275423   \n",
       "std        3.691327    208.639215  6.421868e+04      6.673044      4.401588   \n",
       "min        5.420000     15.690000  4.000000e+03      0.000000      2.000000   \n",
       "25%        8.940000    165.740000  4.000000e+04      8.130000      6.000000   \n",
       "50%       11.710000    277.860000  5.886800e+04     13.370000      9.000000   \n",
       "75%       14.380000    425.550000  8.200000e+04     18.560000     12.000000   \n",
       "max       24.400000   1305.190000  6.000000e+06     29.990000     44.000000   \n",
       "\n",
       "            pub_rec  pub_rec_bankruptcies   issue_month    issue_year  \n",
       "count  38577.000000          38577.000000  38577.000000  38577.000000  \n",
       "mean       0.055422              0.042694      7.114757   2010.309070  \n",
       "std        0.237804              0.202809      3.408523      0.882658  \n",
       "min        0.000000              0.000000      1.000000   2007.000000  \n",
       "25%        0.000000              0.000000      4.000000   2010.000000  \n",
       "50%        0.000000              0.000000      7.000000   2011.000000  \n",
       "75%        0.000000              0.000000     10.000000   2011.000000  \n",
       "max        4.000000              2.000000     12.000000   2011.000000  "
      ]
     },
     "execution_count": 1196,
     "metadata": {},
     "output_type": "execute_result"
    }
   ],
   "source": [
    "loan_df.describe()"
   ]
  },
  {
   "cell_type": "code",
   "execution_count": 1197,
   "metadata": {},
   "outputs": [
    {
     "data": {
      "text/plain": [
       "Index(['loan_amnt', 'funded_amnt', 'funded_amnt_inv', 'term', 'int_rate',\n",
       "       'installment', 'grade', 'sub_grade', 'emp_title', 'emp_length',\n",
       "       'home_ownership', 'annual_inc', 'verification_status', 'issue_d',\n",
       "       'loan_status', 'purpose', 'title', 'addr_state', 'dti', 'open_acc',\n",
       "       'pub_rec', 'pub_rec_bankruptcies', 'issue_month', 'issue_year',\n",
       "       'annual_inc_rng', 'int_rng', 'loan_amnt_rng', 'dti_rng'],\n",
       "      dtype='object')"
      ]
     },
     "execution_count": 1197,
     "metadata": {},
     "output_type": "execute_result"
    }
   ],
   "source": [
    "loan_df.columns"
   ]
  },
  {
   "cell_type": "markdown",
   "metadata": {},
   "source": [
    "# Common Functions "
   ]
  },
  {
   "cell_type": "code",
   "execution_count": 1198,
   "metadata": {},
   "outputs": [],
   "source": [
    "def find_outliers_tukey(data):\n",
    "    # Calculate quartiles and interquartile range (IQR)\n",
    "    Q1 = np.percentile(data, 25)\n",
    "    Q3 = np.percentile(data, 75)\n",
    "    IQR = Q3 - Q1\n",
    "\n",
    "    # Define the outlier step\n",
    "    outlier_step = 1.5 * IQR \n",
    "    \n",
    "    # Identify outliers\n",
    "    outliers = (data < Q1 - outlier_step) | (data > Q3 + outlier_step)\n",
    "      \n",
    "\n",
    "    return outliers , outliers.sum() , int(outliers.sum() * 100 / len(data))"
   ]
  },
  {
   "cell_type": "markdown",
   "metadata": {
    "id": "y39f0X3sXdSy"
   },
   "source": [
    "# Univariate Analysis"
   ]
  },
  {
   "cell_type": "markdown",
   "metadata": {},
   "source": [
    "## loan_amnt"
   ]
  },
  {
   "cell_type": "code",
   "execution_count": 1199,
   "metadata": {},
   "outputs": [
    {
     "data": {
      "image/png": "[encoded data removed]",
      "text/plain": [
       "<Figure size 1000x300 with 2 Axes>"
      ]
     },
     "metadata": {},
     "output_type": "display_data"
    }
   ],
   "source": [
    "fig, (ax1, ax2) = plt.subplots(1, 2, figsize=(10, 3))\n",
    "# plot data on first subplot\n",
    "sns.histplot(data=loan_df,x='loan_amnt',bins = 10,ax=ax1)\n",
    "# plot data on second subplot\n",
    "sns.boxplot(y=loan_df['loan_amnt'])\n",
    "# display the plot\n",
    "plt.show() "
   ]
  },
  {
   "cell_type": "code",
   "execution_count": 1200,
   "metadata": {},
   "outputs": [
    {
     "name": "stdout",
     "output_type": "stream",
     "text": [
      "Records identified as outliers are : 1088 (2%)\n"
     ]
    },
    {
     "data": {
      "text/plain": [
       "(37489, 28)"
      ]
     },
     "execution_count": 1200,
     "metadata": {},
     "output_type": "execute_result"
    }
   ],
   "source": [
    "outliers , count_of_outliers, percentage_of_outliers = find_outliers_tukey(loan_df['loan_amnt'])\n",
    "print(\"Records identified as outliers are : {} ({}%)\".format(count_of_outliers,percentage_of_outliers)) \n",
    "## Although the number of records with outlier values is small, it is not recommended to replace their \n",
    "## values with mean or median as doing so can significantly affect the distribution of other columns. \n",
    "## Therefore, it may be better to remove these records from the dataset\n",
    "loan_df.drop(loan_df[outliers].index,inplace=True)\n",
    "loan_df.shape"
   ]
  },
  {
   "cell_type": "markdown",
   "metadata": {},
   "source": [
    "## annual_inc"
   ]
  },
  {
   "cell_type": "code",
   "execution_count": 1201,
   "metadata": {
    "colab": {
     "base_uri": "https://localhost:8080/",
     "height": 560
    },
    "id": "QF-3xkGQaTVl",
    "outputId": "05f09f9b-8c9f-4c5b-abfc-b20061cadef1"
   },
   "outputs": [
    {
     "data": {
      "image/png": "[encoded data removed]",
      "text/plain": [
       "<Figure size 1000x300 with 2 Axes>"
      ]
     },
     "metadata": {},
     "output_type": "display_data"
    }
   ],
   "source": [
    "fig, (ax1, ax2) = plt.subplots(ncols=2, figsize=(10, 3))\n",
    "# plot data on first subplot\n",
    "sns.histplot(data=loan_df,x='annual_inc',bins = 10,ax=ax1)\n",
    "# plot data on second subplot\n",
    "sns.boxplot(y=loan_df['annual_inc'],ax=ax2)\n",
    "# display the plot\n",
    "plt.show() "
   ]
  },
  {
   "cell_type": "code",
   "execution_count": 1202,
   "metadata": {},
   "outputs": [
    {
     "name": "stdout",
     "output_type": "stream",
     "text": [
      "Records identified as outliers are : 1661 (4%)\n"
     ]
    },
    {
     "data": {
      "text/plain": [
       "(35828, 28)"
      ]
     },
     "execution_count": 1202,
     "metadata": {},
     "output_type": "execute_result"
    }
   ],
   "source": [
    "outliers , count_of_outliers, percentage_of_outliers = find_outliers_tukey(loan_df['annual_inc'])\n",
    "#print(\"Threshold value for the Column {}: {}\".format(\"loan_amnt\", threshhold_value))\n",
    "print(\"Records identified as outliers are : {} ({}%)\".format(count_of_outliers,percentage_of_outliers)) \n",
    "\n",
    "## Although the number of records with outlier values is small, it is not recommended to replace their \n",
    "## values with mean or median as doing so can significantly affect the distribution of other columns. \n",
    "## Therefore, it may be better to remove these records from the dataset\n",
    "loan_df.drop(loan_df[outliers].index,inplace=True)\n",
    "loan_df.shape"
   ]
  },
  {
   "cell_type": "code",
   "execution_count": 1203,
   "metadata": {},
   "outputs": [
    {
     "data": {
      "image/png": "[encoded data removed]",
      "text/plain": [
       "<Figure size 640x480 with 1 Axes>"
      ]
     },
     "metadata": {},
     "output_type": "display_data"
    }
   ],
   "source": [
    "# plot data to show changes after removing outliers\n",
    "sns.boxplot(y=loan_df['annual_inc'])\n",
    "# display the plot\n",
    "plt.show()"
   ]
  },
  {
   "cell_type": "markdown",
   "metadata": {
    "id": "OPn5bu9knS_r"
   },
   "source": [
    "## int_rate"
   ]
  },
  {
   "cell_type": "code",
   "execution_count": 1204,
   "metadata": {
    "colab": {
     "base_uri": "https://localhost:8080/",
     "height": 468
    },
    "id": "4FN1UV2HnZmp",
    "outputId": "9d2e27be-c3de-4d5e-965d-dfa9debad180"
   },
   "outputs": [
    {
     "data": {
      "image/png": "[encoded data removed]",
      "text/plain": [
       "<Figure size 640x480 with 1 Axes>"
      ]
     },
     "metadata": {},
     "output_type": "display_data"
    },
    {
     "data": {
      "text/plain": [
       "count    35828.000000\n",
       "mean        11.799003\n",
       "std          3.611156\n",
       "min          5.420000\n",
       "25%          8.900000\n",
       "50%         11.710000\n",
       "75%         14.260000\n",
       "max         24.400000\n",
       "Name: int_rate, dtype: float64"
      ]
     },
     "execution_count": 1204,
     "metadata": {},
     "output_type": "execute_result"
    }
   ],
   "source": [
    "sns.histplot(data=loan_df,x='int_rate',bins=15)\n",
    "plt.show()\n",
    "\n",
    "loan_df['int_rate'].describe()"
   ]
  },
  {
   "cell_type": "markdown",
   "metadata": {
    "id": "bixTadnbnyiV"
   },
   "source": [
    "**Intrest Rates between 10.5 and 12 are the highest**"
   ]
  },
  {
   "cell_type": "markdown",
   "metadata": {},
   "source": [
    "## addr_state"
   ]
  },
  {
   "cell_type": "code",
   "execution_count": 1205,
   "metadata": {
    "colab": {
     "base_uri": "https://localhost:8080/",
     "height": 583
    },
    "id": "Ln8QStHBZ4tq",
    "outputId": "57e5f55d-9356-4dd0-8cb6-3dfdbee634e4"
   },
   "outputs": [
    {
     "data": {
      "image/png": "[encoded data removed]",
      "text/plain": [
       "<Figure size 2000x800 with 1 Axes>"
      ]
     },
     "metadata": {},
     "output_type": "display_data"
    }
   ],
   "source": [
    "plt.figure(figsize=(20,8))\n",
    "sns.histplot(data=loan_df,x='addr_state',bins=15)\n",
    "plt.show()"
   ]
  },
  {
   "cell_type": "markdown",
   "metadata": {
    "id": "FOssxPLhaGXV"
   },
   "source": [
    "**California has the highest number of loans disbursement**"
   ]
  },
  {
   "cell_type": "markdown",
   "metadata": {},
   "source": [
    "## emp_length"
   ]
  },
  {
   "cell_type": "code",
   "execution_count": 1206,
   "metadata": {
    "colab": {
     "base_uri": "https://localhost:8080/",
     "height": 468
    },
    "id": "wqS_JDpqbRaX",
    "outputId": "12ccec94-7087-471c-d5d6-463a92197501"
   },
   "outputs": [
    {
     "data": {
      "image/png": "[encoded data removed]",
      "text/plain": [
       "<Figure size 640x480 with 1 Axes>"
      ]
     },
     "metadata": {},
     "output_type": "display_data"
    }
   ],
   "source": [
    "sns.histplot(data=loan_df,x='emp_length',bins=11)\n",
    "plt.show()"
   ]
  },
  {
   "cell_type": "markdown",
   "metadata": {
    "id": "sdq7r6w3bdzH"
   },
   "source": [
    "Loans are mostly given to people with 10 or more years of experience"
   ]
  },
  {
   "cell_type": "markdown",
   "metadata": {},
   "source": [
    "## home_ownership"
   ]
  },
  {
   "cell_type": "code",
   "execution_count": 1207,
   "metadata": {
    "colab": {
     "base_uri": "https://localhost:8080/",
     "height": 468
    },
    "id": "t-obSF5KdFny",
    "outputId": "41df183e-b1b4-49b0-8e6f-7ac870fbd451"
   },
   "outputs": [
    {
     "data": {
      "image/png": "[encoded data removed]",
      "text/plain": [
       "<Figure size 640x480 with 1 Axes>"
      ]
     },
     "metadata": {},
     "output_type": "display_data"
    }
   ],
   "source": [
    "sns.histplot(data=loan_df,x='home_ownership',bins=4)\n",
    "plt.show()"
   ]
  },
  {
   "cell_type": "markdown",
   "metadata": {
    "id": "qyrq03N_dQLK"
   },
   "source": [
    "**Loans are mostly given to the Applicants on Rent**"
   ]
  },
  {
   "cell_type": "markdown",
   "metadata": {
    "id": "rkbNla02eB86"
   },
   "source": [
    "## installment"
   ]
  },
  {
   "cell_type": "code",
   "execution_count": 1208,
   "metadata": {
    "colab": {
     "base_uri": "https://localhost:8080/",
     "height": 471
    },
    "id": "RbizsNJ_eL8K",
    "outputId": "649fda8b-7ec3-43b6-cce9-59307782a10a"
   },
   "outputs": [
    {
     "data": {
      "image/png": "[encoded data removed]",
      "text/plain": [
       "<Figure size 640x480 with 1 Axes>"
      ]
     },
     "metadata": {},
     "output_type": "display_data"
    }
   ],
   "source": [
    "sns.histplot(data=loan_df,x='installment',bins=10)\n",
    "plt.show()"
   ]
  },
  {
   "cell_type": "markdown",
   "metadata": {
    "id": "BogGpQDPecIx"
   },
   "source": [
    "***We can see that most of the installments are between 150-300***"
   ]
  },
  {
   "cell_type": "markdown",
   "metadata": {
    "id": "OzNUnqR6epYA"
   },
   "source": [
    "## loan_df"
   ]
  },
  {
   "cell_type": "code",
   "execution_count": 1209,
   "metadata": {
    "colab": {
     "base_uri": "https://localhost:8080/",
     "height": 467
    },
    "id": "V_kkeNItey0S",
    "outputId": "2d0c9f5a-b17b-45b2-a95e-1ef3f7c1ece5"
   },
   "outputs": [
    {
     "data": {
      "image/png": "[encoded data removed]",
      "text/plain": [
       "<Figure size 640x480 with 1 Axes>"
      ]
     },
     "metadata": {},
     "output_type": "display_data"
    }
   ],
   "source": [
    "sns.countplot(data=loan_df,x='term')\n",
    "plt.show()"
   ]
  },
  {
   "cell_type": "markdown",
   "metadata": {
    "id": "A2qOiCV-fTfH"
   },
   "source": [
    "***Most of the loans have term of 36***"
   ]
  },
  {
   "cell_type": "markdown",
   "metadata": {
    "id": "gSJGrduvfWxp"
   },
   "source": [
    "## verification_status"
   ]
  },
  {
   "cell_type": "code",
   "execution_count": 1210,
   "metadata": {
    "colab": {
     "base_uri": "https://localhost:8080/",
     "height": 468
    },
    "id": "qnp4JNJVfe1R",
    "outputId": "e0ad90bc-36de-4d5d-a815-aa820dbb8233"
   },
   "outputs": [
    {
     "data": {
      "image/png": "[encoded data removed]",
      "text/plain": [
       "<Figure size 640x480 with 1 Axes>"
      ]
     },
     "metadata": {},
     "output_type": "display_data"
    }
   ],
   "source": [
    "sns.countplot(data=loan_df,x='verification_status')\n",
    "plt.show()"
   ]
  },
  {
   "cell_type": "markdown",
   "metadata": {
    "id": "t0sUpfOJfkQA"
   },
   "source": [
    "Most of the Loans are not verified"
   ]
  },
  {
   "cell_type": "markdown",
   "metadata": {
    "id": "Mn4LekRAhy9E"
   },
   "source": [
    "## grade"
   ]
  },
  {
   "cell_type": "code",
   "execution_count": 1211,
   "metadata": {
    "colab": {
     "base_uri": "https://localhost:8080/",
     "height": 471
    },
    "id": "SOe8NLASh7OW",
    "outputId": "56c479b2-7be6-4cf1-f61d-0ff596c1a0d7"
   },
   "outputs": [
    {
     "data": {
      "image/png": "[encoded data removed]",
      "text/plain": [
       "<Figure size 640x480 with 1 Axes>"
      ]
     },
     "metadata": {},
     "output_type": "display_data"
    }
   ],
   "source": [
    "sns.countplot(data=loan_df,x='grade')\n",
    "plt.show()"
   ]
  },
  {
   "cell_type": "markdown",
   "metadata": {
    "id": "-QHWdBZNh_iU"
   },
   "source": [
    "#### `Loan Defaulted Percent is higher Grade B"
   ]
  },
  {
   "cell_type": "markdown",
   "metadata": {
    "id": "-QaJeSakksXH"
   },
   "source": [
    "## purpose"
   ]
  },
  {
   "cell_type": "code",
   "execution_count": 1212,
   "metadata": {
    "colab": {
     "base_uri": "https://localhost:8080/",
     "height": 467
    },
    "id": "OQ4oZPXikzgg",
    "outputId": "3012c22a-18e7-47d8-96d9-c06c776c582c"
   },
   "outputs": [
    {
     "data": {
      "image/png": "[encoded data removed]",
      "text/plain": [
       "<Figure size 640x480 with 1 Axes>"
      ]
     },
     "metadata": {},
     "output_type": "display_data"
    }
   ],
   "source": [
    "sns.countplot(data=loan_df,y='purpose')\n",
    "plt.show()"
   ]
  },
  {
   "cell_type": "markdown",
   "metadata": {
    "id": "NTiWa6ZVk7I0"
   },
   "source": [
    "**Debt Consolidation is the main reason for the loan**"
   ]
  },
  {
   "cell_type": "markdown",
   "metadata": {
    "id": "YSx-AUiEvo3o"
   },
   "source": [
    "## dti"
   ]
  },
  {
   "cell_type": "code",
   "execution_count": 1213,
   "metadata": {
    "colab": {
     "base_uri": "https://localhost:8080/",
     "height": 429
    },
    "id": "kkPdTxa-vs4d",
    "outputId": "371ee0b9-aca9-4dbf-b61c-b2d51b9207b5"
   },
   "outputs": [
    {
     "data": {
      "image/png": "[encoded data removed]",
      "text/plain": [
       "<Figure size 640x480 with 1 Axes>"
      ]
     },
     "metadata": {},
     "output_type": "display_data"
    }
   ],
   "source": [
    "sns.boxplot(y=loan_df['dti'])\n",
    "plt.show()"
   ]
  },
  {
   "cell_type": "markdown",
   "metadata": {
    "id": "_U-BQptdp2fN"
   },
   "source": [
    "# Bivariate Analysis"
   ]
  },
  {
   "cell_type": "markdown",
   "metadata": {},
   "source": [
    "### Common Function "
   ]
  },
  {
   "cell_type": "code",
   "execution_count": 1214,
   "metadata": {
    "id": "ouNWBsesgmRk"
   },
   "outputs": [],
   "source": [
    "def create_pivot_table(col):\n",
    "    table=loan_df.pivot_table(values = 'funded_amnt',\n",
    "                      index = col,\n",
    "                      columns = 'loan_status',\n",
    "                      aggfunc = np.count_nonzero,\n",
    "                      fill_value = 0\n",
    "                      )\n",
    "    table['Total']=table['Charged Off']+table['Fully Paid']\n",
    "    table['Charged Off Rate']=100*(round((table['Charged Off']/table['Total']), 6))\n",
    "    # Sort the pivot table by the \"Charged Off Rate\" column in descending order\n",
    "    sorted_table = table.sort_values(by=\"Charged Off Rate\", ascending=False)\n",
    "\n",
    "    return sorted_table\n",
    "\n",
    "def create_bivariate_barplot_graph(x_axis,y_axis,type):\n",
    "       if type=='barplot':\n",
    "            sns.barplot(x=x_axis,y=y_axis) \n",
    "            plt.show()\n",
    "            return\n"
   ]
  },
  {
   "cell_type": "markdown",
   "metadata": {},
   "source": [
    "###  Home OwnerShip and Charge off "
   ]
  },
  {
   "cell_type": "code",
   "execution_count": 1215,
   "metadata": {
    "colab": {
     "base_uri": "https://localhost:8080/",
     "height": 238
    },
    "id": "ZnkUB5wVhaLT",
    "outputId": "429982a0-415c-4fb6-f96e-70660fbe952f"
   },
   "outputs": [
    {
     "data": {
      "text/html": [
       "<div>\n",
       "<style scoped>\n",
       "    .dataframe tbody tr th:only-of-type {\n",
       "        vertical-align: middle;\n",
       "    }\n",
       "\n",
       "    .dataframe tbody tr th {\n",
       "        vertical-align: top;\n",
       "    }\n",
       "\n",
       "    .dataframe thead th {\n",
       "        text-align: right;\n",
       "    }\n",
       "</style>\n",
       "<table border=\"1\" class=\"dataframe\">\n",
       "  <thead>\n",
       "    <tr style=\"text-align: right;\">\n",
       "      <th>loan_status</th>\n",
       "      <th>Charged Off</th>\n",
       "      <th>Fully Paid</th>\n",
       "      <th>Total</th>\n",
       "      <th>Charged Off Rate</th>\n",
       "    </tr>\n",
       "    <tr>\n",
       "      <th>home_ownership</th>\n",
       "      <th></th>\n",
       "      <th></th>\n",
       "      <th></th>\n",
       "      <th></th>\n",
       "    </tr>\n",
       "  </thead>\n",
       "  <tbody>\n",
       "    <tr>\n",
       "      <th>OTHER</th>\n",
       "      <td>17</td>\n",
       "      <td>75</td>\n",
       "      <td>92</td>\n",
       "      <td>18.4783</td>\n",
       "    </tr>\n",
       "    <tr>\n",
       "      <th>RENT</th>\n",
       "      <td>2707</td>\n",
       "      <td>15094</td>\n",
       "      <td>17801</td>\n",
       "      <td>15.2070</td>\n",
       "    </tr>\n",
       "    <tr>\n",
       "      <th>OWN</th>\n",
       "      <td>419</td>\n",
       "      <td>2385</td>\n",
       "      <td>2804</td>\n",
       "      <td>14.9429</td>\n",
       "    </tr>\n",
       "    <tr>\n",
       "      <th>MORTGAGE</th>\n",
       "      <td>2059</td>\n",
       "      <td>13069</td>\n",
       "      <td>15128</td>\n",
       "      <td>13.6105</td>\n",
       "    </tr>\n",
       "    <tr>\n",
       "      <th>NONE</th>\n",
       "      <td>0</td>\n",
       "      <td>3</td>\n",
       "      <td>3</td>\n",
       "      <td>0.0000</td>\n",
       "    </tr>\n",
       "  </tbody>\n",
       "</table>\n",
       "</div>"
      ],
      "text/plain": [
       "loan_status     Charged Off  Fully Paid  Total  Charged Off Rate\n",
       "home_ownership                                                  \n",
       "OTHER                    17          75     92           18.4783\n",
       "RENT                   2707       15094  17801           15.2070\n",
       "OWN                     419        2385   2804           14.9429\n",
       "MORTGAGE               2059       13069  15128           13.6105\n",
       "NONE                      0           3      3            0.0000"
      ]
     },
     "execution_count": 1215,
     "metadata": {},
     "output_type": "execute_result"
    }
   ],
   "source": [
    "chargeoff_rate_homeownership=create_pivot_table('home_ownership')\n",
    "chargeoff_rate_homeownership"
   ]
  },
  {
   "cell_type": "code",
   "execution_count": 1216,
   "metadata": {
    "colab": {
     "base_uri": "https://localhost:8080/",
     "height": 468
    },
    "id": "25jOicPgvjBj",
    "outputId": "86183b7c-95b1-464f-8a3f-00f726b2a63d"
   },
   "outputs": [
    {
     "data": {
      "image/png": "[encoded data removed]",
      "text/plain": [
       "<Figure size 640x480 with 1 Axes>"
      ]
     },
     "metadata": {},
     "output_type": "display_data"
    }
   ],
   "source": [
    "create_bivariate_barplot_graph(chargeoff_rate_homeownership[0:].index,\n",
    "                               chargeoff_rate_homeownership[0:]['Charged Off Rate'],'barplot')"
   ]
  },
  {
   "cell_type": "markdown",
   "metadata": {},
   "source": [
    "#### Loan Defaulted for Other category is high but we cant find what does other denote , by business understanding \"other\" category belongs to either co owner property or named property keeping in consideration the rest of categories listed. No concrete conclusion can be made here as to which type of home ownership has higher propotion of defaulters"
   ]
  },
  {
   "cell_type": "markdown",
   "metadata": {},
   "source": [
    "### addr_state and Charge off"
   ]
  },
  {
   "cell_type": "code",
   "execution_count": 1253,
   "metadata": {
    "colab": {
     "base_uri": "https://localhost:8080/",
     "height": 1000
    },
    "id": "Lw_pRs9BwM6j",
    "outputId": "1d52c351-3497-480d-861f-98c27c8083c3"
   },
   "outputs": [
    {
     "data": {
      "text/html": [
       "<div>\n",
       "<style scoped>\n",
       "    .dataframe tbody tr th:only-of-type {\n",
       "        vertical-align: middle;\n",
       "    }\n",
       "\n",
       "    .dataframe tbody tr th {\n",
       "        vertical-align: top;\n",
       "    }\n",
       "\n",
       "    .dataframe thead th {\n",
       "        text-align: right;\n",
       "    }\n",
       "</style>\n",
       "<table border=\"1\" class=\"dataframe\">\n",
       "  <thead>\n",
       "    <tr style=\"text-align: right;\">\n",
       "      <th>loan_status</th>\n",
       "      <th>Charged Off</th>\n",
       "      <th>Fully Paid</th>\n",
       "      <th>Total</th>\n",
       "      <th>Charged Off Rate</th>\n",
       "    </tr>\n",
       "  </thead>\n",
       "  <tbody>\n",
       "    <tr>\n",
       "      <th>count</th>\n",
       "      <td>50.000000</td>\n",
       "      <td>50.000000</td>\n",
       "      <td>50.000000</td>\n",
       "      <td>50.000000</td>\n",
       "    </tr>\n",
       "    <tr>\n",
       "      <th>mean</th>\n",
       "      <td>104.040000</td>\n",
       "      <td>612.520000</td>\n",
       "      <td>716.560000</td>\n",
       "      <td>14.098144</td>\n",
       "    </tr>\n",
       "    <tr>\n",
       "      <th>std</th>\n",
       "      <td>169.484327</td>\n",
       "      <td>923.411692</td>\n",
       "      <td>1090.891326</td>\n",
       "      <td>8.064882</td>\n",
       "    </tr>\n",
       "    <tr>\n",
       "      <th>min</th>\n",
       "      <td>0.000000</td>\n",
       "      <td>2.000000</td>\n",
       "      <td>3.000000</td>\n",
       "      <td>0.000000</td>\n",
       "    </tr>\n",
       "    <tr>\n",
       "      <th>25%</th>\n",
       "      <td>12.250000</td>\n",
       "      <td>104.000000</td>\n",
       "      <td>118.750000</td>\n",
       "      <td>11.743100</td>\n",
       "    </tr>\n",
       "    <tr>\n",
       "      <th>50%</th>\n",
       "      <td>48.500000</td>\n",
       "      <td>345.500000</td>\n",
       "      <td>400.500000</td>\n",
       "      <td>13.550350</td>\n",
       "    </tr>\n",
       "    <tr>\n",
       "      <th>75%</th>\n",
       "      <td>120.250000</td>\n",
       "      <td>671.000000</td>\n",
       "      <td>787.750000</td>\n",
       "      <td>15.821250</td>\n",
       "    </tr>\n",
       "    <tr>\n",
       "      <th>max</th>\n",
       "      <td>1035.000000</td>\n",
       "      <td>5384.000000</td>\n",
       "      <td>6419.000000</td>\n",
       "      <td>60.000000</td>\n",
       "    </tr>\n",
       "  </tbody>\n",
       "</table>\n",
       "</div>"
      ],
      "text/plain": [
       "loan_status  Charged Off   Fully Paid        Total  Charged Off Rate\n",
       "count          50.000000    50.000000    50.000000         50.000000\n",
       "mean          104.040000   612.520000   716.560000         14.098144\n",
       "std           169.484327   923.411692  1090.891326          8.064882\n",
       "min             0.000000     2.000000     3.000000          0.000000\n",
       "25%            12.250000   104.000000   118.750000         11.743100\n",
       "50%            48.500000   345.500000   400.500000         13.550350\n",
       "75%           120.250000   671.000000   787.750000         15.821250\n",
       "max          1035.000000  5384.000000  6419.000000         60.000000"
      ]
     },
     "execution_count": 1253,
     "metadata": {},
     "output_type": "execute_result"
    }
   ],
   "source": [
    "chargeoff_rate_state=create_pivot_table('addr_state')\n",
    "chargeoff_rate_state.describe()\n",
    "## it is observed that there is a lot of variation between how the loan applications are spread over different \n",
    "## states , since min for the total column is 3 and max is 6419 with a standard deviation of 1090"
   ]
  },
  {
   "cell_type": "code",
   "execution_count": 1254,
   "metadata": {},
   "outputs": [
    {
     "data": {
      "text/html": [
       "<div>\n",
       "<style scoped>\n",
       "    .dataframe tbody tr th:only-of-type {\n",
       "        vertical-align: middle;\n",
       "    }\n",
       "\n",
       "    .dataframe tbody tr th {\n",
       "        vertical-align: top;\n",
       "    }\n",
       "\n",
       "    .dataframe thead th {\n",
       "        text-align: right;\n",
       "    }\n",
       "</style>\n",
       "<table border=\"1\" class=\"dataframe\">\n",
       "  <thead>\n",
       "    <tr style=\"text-align: right;\">\n",
       "      <th>loan_status</th>\n",
       "      <th>Charged Off</th>\n",
       "      <th>Fully Paid</th>\n",
       "      <th>Total</th>\n",
       "      <th>Charged Off Rate</th>\n",
       "    </tr>\n",
       "    <tr>\n",
       "      <th>addr_state</th>\n",
       "      <th></th>\n",
       "      <th></th>\n",
       "      <th></th>\n",
       "      <th></th>\n",
       "    </tr>\n",
       "  </thead>\n",
       "  <tbody>\n",
       "    <tr>\n",
       "      <th>NE</th>\n",
       "      <td>3</td>\n",
       "      <td>2</td>\n",
       "      <td>5</td>\n",
       "      <td>60.0000</td>\n",
       "    </tr>\n",
       "    <tr>\n",
       "      <th>NV</th>\n",
       "      <td>98</td>\n",
       "      <td>348</td>\n",
       "      <td>446</td>\n",
       "      <td>21.9731</td>\n",
       "    </tr>\n",
       "    <tr>\n",
       "      <th>ID</th>\n",
       "      <td>1</td>\n",
       "      <td>4</td>\n",
       "      <td>5</td>\n",
       "      <td>20.0000</td>\n",
       "    </tr>\n",
       "    <tr>\n",
       "      <th>SD</th>\n",
       "      <td>12</td>\n",
       "      <td>49</td>\n",
       "      <td>61</td>\n",
       "      <td>19.6721</td>\n",
       "    </tr>\n",
       "    <tr>\n",
       "      <th>AK</th>\n",
       "      <td>13</td>\n",
       "      <td>55</td>\n",
       "      <td>68</td>\n",
       "      <td>19.1176</td>\n",
       "    </tr>\n",
       "    <tr>\n",
       "      <th>FL</th>\n",
       "      <td>468</td>\n",
       "      <td>2134</td>\n",
       "      <td>2602</td>\n",
       "      <td>17.9862</td>\n",
       "    </tr>\n",
       "    <tr>\n",
       "      <th>HI</th>\n",
       "      <td>28</td>\n",
       "      <td>129</td>\n",
       "      <td>157</td>\n",
       "      <td>17.8344</td>\n",
       "    </tr>\n",
       "    <tr>\n",
       "      <th>MO</th>\n",
       "      <td>109</td>\n",
       "      <td>524</td>\n",
       "      <td>633</td>\n",
       "      <td>17.2196</td>\n",
       "    </tr>\n",
       "    <tr>\n",
       "      <th>NM</th>\n",
       "      <td>29</td>\n",
       "      <td>143</td>\n",
       "      <td>172</td>\n",
       "      <td>16.8605</td>\n",
       "    </tr>\n",
       "    <tr>\n",
       "      <th>CA</th>\n",
       "      <td>1035</td>\n",
       "      <td>5384</td>\n",
       "      <td>6419</td>\n",
       "      <td>16.1240</td>\n",
       "    </tr>\n",
       "    <tr>\n",
       "      <th>OR</th>\n",
       "      <td>68</td>\n",
       "      <td>357</td>\n",
       "      <td>425</td>\n",
       "      <td>16.0000</td>\n",
       "    </tr>\n",
       "    <tr>\n",
       "      <th>NJ</th>\n",
       "      <td>257</td>\n",
       "      <td>1365</td>\n",
       "      <td>1622</td>\n",
       "      <td>15.8446</td>\n",
       "    </tr>\n",
       "    <tr>\n",
       "      <th>NC</th>\n",
       "      <td>110</td>\n",
       "      <td>585</td>\n",
       "      <td>695</td>\n",
       "      <td>15.8273</td>\n",
       "    </tr>\n",
       "    <tr>\n",
       "      <th>WA</th>\n",
       "      <td>122</td>\n",
       "      <td>650</td>\n",
       "      <td>772</td>\n",
       "      <td>15.8031</td>\n",
       "    </tr>\n",
       "    <tr>\n",
       "      <th>GA</th>\n",
       "      <td>199</td>\n",
       "      <td>1061</td>\n",
       "      <td>1260</td>\n",
       "      <td>15.7937</td>\n",
       "    </tr>\n",
       "    <tr>\n",
       "      <th>MD</th>\n",
       "      <td>148</td>\n",
       "      <td>798</td>\n",
       "      <td>946</td>\n",
       "      <td>15.6448</td>\n",
       "    </tr>\n",
       "    <tr>\n",
       "      <th>NH</th>\n",
       "      <td>23</td>\n",
       "      <td>128</td>\n",
       "      <td>151</td>\n",
       "      <td>15.2318</td>\n",
       "    </tr>\n",
       "    <tr>\n",
       "      <th>UT</th>\n",
       "      <td>35</td>\n",
       "      <td>202</td>\n",
       "      <td>237</td>\n",
       "      <td>14.7679</td>\n",
       "    </tr>\n",
       "    <tr>\n",
       "      <th>KY</th>\n",
       "      <td>43</td>\n",
       "      <td>253</td>\n",
       "      <td>296</td>\n",
       "      <td>14.5270</td>\n",
       "    </tr>\n",
       "    <tr>\n",
       "      <th>MI</th>\n",
       "      <td>96</td>\n",
       "      <td>565</td>\n",
       "      <td>661</td>\n",
       "      <td>14.5234</td>\n",
       "    </tr>\n",
       "    <tr>\n",
       "      <th>AZ</th>\n",
       "      <td>115</td>\n",
       "      <td>678</td>\n",
       "      <td>793</td>\n",
       "      <td>14.5019</td>\n",
       "    </tr>\n",
       "    <tr>\n",
       "      <th>OK</th>\n",
       "      <td>40</td>\n",
       "      <td>236</td>\n",
       "      <td>276</td>\n",
       "      <td>14.4928</td>\n",
       "    </tr>\n",
       "    <tr>\n",
       "      <th>SC</th>\n",
       "      <td>62</td>\n",
       "      <td>369</td>\n",
       "      <td>431</td>\n",
       "      <td>14.3852</td>\n",
       "    </tr>\n",
       "    <tr>\n",
       "      <th>WI</th>\n",
       "      <td>58</td>\n",
       "      <td>354</td>\n",
       "      <td>412</td>\n",
       "      <td>14.0777</td>\n",
       "    </tr>\n",
       "    <tr>\n",
       "      <th>MN</th>\n",
       "      <td>78</td>\n",
       "      <td>494</td>\n",
       "      <td>572</td>\n",
       "      <td>13.6364</td>\n",
       "    </tr>\n",
       "    <tr>\n",
       "      <th>IL</th>\n",
       "      <td>185</td>\n",
       "      <td>1189</td>\n",
       "      <td>1374</td>\n",
       "      <td>13.4643</td>\n",
       "    </tr>\n",
       "    <tr>\n",
       "      <th>CT</th>\n",
       "      <td>87</td>\n",
       "      <td>565</td>\n",
       "      <td>652</td>\n",
       "      <td>13.3436</td>\n",
       "    </tr>\n",
       "    <tr>\n",
       "      <th>NY</th>\n",
       "      <td>452</td>\n",
       "      <td>2942</td>\n",
       "      <td>3394</td>\n",
       "      <td>13.3176</td>\n",
       "    </tr>\n",
       "    <tr>\n",
       "      <th>RI</th>\n",
       "      <td>24</td>\n",
       "      <td>161</td>\n",
       "      <td>185</td>\n",
       "      <td>12.9730</td>\n",
       "    </tr>\n",
       "    <tr>\n",
       "      <th>OH</th>\n",
       "      <td>143</td>\n",
       "      <td>974</td>\n",
       "      <td>1117</td>\n",
       "      <td>12.8021</td>\n",
       "    </tr>\n",
       "    <tr>\n",
       "      <th>VA</th>\n",
       "      <td>162</td>\n",
       "      <td>1116</td>\n",
       "      <td>1278</td>\n",
       "      <td>12.6761</td>\n",
       "    </tr>\n",
       "    <tr>\n",
       "      <th>CO</th>\n",
       "      <td>91</td>\n",
       "      <td>629</td>\n",
       "      <td>720</td>\n",
       "      <td>12.6389</td>\n",
       "    </tr>\n",
       "    <tr>\n",
       "      <th>LA</th>\n",
       "      <td>49</td>\n",
       "      <td>343</td>\n",
       "      <td>392</td>\n",
       "      <td>12.5000</td>\n",
       "    </tr>\n",
       "    <tr>\n",
       "      <th>WV</th>\n",
       "      <td>20</td>\n",
       "      <td>140</td>\n",
       "      <td>160</td>\n",
       "      <td>12.5000</td>\n",
       "    </tr>\n",
       "    <tr>\n",
       "      <th>MA</th>\n",
       "      <td>147</td>\n",
       "      <td>1051</td>\n",
       "      <td>1198</td>\n",
       "      <td>12.2705</td>\n",
       "    </tr>\n",
       "    <tr>\n",
       "      <th>PA</th>\n",
       "      <td>169</td>\n",
       "      <td>1234</td>\n",
       "      <td>1403</td>\n",
       "      <td>12.0456</td>\n",
       "    </tr>\n",
       "    <tr>\n",
       "      <th>TN</th>\n",
       "      <td>2</td>\n",
       "      <td>15</td>\n",
       "      <td>17</td>\n",
       "      <td>11.7647</td>\n",
       "    </tr>\n",
       "    <tr>\n",
       "      <th>AL</th>\n",
       "      <td>48</td>\n",
       "      <td>361</td>\n",
       "      <td>409</td>\n",
       "      <td>11.7359</td>\n",
       "    </tr>\n",
       "    <tr>\n",
       "      <th>KS</th>\n",
       "      <td>28</td>\n",
       "      <td>211</td>\n",
       "      <td>239</td>\n",
       "      <td>11.7155</td>\n",
       "    </tr>\n",
       "    <tr>\n",
       "      <th>AR</th>\n",
       "      <td>26</td>\n",
       "      <td>199</td>\n",
       "      <td>225</td>\n",
       "      <td>11.5556</td>\n",
       "    </tr>\n",
       "    <tr>\n",
       "      <th>VT</th>\n",
       "      <td>6</td>\n",
       "      <td>46</td>\n",
       "      <td>52</td>\n",
       "      <td>11.5385</td>\n",
       "    </tr>\n",
       "    <tr>\n",
       "      <th>TX</th>\n",
       "      <td>276</td>\n",
       "      <td>2132</td>\n",
       "      <td>2408</td>\n",
       "      <td>11.4618</td>\n",
       "    </tr>\n",
       "    <tr>\n",
       "      <th>MT</th>\n",
       "      <td>9</td>\n",
       "      <td>70</td>\n",
       "      <td>79</td>\n",
       "      <td>11.3924</td>\n",
       "    </tr>\n",
       "    <tr>\n",
       "      <th>DE</th>\n",
       "      <td>12</td>\n",
       "      <td>96</td>\n",
       "      <td>108</td>\n",
       "      <td>11.1111</td>\n",
       "    </tr>\n",
       "    <tr>\n",
       "      <th>MS</th>\n",
       "      <td>2</td>\n",
       "      <td>17</td>\n",
       "      <td>19</td>\n",
       "      <td>10.5263</td>\n",
       "    </tr>\n",
       "    <tr>\n",
       "      <th>DC</th>\n",
       "      <td>11</td>\n",
       "      <td>176</td>\n",
       "      <td>187</td>\n",
       "      <td>5.8824</td>\n",
       "    </tr>\n",
       "    <tr>\n",
       "      <th>WY</th>\n",
       "      <td>3</td>\n",
       "      <td>75</td>\n",
       "      <td>78</td>\n",
       "      <td>3.8462</td>\n",
       "    </tr>\n",
       "    <tr>\n",
       "      <th>ME</th>\n",
       "      <td>0</td>\n",
       "      <td>3</td>\n",
       "      <td>3</td>\n",
       "      <td>0.0000</td>\n",
       "    </tr>\n",
       "    <tr>\n",
       "      <th>IN</th>\n",
       "      <td>0</td>\n",
       "      <td>9</td>\n",
       "      <td>9</td>\n",
       "      <td>0.0000</td>\n",
       "    </tr>\n",
       "    <tr>\n",
       "      <th>IA</th>\n",
       "      <td>0</td>\n",
       "      <td>5</td>\n",
       "      <td>5</td>\n",
       "      <td>0.0000</td>\n",
       "    </tr>\n",
       "  </tbody>\n",
       "</table>\n",
       "</div>"
      ],
      "text/plain": [
       "loan_status  Charged Off  Fully Paid  Total  Charged Off Rate\n",
       "addr_state                                                   \n",
       "NE                     3           2      5           60.0000\n",
       "NV                    98         348    446           21.9731\n",
       "ID                     1           4      5           20.0000\n",
       "SD                    12          49     61           19.6721\n",
       "AK                    13          55     68           19.1176\n",
       "FL                   468        2134   2602           17.9862\n",
       "HI                    28         129    157           17.8344\n",
       "MO                   109         524    633           17.2196\n",
       "NM                    29         143    172           16.8605\n",
       "CA                  1035        5384   6419           16.1240\n",
       "OR                    68         357    425           16.0000\n",
       "NJ                   257        1365   1622           15.8446\n",
       "NC                   110         585    695           15.8273\n",
       "WA                   122         650    772           15.8031\n",
       "GA                   199        1061   1260           15.7937\n",
       "MD                   148         798    946           15.6448\n",
       "NH                    23         128    151           15.2318\n",
       "UT                    35         202    237           14.7679\n",
       "KY                    43         253    296           14.5270\n",
       "MI                    96         565    661           14.5234\n",
       "AZ                   115         678    793           14.5019\n",
       "OK                    40         236    276           14.4928\n",
       "SC                    62         369    431           14.3852\n",
       "WI                    58         354    412           14.0777\n",
       "MN                    78         494    572           13.6364\n",
       "IL                   185        1189   1374           13.4643\n",
       "CT                    87         565    652           13.3436\n",
       "NY                   452        2942   3394           13.3176\n",
       "RI                    24         161    185           12.9730\n",
       "OH                   143         974   1117           12.8021\n",
       "VA                   162        1116   1278           12.6761\n",
       "CO                    91         629    720           12.6389\n",
       "LA                    49         343    392           12.5000\n",
       "WV                    20         140    160           12.5000\n",
       "MA                   147        1051   1198           12.2705\n",
       "PA                   169        1234   1403           12.0456\n",
       "TN                     2          15     17           11.7647\n",
       "AL                    48         361    409           11.7359\n",
       "KS                    28         211    239           11.7155\n",
       "AR                    26         199    225           11.5556\n",
       "VT                     6          46     52           11.5385\n",
       "TX                   276        2132   2408           11.4618\n",
       "MT                     9          70     79           11.3924\n",
       "DE                    12          96    108           11.1111\n",
       "MS                     2          17     19           10.5263\n",
       "DC                    11         176    187            5.8824\n",
       "WY                     3          75     78            3.8462\n",
       "ME                     0           3      3            0.0000\n",
       "IN                     0           9      9            0.0000\n",
       "IA                     0           5      5            0.0000"
      ]
     },
     "execution_count": 1254,
     "metadata": {},
     "output_type": "execute_result"
    }
   ],
   "source": [
    "chargeoff_rate_state\n",
    "## Lets see state wise how the data is spread, looking at NE which show the max charge off rate % but the total cases \n",
    "## are just 3 where as the state with max total cases like CA has around 16% charged off "
   ]
  },
  {
   "cell_type": "code",
   "execution_count": 1255,
   "metadata": {
    "colab": {
     "base_uri": "https://localhost:8080/",
     "height": 589
    },
    "id": "4bi-EBfNwak3",
    "outputId": "cbbfd51f-b181-4098-d168-b58ffc0fd73b"
   },
   "outputs": [
    {
     "data": {
      "image/png": "[encoded data removed]",
      "text/plain": [
       "<Figure size 2000x800 with 1 Axes>"
      ]
     },
     "metadata": {},
     "output_type": "display_data"
    }
   ],
   "source": [
    "plt.figure(figsize=(20,8))\n",
    "create_bivariate_barplot_graph(chargeoff_rate_state[0:].index,chargeoff_rate_state[0:]['Charged Off Rate'],'barplot')"
   ]
  },
  {
   "cell_type": "code",
   "execution_count": 1256,
   "metadata": {},
   "outputs": [
    {
     "data": {
      "image/png": "[encoded data removed]",
      "text/plain": [
       "<Figure size 1200x600 with 1 Axes>"
      ]
     },
     "metadata": {},
     "output_type": "display_data"
    }
   ],
   "source": [
    "# Create a variable to hold the pivot table with the 'Total' column only\n",
    "total_loans = chargeoff_rate_state[['Total']]\n",
    "\n",
    "# Sort the pivot table by the 'Total' column in descending order\n",
    "sorted_table = total_loans.sort_values(by='Total', ascending=False)\n",
    "\n",
    "# Create a bar chart showing the distribution of total loans state-wise\n",
    "sorted_table.plot(kind='bar', figsize=(12,6), title='Total Loans by State')\n",
    "plt.show()"
   ]
  },
  {
   "cell_type": "markdown",
   "metadata": {},
   "source": [
    "#### Loan Defaulted Percent is higher for State NE , but it also needs to be mentioned here that no. of loan application processed for this state are too low , the state that has higher number  of loans processed is CA which has default ratio of 16.12 % and DC stands with just 5% default rate with total cases processed as 187"
   ]
  },
  {
   "cell_type": "markdown",
   "metadata": {},
   "source": [
    "### purpose and Charge off"
   ]
  },
  {
   "cell_type": "code",
   "execution_count": 1221,
   "metadata": {
    "colab": {
     "base_uri": "https://localhost:8080/",
     "height": 520
    },
    "id": "CMKZnk3V0-RT",
    "outputId": "0bdaa23c-7775-44f7-fcfd-bd10a889ce1a"
   },
   "outputs": [
    {
     "data": {
      "text/html": [
       "<div>\n",
       "<style scoped>\n",
       "    .dataframe tbody tr th:only-of-type {\n",
       "        vertical-align: middle;\n",
       "    }\n",
       "\n",
       "    .dataframe tbody tr th {\n",
       "        vertical-align: top;\n",
       "    }\n",
       "\n",
       "    .dataframe thead th {\n",
       "        text-align: right;\n",
       "    }\n",
       "</style>\n",
       "<table border=\"1\" class=\"dataframe\">\n",
       "  <thead>\n",
       "    <tr style=\"text-align: right;\">\n",
       "      <th>loan_status</th>\n",
       "      <th>Charged Off</th>\n",
       "      <th>Fully Paid</th>\n",
       "      <th>Total</th>\n",
       "      <th>Charged Off Rate</th>\n",
       "    </tr>\n",
       "    <tr>\n",
       "      <th>purpose</th>\n",
       "      <th></th>\n",
       "      <th></th>\n",
       "      <th></th>\n",
       "      <th></th>\n",
       "    </tr>\n",
       "  </thead>\n",
       "  <tbody>\n",
       "    <tr>\n",
       "      <th>small_business</th>\n",
       "      <td>416</td>\n",
       "      <td>1127</td>\n",
       "      <td>1543</td>\n",
       "      <td>26.9605</td>\n",
       "    </tr>\n",
       "    <tr>\n",
       "      <th>renewable_energy</th>\n",
       "      <td>18</td>\n",
       "      <td>76</td>\n",
       "      <td>94</td>\n",
       "      <td>19.1489</td>\n",
       "    </tr>\n",
       "    <tr>\n",
       "      <th>educational</th>\n",
       "      <td>54</td>\n",
       "      <td>258</td>\n",
       "      <td>312</td>\n",
       "      <td>17.3077</td>\n",
       "    </tr>\n",
       "    <tr>\n",
       "      <th>moving</th>\n",
       "      <td>90</td>\n",
       "      <td>459</td>\n",
       "      <td>549</td>\n",
       "      <td>16.3934</td>\n",
       "    </tr>\n",
       "    <tr>\n",
       "      <th>other</th>\n",
       "      <td>595</td>\n",
       "      <td>3062</td>\n",
       "      <td>3657</td>\n",
       "      <td>16.2702</td>\n",
       "    </tr>\n",
       "    <tr>\n",
       "      <th>medical</th>\n",
       "      <td>102</td>\n",
       "      <td>535</td>\n",
       "      <td>637</td>\n",
       "      <td>16.0126</td>\n",
       "    </tr>\n",
       "    <tr>\n",
       "      <th>house</th>\n",
       "      <td>52</td>\n",
       "      <td>275</td>\n",
       "      <td>327</td>\n",
       "      <td>15.9021</td>\n",
       "    </tr>\n",
       "    <tr>\n",
       "      <th>debt_consolidation</th>\n",
       "      <td>2544</td>\n",
       "      <td>14263</td>\n",
       "      <td>16807</td>\n",
       "      <td>15.1366</td>\n",
       "    </tr>\n",
       "    <tr>\n",
       "      <th>vacation</th>\n",
       "      <td>52</td>\n",
       "      <td>312</td>\n",
       "      <td>364</td>\n",
       "      <td>14.2857</td>\n",
       "    </tr>\n",
       "    <tr>\n",
       "      <th>home_improvement</th>\n",
       "      <td>313</td>\n",
       "      <td>2170</td>\n",
       "      <td>2483</td>\n",
       "      <td>12.6057</td>\n",
       "    </tr>\n",
       "    <tr>\n",
       "      <th>car</th>\n",
       "      <td>159</td>\n",
       "      <td>1288</td>\n",
       "      <td>1447</td>\n",
       "      <td>10.9883</td>\n",
       "    </tr>\n",
       "    <tr>\n",
       "      <th>credit_card</th>\n",
       "      <td>502</td>\n",
       "      <td>4193</td>\n",
       "      <td>4695</td>\n",
       "      <td>10.6922</td>\n",
       "    </tr>\n",
       "    <tr>\n",
       "      <th>major_purchase</th>\n",
       "      <td>215</td>\n",
       "      <td>1814</td>\n",
       "      <td>2029</td>\n",
       "      <td>10.5964</td>\n",
       "    </tr>\n",
       "    <tr>\n",
       "      <th>wedding</th>\n",
       "      <td>90</td>\n",
       "      <td>794</td>\n",
       "      <td>884</td>\n",
       "      <td>10.1810</td>\n",
       "    </tr>\n",
       "  </tbody>\n",
       "</table>\n",
       "</div>"
      ],
      "text/plain": [
       "loan_status         Charged Off  Fully Paid  Total  Charged Off Rate\n",
       "purpose                                                             \n",
       "small_business              416        1127   1543           26.9605\n",
       "renewable_energy             18          76     94           19.1489\n",
       "educational                  54         258    312           17.3077\n",
       "moving                       90         459    549           16.3934\n",
       "other                       595        3062   3657           16.2702\n",
       "medical                     102         535    637           16.0126\n",
       "house                        52         275    327           15.9021\n",
       "debt_consolidation         2544       14263  16807           15.1366\n",
       "vacation                     52         312    364           14.2857\n",
       "home_improvement            313        2170   2483           12.6057\n",
       "car                         159        1288   1447           10.9883\n",
       "credit_card                 502        4193   4695           10.6922\n",
       "major_purchase              215        1814   2029           10.5964\n",
       "wedding                      90         794    884           10.1810"
      ]
     },
     "execution_count": 1221,
     "metadata": {},
     "output_type": "execute_result"
    }
   ],
   "source": [
    "chargeoff_rate_purpose=create_pivot_table('purpose')\n",
    "chargeoff_rate_purpose"
   ]
  },
  {
   "cell_type": "code",
   "execution_count": 1222,
   "metadata": {
    "colab": {
     "base_uri": "https://localhost:8080/",
     "height": 563
    },
    "id": "GoLzsoaBxCX2",
    "outputId": "d19a55c8-e630-46bb-d174-318389521884"
   },
   "outputs": [
    {
     "data": {
      "image/png": "[encoded data removed]",
      "text/plain": [
       "<Figure size 2100x800 with 1 Axes>"
      ]
     },
     "metadata": {},
     "output_type": "display_data"
    }
   ],
   "source": [
    "plt.figure(figsize=(21,8))\n",
    "create_bivariate_barplot_graph(chargeoff_rate_purpose[0:].index,chargeoff_rate_purpose[0:]['Charged Off Rate'],'barplot')"
   ]
  },
  {
   "cell_type": "markdown",
   "metadata": {},
   "source": [
    "#### Loans Application with purpose as small_business have higher chances of getting defaulted"
   ]
  },
  {
   "cell_type": "markdown",
   "metadata": {},
   "source": [
    "### Term and Charge Off"
   ]
  },
  {
   "cell_type": "code",
   "execution_count": 1257,
   "metadata": {
    "colab": {
     "base_uri": "https://localhost:8080/",
     "height": 143
    },
    "id": "mu_MhVTf15zD",
    "outputId": "a0792cb1-cd16-47ea-ba33-f0f6589d7645"
   },
   "outputs": [
    {
     "data": {
      "text/html": [
       "<div>\n",
       "<style scoped>\n",
       "    .dataframe tbody tr th:only-of-type {\n",
       "        vertical-align: middle;\n",
       "    }\n",
       "\n",
       "    .dataframe tbody tr th {\n",
       "        vertical-align: top;\n",
       "    }\n",
       "\n",
       "    .dataframe thead th {\n",
       "        text-align: right;\n",
       "    }\n",
       "</style>\n",
       "<table border=\"1\" class=\"dataframe\">\n",
       "  <thead>\n",
       "    <tr style=\"text-align: right;\">\n",
       "      <th>loan_status</th>\n",
       "      <th>Charged Off</th>\n",
       "      <th>Fully Paid</th>\n",
       "      <th>Total</th>\n",
       "      <th>Charged Off Rate</th>\n",
       "    </tr>\n",
       "    <tr>\n",
       "      <th>term</th>\n",
       "      <th></th>\n",
       "      <th></th>\n",
       "      <th></th>\n",
       "      <th></th>\n",
       "    </tr>\n",
       "  </thead>\n",
       "  <tbody>\n",
       "    <tr>\n",
       "      <th>60.0</th>\n",
       "      <td>2111</td>\n",
       "      <td>6199</td>\n",
       "      <td>8310</td>\n",
       "      <td>25.4031</td>\n",
       "    </tr>\n",
       "    <tr>\n",
       "      <th>36.0</th>\n",
       "      <td>3091</td>\n",
       "      <td>24427</td>\n",
       "      <td>27518</td>\n",
       "      <td>11.2326</td>\n",
       "    </tr>\n",
       "  </tbody>\n",
       "</table>\n",
       "</div>"
      ],
      "text/plain": [
       "loan_status  Charged Off  Fully Paid  Total  Charged Off Rate\n",
       "term                                                         \n",
       "60.0                2111        6199   8310           25.4031\n",
       "36.0                3091       24427  27518           11.2326"
      ]
     },
     "execution_count": 1257,
     "metadata": {},
     "output_type": "execute_result"
    }
   ],
   "source": [
    "chargeoff_rate_term=create_pivot_table('term')\n",
    "chargeoff_rate_term\n"
   ]
  },
  {
   "cell_type": "code",
   "execution_count": 1224,
   "metadata": {
    "colab": {
     "base_uri": "https://localhost:8080/",
     "height": 467
    },
    "id": "rEd3QMF91_45",
    "outputId": "2e7ff924-7972-4b5f-a736-c80f3d601108"
   },
   "outputs": [
    {
     "data": {
      "image/png": "[encoded data removed]",
      "text/plain": [
       "<Figure size 640x480 with 1 Axes>"
      ]
     },
     "metadata": {},
     "output_type": "display_data"
    }
   ],
   "source": [
    "create_bivariate_barplot_graph(chargeoff_rate_term.index,chargeoff_rate_term['Charged Off Rate'],'barplot')"
   ]
  },
  {
   "cell_type": "markdown",
   "metadata": {},
   "source": [
    "#### Loans Application with higher term have higher chances of getting defaulted. It could be because a longer period of time does have higher chances of loan repayment capability as compare to shorter periods"
   ]
  },
  {
   "cell_type": "markdown",
   "metadata": {},
   "source": [
    "### grade and Charge Off"
   ]
  },
  {
   "cell_type": "code",
   "execution_count": 1258,
   "metadata": {
    "colab": {
     "base_uri": "https://localhost:8080/",
     "height": 300
    },
    "id": "MaFdQAYC2KO1",
    "outputId": "d6d44732-269b-44dc-ff0e-2594a1fd7521"
   },
   "outputs": [
    {
     "data": {
      "text/html": [
       "<div>\n",
       "<style scoped>\n",
       "    .dataframe tbody tr th:only-of-type {\n",
       "        vertical-align: middle;\n",
       "    }\n",
       "\n",
       "    .dataframe tbody tr th {\n",
       "        vertical-align: top;\n",
       "    }\n",
       "\n",
       "    .dataframe thead th {\n",
       "        text-align: right;\n",
       "    }\n",
       "</style>\n",
       "<table border=\"1\" class=\"dataframe\">\n",
       "  <thead>\n",
       "    <tr style=\"text-align: right;\">\n",
       "      <th>loan_status</th>\n",
       "      <th>Charged Off</th>\n",
       "      <th>Fully Paid</th>\n",
       "      <th>Total</th>\n",
       "      <th>Charged Off Rate</th>\n",
       "    </tr>\n",
       "    <tr>\n",
       "      <th>grade</th>\n",
       "      <th></th>\n",
       "      <th></th>\n",
       "      <th></th>\n",
       "      <th></th>\n",
       "    </tr>\n",
       "  </thead>\n",
       "  <tbody>\n",
       "    <tr>\n",
       "      <th>G</th>\n",
       "      <td>82</td>\n",
       "      <td>145</td>\n",
       "      <td>227</td>\n",
       "      <td>36.1233</td>\n",
       "    </tr>\n",
       "    <tr>\n",
       "      <th>F</th>\n",
       "      <td>252</td>\n",
       "      <td>541</td>\n",
       "      <td>793</td>\n",
       "      <td>31.7781</td>\n",
       "    </tr>\n",
       "    <tr>\n",
       "      <th>E</th>\n",
       "      <td>598</td>\n",
       "      <td>1631</td>\n",
       "      <td>2229</td>\n",
       "      <td>26.8282</td>\n",
       "    </tr>\n",
       "    <tr>\n",
       "      <th>D</th>\n",
       "      <td>1042</td>\n",
       "      <td>3669</td>\n",
       "      <td>4711</td>\n",
       "      <td>22.1184</td>\n",
       "    </tr>\n",
       "    <tr>\n",
       "      <th>C</th>\n",
       "      <td>1290</td>\n",
       "      <td>6053</td>\n",
       "      <td>7343</td>\n",
       "      <td>17.5678</td>\n",
       "    </tr>\n",
       "    <tr>\n",
       "      <th>B</th>\n",
       "      <td>1347</td>\n",
       "      <td>9588</td>\n",
       "      <td>10935</td>\n",
       "      <td>12.3182</td>\n",
       "    </tr>\n",
       "    <tr>\n",
       "      <th>A</th>\n",
       "      <td>591</td>\n",
       "      <td>8999</td>\n",
       "      <td>9590</td>\n",
       "      <td>6.1627</td>\n",
       "    </tr>\n",
       "  </tbody>\n",
       "</table>\n",
       "</div>"
      ],
      "text/plain": [
       "loan_status  Charged Off  Fully Paid  Total  Charged Off Rate\n",
       "grade                                                        \n",
       "G                     82         145    227           36.1233\n",
       "F                    252         541    793           31.7781\n",
       "E                    598        1631   2229           26.8282\n",
       "D                   1042        3669   4711           22.1184\n",
       "C                   1290        6053   7343           17.5678\n",
       "B                   1347        9588  10935           12.3182\n",
       "A                    591        8999   9590            6.1627"
      ]
     },
     "execution_count": 1258,
     "metadata": {},
     "output_type": "execute_result"
    }
   ],
   "source": [
    "chargeoff_rate_grade=create_pivot_table('grade')\n",
    "chargeoff_rate_grade"
   ]
  },
  {
   "cell_type": "code",
   "execution_count": 1259,
   "metadata": {
    "colab": {
     "base_uri": "https://localhost:8080/",
     "height": 467
    },
    "id": "_Bb9aYI_2Ued",
    "outputId": "6e7d550e-a029-41ef-9d5d-6be10b2ac503"
   },
   "outputs": [
    {
     "data": {
      "image/png": "[encoded data removed]",
      "text/plain": [
       "<Figure size 640x480 with 1 Axes>"
      ]
     },
     "metadata": {},
     "output_type": "display_data"
    }
   ],
   "source": [
    "create_bivariate_barplot_graph(chargeoff_rate_grade[0:].index,chargeoff_rate_grade[0:]['Charged Off Rate'],'barplot')"
   ]
  },
  {
   "cell_type": "markdown",
   "metadata": {},
   "source": [
    "####  It is visually visible that as the grade increases , the risk of getting default also increases. Loans that are marked as Grade A has the lowest risk of getting defaulted"
   ]
  },
  {
   "cell_type": "markdown",
   "metadata": {},
   "source": [
    "### emp_length and Charge off"
   ]
  },
  {
   "cell_type": "code",
   "execution_count": 1227,
   "metadata": {
    "colab": {
     "base_uri": "https://localhost:8080/",
     "height": 426
    },
    "id": "tfo4Uis95jfu",
    "outputId": "ca364d6e-9933-477e-ceba-dd942f10f46c"
   },
   "outputs": [
    {
     "data": {
      "text/html": [
       "<div>\n",
       "<style scoped>\n",
       "    .dataframe tbody tr th:only-of-type {\n",
       "        vertical-align: middle;\n",
       "    }\n",
       "\n",
       "    .dataframe tbody tr th {\n",
       "        vertical-align: top;\n",
       "    }\n",
       "\n",
       "    .dataframe thead th {\n",
       "        text-align: right;\n",
       "    }\n",
       "</style>\n",
       "<table border=\"1\" class=\"dataframe\">\n",
       "  <thead>\n",
       "    <tr style=\"text-align: right;\">\n",
       "      <th>loan_status</th>\n",
       "      <th>Charged Off</th>\n",
       "      <th>Fully Paid</th>\n",
       "      <th>Total</th>\n",
       "      <th>Charged Off Rate</th>\n",
       "    </tr>\n",
       "    <tr>\n",
       "      <th>emp_length</th>\n",
       "      <th></th>\n",
       "      <th></th>\n",
       "      <th></th>\n",
       "      <th></th>\n",
       "    </tr>\n",
       "  </thead>\n",
       "  <tbody>\n",
       "    <tr>\n",
       "      <th>10</th>\n",
       "      <td>1402</td>\n",
       "      <td>7150</td>\n",
       "      <td>8552</td>\n",
       "      <td>16.3938</td>\n",
       "    </tr>\n",
       "    <tr>\n",
       "      <th>7</th>\n",
       "      <td>240</td>\n",
       "      <td>1364</td>\n",
       "      <td>1604</td>\n",
       "      <td>14.9626</td>\n",
       "    </tr>\n",
       "    <tr>\n",
       "      <th>1</th>\n",
       "      <td>441</td>\n",
       "      <td>2565</td>\n",
       "      <td>3006</td>\n",
       "      <td>14.6707</td>\n",
       "    </tr>\n",
       "    <tr>\n",
       "      <th>8</th>\n",
       "      <td>186</td>\n",
       "      <td>1118</td>\n",
       "      <td>1304</td>\n",
       "      <td>14.2638</td>\n",
       "    </tr>\n",
       "    <tr>\n",
       "      <th>5</th>\n",
       "      <td>424</td>\n",
       "      <td>2554</td>\n",
       "      <td>2978</td>\n",
       "      <td>14.2377</td>\n",
       "    </tr>\n",
       "    <tr>\n",
       "      <th>0</th>\n",
       "      <td>601</td>\n",
       "      <td>3667</td>\n",
       "      <td>4268</td>\n",
       "      <td>14.0815</td>\n",
       "    </tr>\n",
       "    <tr>\n",
       "      <th>6</th>\n",
       "      <td>284</td>\n",
       "      <td>1744</td>\n",
       "      <td>2028</td>\n",
       "      <td>14.0039</td>\n",
       "    </tr>\n",
       "    <tr>\n",
       "      <th>3</th>\n",
       "      <td>514</td>\n",
       "      <td>3252</td>\n",
       "      <td>3766</td>\n",
       "      <td>13.6484</td>\n",
       "    </tr>\n",
       "    <tr>\n",
       "      <th>4</th>\n",
       "      <td>428</td>\n",
       "      <td>2711</td>\n",
       "      <td>3139</td>\n",
       "      <td>13.6349</td>\n",
       "    </tr>\n",
       "    <tr>\n",
       "      <th>2</th>\n",
       "      <td>535</td>\n",
       "      <td>3514</td>\n",
       "      <td>4049</td>\n",
       "      <td>13.2131</td>\n",
       "    </tr>\n",
       "    <tr>\n",
       "      <th>9</th>\n",
       "      <td>147</td>\n",
       "      <td>987</td>\n",
       "      <td>1134</td>\n",
       "      <td>12.9630</td>\n",
       "    </tr>\n",
       "  </tbody>\n",
       "</table>\n",
       "</div>"
      ],
      "text/plain": [
       "loan_status  Charged Off  Fully Paid  Total  Charged Off Rate\n",
       "emp_length                                                   \n",
       "10                  1402        7150   8552           16.3938\n",
       "7                    240        1364   1604           14.9626\n",
       "1                    441        2565   3006           14.6707\n",
       "8                    186        1118   1304           14.2638\n",
       "5                    424        2554   2978           14.2377\n",
       "0                    601        3667   4268           14.0815\n",
       "6                    284        1744   2028           14.0039\n",
       "3                    514        3252   3766           13.6484\n",
       "4                    428        2711   3139           13.6349\n",
       "2                    535        3514   4049           13.2131\n",
       "9                    147         987   1134           12.9630"
      ]
     },
     "execution_count": 1227,
     "metadata": {},
     "output_type": "execute_result"
    }
   ],
   "source": [
    "chargeoff_rate_employment_length=create_pivot_table('emp_length')\n",
    "chargeoff_rate_employment_length"
   ]
  },
  {
   "cell_type": "code",
   "execution_count": 1228,
   "metadata": {
    "colab": {
     "base_uri": "https://localhost:8080/",
     "height": 468
    },
    "id": "K6nQJcIz5y1t",
    "outputId": "79601d06-f6dd-4674-f3e0-f20da304753d"
   },
   "outputs": [
    {
     "data": {
      "image/png": "[encoded data removed]",
      "text/plain": [
       "<Figure size 640x480 with 1 Axes>"
      ]
     },
     "metadata": {},
     "output_type": "display_data"
    }
   ],
   "source": [
    "create_bivariate_barplot_graph(chargeoff_rate_employment_length[0:].index\n",
    "                               ,chargeoff_rate_employment_length[0:]['Charged Off Rate'],'barplot')"
   ]
  },
  {
   "cell_type": "markdown",
   "metadata": {},
   "source": [
    "#### Charged off rate increase as the employee term of service increases"
   ]
  },
  {
   "cell_type": "markdown",
   "metadata": {},
   "source": [
    "### annual_inc_rng and charge Off"
   ]
  },
  {
   "cell_type": "code",
   "execution_count": 1260,
   "metadata": {
    "colab": {
     "base_uri": "https://localhost:8080/",
     "height": 332
    },
    "id": "4eJg_zhW5697",
    "outputId": "288d0cff-802d-48ab-8900-eed03adf616d"
   },
   "outputs": [
    {
     "data": {
      "text/html": [
       "<div>\n",
       "<style scoped>\n",
       "    .dataframe tbody tr th:only-of-type {\n",
       "        vertical-align: middle;\n",
       "    }\n",
       "\n",
       "    .dataframe tbody tr th {\n",
       "        vertical-align: top;\n",
       "    }\n",
       "\n",
       "    .dataframe thead th {\n",
       "        text-align: right;\n",
       "    }\n",
       "</style>\n",
       "<table border=\"1\" class=\"dataframe\">\n",
       "  <thead>\n",
       "    <tr style=\"text-align: right;\">\n",
       "      <th>loan_status</th>\n",
       "      <th>Charged Off</th>\n",
       "      <th>Fully Paid</th>\n",
       "      <th>Total</th>\n",
       "      <th>Charged Off Rate</th>\n",
       "    </tr>\n",
       "    <tr>\n",
       "      <th>annual_inc_rng</th>\n",
       "      <th></th>\n",
       "      <th></th>\n",
       "      <th></th>\n",
       "      <th></th>\n",
       "    </tr>\n",
       "  </thead>\n",
       "  <tbody>\n",
       "    <tr>\n",
       "      <th>0-20000</th>\n",
       "      <td>237</td>\n",
       "      <td>943</td>\n",
       "      <td>1180</td>\n",
       "      <td>20.0847</td>\n",
       "    </tr>\n",
       "    <tr>\n",
       "      <th>20000-40000</th>\n",
       "      <td>1514</td>\n",
       "      <td>7004</td>\n",
       "      <td>8518</td>\n",
       "      <td>17.7741</td>\n",
       "    </tr>\n",
       "    <tr>\n",
       "      <th>40000-60000</th>\n",
       "      <td>1705</td>\n",
       "      <td>9496</td>\n",
       "      <td>11201</td>\n",
       "      <td>15.2219</td>\n",
       "    </tr>\n",
       "    <tr>\n",
       "      <th>60000-80000</th>\n",
       "      <td>958</td>\n",
       "      <td>6436</td>\n",
       "      <td>7394</td>\n",
       "      <td>12.9565</td>\n",
       "    </tr>\n",
       "    <tr>\n",
       "      <th>80000-100000</th>\n",
       "      <td>468</td>\n",
       "      <td>3799</td>\n",
       "      <td>4267</td>\n",
       "      <td>10.9679</td>\n",
       "    </tr>\n",
       "    <tr>\n",
       "      <th>120000-140000</th>\n",
       "      <td>117</td>\n",
       "      <td>980</td>\n",
       "      <td>1097</td>\n",
       "      <td>10.6655</td>\n",
       "    </tr>\n",
       "    <tr>\n",
       "      <th>100000-120000</th>\n",
       "      <td>203</td>\n",
       "      <td>1968</td>\n",
       "      <td>2171</td>\n",
       "      <td>9.3505</td>\n",
       "    </tr>\n",
       "  </tbody>\n",
       "</table>\n",
       "</div>"
      ],
      "text/plain": [
       "loan_status     Charged Off  Fully Paid  Total  Charged Off Rate\n",
       "annual_inc_rng                                                  \n",
       "0-20000                 237         943   1180           20.0847\n",
       "20000-40000            1514        7004   8518           17.7741\n",
       "40000-60000            1705        9496  11201           15.2219\n",
       "60000-80000             958        6436   7394           12.9565\n",
       "80000-100000            468        3799   4267           10.9679\n",
       "120000-140000           117         980   1097           10.6655\n",
       "100000-120000           203        1968   2171            9.3505"
      ]
     },
     "execution_count": 1260,
     "metadata": {},
     "output_type": "execute_result"
    }
   ],
   "source": [
    "chargeoff_rate_annual_income=create_pivot_table('annual_inc_rng')\n",
    "chargeoff_rate_annual_income"
   ]
  },
  {
   "cell_type": "code",
   "execution_count": 1230,
   "metadata": {
    "colab": {
     "base_uri": "https://localhost:8080/",
     "height": 584
    },
    "id": "gs6-fYlA6u3o",
    "outputId": "da72bca6-b794-4384-a446-cace6e096f62"
   },
   "outputs": [
    {
     "data": {
      "image/png": "[encoded data removed]",
      "text/plain": [
       "<Figure size 2000x800 with 1 Axes>"
      ]
     },
     "metadata": {},
     "output_type": "display_data"
    }
   ],
   "source": [
    "plt.figure(figsize=(20,8))\n",
    "\n",
    "create_bivariate_barplot_graph(chargeoff_rate_annual_income[0:].index,\n",
    "                               chargeoff_rate_annual_income[0:]['Charged Off Rate'],'barplot')"
   ]
  },
  {
   "cell_type": "markdown",
   "metadata": {},
   "source": [
    "#### `Higher the income range , less the chances of getting charged off`"
   ]
  },
  {
   "cell_type": "markdown",
   "metadata": {},
   "source": [
    "### verification_status and charge Off"
   ]
  },
  {
   "cell_type": "code",
   "execution_count": 1231,
   "metadata": {
    "colab": {
     "base_uri": "https://localhost:8080/",
     "height": 175
    },
    "id": "SWePoerv-Hvg",
    "outputId": "a59718fc-9a1e-4c1d-eabc-d790ee6b13d1"
   },
   "outputs": [
    {
     "data": {
      "text/html": [
       "<div>\n",
       "<style scoped>\n",
       "    .dataframe tbody tr th:only-of-type {\n",
       "        vertical-align: middle;\n",
       "    }\n",
       "\n",
       "    .dataframe tbody tr th {\n",
       "        vertical-align: top;\n",
       "    }\n",
       "\n",
       "    .dataframe thead th {\n",
       "        text-align: right;\n",
       "    }\n",
       "</style>\n",
       "<table border=\"1\" class=\"dataframe\">\n",
       "  <thead>\n",
       "    <tr style=\"text-align: right;\">\n",
       "      <th>loan_status</th>\n",
       "      <th>Charged Off</th>\n",
       "      <th>Fully Paid</th>\n",
       "      <th>Total</th>\n",
       "      <th>Charged Off Rate</th>\n",
       "    </tr>\n",
       "    <tr>\n",
       "      <th>verification_status</th>\n",
       "      <th></th>\n",
       "      <th></th>\n",
       "      <th></th>\n",
       "      <th></th>\n",
       "    </tr>\n",
       "  </thead>\n",
       "  <tbody>\n",
       "    <tr>\n",
       "      <th>Verified</th>\n",
       "      <td>1762</td>\n",
       "      <td>8747</td>\n",
       "      <td>10509</td>\n",
       "      <td>16.7666</td>\n",
       "    </tr>\n",
       "    <tr>\n",
       "      <th>Source Verified</th>\n",
       "      <td>1346</td>\n",
       "      <td>7703</td>\n",
       "      <td>9049</td>\n",
       "      <td>14.8746</td>\n",
       "    </tr>\n",
       "    <tr>\n",
       "      <th>Not Verified</th>\n",
       "      <td>2094</td>\n",
       "      <td>14176</td>\n",
       "      <td>16270</td>\n",
       "      <td>12.8703</td>\n",
       "    </tr>\n",
       "  </tbody>\n",
       "</table>\n",
       "</div>"
      ],
      "text/plain": [
       "loan_status          Charged Off  Fully Paid  Total  Charged Off Rate\n",
       "verification_status                                                  \n",
       "Verified                    1762        8747  10509           16.7666\n",
       "Source Verified             1346        7703   9049           14.8746\n",
       "Not Verified                2094       14176  16270           12.8703"
      ]
     },
     "execution_count": 1231,
     "metadata": {},
     "output_type": "execute_result"
    }
   ],
   "source": [
    "chargeoff_verify_status=create_pivot_table('verification_status')\n",
    "chargeoff_verify_status"
   ]
  },
  {
   "cell_type": "code",
   "execution_count": 1232,
   "metadata": {
    "colab": {
     "base_uri": "https://localhost:8080/",
     "height": 468
    },
    "id": "HhivEK5D-Pr6",
    "outputId": "28bbc4ca-60f0-465b-fc7f-f000997c5e3d"
   },
   "outputs": [
    {
     "data": {
      "image/png": "[encoded data removed]",
      "text/plain": [
       "<Figure size 640x480 with 1 Axes>"
      ]
     },
     "metadata": {},
     "output_type": "display_data"
    }
   ],
   "source": [
    "create_bivariate_barplot_graph(chargeoff_verify_status[0:].index,\n",
    "                               chargeoff_verify_status[0:]['Charged Off Rate'],'barplot')"
   ]
  },
  {
   "cell_type": "markdown",
   "metadata": {},
   "source": [
    "#### This was an unxpected conclusion came out which shows that verified borrowers got higher charged off but ideally it should not be the case  since a verification process ensures that borrowers repayment capability is fine. The data suggest to check the verification process SOP and make necessary changes required to ensure that a verfiied status ensures low risk of getting charged off "
   ]
  },
  {
   "cell_type": "markdown",
   "metadata": {},
   "source": [
    "### int_rng  and Charge off"
   ]
  },
  {
   "cell_type": "code",
   "execution_count": 1233,
   "metadata": {
    "colab": {
     "base_uri": "https://localhost:8080/",
     "height": 206
    },
    "id": "2o16idPBdws5",
    "outputId": "be7cc1e1-a540-41c4-b602-78a854a3798f"
   },
   "outputs": [
    {
     "data": {
      "text/html": [
       "<div>\n",
       "<style scoped>\n",
       "    .dataframe tbody tr th:only-of-type {\n",
       "        vertical-align: middle;\n",
       "    }\n",
       "\n",
       "    .dataframe tbody tr th {\n",
       "        vertical-align: top;\n",
       "    }\n",
       "\n",
       "    .dataframe thead th {\n",
       "        text-align: right;\n",
       "    }\n",
       "</style>\n",
       "<table border=\"1\" class=\"dataframe\">\n",
       "  <thead>\n",
       "    <tr style=\"text-align: right;\">\n",
       "      <th>loan_status</th>\n",
       "      <th>Charged Off</th>\n",
       "      <th>Fully Paid</th>\n",
       "      <th>Total</th>\n",
       "      <th>Charged Off Rate</th>\n",
       "    </tr>\n",
       "    <tr>\n",
       "      <th>int_rng</th>\n",
       "      <th></th>\n",
       "      <th></th>\n",
       "      <th></th>\n",
       "      <th></th>\n",
       "    </tr>\n",
       "  </thead>\n",
       "  <tbody>\n",
       "    <tr>\n",
       "      <th>20-25</th>\n",
       "      <td>219</td>\n",
       "      <td>333</td>\n",
       "      <td>552</td>\n",
       "      <td>39.6739</td>\n",
       "    </tr>\n",
       "    <tr>\n",
       "      <th>15-20</th>\n",
       "      <td>1601</td>\n",
       "      <td>4819</td>\n",
       "      <td>6420</td>\n",
       "      <td>24.9377</td>\n",
       "    </tr>\n",
       "    <tr>\n",
       "      <th>10-15</th>\n",
       "      <td>2573</td>\n",
       "      <td>14532</td>\n",
       "      <td>17105</td>\n",
       "      <td>15.0424</td>\n",
       "    </tr>\n",
       "    <tr>\n",
       "      <th>5-10</th>\n",
       "      <td>809</td>\n",
       "      <td>10942</td>\n",
       "      <td>11751</td>\n",
       "      <td>6.8845</td>\n",
       "    </tr>\n",
       "  </tbody>\n",
       "</table>\n",
       "</div>"
      ],
      "text/plain": [
       "loan_status  Charged Off  Fully Paid  Total  Charged Off Rate\n",
       "int_rng                                                      \n",
       "20-25                219         333    552           39.6739\n",
       "15-20               1601        4819   6420           24.9377\n",
       "10-15               2573       14532  17105           15.0424\n",
       "5-10                 809       10942  11751            6.8845"
      ]
     },
     "execution_count": 1233,
     "metadata": {},
     "output_type": "execute_result"
    }
   ],
   "source": [
    "chargeoff_verify_int=create_pivot_table('int_rng')\n",
    "chargeoff_verify_int"
   ]
  },
  {
   "cell_type": "code",
   "execution_count": 1234,
   "metadata": {
    "colab": {
     "base_uri": "https://localhost:8080/",
     "height": 468
    },
    "id": "tbTmPJvDezNN",
    "outputId": "67820058-a72f-4cf3-f549-4e1e8599b6cf"
   },
   "outputs": [
    {
     "data": {
      "image/png": "[encoded data removed]",
      "text/plain": [
       "<Figure size 640x480 with 1 Axes>"
      ]
     },
     "metadata": {},
     "output_type": "display_data"
    }
   ],
   "source": [
    "create_bivariate_barplot_graph(chargeoff_verify_int[0:].index\n",
    "                               ,chargeoff_verify_int[0:]['Charged Off Rate'],'barplot')"
   ]
  },
  {
   "cell_type": "markdown",
   "metadata": {},
   "source": [
    "#### As the interest rate increases , the chances of getting charged off also increase."
   ]
  },
  {
   "cell_type": "markdown",
   "metadata": {},
   "source": [
    "### loan_amnt_rng and Charge Off"
   ]
  },
  {
   "cell_type": "code",
   "execution_count": 1235,
   "metadata": {
    "colab": {
     "base_uri": "https://localhost:8080/",
     "height": 238
    },
    "id": "WNrdb7t8f04s",
    "outputId": "e03e7627-69ba-460c-b129-b3aad2915ebe"
   },
   "outputs": [
    {
     "data": {
      "text/html": [
       "<div>\n",
       "<style scoped>\n",
       "    .dataframe tbody tr th:only-of-type {\n",
       "        vertical-align: middle;\n",
       "    }\n",
       "\n",
       "    .dataframe tbody tr th {\n",
       "        vertical-align: top;\n",
       "    }\n",
       "\n",
       "    .dataframe thead th {\n",
       "        text-align: right;\n",
       "    }\n",
       "</style>\n",
       "<table border=\"1\" class=\"dataframe\">\n",
       "  <thead>\n",
       "    <tr style=\"text-align: right;\">\n",
       "      <th>loan_status</th>\n",
       "      <th>Charged Off</th>\n",
       "      <th>Fully Paid</th>\n",
       "      <th>Total</th>\n",
       "      <th>Charged Off Rate</th>\n",
       "    </tr>\n",
       "    <tr>\n",
       "      <th>loan_amnt_rng</th>\n",
       "      <th></th>\n",
       "      <th></th>\n",
       "      <th></th>\n",
       "      <th></th>\n",
       "    </tr>\n",
       "  </thead>\n",
       "  <tbody>\n",
       "    <tr>\n",
       "      <th>21000-28000</th>\n",
       "      <td>480</td>\n",
       "      <td>1888</td>\n",
       "      <td>2368</td>\n",
       "      <td>20.2703</td>\n",
       "    </tr>\n",
       "    <tr>\n",
       "      <th>14000-21000</th>\n",
       "      <td>1109</td>\n",
       "      <td>5449</td>\n",
       "      <td>6558</td>\n",
       "      <td>16.9106</td>\n",
       "    </tr>\n",
       "    <tr>\n",
       "      <th>28000 +</th>\n",
       "      <td>7</td>\n",
       "      <td>36</td>\n",
       "      <td>43</td>\n",
       "      <td>16.2791</td>\n",
       "    </tr>\n",
       "    <tr>\n",
       "      <th>7000-14000</th>\n",
       "      <td>1742</td>\n",
       "      <td>11068</td>\n",
       "      <td>12810</td>\n",
       "      <td>13.5988</td>\n",
       "    </tr>\n",
       "    <tr>\n",
       "      <th>0-7000</th>\n",
       "      <td>1864</td>\n",
       "      <td>12185</td>\n",
       "      <td>14049</td>\n",
       "      <td>13.2678</td>\n",
       "    </tr>\n",
       "  </tbody>\n",
       "</table>\n",
       "</div>"
      ],
      "text/plain": [
       "loan_status    Charged Off  Fully Paid  Total  Charged Off Rate\n",
       "loan_amnt_rng                                                  \n",
       "21000-28000            480        1888   2368           20.2703\n",
       "14000-21000           1109        5449   6558           16.9106\n",
       "28000 +                  7          36     43           16.2791\n",
       "7000-14000            1742       11068  12810           13.5988\n",
       "0-7000                1864       12185  14049           13.2678"
      ]
     },
     "execution_count": 1235,
     "metadata": {},
     "output_type": "execute_result"
    }
   ],
   "source": [
    "chargeoff_verify_loan_amnt=create_pivot_table('loan_amnt_rng')\n",
    "chargeoff_verify_loan_amnt"
   ]
  },
  {
   "cell_type": "code",
   "execution_count": 1236,
   "metadata": {
    "colab": {
     "base_uri": "https://localhost:8080/",
     "height": 468
    },
    "id": "JKkYZGAJgRJF",
    "outputId": "58985e77-6cf6-4a9e-87df-222e4301018f"
   },
   "outputs": [
    {
     "data": {
      "image/png": "[encoded data removed]",
      "text/plain": [
       "<Figure size 640x480 with 1 Axes>"
      ]
     },
     "metadata": {},
     "output_type": "display_data"
    }
   ],
   "source": [
    "create_bivariate_barplot_graph(chargeoff_verify_loan_amnt[0:].index,\n",
    "                               chargeoff_verify_loan_amnt[0:]['Charged Off Rate'],'barplot')"
   ]
  },
  {
   "cell_type": "markdown",
   "metadata": {},
   "source": [
    "####  Higher the loan amount , more the chances of getting charged off but this is applicable only up to a certain loan range. As the loan amount reaches the upper max level, it is evident that chances of getting charged off also reduces."
   ]
  },
  {
   "cell_type": "markdown",
   "metadata": {},
   "source": [
    "### issue_year and  charge off"
   ]
  },
  {
   "cell_type": "code",
   "execution_count": 1237,
   "metadata": {
    "colab": {
     "base_uri": "https://localhost:8080/",
     "height": 238
    },
    "id": "JPKRZG4w01Ma",
    "outputId": "095e614a-d4b9-43ee-e921-12544d96787e"
   },
   "outputs": [
    {
     "data": {
      "text/html": [
       "<div>\n",
       "<style scoped>\n",
       "    .dataframe tbody tr th:only-of-type {\n",
       "        vertical-align: middle;\n",
       "    }\n",
       "\n",
       "    .dataframe tbody tr th {\n",
       "        vertical-align: top;\n",
       "    }\n",
       "\n",
       "    .dataframe thead th {\n",
       "        text-align: right;\n",
       "    }\n",
       "</style>\n",
       "<table border=\"1\" class=\"dataframe\">\n",
       "  <thead>\n",
       "    <tr style=\"text-align: right;\">\n",
       "      <th>loan_status</th>\n",
       "      <th>Charged Off</th>\n",
       "      <th>Fully Paid</th>\n",
       "      <th>Total</th>\n",
       "      <th>Charged Off Rate</th>\n",
       "    </tr>\n",
       "    <tr>\n",
       "      <th>issue_year</th>\n",
       "      <th></th>\n",
       "      <th></th>\n",
       "      <th></th>\n",
       "      <th></th>\n",
       "    </tr>\n",
       "  </thead>\n",
       "  <tbody>\n",
       "    <tr>\n",
       "      <th>2007</th>\n",
       "      <td>41</td>\n",
       "      <td>189</td>\n",
       "      <td>230</td>\n",
       "      <td>17.8261</td>\n",
       "    </tr>\n",
       "    <tr>\n",
       "      <th>2008</th>\n",
       "      <td>237</td>\n",
       "      <td>1252</td>\n",
       "      <td>1489</td>\n",
       "      <td>15.9167</td>\n",
       "    </tr>\n",
       "    <tr>\n",
       "      <th>2011</th>\n",
       "      <td>2928</td>\n",
       "      <td>15699</td>\n",
       "      <td>18627</td>\n",
       "      <td>15.7191</td>\n",
       "    </tr>\n",
       "    <tr>\n",
       "      <th>2010</th>\n",
       "      <td>1429</td>\n",
       "      <td>9578</td>\n",
       "      <td>11007</td>\n",
       "      <td>12.9826</td>\n",
       "    </tr>\n",
       "    <tr>\n",
       "      <th>2009</th>\n",
       "      <td>567</td>\n",
       "      <td>3908</td>\n",
       "      <td>4475</td>\n",
       "      <td>12.6704</td>\n",
       "    </tr>\n",
       "  </tbody>\n",
       "</table>\n",
       "</div>"
      ],
      "text/plain": [
       "loan_status  Charged Off  Fully Paid  Total  Charged Off Rate\n",
       "issue_year                                                   \n",
       "2007                  41         189    230           17.8261\n",
       "2008                 237        1252   1489           15.9167\n",
       "2011                2928       15699  18627           15.7191\n",
       "2010                1429        9578  11007           12.9826\n",
       "2009                 567        3908   4475           12.6704"
      ]
     },
     "execution_count": 1237,
     "metadata": {},
     "output_type": "execute_result"
    }
   ],
   "source": [
    "chargeoff_verify_year_wise=create_pivot_table('issue_year')\n",
    "chargeoff_verify_year_wise"
   ]
  },
  {
   "cell_type": "code",
   "execution_count": 1238,
   "metadata": {
    "colab": {
     "base_uri": "https://localhost:8080/",
     "height": 468
    },
    "id": "ZRIw9Ri61Gku",
    "outputId": "e36eb346-4e5c-4585-b10d-47774d5cf929"
   },
   "outputs": [
    {
     "data": {
      "image/png": "[encoded data removed]",
      "text/plain": [
       "<Figure size 640x480 with 1 Axes>"
      ]
     },
     "metadata": {},
     "output_type": "display_data"
    }
   ],
   "source": [
    "create_bivariate_barplot_graph(chargeoff_verify_year_wise[0:].index,\n",
    "                               chargeoff_verify_year_wise[0:]['Charged Off Rate'],'barplot')"
   ]
  },
  {
   "cell_type": "markdown",
   "metadata": {},
   "source": [
    "#### Loans issued in 2007 got the most charged off which got improved in the next 3 years gradually but a rise was again visible in 2011 , if we look  into the economical situation of the country , we will find that The performance of the US economy from 2007 to 2011 was characterized by a severe recession that began in late 2007 and lasted until mid-2009. So somehow , the country economy plays  a role in the charged off status. When the economy is not performing well , the chances of charged off increases."
   ]
  },
  {
   "cell_type": "markdown",
   "metadata": {},
   "source": [
    "### dti_rng and charge Off"
   ]
  },
  {
   "cell_type": "code",
   "execution_count": 1239,
   "metadata": {
    "colab": {
     "base_uri": "https://localhost:8080/",
     "height": 238
    },
    "id": "mRHiB8h31QyA",
    "outputId": "09f11d53-0d9c-420d-dde8-f4a9b6c21f9c"
   },
   "outputs": [
    {
     "data": {
      "text/html": [
       "<div>\n",
       "<style scoped>\n",
       "    .dataframe tbody tr th:only-of-type {\n",
       "        vertical-align: middle;\n",
       "    }\n",
       "\n",
       "    .dataframe tbody tr th {\n",
       "        vertical-align: top;\n",
       "    }\n",
       "\n",
       "    .dataframe thead th {\n",
       "        text-align: right;\n",
       "    }\n",
       "</style>\n",
       "<table border=\"1\" class=\"dataframe\">\n",
       "  <thead>\n",
       "    <tr style=\"text-align: right;\">\n",
       "      <th>loan_status</th>\n",
       "      <th>Charged Off</th>\n",
       "      <th>Fully Paid</th>\n",
       "      <th>Total</th>\n",
       "      <th>Charged Off Rate</th>\n",
       "    </tr>\n",
       "    <tr>\n",
       "      <th>dti_rng</th>\n",
       "      <th></th>\n",
       "      <th></th>\n",
       "      <th></th>\n",
       "      <th></th>\n",
       "    </tr>\n",
       "  </thead>\n",
       "  <tbody>\n",
       "    <tr>\n",
       "      <th>25-30</th>\n",
       "      <td>1063</td>\n",
       "      <td>5238</td>\n",
       "      <td>6301</td>\n",
       "      <td>16.8703</td>\n",
       "    </tr>\n",
       "    <tr>\n",
       "      <th>15-20</th>\n",
       "      <td>1281</td>\n",
       "      <td>7026</td>\n",
       "      <td>8307</td>\n",
       "      <td>15.4207</td>\n",
       "    </tr>\n",
       "    <tr>\n",
       "      <th>10-15</th>\n",
       "      <td>1296</td>\n",
       "      <td>7664</td>\n",
       "      <td>8960</td>\n",
       "      <td>14.4643</td>\n",
       "    </tr>\n",
       "    <tr>\n",
       "      <th>5-10</th>\n",
       "      <td>909</td>\n",
       "      <td>6219</td>\n",
       "      <td>7128</td>\n",
       "      <td>12.7525</td>\n",
       "    </tr>\n",
       "    <tr>\n",
       "      <th>0-5</th>\n",
       "      <td>547</td>\n",
       "      <td>3827</td>\n",
       "      <td>4374</td>\n",
       "      <td>12.5057</td>\n",
       "    </tr>\n",
       "  </tbody>\n",
       "</table>\n",
       "</div>"
      ],
      "text/plain": [
       "loan_status  Charged Off  Fully Paid  Total  Charged Off Rate\n",
       "dti_rng                                                      \n",
       "25-30               1063        5238   6301           16.8703\n",
       "15-20               1281        7026   8307           15.4207\n",
       "10-15               1296        7664   8960           14.4643\n",
       "5-10                 909        6219   7128           12.7525\n",
       "0-5                  547        3827   4374           12.5057"
      ]
     },
     "execution_count": 1239,
     "metadata": {},
     "output_type": "execute_result"
    }
   ],
   "source": [
    "chargeoff_verify_dti=create_pivot_table('dti_rng')\n",
    "chargeoff_verify_dti"
   ]
  },
  {
   "cell_type": "code",
   "execution_count": 1240,
   "metadata": {
    "colab": {
     "base_uri": "https://localhost:8080/",
     "height": 468
    },
    "id": "o0mjltKK1Wjc",
    "outputId": "aa54df53-296e-4806-a315-a47778d3e599"
   },
   "outputs": [
    {
     "data": {
      "image/png": "[encoded data removed]",
      "text/plain": [
       "<Figure size 640x480 with 1 Axes>"
      ]
     },
     "metadata": {},
     "output_type": "display_data"
    }
   ],
   "source": [
    "create_bivariate_barplot_graph(chargeoff_verify_dti[0:].index,\n",
    "                               chargeoff_verify_dti[0:]['Charged Off Rate'],'barplot')"
   ]
  },
  {
   "cell_type": "markdown",
   "metadata": {},
   "source": [
    "#### DTI is the ratio to calculate debt vs monthly income of the borrower and it is clearly visible that as this ration increases ,  the risk of getting charged off also increases."
   ]
  },
  {
   "cell_type": "markdown",
   "metadata": {
    "id": "JEzexv2mpzb_"
   },
   "source": [
    "# Segmented Univariate Analysis"
   ]
  },
  {
   "cell_type": "markdown",
   "metadata": {
    "id": "RHJWn-T6TMiy"
   },
   "source": [
    "Getting the number of Charged Off Loan and Loans Paid in Complete"
   ]
  },
  {
   "cell_type": "code",
   "execution_count": 1241,
   "metadata": {
    "colab": {
     "base_uri": "https://localhost:8080/",
     "height": 0
    },
    "id": "fA3XSRqZTTZA",
    "outputId": "85d313bf-086b-4278-838c-2a351399123c"
   },
   "outputs": [
    {
     "data": {
      "text/plain": [
       "[Text(0, 0, '30626'), Text(0, 0, '5202')]"
      ]
     },
     "execution_count": 1241,
     "metadata": {},
     "output_type": "execute_result"
    },
    {
     "data": {
      "image/png": "[encoded data removed]",
      "text/plain": [
       "<Figure size 640x480 with 1 Axes>"
      ]
     },
     "metadata": {},
     "output_type": "display_data"
    }
   ],
   "source": [
    "ax =sns.countplot(x=loan_df['loan_status'],data=loan_df)\n",
    "ax.bar_label(ax.containers[0])"
   ]
  },
  {
   "cell_type": "markdown",
   "metadata": {
    "id": "3NR9KOS9UTQi"
   },
   "source": [
    "It can be seen from the above plot that we have 5627 as Charged Off Loan and Fully Paid loan are 32950"
   ]
  },
  {
   "cell_type": "markdown",
   "metadata": {
    "id": "QaLQ4NRCUcPb"
   },
   "source": [
    "Now we will gather the categorical variables from the dataset and see the relation of Loan Default with them"
   ]
  },
  {
   "cell_type": "markdown",
   "metadata": {
    "id": "gFEQtJR0XYVS"
   },
   "source": [
    "#### Categorical Univariate Analysis\n",
    "\n",
    "\n",
    "\n"
   ]
  },
  {
   "cell_type": "markdown",
   "metadata": {
    "id": "L3MeZon_XLWs"
   },
   "source": [
    "Checking the Grade of the Loans which are charged off"
   ]
  },
  {
   "cell_type": "code",
   "execution_count": 1242,
   "metadata": {
    "id": "6ocJS0OQXnl2"
   },
   "outputs": [],
   "source": [
    "loan_charged_off=loan_df[(loan_df['loan_status']=='Charged Off')]"
   ]
  },
  {
   "cell_type": "code",
   "execution_count": 1243,
   "metadata": {
    "colab": {
     "base_uri": "https://localhost:8080/"
    },
    "id": "T_E9EzlyY8Qw",
    "outputId": "baa42a40-66fe-4b86-d117-825062bc4ddb"
   },
   "outputs": [
    {
     "data": {
      "text/plain": [
       "5202"
      ]
     },
     "execution_count": 1243,
     "metadata": {},
     "output_type": "execute_result"
    }
   ],
   "source": [
    "loan_charged_off['grade'].count()"
   ]
  },
  {
   "cell_type": "code",
   "execution_count": 1244,
   "metadata": {
    "colab": {
     "base_uri": "https://localhost:8080/",
     "height": 0
    },
    "id": "X3n8VjMfX3hF",
    "outputId": "7bdbba88-bbe2-4a19-810e-26de2928320a"
   },
   "outputs": [
    {
     "data": {
      "image/png": "[encoded data removed]",
      "text/plain": [
       "<Figure size 640x480 with 1 Axes>"
      ]
     },
     "metadata": {},
     "output_type": "display_data"
    }
   ],
   "source": [
    "sns.countplot(x=loan_charged_off['grade'],data=loan_charged_off)\n",
    "plt.show()"
   ]
  },
  {
   "cell_type": "markdown",
   "metadata": {
    "id": "VXLzhzSFZnTy"
   },
   "source": [
    "**It can be seen from the above graphical representation that Loans of Grade B are mostly defaulted**"
   ]
  },
  {
   "cell_type": "markdown",
   "metadata": {
    "id": "uEh1Q_r2Z5wd"
   },
   "source": [
    "Checking the employment tenure of the people who have defaulted on loans"
   ]
  },
  {
   "cell_type": "code",
   "execution_count": 1245,
   "metadata": {
    "colab": {
     "base_uri": "https://localhost:8080/",
     "height": 0
    },
    "id": "3alanbgcaTvo",
    "outputId": "2d54ef22-dddd-49dd-b2b1-7aff4d2e2567"
   },
   "outputs": [
    {
     "data": {
      "image/png": "[encoded data removed]",
      "text/plain": [
       "<Figure size 640x480 with 1 Axes>"
      ]
     },
     "metadata": {},
     "output_type": "display_data"
    }
   ],
   "source": [
    "sns.countplot(x=loan_charged_off['emp_length'],data=loan_charged_off)\n",
    "plt.show()"
   ]
  },
  {
   "cell_type": "markdown",
   "metadata": {
    "id": "AorVcPvcab6b"
   },
   "source": [
    "**It can be seen from the above graph employees which 10 or more years of experience have tendency to default on Loan**"
   ]
  },
  {
   "cell_type": "markdown",
   "metadata": {
    "id": "RzKjlnGzaqQp"
   },
   "source": [
    "Checking what is the status of home ownership of defaulted people"
   ]
  },
  {
   "cell_type": "code",
   "execution_count": 1246,
   "metadata": {
    "colab": {
     "base_uri": "https://localhost:8080/",
     "height": 0
    },
    "id": "oxbSH7DQavvr",
    "outputId": "13b3989f-e4cf-4a0e-c445-aaad69bf102b"
   },
   "outputs": [
    {
     "data": {
      "text/plain": [
       "<AxesSubplot:xlabel='home_ownership', ylabel='count'>"
      ]
     },
     "execution_count": 1246,
     "metadata": {},
     "output_type": "execute_result"
    },
    {
     "data": {
      "image/png": "[encoded data removed]",
      "text/plain": [
       "<Figure size 640x480 with 1 Axes>"
      ]
     },
     "metadata": {},
     "output_type": "display_data"
    }
   ],
   "source": [
    "sns.countplot(x=loan_charged_off['home_ownership'],data=loan_charged_off)"
   ]
  },
  {
   "cell_type": "markdown",
   "metadata": {
    "id": "l5wIVu4ma0N4"
   },
   "source": [
    "**Maximum number of people who have defaulted have rented accomadation**"
   ]
  },
  {
   "cell_type": "markdown",
   "metadata": {
    "id": "wgxWaK3ja9Sq"
   },
   "source": [
    "Now we will check from what state most of the defaulted people were"
   ]
  },
  {
   "cell_type": "code",
   "execution_count": 1247,
   "metadata": {
    "colab": {
     "base_uri": "https://localhost:8080/",
     "height": 0
    },
    "id": "RpPjxNdxbApP",
    "outputId": "be0fe243-c044-4dab-9694-d71ead7907aa"
   },
   "outputs": [
    {
     "data": {
      "image/png": "[encoded data removed]",
      "text/plain": [
       "<Figure size 1500x800 with 1 Axes>"
      ]
     },
     "metadata": {},
     "output_type": "display_data"
    }
   ],
   "source": [
    "plt.figure(figsize=(15,8))\n",
    "fig=sns.countplot(x=loan_charged_off['addr_state'],data=loan_charged_off)"
   ]
  },
  {
   "cell_type": "markdown",
   "metadata": {
    "id": "sSpW2b17cjV9"
   },
   "source": [
    "**Majority of the defaults are happening from the state of California**"
   ]
  },
  {
   "cell_type": "markdown",
   "metadata": {
    "id": "uZ_cXqZOcwZy"
   },
   "source": [
    "Now we will validate if the income of the applicants for defaulted loan was verified or not"
   ]
  },
  {
   "cell_type": "code",
   "execution_count": 1248,
   "metadata": {
    "colab": {
     "base_uri": "https://localhost:8080/",
     "height": 0
    },
    "id": "8kh6EggJc1au",
    "outputId": "cb1cc3b5-22b5-421b-b7c8-0c3815382fc5"
   },
   "outputs": [
    {
     "data": {
      "image/png": "[encoded data removed]",
      "text/plain": [
       "<Figure size 640x480 with 1 Axes>"
      ]
     },
     "metadata": {},
     "output_type": "display_data"
    }
   ],
   "source": [
    "fig=sns.countplot(x=loan_charged_off['verification_status'],data=loan_charged_off)"
   ]
  },
  {
   "cell_type": "markdown",
   "metadata": {
    "id": "dFj_crtZc9v8"
   },
   "source": [
    "**It is evident from the above graph that source of income of the defaulers was not verified**"
   ]
  },
  {
   "cell_type": "markdown",
   "metadata": {
    "id": "eEiEtY2MdXLT"
   },
   "source": [
    "Now we will check if any particular purpose of a loan plays an important part in defaulting on loan payment"
   ]
  },
  {
   "cell_type": "code",
   "execution_count": 1249,
   "metadata": {
    "colab": {
     "base_uri": "https://localhost:8080/",
     "height": 0
    },
    "id": "bacTKFu-dhMO",
    "outputId": "2180c745-6a2b-41fa-e376-f3a5962af35c"
   },
   "outputs": [
    {
     "data": {
      "image/png": "[encoded data removed]",
      "text/plain": [
       "<Figure size 2500x800 with 1 Axes>"
      ]
     },
     "metadata": {},
     "output_type": "display_data"
    }
   ],
   "source": [
    "plt.figure(figsize=(25,8))\n",
    "fig=sns.countplot(x=loan_charged_off['purpose'],data=loan_charged_off)"
   ]
  },
  {
   "cell_type": "markdown",
   "metadata": {
    "id": "hdILbSVFhDP1"
   },
   "source": [
    "**From the above graph it could be seen that debt consolidation is the main purpose for which loan is taken and defaulted.This means that people already have certain debt on them**"
   ]
  },
  {
   "cell_type": "markdown",
   "metadata": {
    "id": "W_0fpf75hbsP"
   },
   "source": [
    "Now we will see the month in which loans issued are defaulted"
   ]
  },
  {
   "cell_type": "code",
   "execution_count": 1250,
   "metadata": {
    "colab": {
     "base_uri": "https://localhost:8080/",
     "height": 0
    },
    "id": "k5mI-o81iU1l",
    "outputId": "3270f68f-2633-40cb-da84-6ed548639be9"
   },
   "outputs": [
    {
     "data": {
      "image/png": "[encoded data removed]",
      "text/plain": [
       "<Figure size 640x480 with 1 Axes>"
      ]
     },
     "metadata": {},
     "output_type": "display_data"
    }
   ],
   "source": [
    "fig=sns.countplot(x=loan_charged_off['issue_month'],data=loan_charged_off)"
   ]
  },
  {
   "cell_type": "markdown",
   "metadata": {
    "id": "cohO2m85ia6J"
   },
   "source": [
    "**Most of the loans are issued in the month of December.This seems fair as it is Holiday season and people apply for loans**"
   ]
  },
  {
   "cell_type": "code",
   "execution_count": 1251,
   "metadata": {
    "colab": {
     "base_uri": "https://localhost:8080/",
     "height": 0
    },
    "id": "II2GoBkcioUd",
    "outputId": "3d02571e-4434-46e8-a9a8-74a73b04d434"
   },
   "outputs": [
    {
     "data": {
      "image/png": "[encoded data removed]",
      "text/plain": [
       "<Figure size 640x480 with 1 Axes>"
      ]
     },
     "metadata": {},
     "output_type": "display_data"
    }
   ],
   "source": [
    "fig=sns.countplot(x=loan_charged_off['issue_year'],data=loan_charged_off)"
   ]
  },
  {
   "cell_type": "markdown",
   "metadata": {
    "id": "g7HY_konir8V"
   },
   "source": [
    "**The number of loans issued have increased consistently and os has the default rate**"
   ]
  },
  {
   "cell_type": "markdown",
   "metadata": {
    "id": "XhD4wjBGkjEn"
   },
   "source": [
    "#### Univariate Loan Default Analysis with Continuous Variables"
   ]
  },
  {
   "cell_type": "code",
   "execution_count": null,
   "metadata": {
    "id": "wfNy7jW4k3Iq"
   },
   "outputs": [],
   "source": []
  },
  {
   "cell_type": "markdown",
   "metadata": {
    "id": "Kz2rfEaVYAhy"
   },
   "source": [
    "# *Multivariate* Analysis"
   ]
  },
  {
   "cell_type": "code",
   "execution_count": 1252,
   "metadata": {
    "colab": {
     "base_uri": "https://localhost:8080/",
     "height": 1000
    },
    "id": "jXPvaAkQvBUS",
    "outputId": "2960ab0e-645b-4b01-f1dd-2a19be888c82"
   },
   "outputs": [
    {
     "data": {
      "image/png": "[encoded data removed]",
      "text/plain": [
       "<Figure size 1000x1000 with 4 Axes>"
      ]
     },
     "metadata": {},
     "output_type": "display_data"
    }
   ],
   "source": [
    "sns.clustermap(loan_df.corr())\n",
    "plt.show()"
   ]
  },
  {
   "cell_type": "markdown",
   "metadata": {
    "id": "k6M1Nw5PJ5rq"
   },
   "source": [
    "As it can be seen from the above heat map.\n",
    "\n",
    "1.   There is very high correlation between loan_amnt,funded_amnt,funded_amnt_inv.\n",
    "\n",
    "2.   There is high correlation between pub_rec_bankruptcies and pub_rec\n",
    "\n",
    "3.   There is medium correlation between open_acc and total_acc\n",
    "\n",
    "4.   There is relatively medium correlation between term and int_rate\n",
    "\n",
    "\n",
    "\n"
   ]
  },
  {
   "cell_type": "markdown",
   "metadata": {
    "id": "OKFmEs3sp5wR"
   },
   "source": [
    "#Conclusion"
   ]
  }
 ],
 "metadata": {
  "colab": {
   "collapsed_sections": [
    "t7tSbzLxegjH",
    "d7_UEPjheqZO",
    "ADFt2vFdSATW",
    "pVayNqZrY7Bw",
    "y39f0X3sXdSy",
    "JEzexv2mpzb_",
    "gFEQtJR0XYVS",
    "XhD4wjBGkjEn"
   ],
   "provenance": []
  },
  "kernelspec": {
   "display_name": "Python 3 (ipykernel)",
   "language": "python",
   "name": "python3"
  },
  "language_info": {
   "codemirror_mode": {
    "name": "ipython",
    "version": 3
   },
   "file_extension": ".py",
   "mimetype": "text/x-python",
   "name": "python",
   "nbconvert_exporter": "python",
   "pygments_lexer": "ipython3",
   "version": "3.9.13"
  }
 },
 "nbformat": 4,
 "nbformat_minor": 1
}
